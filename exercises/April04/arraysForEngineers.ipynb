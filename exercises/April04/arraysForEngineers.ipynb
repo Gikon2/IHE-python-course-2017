{
 "cells": [
  {
   "cell_type": "markdown",
   "metadata": {},
   "source": [
    "<figure>\n",
    "  <IMG SRC=\"../../logo/logo.png\" WIDTH=250 ALIGN=\"right\">\n",
    "</figure>\n",
    "\n",
    "# IHE Python course, 2017\n",
    "\n",
    "## Arrays for engineers and scientists\n",
    "\n",
    "by T.N. Olsthoorn"
   ]
  },
  {
   "cell_type": "markdown",
   "metadata": {},
   "source": [
    "Arrays are the workhorse for engineers and scientists.\n",
    "\n",
    "Arrays are part of the numpy package. For a good overvies see\n",
    "[here](http://wiki.scipy.org/Tentative_NumPy_Tutorial).\n",
    "\n",
    "For visualization we use matplotlib as always."
   ]
  },
  {
   "cell_type": "code",
   "execution_count": 272,
   "metadata": {
    "collapsed": false
   },
   "outputs": [
    {
     "data": {
      "text/plain": [
       "'You may have to uncomment one of the two following lines to make in line plots available.\\n   But this is not always necessary, for instance not on the mac.\\n'"
      ]
     },
     "execution_count": 272,
     "metadata": {},
     "output_type": "execute_result"
    }
   ],
   "source": [
    "import matplotlib.pyplot as plt\n",
    "import numpy as np\n",
    "\n",
    "\"\"\"You may have to uncomment one of the two following lines to make in line plots available.\n",
    "   But this is not always necessary, for instance not on the mac.\n",
    "\"\"\"\n",
    "\n",
    "#%matplotlib inline\n",
    "#%matplotlib notebook   # for intractive plots"
   ]
  },
  {
   "cell_type": "markdown",
   "metadata": {},
   "source": [
    "### Arrays\n",
    "Arrays are contiguous blocks of data in memory with all elements of the same type. That is mostly ints or floats, but can be anything. This type is called dtype. Arrays can have as many dimensions as you like and may be very large. THey can be treated as a single unit, which makes them very powerful."
   ]
  },
  {
   "cell_type": "markdown",
   "metadata": {},
   "source": [
    "There are many ways to create arrays. One is to type them.\n",
    "\n",
    "A 1D array is looks a bit like a list but it is not.\n",
    "A 2D array looks like a list of lists.\n",
    "A 3D array looks like a list of lists of lists\n",
    "and so on."
   ]
  },
  {
   "cell_type": "code",
   "execution_count": 273,
   "metadata": {
    "collapsed": false
   },
   "outputs": [
    {
     "name": "stdout",
     "output_type": "stream",
     "text": [
      "A = \n",
      " [ 1  7  2 12] \n",
      "\n",
      "B = \n",
      " [[ 1.   3.   5. ]\n",
      " [ 3.   1.   6.2]\n",
      " [ 4.1  6.   1. ]\n",
      " [ 4.   1.   3. ]] \n",
      "\n",
      "C = \n",
      " [[ 1.   3.   5. ]\n",
      " [ 3.   1.   6.2]\n",
      " [ 4.1  6.   1. ]\n",
      " [ 4.   1.   3. ]] \n",
      "\n",
      "D = \b [[[ 1  2  3]\n",
      "  [ 4  5  6]\n",
      "  [ 7  8  9]]\n",
      "\n",
      " [[10 11 12]\n",
      "  [13 14 15]\n",
      "  [16 17 18]]\n",
      "\n",
      " [[19 20 21]\n",
      "  [22 23 24]\n",
      "  [25 26 27]]] \n",
      "\n"
     ]
    }
   ],
   "source": [
    "# A one-D array\n",
    "A = np.array([1, 7, 2, 12]) # specify a one-dimensional array\n",
    "\n",
    "# A 2D array\n",
    "B = np.array([[1, 3, 5], [3, 1, 6.2], [4.1, 6, 1], [4, 1, 3]])\n",
    "\n",
    "# A 2D array\n",
    "C = np.array([[ 1,   3, 5],\n",
    "              [ 3,   1, 6.2],\n",
    "              [ 4.1, 6, 1],\n",
    "              [ 4,   1, 3]])\n",
    "\n",
    "#A 3D array\n",
    "D = np.array([ [ [ 1,  2,  3],\n",
    "                 [ 4,  5,  6],\n",
    "                 [ 7,  8,  9]  ],\n",
    "               [ [10, 11, 12],\n",
    "                 [13, 14, 15],\n",
    "                 [16, 17, 18] ],\n",
    "               [ [19, 20, 21],\n",
    "                 [22, 23, 24],\n",
    "                 [25, 26, 27] ] ])\n",
    "\n",
    "\n",
    "print(\"A = \\n\", A, \"\\n\")\n",
    "print(\"B = \\n\", B, \"\\n\")\n",
    "print(\"C = \\n\", C, \"\\n\")\n",
    "print(\"D = \\b\", D, \"\\n\")"
   ]
  },
  {
   "cell_type": "code",
   "execution_count": 237,
   "metadata": {
    "collapsed": false
   },
   "outputs": [
    {
     "name": "stdout",
     "output_type": "stream",
     "text": [
      "The type of the data in array A is : int64\n",
      "The type of the data in array C is : float64\n",
      "The type of the data in array D is : int64\n",
      "Size of A:  4\n",
      "size of C:  12\n",
      "Size of D:  27\n",
      "Shape of A:  (4,)  <-- Notice the comma !\n",
      "Shape of C:  (4, 3)\n",
      "Shape of D:  (3, 3, 3)\n",
      "Nr of dimensions of A:  1\n",
      "Nr of dimensions of C:  2\n",
      "Nr of dimensions of D:  3\n"
     ]
    }
   ],
   "source": [
    "print(\"The type of the data in array A is :\", A.dtype)\n",
    "print(\"The type of the data in array C is :\", C.dtype)\n",
    "print(\"The type of the data in array D is :\", D.dtype)\n",
    "print(\"Size of A: \", A.size)\n",
    "print(\"size of C: \", C.size)\n",
    "print(\"Size of D: \", D.size)\n",
    "print(\"Shape of A: \", A.shape, \" <-- Notice the comma !\")\n",
    "print(\"Shape of C: \", C.shape)\n",
    "print(\"Shape of D: \", D.shape)\n",
    "print(\"Nr of dimensions of A: \", A.ndim)\n",
    "print(\"Nr of dimensions of C: \", C.ndim)\n",
    "print(\"Nr of dimensions of D: \", D.ndim)"
   ]
  },
  {
   "cell_type": "code",
   "execution_count": 238,
   "metadata": {
    "collapsed": false
   },
   "outputs": [
    {
     "name": "stdout",
     "output_type": "stream",
     "text": [
      "Array A : [ 1.  2.  3.  4.]  now has dtype= float64\n"
     ]
    }
   ],
   "source": [
    "A = np.array([1, 2, 3, 4], dtype=float)\n",
    "print(\"Array A :\", A, \" now has dtype=\", A.dtype)"
   ]
  },
  {
   "cell_type": "markdown",
   "metadata": {},
   "source": [
    "To fast generate arrays of ones or zeros we can use the function np.ones(tuple) or np.zeros(tuple)."
   ]
  },
  {
   "cell_type": "code",
   "execution_count": 239,
   "metadata": {
    "collapsed": false
   },
   "outputs": [
    {
     "name": "stdout",
     "output_type": "stream",
     "text": [
      "A =\n",
      " [[ 0.  0.  0.  0.  0.]\n",
      " [ 0.  0.  0.  0.  0.]\n",
      " [ 0.  0.  0.  0.  0.]\n",
      " [ 0.  0.  0.  0.  0.]]\n",
      "B =\n",
      " [[ 1.  1.  1.  1.  1.  1.]\n",
      " [ 1.  1.  1.  1.  1.  1.]\n",
      " [ 1.  1.  1.  1.  1.  1.]]\n"
     ]
    }
   ],
   "source": [
    "A = np.zeros((4, 5)) # note (4, 5) is a tuple, parantheses needed.\n",
    "B = np.ones((3, 6))\n",
    "print(\"A =\\n\", A)\n",
    "print(\"B =\\n\", B)"
   ]
  },
  {
   "cell_type": "markdown",
   "metadata": {},
   "source": [
    "Or generate an array with a shape that is the same as an already defined other array:"
   ]
  },
  {
   "cell_type": "code",
   "execution_count": 240,
   "metadata": {
    "collapsed": false
   },
   "outputs": [
    {
     "name": "stdout",
     "output_type": "stream",
     "text": [
      "C =\n",
      " [[ 1.  1.  1.  1.  1.]\n",
      " [ 1.  1.  1.  1.  1.]\n",
      " [ 1.  1.  1.  1.  1.]\n",
      " [ 1.  1.  1.  1.  1.]]\n"
     ]
    }
   ],
   "source": [
    "C = np.ones_like(A)\n",
    "print(\"C =\\n\", C)"
   ]
  },
  {
   "cell_type": "markdown",
   "metadata": {},
   "source": [
    "Use the function np.arange(start, end, step) to generate a regular sequence. "
   ]
  },
  {
   "cell_type": "code",
   "execution_count": 241,
   "metadata": {
    "collapsed": false
   },
   "outputs": [
    {
     "name": "stdout",
     "output_type": "stream",
     "text": [
      "[1 2 3 4 5]\n",
      "[0 1 2 3 4 5 6]\n",
      "[ 2  5  8 11 14 17]\n"
     ]
    }
   ],
   "source": [
    "print(np.arange(1, 6)) # start, end with default steps 1\n",
    "print(np.arange(7))   #  starts at 0 end ends at 6 (7 numbers in total)\n",
    "print(np.arange(2, 20, 3))"
   ]
  },
  {
   "cell_type": "markdown",
   "metadata": {},
   "source": [
    "A practical way to generate one-dimensional arrays is by using the functions `linspace(start, end, number of points)`\n",
    "and `logspace(log10(start), log10(end), number of points)`"
   ]
  },
  {
   "cell_type": "code",
   "execution_count": 242,
   "metadata": {
    "collapsed": false
   },
   "outputs": [
    {
     "data": {
      "image/png": "[encoded data removed]",
      "text/plain": [
       "<matplotlib.figure.Figure at 0x10863c1d0>"
      ]
     },
     "metadata": {},
     "output_type": "display_data"
    }
   ],
   "source": [
    "x = np.linspace(0, 6 * np.pi, 201)\n",
    "\n",
    "y = np.sin(x)\n",
    "z = y * np.exp(-x/5.0)\n",
    "\n",
    "plt.figure()\n",
    "plt.plot(x, y, label= '$sin(x)$')\n",
    "plt.plot(x, z, label= '$sin(x) e^{-x/(2 \\pi)}$')\n",
    "plt.title('Some graphs')\n",
    "plt.xlabel('x')\n",
    "plt.ylabel('y')\n",
    "plt.legend(loc='best', fontsize='small')\n",
    "plt.show()"
   ]
  },
  {
   "cell_type": "markdown",
   "metadata": {},
   "source": [
    "Individual elements of an array can be addressed by index. Indices in Python start at 0 and are placed in square brackets. "
   ]
  },
  {
   "cell_type": "markdown",
   "metadata": {},
   "source": [
    "Some examples"
   ]
  },
  {
   "cell_type": "code",
   "execution_count": 243,
   "metadata": {
    "collapsed": false
   },
   "outputs": [
    {
     "name": "stdout",
     "output_type": "stream",
     "text": [
      "[20 21 22 23 24 25 26 27 28 29]\n",
      "[20 21 22 23 24]\n",
      "[20 21 22 23 24]\n",
      "[23 24 25 26]\n",
      "[22 24 26 28]\n"
     ]
    }
   ],
   "source": [
    "x = np.arange(20, 30) # starts at 20 and stops before 30, 10 elements\n",
    "print(x)\n",
    "print(x[0:5]) # 0 through 4 is 5 elements\n",
    "print(x[:5])  # same, zero assumed by Python\n",
    "print(x[3:7]) # 3 through 6, 7-3 = 4 elements\n",
    "print(x[2:9:2]) # starts at 2 stops before 9 with steps equal to 2"
   ]
  },
  {
   "cell_type": "markdown",
   "metadata": {},
   "source": [
    "Backcounting:"
   ]
  },
  {
   "cell_type": "code",
   "execution_count": 244,
   "metadata": {
    "collapsed": false
   },
   "outputs": [
    {
     "name": "stdout",
     "output_type": "stream",
     "text": [
      "[29 28 27 26 25 24 23 22 21]\n",
      "[29 27 25 23 21]\n",
      "[29 28 27 26 25 24 23 22 21 20]\n"
     ]
    }
   ],
   "source": [
    "print(x[-1:0:-1])  # starts at last ends before first with steps -1\n",
    "print(x[-1:0:-2])  # starts at last end before first with steps -2\n",
    "print(x[-1::-1])   # starts at last ends at first with setps of -1 !! (note the difference)"
   ]
  },
  {
   "cell_type": "markdown",
   "metadata": {
    "collapsed": false
   },
   "source": [
    "More-dimensional arrays.\n",
    "It's easy to generate multidimensional arrays from one-dimensional ones using the reshape function. For instance to show the element number of an array at which it is stored in memory:"
   ]
  },
  {
   "cell_type": "code",
   "execution_count": 245,
   "metadata": {
    "collapsed": false
   },
   "outputs": [
    {
     "name": "stdout",
     "output_type": "stream",
     "text": [
      "3D array A: \n",
      " [[[ 0  1  2  3  4]\n",
      "  [ 5  6  7  8  9]\n",
      "  [10 11 12 13 14]\n",
      "  [15 16 17 18 19]]\n",
      "\n",
      " [[20 21 22 23 24]\n",
      "  [25 26 27 28 29]\n",
      "  [30 31 32 33 34]\n",
      "  [35 36 37 38 39]]\n",
      "\n",
      " [[40 41 42 43 44]\n",
      "  [45 46 47 48 49]\n",
      "  [50 51 52 53 54]\n",
      "  [55 56 57 58 59]]]\n"
     ]
    }
   ],
   "source": [
    "A = np.arange(3 * 4 * 5).reshape((3, 4, 5))\n",
    "print(\"3D array A: \\n\", A)"
   ]
  },
  {
   "cell_type": "markdown",
   "metadata": {},
   "source": [
    "The easiest way to work with 3D spatial arrays is to consider them as [Layer Row Col] or [z, y, x]. When looked upon in this way, each bock is a layer, each row is along the y-axis on paper ane each row along the x-axis.\n",
    "\n",
    "Of course, you could associate the first dimension with y the second with x and the thrid with z, as it s natural in Matlab, but that is completely confusing in Python. This is because the elements in a numpy array are stored with the last dimension changing fastest (Fortran order), while in Matlab it's the other way around (C order). This has consequences for the way arrays are printed. To match the print with the imagination, stick with the layer, row, col association in Python numpy arrays."
   ]
  },
  {
   "cell_type": "markdown",
   "metadata": {},
   "source": [
    "The reshape function often very useful. Notice that it requires a tuple with the dimensions and it requires that the number of elements in the array does not change by the reshape."
   ]
  },
  {
   "cell_type": "markdown",
   "metadata": {},
   "source": [
    "We can address any cell by using indices:"
   ]
  },
  {
   "cell_type": "code",
   "execution_count": 246,
   "metadata": {
    "collapsed": false
   },
   "outputs": [
    {
     "name": "stdout",
     "output_type": "stream",
     "text": [
      "51\n"
     ]
    }
   ],
   "source": [
    "print(A[2, 2, 1])"
   ]
  },
  {
   "cell_type": "markdown",
   "metadata": {},
   "source": [
    "This is is layer 3, row 3 column 2 (because indexing starts at 0)."
   ]
  },
  {
   "cell_type": "code",
   "execution_count": 247,
   "metadata": {
    "collapsed": false
   },
   "outputs": [
    {
     "name": "stdout",
     "output_type": "stream",
     "text": [
      "[[[21 22]\n",
      "  [26 27]]\n",
      "\n",
      " [[41 42]\n",
      "  [46 47]]]\n"
     ]
    }
   ],
   "source": [
    "print(A[1:3, 0:2, 1:3])"
   ]
  },
  {
   "cell_type": "markdown",
   "metadata": {},
   "source": [
    "That is: of layer 1 and 2 we take  rows 0, and 1 and of them columns 1 and 2.\n",
    "    \n",
    "The other way around, starting at the last index:\n",
    "Columns 1:3 (= 1 and 2) of rows 0:2 (=0 and 1) of layers 1:3 (= 1 and 2)\n",
    "\n",
    "We can simply select layers by using only the first dimension:"
   ]
  },
  {
   "cell_type": "code",
   "execution_count": 248,
   "metadata": {
    "collapsed": false
   },
   "outputs": [
    {
     "name": "stdout",
     "output_type": "stream",
     "text": [
      "[[[20 21 22 23 24]\n",
      "  [25 26 27 28 29]\n",
      "  [30 31 32 33 34]\n",
      "  [35 36 37 38 39]]\n",
      "\n",
      " [[40 41 42 43 44]\n",
      "  [45 46 47 48 49]\n",
      "  [50 51 52 53 54]\n",
      "  [55 56 57 58 59]]]\n"
     ]
    }
   ],
   "source": [
    "print(A[1:3]) # selects block 1 and 2"
   ]
  },
  {
   "cell_type": "markdown",
   "metadata": {},
   "source": [
    "And the rows of them by using only the first 2 dimensions:"
   ]
  },
  {
   "cell_type": "code",
   "execution_count": 249,
   "metadata": {
    "collapsed": false
   },
   "outputs": [
    {
     "name": "stdout",
     "output_type": "stream",
     "text": [
      "[[[20 21 22 23 24]\n",
      "  [25 26 27 28 29]]\n",
      "\n",
      " [[40 41 42 43 44]\n",
      "  [45 46 47 48 49]]]\n"
     ]
    }
   ],
   "source": [
    "print(A[1:3, 0:2])"
   ]
  },
  {
   "cell_type": "markdown",
   "metadata": {},
   "source": [
    "And, finally "
   ]
  },
  {
   "cell_type": "code",
   "execution_count": 250,
   "metadata": {
    "collapsed": false
   },
   "outputs": [
    {
     "name": "stdout",
     "output_type": "stream",
     "text": [
      "[[[21 22]\n",
      "  [26 27]]\n",
      "\n",
      " [[41 42]\n",
      "  [46 47]]]\n"
     ]
    }
   ],
   "source": [
    "print(A[1:3, 0:2, 1:3])"
   ]
  },
  {
   "cell_type": "markdown",
   "metadata": {},
   "source": [
    "You can assign one value to a range of an array by specifying a range of indices, \n",
    "or you can assign an array to a range of another array, as long as the ranges have equal length. In the last example below, the first 5 values of `x` (specified as `x[0:5]`) are given the values `[40,42,44,46,48]`."
   ]
  },
  {
   "cell_type": "code",
   "execution_count": 251,
   "metadata": {
    "collapsed": false
   },
   "outputs": [
    {
     "name": "stdout",
     "output_type": "stream",
     "text": [
      "[[[20 21 22 23 24]\n",
      "  [25 26 27 28 29]\n",
      "  [30 31 32 33 34]\n",
      "  [35 36 37 38 39]]\n",
      "\n",
      " [[40 41 42 43 44]\n",
      "  [45 46 47 48 49]\n",
      "  [50 51 52 53 54]\n",
      "  [55 56 57 58 59]]]\n"
     ]
    }
   ],
   "source": [
    "print(A[1:3])"
   ]
  },
  {
   "cell_type": "markdown",
   "metadata": {},
   "source": [
    "Indexing in sequence has a different meaning:"
   ]
  },
  {
   "cell_type": "code",
   "execution_count": 252,
   "metadata": {
    "collapsed": false
   },
   "outputs": [
    {
     "name": "stdout",
     "output_type": "stream",
     "text": [
      "[[[40 41 42 43 44]\n",
      "  [45 46 47 48 49]\n",
      "  [50 51 52 53 54]\n",
      "  [55 56 57 58 59]]]\n"
     ]
    }
   ],
   "source": [
    "print(A[1:3][0:2][1:3])"
   ]
  },
  {
   "cell_type": "markdown",
   "metadata": {},
   "source": [
    "This should be read as"
   ]
  },
  {
   "cell_type": "code",
   "execution_count": 253,
   "metadata": {
    "collapsed": false
   },
   "outputs": [
    {
     "data": {
      "text/plain": [
       "array([[[40, 41, 42, 43, 44],\n",
       "        [45, 46, 47, 48, 49],\n",
       "        [50, 51, 52, 53, 54],\n",
       "        [55, 56, 57, 58, 59]]])"
      ]
     },
     "execution_count": 253,
     "metadata": {},
     "output_type": "execute_result"
    }
   ],
   "source": [
    "(((A[1:3])[0:2])[1:3])"
   ]
  },
  {
   "cell_type": "markdown",
   "metadata": {},
   "source": [
    "A[1:3] picks blocks 1 and 2 of the 3D array A, which is also a 3D array.\n",
    "Of that, the next index [0:2] takes blocks 0 and 1, which is, in fact the entire array A[1:3]\n",
    "Of that array, the index [1:3] picks blocks 1 and 2.\n",
    "\n",
    "Notice that if the end is larger than the size of the array in that dimensions, its value defaults to the last. In some languages this would be considered a bug."
   ]
  },
  {
   "cell_type": "code",
   "execution_count": 254,
   "metadata": {
    "collapsed": false
   },
   "outputs": [
    {
     "data": {
      "text/plain": [
       "array([[[40, 41, 42, 43, 44],\n",
       "        [45, 46, 47, 48, 49],\n",
       "        [50, 51, 52, 53, 54],\n",
       "        [55, 56, 57, 58, 59]]])"
      ]
     },
     "execution_count": 254,
     "metadata": {},
     "output_type": "execute_result"
    }
   ],
   "source": [
    "((A[1:3])[1:10000])[0:1000]"
   ]
  },
  {
   "cell_type": "markdown",
   "metadata": {},
   "source": [
    "It's easy to revert an array:"
   ]
  },
  {
   "cell_type": "code",
   "execution_count": 255,
   "metadata": {
    "collapsed": false
   },
   "outputs": [
    {
     "data": {
      "text/plain": [
       "array([[[59, 58, 57, 56, 55],\n",
       "        [54, 53, 52, 51, 50],\n",
       "        [49, 48, 47, 46, 45],\n",
       "        [44, 43, 42, 41, 40]],\n",
       "\n",
       "       [[39, 38, 37, 36, 35],\n",
       "        [34, 33, 32, 31, 30],\n",
       "        [29, 28, 27, 26, 25],\n",
       "        [24, 23, 22, 21, 20]],\n",
       "\n",
       "       [[19, 18, 17, 16, 15],\n",
       "        [14, 13, 12, 11, 10],\n",
       "        [ 9,  8,  7,  6,  5],\n",
       "        [ 4,  3,  2,  1,  0]]])"
      ]
     },
     "execution_count": 255,
     "metadata": {},
     "output_type": "execute_result"
    }
   ],
   "source": [
    "A[-1::-1, -1::-1, -1::-1]"
   ]
  },
  {
   "cell_type": "markdown",
   "metadata": {},
   "source": [
    "Or with the well-known short hand:"
   ]
  },
  {
   "cell_type": "code",
   "execution_count": 256,
   "metadata": {
    "collapsed": false
   },
   "outputs": [
    {
     "data": {
      "text/plain": [
       "array([[[44, 43, 42, 41, 40],\n",
       "        [49, 48, 47, 46, 45],\n",
       "        [54, 53, 52, 51, 50],\n",
       "        [59, 58, 57, 56, 55]],\n",
       "\n",
       "       [[24, 23, 22, 21, 20],\n",
       "        [29, 28, 27, 26, 25],\n",
       "        [34, 33, 32, 31, 30],\n",
       "        [39, 38, 37, 36, 35]],\n",
       "\n",
       "       [[ 4,  3,  2,  1,  0],\n",
       "        [ 9,  8,  7,  6,  5],\n",
       "        [14, 13, 12, 11, 10],\n",
       "        [19, 18, 17, 16, 15]]])"
      ]
     },
     "execution_count": 256,
     "metadata": {},
     "output_type": "execute_result"
    }
   ],
   "source": [
    "A[::-1, :, ::-1] # only the layers and columns reverted, not the rows"
   ]
  },
  {
   "cell_type": "markdown",
   "metadata": {},
   "source": [
    "Arrays use one dimension if only one layer, row or column in selected:"
   ]
  },
  {
   "cell_type": "code",
   "execution_count": 257,
   "metadata": {
    "collapsed": false
   },
   "outputs": [
    {
     "name": "stdout",
     "output_type": "stream",
     "text": [
      "A=\n",
      " [[[ 0  1  2  3  4]\n",
      "  [ 5  6  7  8  9]\n",
      "  [10 11 12 13 14]\n",
      "  [15 16 17 18 19]]\n",
      "\n",
      " [[20 21 22 23 24]\n",
      "  [25 26 27 28 29]\n",
      "  [30 31 32 33 34]\n",
      "  [35 36 37 38 39]]\n",
      "\n",
      " [[40 41 42 43 44]\n",
      "  [45 46 47 48 49]\n",
      "  [50 51 52 53 54]\n",
      "  [55 56 57 58 59]]]\n",
      "\n",
      "A.shape =  (3, 4, 5)  <--- 3 dimensions\n",
      "\n",
      "A.ndim  =  3\n",
      "\n",
      "A[1]=\n",
      " [[20 21 22 23 24]\n",
      " [25 26 27 28 29]\n",
      " [30 31 32 33 34]\n",
      " [35 36 37 38 39]]\n",
      "\n",
      "A[1].shape = (4, 5)  <--- 2 dimensions\n",
      "\n",
      "A[1].ndim  = 2\n",
      "\n",
      "A[1][1] =\n",
      " [25 26 27 28 29]\n",
      "\n",
      "A[1][1].shape = (5,)  <--- 1 dimension\n",
      "\n",
      "A[1][1].ndim  = 1\n",
      "\n",
      "A[1][1][1] = 26\n",
      "\n",
      "A[1][1][1].shape = () <--- 0 dimensions\n",
      "\n",
      "A[1][1][1].ndim  = 0\n"
     ]
    }
   ],
   "source": [
    "print(\"A=\\n\", A)\n",
    "print(\"\\nA.shape = \", A.shape, \" <--- 3 dimensions\")\n",
    "print(\"\\nA.ndim  = \", A.ndim)\n",
    "print(\"\\nA[1]=\\n\", A[1])\n",
    "print(\"\\nA[1].shape =\", A[1].shape, \" <--- 2 dimensions\")\n",
    "print(\"\\nA[1].ndim  =\", A[1].ndim)\n",
    "print(\"\\nA[1][1] =\\n\", A[1][1])\n",
    "print(\"\\nA[1][1].shape =\", A[1][1].shape, \" <--- 1 dimension\")\n",
    "print(\"\\nA[1][1].ndim  =\", A[1][1].ndim)\n",
    "print(\"\\nA[1][1][1] =\", A[1][1][1])\n",
    "print(\"\\nA[1][1][1].shape =\", A[1][1][1].shape, \"<--- 0 dimensions\")\n",
    "print(\"\\nA[1][1][1].ndim  =\", A[1][1][1].ndim)"
   ]
  },
  {
   "cell_type": "markdown",
   "metadata": {},
   "source": [
    "# Broadcasting\n",
    "\n",
    "Arrays of different size can be broadcasted if the broadcasting rul applies.\n",
    "\n",
    "### The broadcasting rule\n",
    "Two arrays are compatible for broadcasting if that is, starting from the end, the axis lengths match or if either of the lengths is 1. Broadcasting is then performed over the missing and / or length 1 dimensions.\n",
    "\n",
    "This sounds very complicated, but one may also say. Both arrays must have the same number of dimensions and the lengths along the dimimsions in the two arrray must either match or be 1.\n",
    "\n",
    "For example:\n",
    "\n",
    "We want to generate a 3D array with conductivities, one for every layer as defined by a vector. The array in the xy plane has 5 by 4 elements\n"
   ]
  },
  {
   "cell_type": "code",
   "execution_count": 258,
   "metadata": {
    "collapsed": true
   },
   "outputs": [],
   "source": [
    "D = np.ones((5, 4))  # size of array in xy  plane\n",
    "k = np.array([4.2, 11.7, 13.1, 25.2, 33.]) # layer conductivities"
   ]
  },
  {
   "cell_type": "markdown",
   "metadata": {},
   "source": [
    "To generate the desired array K, we have to turn the vector k in to a 3D vector"
   ]
  },
  {
   "cell_type": "code",
   "execution_count": 259,
   "metadata": {
    "collapsed": false
   },
   "outputs": [
    {
     "name": "stdout",
     "output_type": "stream",
     "text": [
      "Original k.shape : (5,)  <-- 1D\n",
      "New k.shape      : (5, 1, 1)  <-- 3D\n"
     ]
    }
   ],
   "source": [
    "print(\"Original k.shape :\", k.shape, \" <-- 1D\")\n",
    "k = k.reshape((len(k), 1, 1))\n",
    "print(\"New k.shape      :\", k.shape, \" <-- 3D\")"
   ]
  },
  {
   "cell_type": "markdown",
   "metadata": {},
   "source": [
    "Still we cannot multiply by D because D is not threedimensional. So turn D into a 3D array with only one layer"
   ]
  },
  {
   "cell_type": "code",
   "execution_count": 260,
   "metadata": {
    "collapsed": false
   },
   "outputs": [
    {
     "name": "stdout",
     "output_type": "stream",
     "text": [
      "Origianal D.shape : (5, 4)\n",
      "New D.shape       : (1, 5, 4)\n"
     ]
    }
   ],
   "source": [
    "print(\"Origianal D.shape :\", D.shape)  #  <-- 2D\n",
    "D = D.reshape((1, *D.shape))\n",
    "print(\"New D.shape       :\", D.shape) # <-- 3D"
   ]
  },
  {
   "cell_type": "markdown",
   "metadata": {},
   "source": [
    "Now generate the conductivity array K"
   ]
  },
  {
   "cell_type": "code",
   "execution_count": 261,
   "metadata": {
    "collapsed": false
   },
   "outputs": [
    {
     "name": "stdout",
     "output_type": "stream",
     "text": [
      "K =\n",
      " [[[  4.2   4.2   4.2   4.2]\n",
      "  [  4.2   4.2   4.2   4.2]\n",
      "  [  4.2   4.2   4.2   4.2]\n",
      "  [  4.2   4.2   4.2   4.2]\n",
      "  [  4.2   4.2   4.2   4.2]]\n",
      "\n",
      " [[ 11.7  11.7  11.7  11.7]\n",
      "  [ 11.7  11.7  11.7  11.7]\n",
      "  [ 11.7  11.7  11.7  11.7]\n",
      "  [ 11.7  11.7  11.7  11.7]\n",
      "  [ 11.7  11.7  11.7  11.7]]\n",
      "\n",
      " [[ 13.1  13.1  13.1  13.1]\n",
      "  [ 13.1  13.1  13.1  13.1]\n",
      "  [ 13.1  13.1  13.1  13.1]\n",
      "  [ 13.1  13.1  13.1  13.1]\n",
      "  [ 13.1  13.1  13.1  13.1]]\n",
      "\n",
      " [[ 25.2  25.2  25.2  25.2]\n",
      "  [ 25.2  25.2  25.2  25.2]\n",
      "  [ 25.2  25.2  25.2  25.2]\n",
      "  [ 25.2  25.2  25.2  25.2]\n",
      "  [ 25.2  25.2  25.2  25.2]]\n",
      "\n",
      " [[ 33.   33.   33.   33. ]\n",
      "  [ 33.   33.   33.   33. ]\n",
      "  [ 33.   33.   33.   33. ]\n",
      "  [ 33.   33.   33.   33. ]\n",
      "  [ 33.   33.   33.   33. ]]]\n"
     ]
    }
   ],
   "source": [
    "K = D * k\n",
    "print(\"K =\\n\", K)"
   ]
  },
  {
   "cell_type": "markdown",
   "metadata": {},
   "source": [
    "A few more examples to exercise\n",
    "\n",
    "First, only one dimension has length 1."
   ]
  },
  {
   "cell_type": "code",
   "execution_count": 262,
   "metadata": {
    "collapsed": false
   },
   "outputs": [
    {
     "data": {
      "text/plain": [
       "array([[[  0.,   1.,   2.,   3.,   4.],\n",
       "        [  5.,   6.,   7.,   8.,   9.],\n",
       "        [ 10.,  11.,  12.,  13.,  14.],\n",
       "        [ 15.,  16.,  17.,  18.,  19.]],\n",
       "\n",
       "       [[ 20.,  21.,  22.,  23.,  24.],\n",
       "        [ 25.,  26.,  27.,  28.,  29.],\n",
       "        [ 30.,  31.,  32.,  33.,  34.],\n",
       "        [ 35.,  36.,  37.,  38.,  39.]],\n",
       "\n",
       "       [[ 40.,  41.,  42.,  43.,  44.],\n",
       "        [ 45.,  46.,  47.,  48.,  49.],\n",
       "        [ 50.,  51.,  52.,  53.,  54.],\n",
       "        [ 55.,  56.,  57.,  58.,  59.]]])"
      ]
     },
     "execution_count": 262,
     "metadata": {},
     "output_type": "execute_result"
    }
   ],
   "source": [
    "n, m, k = A.shape\n",
    "B = np.ones((1, m, k))\n",
    "A * B\n",
    "C = np.ones((n, 1, k))\n",
    "A * C\n",
    "D = np.ones((n, m, 1))\n",
    "A * D\n",
    "A * B * C * D"
   ]
  },
  {
   "cell_type": "markdown",
   "metadata": {},
   "source": [
    "Next two dimensions have lengt 1."
   ]
  },
  {
   "cell_type": "code",
   "execution_count": 263,
   "metadata": {
    "collapsed": false
   },
   "outputs": [
    {
     "data": {
      "text/plain": [
       "array([[[    0.,    27.,    54.,    81.,   108.],\n",
       "        [  135.,   162.,   189.,   216.,   243.],\n",
       "        [  270.,   297.,   324.,   351.,   378.],\n",
       "        [  405.,   432.,   459.,   486.,   513.]],\n",
       "\n",
       "       [[  540.,   567.,   594.,   621.,   648.],\n",
       "        [  675.,   702.,   729.,   756.,   783.],\n",
       "        [  810.,   837.,   864.,   891.,   918.],\n",
       "        [  945.,   972.,   999.,  1026.,  1053.]],\n",
       "\n",
       "       [[ 1080.,  1107.,  1134.,  1161.,  1188.],\n",
       "        [ 1215.,  1242.,  1269.,  1296.,  1323.],\n",
       "        [ 1350.,  1377.,  1404.,  1431.,  1458.],\n",
       "        [ 1485.,  1512.,  1539.,  1566.,  1593.]]])"
      ]
     },
     "execution_count": 263,
     "metadata": {},
     "output_type": "execute_result"
    }
   ],
   "source": [
    "n, m, k = A.shape\n",
    "B = 3 * np.ones((n, 1, 1))\n",
    "A * B\n",
    "C = 3 * np.ones((1, m, 1))\n",
    "A * C\n",
    "D = 3 * np.ones((1, 1, k))\n",
    "A * D\n",
    "A * B * C * D"
   ]
  },
  {
   "cell_type": "markdown",
   "metadata": {},
   "source": [
    "B, C an D are vectors pointing in the z, y an x directions respectively:"
   ]
  },
  {
   "cell_type": "code",
   "execution_count": 264,
   "metadata": {
    "collapsed": false
   },
   "outputs": [
    {
     "name": "stdout",
     "output_type": "stream",
     "text": [
      "B=\n",
      " [[[ 0]]\n",
      "\n",
      " [[20]]\n",
      "\n",
      " [[40]]]\n",
      "C=\n",
      " [[[ 0]\n",
      "  [ 5]\n",
      "  [10]\n",
      "  [15]]]\n",
      "D=\n",
      " [[[0 1 2 3 4]]]\n",
      "B * C * D = \n",
      " [[[   0    0    0    0    0]\n",
      "  [   0    0    0    0    0]\n",
      "  [   0    0    0    0    0]\n",
      "  [   0    0    0    0    0]]\n",
      "\n",
      " [[   0    0    0    0    0]\n",
      "  [   0  100  200  300  400]\n",
      "  [   0  200  400  600  800]\n",
      "  [   0  300  600  900 1200]]\n",
      "\n",
      " [[   0    0    0    0    0]\n",
      "  [   0  200  400  600  800]\n",
      "  [   0  400  800 1200 1600]\n",
      "  [   0  600 1200 1800 2400]]]\n"
     ]
    }
   ],
   "source": [
    "n, m, k = A.shape\n",
    "B = A[:, 0:1, 0:1]\n",
    "print(\"B=\\n\", B)\n",
    "C = A[0:1, :, 0:1]\n",
    "print(\"C=\\n\", C)\n",
    "D = A[0:1, 0:1, :]\n",
    "print(\"D=\\n\", D)\n",
    "print(\"B * C * D = \\n\", B * C * D)"
   ]
  },
  {
   "cell_type": "markdown",
   "metadata": {},
   "source": [
    "### Arrays are not matrices\n",
    "\n",
    "Arithmatic between arrays is alway done element wise. For matrix multiplication with 2D arrays one must use the dot function"
   ]
  },
  {
   "cell_type": "code",
   "execution_count": 265,
   "metadata": {
    "collapsed": false
   },
   "outputs": [
    {
     "name": "stdout",
     "output_type": "stream",
     "text": [
      "B = \n",
      " [[ 1 16  6]\n",
      " [ 2  0  9]\n",
      " [14 10 15]\n",
      " [ 3 15 11]\n",
      " [11  6  7]\n",
      " [ 3 10 16]\n",
      " [ 5  3 13]]\n",
      "\n",
      "B*B=\n",
      " [[  1 256  36]\n",
      " [  4   0  81]\n",
      " [196 100 225]\n",
      " [  9 225 121]\n",
      " [121  36  49]\n",
      " [  9 100 256]\n",
      " [ 25   9 169]]\n",
      "\n",
      "np.dot(B.T, B)=\n",
      " [[365 312 457]\n",
      " [312 726 652]\n",
      " [457 652 937]]\n",
      "\n",
      " B @ B = \n",
      " [[365 312 457]\n",
      " [312 726 652]\n",
      " [457 652 937]]\n"
     ]
    }
   ],
   "source": [
    "B = np.random.randint(0, 17, size=(7, 3))\n",
    "print(\"B = \\n\", B)\n",
    "print(\"\\nB*B=\\n\", B * B)\n",
    "print(\"\\nnp.dot(B.T, B)=\\n\", np.dot(B.T, B))\n",
    "print(\"\\n B @ B = \\n\", B.T @ B)  # is the same as np.dot(B.T, B)"
   ]
  },
  {
   "cell_type": "markdown",
   "metadata": {},
   "source": [
    "For true linear algebra, one may choose to use the np.linalg package which provides matrices and linear algebra functions."
   ]
  },
  {
   "cell_type": "markdown",
   "metadata": {},
   "source": [
    "With the array converted to a matrix the multiplication is treated as a matrix multiplication."
   ]
  },
  {
   "cell_type": "code",
   "execution_count": 266,
   "metadata": {
    "collapsed": false
   },
   "outputs": [
    {
     "name": "stdout",
     "output_type": "stream",
     "text": [
      "Using linear algebra, matrix:\n",
      "\n",
      "B.T * B = \n",
      "  [[365 312 457]\n",
      " [312 726 652]\n",
      " [457 652 937]]\n",
      "\n",
      "Inverse of B = B.I = \n",
      " [[-0.01173367 -0.01780205  0.04701094 -0.01551803  0.05360584 -0.03400974\n",
      "  -0.01037925]\n",
      " [ 0.04316563 -0.02338962 -0.0005714   0.02663365  0.00532715 -0.00491121\n",
      "  -0.02243054]\n",
      " [-0.01791004  0.03456304 -0.00652235  0.00077545 -0.02238118  0.03708064\n",
      "   0.03454432]]\n"
     ]
    }
   ],
   "source": [
    "print(\"Using linear algebra, matrix:\")\n",
    "B = np.matrix(B)\n",
    "print(\"\\nB.T * B = \\n \", B.T * B)\n",
    "print(\"\\nInverse of B = B.I = \\n\",B.I)"
   ]
  },
  {
   "cell_type": "markdown",
   "metadata": {},
   "source": [
    "### Using conditional indexing\n",
    "\n",
    "A condition on an array like y<20 yields a boolean array of the same dimension as y with the value True wherever the condition is met and False otherwise. We can use conditions, i.e. boolean arrays, on for logical indexing of arrays. Only the values where the boolean array is True will be used.\n",
    "\n",
    "so if y has 100 values and y<3 is true for only 20 values, then y[y<3] also has only 20 values because only the y's are picked from the array y where the condition is True. Logical indexing is very often the most effective, intuitive and elegant way of picking parts from arrays, without using any numerical indices."
   ]
  },
  {
   "cell_type": "code",
   "execution_count": 271,
   "metadata": {
    "collapsed": false
   },
   "outputs": [
    {
     "data": {
      "image/png": "[encoded data removed]",
      "text/plain": [
       "<matplotlib.figure.Figure at 0x1092f9400>"
      ]
     },
     "metadata": {},
     "output_type": "display_data"
    },
    {
     "data": {
      "image/png": "[encoded data removed]",
      "text/plain": [
       "<matplotlib.figure.Figure at 0x109c5da90>"
      ]
     },
     "metadata": {},
     "output_type": "display_data"
    }
   ],
   "source": [
    "x = np.linspace(0, 4 * np.pi, 201)\n",
    "\n",
    "y = np.sin(x)\n",
    "z = y * np.exp(-x/5.)\n",
    "w = (x - 2.3) * (x - 5.1 ) * (x - 10.3) * (x - 12) \n",
    "\n",
    "# some logical indexing\n",
    "w[w > z] = z[w > z]\n",
    "w[w < y] = y[w < y]\n",
    "\n",
    "plt.plot(x, y, label=\"y\")\n",
    "plt.plot(x, z, label=\"z\")\n",
    "plt.plot(x, w, label=\"w\", lw=2)\n",
    "plt.legend()\n",
    "plt.show()\n",
    "\n",
    "# or, to show how intuitive this indexing is:\n",
    "high = w > z  # w > z yields a boolean array\n",
    "low  = w < y\n",
    "\n",
    "w[high] = z[high]\n",
    "w[low ] = y[low]\n",
    "plt.plot(x, w, label=\"w\", lw=2)\n",
    "plt.show()"
   ]
  },
  {
   "cell_type": "markdown",
   "metadata": {},
   "source": [
    "### Pick out the values within a circle and a box\n",
    "\n",
    "First generate a grid of coordinates using broad casting\n",
    "\n",
    "Then compute the distance to a point in the grid\n",
    "\n",
    "Next select all points within a given distance\n",
    "\n",
    "Also select points within a box"
   ]
  },
  {
   "cell_type": "code",
   "execution_count": 269,
   "metadata": {
    "collapsed": false
   },
   "outputs": [
    {
     "data": {
      "image/png": "[encoded data removed]",
      "text/plain": [
       "<matplotlib.figure.Figure at 0x109336c18>"
      ]
     },
     "metadata": {},
     "output_type": "display_data"
    }
   ],
   "source": [
    "AND = np.logical_and\n",
    "\n",
    "x = np.linspace(-500, 500, 200)\n",
    "y = np.linspace(-500, 500, 200)\n",
    "xBox = [-300, 50]\n",
    "yBox = [-200, 300]\n",
    "R0 = 300.\n",
    "x0, y0 = 50, 120\n",
    "\n",
    "y = y.reshape((len(y), 1))\n",
    "x = x.reshape((1, len(x)))\n",
    "X = np.ones_like(y) * x\n",
    "Y = y * np.ones_like(x)\n",
    "R = np.sqrt((X - x0)**2 + (Y - y0)**2)\n",
    "inBox = AND(AND(X > xBox[0], X < xBox[1]), AND(Y > yBox[0], Y < yBox[1]))\n",
    "inIsland = R < R0\n",
    "\n",
    "V = np.zeros_like(X)\n",
    "V[inBox]  = 1\n",
    "V[inIsland] = 2\n",
    "\n",
    "plt.matshow(V)\n",
    "plt.show()"
   ]
  }
 ],
 "metadata": {
  "anaconda-cloud": {},
  "kernelspec": {
   "display_name": "Python [default]",
   "language": "python",
   "name": "python3"
  },
  "language_info": {
   "codemirror_mode": {
    "name": "ipython",
    "version": 3
   },
   "file_extension": ".py",
   "mimetype": "text/x-python",
   "name": "python",
   "nbconvert_exporter": "python",
   "pygments_lexer": "ipython3",
   "version": "3.5.2"
  }
 },
 "nbformat": 4,
 "nbformat_minor": 0
}
