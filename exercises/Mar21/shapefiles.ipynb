{
 "cells": [
  {
   "cell_type": "markdown",
   "metadata": {},
   "source": [
    "<figure>\n",
    "  <IMG SRC=\"../../logo/logo.png\" WIDTH=250 ALIGN=\"right\">\n",
    "</figure>\n",
    "\n",
    "# IHE Python course, 2017\n",
    "\n",
    "## Reading, writing and working with shape files\n",
    "\n",
    "T.N.Olsthoorn\n",
    "2017-03-15\n",
    "\n",
    "\n",
    "When working with GIS you import and export shape files. A shape file consists of 3 files with the same name but different extension. The one with .shp exteions contains the actual shapes, coordinates and spatial topology, while the one with the .dbf extension contains a table with the user data that is associated with each shape in the shapefile. In it, each shape file has a record of data values that belong to textual headers that indicated what the values mean. The contents of the .dbf file is, in fact a table, with headers, in which each line represents the data pertaining to one shape in the file. The third file, with .shx extension is merely a list of pointers that allow fast searching the shapefiles in GIS. It.s not important for us.\n",
    "\n",
    "In fact, shape files are the most widely used means to exchange spatial data.\n",
    "\n",
    "Shape files can be very useful to spatially attribute values to a model, like the conductivities, land use etc. Knowing how they work and how to deal with them can provide a lot of functionality in dealing with spatial data, with or without a GIS.\n",
    "\n",
    "If you the comman\n",
    "\n",
    "**import shapefile as shp**\n",
    "\n",
    "does not work, you should install pyshp\n",
    "\n",
    "fire up your cmd window and type\n",
    "\n",
    "**pip install pyshp**\n",
    "\n",
    "The documentation is in the wiki of the pyshp project on github:\n",
    "\n",
    "https://github.com/GeospatialPython/pyshp/wiki"
   ]
  },
  {
   "cell_type": "markdown",
   "metadata": {},
   "source": [
    "The more general functionalities are impoted next:"
   ]
  },
  {
   "cell_type": "code",
   "execution_count": 40,
   "metadata": {
    "collapsed": true
   },
   "outputs": [],
   "source": [
    "import os\n",
    "import numpy as np\n",
    "import matplotlib.pyplot as plt\n",
    "import shapefile as shp\n",
    "from pprint import pprint"
   ]
  },
  {
   "cell_type": "markdown",
   "metadata": {},
   "source": [
    "We need a function that will tell us whether a coordinate pair is inside a shape or not. This function exists in matplotlib.path and is called Path. Path creates a polygon which can then check if points are inside or outside it. Because I like the word Polygon better than Path for this goal, I import the Path class and call it Polygon here."
   ]
  },
  {
   "cell_type": "code",
   "execution_count": 41,
   "metadata": {
    "collapsed": true
   },
   "outputs": [],
   "source": [
    "from matplotlib.path import Path as Polygon"
   ]
  },
  {
   "cell_type": "markdown",
   "metadata": {},
   "source": [
    "I define a function inpoly that checks whether the coordinates x,y are inside the shape given by pgcoords. The function returns a logical array (boolean area) of the same shape as the inputs x and y such that points inside the polygon are True in the array and False otherwise.\n",
    "\n",
    "Notice that inpoly uses the imported Polygon constructor on line 8.\n",
    "\n",
    "The function does some import checking and guarantees that the shape of the boolean output array is the same as the input array x and y.\n",
    "\n",
    "The checking is done in lline 27 using the method pgon.contains_points(xy)\n",
    "\n",
    "This function is very practical, so you may want to use it in other projects as well.\n"
   ]
  },
  {
   "cell_type": "code",
   "execution_count": 42,
   "metadata": {
    "collapsed": true
   },
   "outputs": [],
   "source": [
    "def inpoly(x, y, pgcoords):\n",
    "    \"\"\"Returns bool array [Ny, Nx] telling which grid points are inside polygon\n",
    "\n",
    "    \"\"\"\n",
    "    try:\n",
    "        isinstance(pgcoords,(list, tuple, np.ndarray))\n",
    "        len(pgcoords[0])==2\n",
    "        pgon = Polygon(pgcoords)\n",
    "    except:\n",
    "        print('pgcoords must be like [(0, 0), (1, 0), ..] or\\n'\n",
    "            +'an np.ndarray of shape [Np, 2]')\n",
    "        raise TypeError(\"Can't create polygon, pgcoords error\")\n",
    "\n",
    "    try:\n",
    "        x = np.array(x, dtype=float)\n",
    "        y = np.array(y, dtype=float)\n",
    "        x.shape == y.shape\n",
    "    except:\n",
    "        raise err.ShapeError(\"x and y not np.ndarrays with same shape.\")\n",
    "\n",
    "    if len(x.shape)==1:\n",
    "        Y, Y = np.meshgrid(x, y)\n",
    "    else:\n",
    "        X = x\n",
    "        Y = y\n",
    "    xy = np.vstack((X.ravel(), Y.ravel())).T\n",
    "    return pgon.contains_points(xy).reshape(X.shape)"
   ]
  },
  {
   "cell_type": "markdown",
   "metadata": {},
   "source": [
    "CD to the exercises/Mar21 dictory, where we have a shape file stored in the subdirectory Sectie (Section)"
   ]
  },
  {
   "cell_type": "code",
   "execution_count": 43,
   "metadata": {
    "collapsed": false
   },
   "outputs": [
    {
     "data": {
      "text/plain": [
       "['.DS_Store',\n",
       " '.ipynb_checkpoints',\n",
       " 'Assela.ipynb',\n",
       " 'collatz.py',\n",
       " 'py_exploratory_comp_4-Copy2.ipynb',\n",
       " 'randomQuizGenerator.py',\n",
       " 'Sectie',\n",
       " 'shapefiles.ipynb',\n",
       " 'sorting.ipynb']"
      ]
     },
     "execution_count": 43,
     "metadata": {},
     "output_type": "execute_result"
    }
   ],
   "source": [
    "os.listdir('.')"
   ]
  },
  {
   "cell_type": "markdown",
   "metadata": {},
   "source": [
    "Define the director where the shape file is and get the file name"
   ]
  },
  {
   "cell_type": "code",
   "execution_count": 44,
   "metadata": {
    "collapsed": false
   },
   "outputs": [
    {
     "name": "stdout",
     "output_type": "stream",
     "text": [
      "The shapefile to work with:  Sectie_20170307.dbf\n"
     ]
    }
   ],
   "source": [
    "# directory (this will be different on your computer)\n",
    "\n",
    "shpdir =  os.path.join('.', 'Sectie')\n",
    "\n",
    "fname  = os.listdir(shpdir)[0]\n",
    "\n",
    "print(\"The shapefile to work with: \",fname)"
   ]
  },
  {
   "cell_type": "markdown",
   "metadata": {},
   "source": [
    "Open a reader to read the shapefile:\n",
    "\n",
    "Then show its attributes, so that we can see what we can do with it."
   ]
  },
  {
   "cell_type": "code",
   "execution_count": 45,
   "metadata": {
    "collapsed": false
   },
   "outputs": [
    {
     "name": "stdout",
     "output_type": "stream",
     "text": [
      "\n",
      "Attributes and methods accessible throuhgh this reader:\n",
      "\n",
      "['bbox',\n",
      " 'dbf',\n",
      " 'elevation',\n",
      " 'fields',\n",
      " 'iterRecords',\n",
      " 'iterShapeRecords',\n",
      " 'iterShapes',\n",
      " 'load',\n",
      " 'measure',\n",
      " 'numRecords',\n",
      " 'record',\n",
      " 'records',\n",
      " 'shape',\n",
      " 'shapeName',\n",
      " 'shapeRecord',\n",
      " 'shapeRecords',\n",
      " 'shapeType',\n",
      " 'shapes',\n",
      " 'shp',\n",
      " 'shpLength',\n",
      " 'shx']\n"
     ]
    }
   ],
   "source": [
    "rdr = shp.Reader(os.path.join(shpdir, fname))\n",
    "\n",
    "print(\"\\nAttributes and methods accessible throuhgh this reader:\\n\")\n",
    "\n",
    "# learn to read and create comprehensions, this is one\n",
    "pprint([p for p in dir(rdr) if not p.startswith('_')])"
   ]
  },
  {
   "cell_type": "markdown",
   "metadata": {},
   "source": [
    "So we can read the bounding box of all the shapes in the file, its table, its elevaton (if specified), its fiels names etc.\n",
    "\n",
    "Let's get some useful information about the shapefile. Here, the names of the data fields of each shape (again a comprehension is used to get them in a list)"
   ]
  },
  {
   "cell_type": "code",
   "execution_count": 47,
   "metadata": {
    "collapsed": false
   },
   "outputs": [
    {
     "data": {
      "text/plain": [
       "[('DeletionFlag', 'C', 1, 0),\n",
       " ['nr', 'N', 10, 0],\n",
       " ['X', 'N', 24, 15],\n",
       " ['Y', 'N', 24, 15],\n",
       " ['Color', 'C', 15, 0],\n",
       " ['FM', 'C', 20, 0],\n",
       " ['LAYERNM', 'C', 25, 0],\n",
       " ['order', 'N', 2, 0],\n",
       " ['SALT', 'N', 1, 0],\n",
       " ['PEFF', 'N', 11, 5],\n",
       " ['AL', 'N', 11, 5],\n",
       " ['KH', 'N', 21, 10],\n",
       " ['KV', 'N', 21, 10],\n",
       " ['SS', 'N', 16, 8],\n",
       " ['SY', 'N', 16, 8],\n",
       " ['SALINITY', 'N', 11, 5]]"
      ]
     },
     "execution_count": 47,
     "metadata": {},
     "output_type": "execute_result"
    }
   ],
   "source": [
    "rdr.fields"
   ]
  },
  {
   "cell_type": "markdown",
   "metadata": {},
   "source": [
    "Each field not only gives the name of the data but also whether it string )'C' or a number 'N' and its length (first number). The second number is the number of didgets, when the number is floating point.\n",
    "\n",
    "To get only the field name in a list, we use an other comprehension:"
   ]
  },
  {
   "cell_type": "code",
   "execution_count": 48,
   "metadata": {
    "collapsed": false
   },
   "outputs": [
    {
     "name": "stdout",
     "output_type": "stream",
     "text": [
      "['DeletionFlag', 'nr', 'X', 'Y', 'Color', 'FM', 'LAYERNM', 'order', 'SALT', 'PEFF', 'AL', 'KH', 'KV', 'SS', 'SY', 'SALINITY']\n"
     ]
    }
   ],
   "source": [
    "fldNames = [p[0] for p in rdr.fields]\n",
    "\n",
    "print(fldNames)"
   ]
  },
  {
   "cell_type": "markdown",
   "metadata": {},
   "source": [
    "you may use\n",
    ">rdr.iterShapes() to iterate over the shapes in the shapefile\n",
    "\n",
    ">rdr.iterRecords() to iterate over the records in the shapefile\n",
    "\n",
    ">rdr.iterShapeRecords() to iterate over both simultaneously\n",
    "\n",
    "\n",
    "Print the records in the dbf file, one for each shape:"
   ]
  },
  {
   "cell_type": "code",
   "execution_count": 49,
   "metadata": {
    "collapsed": false
   },
   "outputs": [
    {
     "name": "stdout",
     "output_type": "stream",
     "text": [
      "['DeletionFlag', 'nr', 'X', 'Y', 'Color', 'FM', 'LAYERNM', 'order', 'SALT', 'PEFF', 'AL', 'KH', 'KV', 'SS', 'SY', 'SALINITY']\n",
      "[1, 0.0, -10.0, 'y', 'watervoerend', 'aquifer', 1, 0, 0.2, 100.0, 10.0, 10.0, 0.0001, 0.2, 0.0]\n",
      "[2, 0.0, -3.5, 'b', 'slappe lagen', 'confining', 2, 0, 0.5, 100.0, 0.001, 0.0005, 0.0001, 0.05, 0.0]\n",
      "[3, 17.5, -3.5, 'b', 'schil', 'confining', 3, 0, 0.55, 100.0, 0.0005, 0.0005, 0.0001, 0.05, 0.0]\n",
      "[4, 22.5, -3.5, 'y', 'kern', 'aquifer', 4, 0, 0.3, 100.0, 5.0, 5.0, 0.0001, 0.2, 0.0]\n"
     ]
    }
   ],
   "source": [
    "print(fldNames)\n",
    "for r in rdr.iterRecords():\n",
    "    print(r)"
   ]
  },
  {
   "cell_type": "markdown",
   "metadata": {},
   "source": [
    "Read the shapeRecords from the shapefile into a list:"
   ]
  },
  {
   "cell_type": "code",
   "execution_count": 50,
   "metadata": {
    "collapsed": false
   },
   "outputs": [
    {
     "data": {
      "text/plain": [
       "[<shapefile._ShapeRecord at 0x108946048>,\n",
       " <shapefile._ShapeRecord at 0x108946a90>,\n",
       " <shapefile._ShapeRecord at 0x108946358>,\n",
       " <shapefile._ShapeRecord at 0x108946c18>]"
      ]
     },
     "execution_count": 50,
     "metadata": {},
     "output_type": "execute_result"
    }
   ],
   "source": [
    "shprecs = rdr.shapeRecords()\n",
    "\n",
    "shprecs"
   ]
  },
  {
   "cell_type": "markdown",
   "metadata": {},
   "source": [
    "Each of these ShapeRecods contain both the shape and its record (data).\n",
    "\n",
    "Show that we can itereate over the ShapeRecords, get the shape and the record from it and do somthing with it:"
   ]
  },
  {
   "cell_type": "code",
   "execution_count": 14,
   "metadata": {
    "collapsed": false
   },
   "outputs": [
    {
     "name": "stdout",
     "output_type": "stream",
     "text": [
      "Shape number  1\n",
      "Bounding box =  [0.0, -10.0, 80.0, -6.0]\n",
      "Record       =  [1, 0.0, -10.0, 'y', 'watervoerend', 'aquifer', 1, 0, 0.2, 100.0, 10.0, 10.0, 0.0001, 0.2, 0.0]\n",
      "\n",
      "Shape number  2\n",
      "Bounding box =  [0.0, -6.0, 80.0, -3.5]\n",
      "Record       =  [2, 0.0, -3.5, 'b', 'slappe lagen', 'confining', 2, 0, 0.5, 100.0, 0.001, 0.0005, 0.0001, 0.05, 0.0]\n",
      "\n",
      "Shape number  3\n",
      "Bounding box =  [17.5, -3.5, 55.0, 0.0]\n",
      "Record       =  [3, 17.5, -3.5, 'b', 'schil', 'confining', 3, 0, 0.55, 100.0, 0.0005, 0.0005, 0.0001, 0.05, 0.0]\n",
      "\n",
      "Shape number  4\n",
      "Bounding box =  [22.5, -3.5, 45.0, -0.75]\n",
      "Record       =  [4, 22.5, -3.5, 'y', 'kern', 'aquifer', 4, 0, 0.3, 100.0, 5.0, 5.0, 0.0001, 0.2, 0.0]\n",
      "\n"
     ]
    }
   ],
   "source": [
    "for i, sr in enumerate(shprecs):\n",
    "    print(\"Shape number \", i+1)\n",
    "    print(\"Bounding box = \",sr.shape.bbox)\n",
    "    print(\"Record       = \",sr.record)\n",
    "    print()"
   ]
  },
  {
   "cell_type": "markdown",
   "metadata": {},
   "source": [
    "What attributes/methods has a shape?\n",
    "\n",
    "Simply use a comprehension to show their names:"
   ]
  },
  {
   "cell_type": "code",
   "execution_count": 15,
   "metadata": {
    "collapsed": false
   },
   "outputs": [
    {
     "data": {
      "text/plain": [
       "['bbox', 'parts', 'points', 'shapeType']"
      ]
     },
     "execution_count": 15,
     "metadata": {},
     "output_type": "execute_result"
    }
   ],
   "source": [
    "[att for att in dir(sr.shape) if not att.startswith('_')]"
   ]
  },
  {
   "cell_type": "markdown",
   "metadata": {},
   "source": [
    "Let's now get serious and define a model grid containing all shapes. Simply use the overall bounding box to get the grid extension.\n",
    "\n",
    "Here is the box:"
   ]
  },
  {
   "cell_type": "code",
   "execution_count": 16,
   "metadata": {
    "collapsed": false
   },
   "outputs": [
    {
     "data": {
      "text/plain": [
       "[0.0, -10.0, 80.0, 0.0]"
      ]
     },
     "execution_count": 16,
     "metadata": {},
     "output_type": "execute_result"
    }
   ],
   "source": [
    "rdr.bbox"
   ]
  },
  {
   "cell_type": "markdown",
   "metadata": {},
   "source": [
    "Get the indices from the bounding box so that we can plot is in a single line:"
   ]
  },
  {
   "cell_type": "code",
   "execution_count": 17,
   "metadata": {
    "collapsed": true
   },
   "outputs": [],
   "source": [
    "ix = [0, 2, 2, 0, 0]  # x-indices in rdr.box\n",
    "iy = [1, 1, 3, 3, 1]  # y-indices"
   ]
  },
  {
   "cell_type": "markdown",
   "metadata": {},
   "source": [
    "With these indices in sequence we can get the x and y coordinates of the bbox so arranged that the bbox is plotted (in red with linewidth 3, so that it shows up at the boundary of the plot."
   ]
  },
  {
   "cell_type": "code",
   "execution_count": 51,
   "metadata": {
    "collapsed": false
   },
   "outputs": [
    {
     "data": {
      "image/png": "[encoded data removed]",
      "text/plain": [
       "<matplotlib.figure.Figure at 0x108946630>"
      ]
     },
     "metadata": {},
     "output_type": "display_data"
    }
   ],
   "source": [
    "plt.plot(np.array([rdr.bbox[i] for i in ix]),\n",
    "         np.array([rdr.bbox[i] for i in iy]), 'r', lw=3)\n",
    "plt.show()"
   ]
  },
  {
   "cell_type": "markdown",
   "metadata": {},
   "source": [
    "Now see how we can access the point os a shape, here the first shape in our shape-records list, so shprecs[0].shape."
   ]
  },
  {
   "cell_type": "code",
   "execution_count": 52,
   "metadata": {
    "collapsed": false
   },
   "outputs": [
    {
     "data": {
      "text/plain": [
       "array([[  0.,  -6.],\n",
       "       [ 10.,  -6.],\n",
       "       [ 20.,  -6.],\n",
       "       [ 30.,  -6.],\n",
       "       [ 40.,  -6.],\n",
       "       [ 50.,  -6.],\n",
       "       [ 60.,  -6.],\n",
       "       [ 70.,  -6.],\n",
       "       [ 80.,  -6.],\n",
       "       [ 80., -10.],\n",
       "       [ 70., -10.],\n",
       "       [ 60., -10.],\n",
       "       [ 50., -10.],\n",
       "       [ 40., -10.],\n",
       "       [ 30., -10.],\n",
       "       [ 20., -10.],\n",
       "       [ 10., -10.],\n",
       "       [  0., -10.],\n",
       "       [  0.,  -6.]])"
      ]
     },
     "execution_count": 52,
     "metadata": {},
     "output_type": "execute_result"
    }
   ],
   "source": [
    "np.array(shprecs[0].shape.points)"
   ]
  },
  {
   "cell_type": "markdown",
   "metadata": {},
   "source": [
    "With all this in place we can plot the bounding box of all shapes and then each shape itself using its points as an array."
   ]
  },
  {
   "cell_type": "code",
   "execution_count": 53,
   "metadata": {
    "collapsed": false
   },
   "outputs": [
    {
     "data": {
      "image/png": "[encoded data removed]",
      "text/plain": [
       "<matplotlib.figure.Figure at 0x1087d4d30>"
      ]
     },
     "metadata": {},
     "output_type": "display_data"
    }
   ],
   "source": [
    "plt.plot(np.array([rdr.bbox[i] for i in ix]),\n",
    "         np.array([rdr.bbox[i] for i in iy]), 'r', lw=3)\n",
    "\n",
    "for sr in shprecs:\n",
    "    pnts = np.array(sr.shape.points)\n",
    "    plt.plot(pnts[:,0], pnts[:,1])\n",
    "plt.show()"
   ]
  },
  {
   "cell_type": "markdown",
   "metadata": {},
   "source": [
    "The next step is to fill the grid points that fall within each shape with the data value that belongs to the shape. We'll use the horizontal conductivity KH that is contained in each shape's record as can be seen from the field names above.\n",
    "\n",
    "First generate a grid. A grid is an array with the x coordinate of each cell and one with the y coordinate of each cell.\n",
    "\n",
    "We'll choose x, y as the coordinates of the cell boundaries (the grid lines) and xm, ym as the coordinates of the cell centers.\n",
    "\n",
    "Choosing 81 x-grid lines between the horizontal extend 0 and 80 m gives cells of 1 m width.\n",
    "Choosing 41 y-grid lines between the vertical exten -10 and 0 m gives cells of 0.25 m height."
   ]
  },
  {
   "cell_type": "code",
   "execution_count": 54,
   "metadata": {
    "collapsed": false
   },
   "outputs": [],
   "source": [
    "# grid line coordinates\n",
    "x = np.linspace(rdr.bbox[0], rdr.bbox[2], 81)\n",
    "y = np.linspace(rdr.bbox[1], rdr.bbox[3], 41)\n",
    "\n",
    "# cell center coordinates\n",
    "xm = 0.5 * (x[:-1] + x[1:])\n",
    "ym = 0.5 * (y[:-1] + y[1:])\n",
    "\n",
    "# generage a full 2D array for both the x and y coordinates\n",
    "XM, YM = np.meshgrid(xm, ym)"
   ]
  },
  {
   "cell_type": "markdown",
   "metadata": {},
   "source": [
    "Then fill in the data value for each grid and plot the result, once color per shape.\n",
    "\n",
    "ikh is the index for the field 'KH' (see fields above)"
   ]
  },
  {
   "cell_type": "code",
   "execution_count": 55,
   "metadata": {
    "collapsed": false
   },
   "outputs": [
    {
     "data": {
      "image/png": "[encoded data removed]",
      "text/plain": [
       "<matplotlib.figure.Figure at 0x108ac10f0>"
      ]
     },
     "metadata": {},
     "output_type": "display_data"
    }
   ],
   "source": [
    "fig, ax = plt.subplots()\n",
    "\n",
    "ikh = fldNames.index('KH')\n",
    "KH = np.zeros_like(XM)      # 2D array to fill with conductivities from shapes\n",
    "\n",
    "# iterate ove the list of shaperecords. In each loop the next index,\n",
    "# the next color for the plot and the next records is given. \n",
    "for i, clr, sr in zip(range(len(shprecs)), \"brgmcy\", shprecs):\n",
    "    pnts = sr.shape.points             # the shape coordinates\n",
    "    inarray = inpoly(XM, YM, pnts)     # boolean array to match the shape\n",
    "    KH[inarray] = sr.record[ikh]       # fill in the value\n",
    "    ax.plot(XM[inarray], YM[inarray], clr+'o', label=\"shape {}\".format(i))\n",
    "ax.legend(loc='best', fontsize='x-small')\n",
    "plt.show()"
   ]
  },
  {
   "cell_type": "markdown",
   "metadata": {},
   "source": [
    "Et voilà !\n",
    "\n",
    "Now the array can be used as input for a groundwater model for example."
   ]
  },
  {
   "cell_type": "markdown",
   "metadata": {},
   "source": [
    "## Some ways to show the array"
   ]
  },
  {
   "cell_type": "code",
   "execution_count": 59,
   "metadata": {
    "collapsed": false
   },
   "outputs": [
    {
     "data": {
      "image/png": "[encoded data removed]",
      "text/plain": [
       "<matplotlib.figure.Figure at 0x115ae3eb8>"
      ]
     },
     "metadata": {},
     "output_type": "display_data"
    }
   ],
   "source": [
    "# plt.spy shows where an array is non-zero\n",
    "\n",
    "plt.spy(KH)\n",
    "plt.show() "
   ]
  },
  {
   "cell_type": "markdown",
   "metadata": {},
   "source": [
    "Show the KH array the Matlab way, which is much easier to see. In spyder you may inspect it in the variable window as a kind of spreadsheet.\n",
    "\n",
    "Because the array is far too wide to print on one line, we chop it in chunk of 8 columns\n",
    "and print one chunk after the other.\n",
    "\n",
    "First generate the indices to cut the array in pieces then use np.split( )\n",
    "Put this together with the indices in a zip, so that the in each for loop we get\n",
    "the next index and the next array.\n",
    "For each chunk plot which columns it has.\n",
    "Then cut the chunk in lines and print each line separately.\n",
    "Notice that we generate the format dynamically in the print statement using the\n",
    "length L, i.e. the number of values in the line."
   ]
  },
  {
   "cell_type": "code",
   "execution_count": 74,
   "metadata": {
    "collapsed": false
   },
   "outputs": [
    {
     "name": "stdout",
     "output_type": "stream",
     "text": [
      "Columns 0:8\n",
      "      10      10      10      10      10      10      10      10\n",
      "      10      10      10      10      10      10      10      10\n",
      "      10      10      10      10      10      10      10      10\n",
      "      10      10      10      10      10      10      10      10\n",
      "      10      10      10      10      10      10      10      10\n",
      "      10      10      10      10      10      10      10      10\n",
      "      10      10      10      10      10      10      10      10\n",
      "      10      10      10      10      10      10      10      10\n",
      "      10      10      10      10      10      10      10      10\n",
      "      10      10      10      10      10      10      10      10\n",
      "      10      10      10      10      10      10      10      10\n",
      "      10      10      10      10      10      10      10      10\n",
      "      10      10      10      10      10      10      10      10\n",
      "      10      10      10      10      10      10      10      10\n",
      "      10      10      10      10      10      10      10      10\n",
      "      10      10      10      10      10      10      10      10\n",
      "  0.0005  0.0005  0.0005  0.0005  0.0005  0.0005  0.0005  0.0005\n",
      "  0.0005  0.0005  0.0005  0.0005  0.0005  0.0005  0.0005  0.0005\n",
      "  0.0005  0.0005  0.0005  0.0005  0.0005  0.0005  0.0005  0.0005\n",
      "  0.0005  0.0005  0.0005  0.0005  0.0005  0.0005  0.0005  0.0005\n",
      "  0.0005  0.0005  0.0005  0.0005  0.0005  0.0005  0.0005  0.0005\n",
      "  0.0005  0.0005  0.0005  0.0005  0.0005  0.0005  0.0005  0.0005\n",
      "  0.0005  0.0005  0.0005  0.0005  0.0005  0.0005  0.0005  0.0005\n",
      "  0.0005  0.0005  0.0005  0.0005  0.0005  0.0005  0.0005  0.0005\n",
      "  0.0005  0.0005  0.0005  0.0005  0.0005  0.0005  0.0005  0.0005\n",
      "  0.0005  0.0005  0.0005  0.0005  0.0005  0.0005  0.0005  0.0005\n",
      "       0       0       0       0       0       0       0       0\n",
      "       0       0       0       0       0       0       0       0\n",
      "       0       0       0       0       0       0       0       0\n",
      "       0       0       0       0       0       0       0       0\n",
      "       0       0       0       0       0       0       0       0\n",
      "       0       0       0       0       0       0       0       0\n",
      "       0       0       0       0       0       0       0       0\n",
      "       0       0       0       0       0       0       0       0\n",
      "       0       0       0       0       0       0       0       0\n",
      "       0       0       0       0       0       0       0       0\n",
      "       0       0       0       0       0       0       0       0\n",
      "       0       0       0       0       0       0       0       0\n",
      "       0       0       0       0       0       0       0       0\n",
      "       0       0       0       0       0       0       0       0\n",
      "\n",
      "Columns 8:16\n",
      "      10      10      10      10      10      10      10      10\n",
      "      10      10      10      10      10      10      10      10\n",
      "      10      10      10      10      10      10      10      10\n",
      "      10      10      10      10      10      10      10      10\n",
      "      10      10      10      10      10      10      10      10\n",
      "      10      10      10      10      10      10      10      10\n",
      "      10      10      10      10      10      10      10      10\n",
      "      10      10      10      10      10      10      10      10\n",
      "      10      10      10      10      10      10      10      10\n",
      "      10      10      10      10      10      10      10      10\n",
      "      10      10      10      10      10      10      10      10\n",
      "      10      10      10      10      10      10      10      10\n",
      "      10      10      10      10      10      10      10      10\n",
      "      10      10      10      10      10      10      10      10\n",
      "      10      10      10      10      10      10      10      10\n",
      "      10      10      10      10      10      10      10      10\n",
      "  0.0005  0.0005  0.0005  0.0005  0.0005  0.0005  0.0005  0.0005\n",
      "  0.0005  0.0005  0.0005  0.0005  0.0005  0.0005  0.0005  0.0005\n",
      "  0.0005  0.0005  0.0005  0.0005  0.0005  0.0005  0.0005  0.0005\n",
      "  0.0005  0.0005  0.0005  0.0005  0.0005  0.0005  0.0005  0.0005\n",
      "  0.0005  0.0005  0.0005  0.0005  0.0005  0.0005  0.0005  0.0005\n",
      "  0.0005  0.0005  0.0005  0.0005  0.0005  0.0005  0.0005  0.0005\n",
      "  0.0005  0.0005  0.0005  0.0005  0.0005  0.0005  0.0005  0.0005\n",
      "  0.0005  0.0005  0.0005  0.0005  0.0005  0.0005  0.0005  0.0005\n",
      "  0.0005  0.0005  0.0005  0.0005  0.0005  0.0005  0.0005  0.0005\n",
      "  0.0005  0.0005  0.0005  0.0005  0.0005  0.0005  0.0005  0.0005\n",
      "       0       0       0       0       0       0       0       0\n",
      "       0       0       0       0       0       0       0       0\n",
      "       0       0       0       0       0       0       0       0\n",
      "       0       0       0       0       0       0       0       0\n",
      "       0       0       0       0       0       0       0       0\n",
      "       0       0       0       0       0       0       0       0\n",
      "       0       0       0       0       0       0       0       0\n",
      "       0       0       0       0       0       0       0       0\n",
      "       0       0       0       0       0       0       0       0\n",
      "       0       0       0       0       0       0       0       0\n",
      "       0       0       0       0       0       0       0       0\n",
      "       0       0       0       0       0       0       0       0\n",
      "       0       0       0       0       0       0       0       0\n",
      "       0       0       0       0       0       0       0       0\n",
      "\n",
      "Columns 16:24\n",
      "      10      10      10      10      10      10      10      10\n",
      "      10      10      10      10      10      10      10      10\n",
      "      10      10      10      10      10      10      10      10\n",
      "      10      10      10      10      10      10      10      10\n",
      "      10      10      10      10      10      10      10      10\n",
      "      10      10      10      10      10      10      10      10\n",
      "      10      10      10      10      10      10      10      10\n",
      "      10      10      10      10      10      10      10      10\n",
      "      10      10      10      10      10      10      10      10\n",
      "      10      10      10      10      10      10      10      10\n",
      "      10      10      10      10      10      10      10      10\n",
      "      10      10      10      10      10      10      10      10\n",
      "      10      10      10      10      10      10      10      10\n",
      "      10      10      10      10      10      10      10      10\n",
      "      10      10      10      10      10      10      10      10\n",
      "      10      10      10      10      10      10      10      10\n",
      "  0.0005  0.0005  0.0005  0.0005  0.0005  0.0005  0.0005  0.0005\n",
      "  0.0005  0.0005  0.0005  0.0005  0.0005  0.0005  0.0005  0.0005\n",
      "  0.0005  0.0005  0.0005  0.0005  0.0005  0.0005  0.0005  0.0005\n",
      "  0.0005  0.0005  0.0005  0.0005  0.0005  0.0005  0.0005  0.0005\n",
      "  0.0005  0.0005  0.0005  0.0005  0.0005  0.0005  0.0005  0.0005\n",
      "  0.0005  0.0005  0.0005  0.0005  0.0005  0.0005  0.0005  0.0005\n",
      "  0.0005  0.0005  0.0005  0.0005  0.0005  0.0005  0.0005  0.0005\n",
      "  0.0005  0.0005  0.0005  0.0005  0.0005  0.0005  0.0005  0.0005\n",
      "  0.0005  0.0005  0.0005  0.0005  0.0005  0.0005  0.0005  0.0005\n",
      "  0.0005  0.0005  0.0005  0.0005  0.0005  0.0005  0.0005  0.0005\n",
      "       0       0       0  0.0005  0.0005  0.0005  0.0005  0.0005\n",
      "       0       0       0       0       0  0.0005  0.0005  0.0005\n",
      "       0       0       0       0       0       0       0  0.0005\n",
      "       0       0       0       0       0       0       0       0\n",
      "       0       0       0       0       0       0       0       0\n",
      "       0       0       0       0       0       0       0       0\n",
      "       0       0       0       0       0       0       0       0\n",
      "       0       0       0       0       0       0       0       0\n",
      "       0       0       0       0       0       0       0       0\n",
      "       0       0       0       0       0       0       0       0\n",
      "       0       0       0       0       0       0       0       0\n",
      "       0       0       0       0       0       0       0       0\n",
      "       0       0       0       0       0       0       0       0\n",
      "       0       0       0       0       0       0       0       0\n",
      "\n",
      "Columns 24:32\n",
      "      10      10      10      10      10      10      10      10\n",
      "      10      10      10      10      10      10      10      10\n",
      "      10      10      10      10      10      10      10      10\n",
      "      10      10      10      10      10      10      10      10\n",
      "      10      10      10      10      10      10      10      10\n",
      "      10      10      10      10      10      10      10      10\n",
      "      10      10      10      10      10      10      10      10\n",
      "      10      10      10      10      10      10      10      10\n",
      "      10      10      10      10      10      10      10      10\n",
      "      10      10      10      10      10      10      10      10\n",
      "      10      10      10      10      10      10      10      10\n",
      "      10      10      10      10      10      10      10      10\n",
      "      10      10      10      10      10      10      10      10\n",
      "      10      10      10      10      10      10      10      10\n",
      "      10      10      10      10      10      10      10      10\n",
      "      10      10      10      10      10      10      10      10\n",
      "  0.0005  0.0005  0.0005  0.0005  0.0005  0.0005  0.0005  0.0005\n",
      "  0.0005  0.0005  0.0005  0.0005  0.0005  0.0005  0.0005  0.0005\n",
      "  0.0005  0.0005  0.0005  0.0005  0.0005  0.0005  0.0005  0.0005\n",
      "  0.0005  0.0005  0.0005  0.0005  0.0005  0.0005  0.0005  0.0005\n",
      "  0.0005  0.0005  0.0005  0.0005  0.0005  0.0005  0.0005  0.0005\n",
      "  0.0005  0.0005  0.0005  0.0005  0.0005  0.0005  0.0005  0.0005\n",
      "  0.0005  0.0005  0.0005  0.0005  0.0005  0.0005  0.0005  0.0005\n",
      "  0.0005  0.0005  0.0005  0.0005  0.0005  0.0005  0.0005  0.0005\n",
      "  0.0005  0.0005  0.0005  0.0005  0.0005  0.0005  0.0005  0.0005\n",
      "  0.0005  0.0005  0.0005  0.0005  0.0005  0.0005  0.0005  0.0005\n",
      "       5       5       5       5       5       5       5       5\n",
      "  0.0005       5       5       5       5       5       5       5\n",
      "  0.0005  0.0005       5       5       5       5       5       5\n",
      "  0.0005  0.0005       5       5       5       5       5       5\n",
      "       0  0.0005  0.0005       5       5       5       5       5\n",
      "       0       0  0.0005       5       5       5       5       5\n",
      "       0       0  0.0005  0.0005       5       5       5       5\n",
      "       0       0       0  0.0005       5       5       5       5\n",
      "       0       0       0  0.0005  0.0005       5       5       5\n",
      "       0       0       0       0  0.0005       5       5       5\n",
      "       0       0       0       0  0.0005  0.0005       5       5\n",
      "       0       0       0       0       0  0.0005  0.0005  0.0005\n",
      "       0       0       0       0       0  0.0005  0.0005  0.0005\n",
      "       0       0       0       0       0       0  0.0005  0.0005\n",
      "\n",
      "Columns 32:40\n",
      "      10      10      10      10      10      10      10      10\n",
      "      10      10      10      10      10      10      10      10\n",
      "      10      10      10      10      10      10      10      10\n",
      "      10      10      10      10      10      10      10      10\n",
      "      10      10      10      10      10      10      10      10\n",
      "      10      10      10      10      10      10      10      10\n",
      "      10      10      10      10      10      10      10      10\n",
      "      10      10      10      10      10      10      10      10\n",
      "      10      10      10      10      10      10      10      10\n",
      "      10      10      10      10      10      10      10      10\n",
      "      10      10      10      10      10      10      10      10\n",
      "      10      10      10      10      10      10      10      10\n",
      "      10      10      10      10      10      10      10      10\n",
      "      10      10      10      10      10      10      10      10\n",
      "      10      10      10      10      10      10      10      10\n",
      "      10      10      10      10      10      10      10      10\n",
      "  0.0005  0.0005  0.0005  0.0005  0.0005  0.0005  0.0005  0.0005\n",
      "  0.0005  0.0005  0.0005  0.0005  0.0005  0.0005  0.0005  0.0005\n",
      "  0.0005  0.0005  0.0005  0.0005  0.0005  0.0005  0.0005  0.0005\n",
      "  0.0005  0.0005  0.0005  0.0005  0.0005  0.0005  0.0005  0.0005\n",
      "  0.0005  0.0005  0.0005  0.0005  0.0005  0.0005  0.0005  0.0005\n",
      "  0.0005  0.0005  0.0005  0.0005  0.0005  0.0005  0.0005  0.0005\n",
      "  0.0005  0.0005  0.0005  0.0005  0.0005  0.0005  0.0005  0.0005\n",
      "  0.0005  0.0005  0.0005  0.0005  0.0005  0.0005  0.0005  0.0005\n",
      "  0.0005  0.0005  0.0005  0.0005  0.0005  0.0005  0.0005  0.0005\n",
      "  0.0005  0.0005  0.0005  0.0005  0.0005  0.0005  0.0005  0.0005\n",
      "       5       5       5       5       5       5       5       5\n",
      "       5       5       5       5       5       5       5       5\n",
      "       5       5       5       5       5       5       5       5\n",
      "       5       5       5       5       5       5       5       5\n",
      "       5       5       5       5       5       5       5  0.0005\n",
      "       5       5       5       5       5       5  0.0005  0.0005\n",
      "       5       5       5       5       5       5  0.0005  0.0005\n",
      "       5       5       5       5       5  0.0005  0.0005       0\n",
      "       5       5       5       5       5  0.0005       0       0\n",
      "       5       5       5       5  0.0005  0.0005       0       0\n",
      "       5       5       5  0.0005  0.0005       0       0       0\n",
      "  0.0005  0.0005  0.0005  0.0005  0.0005       0       0       0\n",
      "  0.0005  0.0005  0.0005  0.0005       0       0       0       0\n",
      "  0.0005  0.0005  0.0005       0       0       0       0       0\n",
      "\n",
      "Columns 40:48\n",
      "      10      10      10      10      10      10      10      10\n",
      "      10      10      10      10      10      10      10      10\n",
      "      10      10      10      10      10      10      10      10\n",
      "      10      10      10      10      10      10      10      10\n",
      "      10      10      10      10      10      10      10      10\n",
      "      10      10      10      10      10      10      10      10\n",
      "      10      10      10      10      10      10      10      10\n",
      "      10      10      10      10      10      10      10      10\n",
      "      10      10      10      10      10      10      10      10\n",
      "      10      10      10      10      10      10      10      10\n",
      "      10      10      10      10      10      10      10      10\n",
      "      10      10      10      10      10      10      10      10\n",
      "      10      10      10      10      10      10      10      10\n",
      "      10      10      10      10      10      10      10      10\n",
      "      10      10      10      10      10      10      10      10\n",
      "      10      10      10      10      10      10      10      10\n",
      "  0.0005  0.0005  0.0005  0.0005  0.0005  0.0005  0.0005  0.0005\n",
      "  0.0005  0.0005  0.0005  0.0005  0.0005  0.0005  0.0005  0.0005\n",
      "  0.0005  0.0005  0.0005  0.0005  0.0005  0.0005  0.0005  0.0005\n",
      "  0.0005  0.0005  0.0005  0.0005  0.0005  0.0005  0.0005  0.0005\n",
      "  0.0005  0.0005  0.0005  0.0005  0.0005  0.0005  0.0005  0.0005\n",
      "  0.0005  0.0005  0.0005  0.0005  0.0005  0.0005  0.0005  0.0005\n",
      "  0.0005  0.0005  0.0005  0.0005  0.0005  0.0005  0.0005  0.0005\n",
      "  0.0005  0.0005  0.0005  0.0005  0.0005  0.0005  0.0005  0.0005\n",
      "  0.0005  0.0005  0.0005  0.0005  0.0005  0.0005  0.0005  0.0005\n",
      "  0.0005  0.0005  0.0005  0.0005  0.0005  0.0005  0.0005  0.0005\n",
      "       5       5       5       5  0.0005  0.0005  0.0005  0.0005\n",
      "       5       5  0.0005  0.0005  0.0005  0.0005  0.0005       0\n",
      "       5  0.0005  0.0005  0.0005       0       0       0       0\n",
      "  0.0005  0.0005  0.0005       0       0       0       0       0\n",
      "  0.0005  0.0005       0       0       0       0       0       0\n",
      "  0.0005       0       0       0       0       0       0       0\n",
      "       0       0       0       0       0       0       0       0\n",
      "       0       0       0       0       0       0       0       0\n",
      "       0       0       0       0       0       0       0       0\n",
      "       0       0       0       0       0       0       0       0\n",
      "       0       0       0       0       0       0       0       0\n",
      "       0       0       0       0       0       0       0       0\n",
      "       0       0       0       0       0       0       0       0\n",
      "       0       0       0       0       0       0       0       0\n",
      "\n",
      "Columns 48:56\n",
      "      10      10      10      10      10      10      10      10\n",
      "      10      10      10      10      10      10      10      10\n",
      "      10      10      10      10      10      10      10      10\n",
      "      10      10      10      10      10      10      10      10\n",
      "      10      10      10      10      10      10      10      10\n",
      "      10      10      10      10      10      10      10      10\n",
      "      10      10      10      10      10      10      10      10\n",
      "      10      10      10      10      10      10      10      10\n",
      "      10      10      10      10      10      10      10      10\n",
      "      10      10      10      10      10      10      10      10\n",
      "      10      10      10      10      10      10      10      10\n",
      "      10      10      10      10      10      10      10      10\n",
      "      10      10      10      10      10      10      10      10\n",
      "      10      10      10      10      10      10      10      10\n",
      "      10      10      10      10      10      10      10      10\n",
      "      10      10      10      10      10      10      10      10\n",
      "  0.0005  0.0005  0.0005  0.0005  0.0005  0.0005  0.0005  0.0005\n",
      "  0.0005  0.0005  0.0005  0.0005  0.0005  0.0005  0.0005  0.0005\n",
      "  0.0005  0.0005  0.0005  0.0005  0.0005  0.0005  0.0005  0.0005\n",
      "  0.0005  0.0005  0.0005  0.0005  0.0005  0.0005  0.0005  0.0005\n",
      "  0.0005  0.0005  0.0005  0.0005  0.0005  0.0005  0.0005  0.0005\n",
      "  0.0005  0.0005  0.0005  0.0005  0.0005  0.0005  0.0005  0.0005\n",
      "  0.0005  0.0005  0.0005  0.0005  0.0005  0.0005  0.0005  0.0005\n",
      "  0.0005  0.0005  0.0005  0.0005  0.0005  0.0005  0.0005  0.0005\n",
      "  0.0005  0.0005  0.0005  0.0005  0.0005  0.0005  0.0005  0.0005\n",
      "  0.0005  0.0005  0.0005  0.0005  0.0005  0.0005  0.0005  0.0005\n",
      "  0.0005  0.0005       0       0       0       0       0       0\n",
      "       0       0       0       0       0       0       0       0\n",
      "       0       0       0       0       0       0       0       0\n",
      "       0       0       0       0       0       0       0       0\n",
      "       0       0       0       0       0       0       0       0\n",
      "       0       0       0       0       0       0       0       0\n",
      "       0       0       0       0       0       0       0       0\n",
      "       0       0       0       0       0       0       0       0\n",
      "       0       0       0       0       0       0       0       0\n",
      "       0       0       0       0       0       0       0       0\n",
      "       0       0       0       0       0       0       0       0\n",
      "       0       0       0       0       0       0       0       0\n",
      "       0       0       0       0       0       0       0       0\n",
      "       0       0       0       0       0       0       0       0\n",
      "\n",
      "Columns 56:64\n",
      "      10      10      10      10      10      10      10      10\n",
      "      10      10      10      10      10      10      10      10\n",
      "      10      10      10      10      10      10      10      10\n",
      "      10      10      10      10      10      10      10      10\n",
      "      10      10      10      10      10      10      10      10\n",
      "      10      10      10      10      10      10      10      10\n",
      "      10      10      10      10      10      10      10      10\n",
      "      10      10      10      10      10      10      10      10\n",
      "      10      10      10      10      10      10      10      10\n",
      "      10      10      10      10      10      10      10      10\n",
      "      10      10      10      10      10      10      10      10\n",
      "      10      10      10      10      10      10      10      10\n",
      "      10      10      10      10      10      10      10      10\n",
      "      10      10      10      10      10      10      10      10\n",
      "      10      10      10      10      10      10      10      10\n",
      "      10      10      10      10      10      10      10      10\n",
      "  0.0005  0.0005  0.0005  0.0005  0.0005  0.0005  0.0005  0.0005\n",
      "  0.0005  0.0005  0.0005  0.0005  0.0005  0.0005  0.0005  0.0005\n",
      "  0.0005  0.0005  0.0005  0.0005  0.0005  0.0005  0.0005  0.0005\n",
      "  0.0005  0.0005  0.0005  0.0005  0.0005  0.0005  0.0005  0.0005\n",
      "  0.0005       0       0  0.0005  0.0005  0.0005  0.0005  0.0005\n",
      "  0.0005       0       0  0.0005  0.0005  0.0005  0.0005  0.0005\n",
      "  0.0005       0       0  0.0005  0.0005  0.0005  0.0005  0.0005\n",
      "       0       0       0       0  0.0005  0.0005  0.0005  0.0005\n",
      "       0       0       0       0  0.0005  0.0005  0.0005  0.0005\n",
      "       0       0       0       0  0.0005  0.0005  0.0005  0.0005\n",
      "       0       0       0       0       0       0       0       0\n",
      "       0       0       0       0       0       0       0       0\n",
      "       0       0       0       0       0       0       0       0\n",
      "       0       0       0       0       0       0       0       0\n",
      "       0       0       0       0       0       0       0       0\n",
      "       0       0       0       0       0       0       0       0\n",
      "       0       0       0       0       0       0       0       0\n",
      "       0       0       0       0       0       0       0       0\n",
      "       0       0       0       0       0       0       0       0\n",
      "       0       0       0       0       0       0       0       0\n",
      "       0       0       0       0       0       0       0       0\n",
      "       0       0       0       0       0       0       0       0\n",
      "       0       0       0       0       0       0       0       0\n",
      "       0       0       0       0       0       0       0       0\n",
      "\n",
      "Columns 64:72\n",
      "      10      10      10      10      10      10      10      10\n",
      "      10      10      10      10      10      10      10      10\n",
      "      10      10      10      10      10      10      10      10\n",
      "      10      10      10      10      10      10      10      10\n",
      "      10      10      10      10      10      10      10      10\n",
      "      10      10      10      10      10      10      10      10\n",
      "      10      10      10      10      10      10      10      10\n",
      "      10      10      10      10      10      10      10      10\n",
      "      10      10      10      10      10      10      10      10\n",
      "      10      10      10      10      10      10      10      10\n",
      "      10      10      10      10      10      10      10      10\n",
      "      10      10      10      10      10      10      10      10\n",
      "      10      10      10      10      10      10      10      10\n",
      "      10      10      10      10      10      10      10      10\n",
      "      10      10      10      10      10      10      10      10\n",
      "      10      10      10      10      10      10      10      10\n",
      "  0.0005  0.0005  0.0005  0.0005  0.0005  0.0005  0.0005  0.0005\n",
      "  0.0005  0.0005  0.0005  0.0005  0.0005  0.0005  0.0005  0.0005\n",
      "  0.0005  0.0005  0.0005  0.0005  0.0005  0.0005  0.0005  0.0005\n",
      "  0.0005  0.0005  0.0005  0.0005  0.0005  0.0005  0.0005  0.0005\n",
      "  0.0005  0.0005  0.0005  0.0005  0.0005  0.0005  0.0005  0.0005\n",
      "  0.0005  0.0005  0.0005  0.0005  0.0005  0.0005  0.0005  0.0005\n",
      "  0.0005  0.0005  0.0005  0.0005  0.0005  0.0005  0.0005  0.0005\n",
      "  0.0005  0.0005  0.0005  0.0005  0.0005  0.0005  0.0005  0.0005\n",
      "  0.0005  0.0005  0.0005  0.0005  0.0005  0.0005  0.0005  0.0005\n",
      "  0.0005  0.0005  0.0005  0.0005  0.0005  0.0005  0.0005  0.0005\n",
      "       0       0       0       0       0       0       0       0\n",
      "       0       0       0       0       0       0       0       0\n",
      "       0       0       0       0       0       0       0       0\n",
      "       0       0       0       0       0       0       0       0\n",
      "       0       0       0       0       0       0       0       0\n",
      "       0       0       0       0       0       0       0       0\n",
      "       0       0       0       0       0       0       0       0\n",
      "       0       0       0       0       0       0       0       0\n",
      "       0       0       0       0       0       0       0       0\n",
      "       0       0       0       0       0       0       0       0\n",
      "       0       0       0       0       0       0       0       0\n",
      "       0       0       0       0       0       0       0       0\n",
      "       0       0       0       0       0       0       0       0\n",
      "       0       0       0       0       0       0       0       0\n",
      "\n",
      "Columns 72:80\n",
      "      10      10      10      10      10      10      10      10\n",
      "      10      10      10      10      10      10      10      10\n",
      "      10      10      10      10      10      10      10      10\n",
      "      10      10      10      10      10      10      10      10\n",
      "      10      10      10      10      10      10      10      10\n",
      "      10      10      10      10      10      10      10      10\n",
      "      10      10      10      10      10      10      10      10\n",
      "      10      10      10      10      10      10      10      10\n",
      "      10      10      10      10      10      10      10      10\n",
      "      10      10      10      10      10      10      10      10\n",
      "      10      10      10      10      10      10      10      10\n",
      "      10      10      10      10      10      10      10      10\n",
      "      10      10      10      10      10      10      10      10\n",
      "      10      10      10      10      10      10      10      10\n",
      "      10      10      10      10      10      10      10      10\n",
      "      10      10      10      10      10      10      10      10\n",
      "  0.0005  0.0005  0.0005  0.0005  0.0005  0.0005  0.0005  0.0005\n",
      "  0.0005  0.0005  0.0005  0.0005  0.0005  0.0005  0.0005  0.0005\n",
      "  0.0005  0.0005  0.0005  0.0005  0.0005  0.0005  0.0005  0.0005\n",
      "  0.0005  0.0005  0.0005  0.0005  0.0005  0.0005  0.0005  0.0005\n",
      "  0.0005  0.0005  0.0005  0.0005  0.0005  0.0005  0.0005  0.0005\n",
      "  0.0005  0.0005  0.0005  0.0005  0.0005  0.0005  0.0005  0.0005\n",
      "  0.0005  0.0005  0.0005  0.0005  0.0005  0.0005  0.0005  0.0005\n",
      "  0.0005  0.0005  0.0005  0.0005  0.0005  0.0005  0.0005  0.0005\n",
      "  0.0005  0.0005  0.0005  0.0005  0.0005  0.0005  0.0005  0.0005\n",
      "  0.0005  0.0005  0.0005  0.0005  0.0005  0.0005  0.0005  0.0005\n",
      "       0       0       0       0       0       0       0       0\n",
      "       0       0       0       0       0       0       0       0\n",
      "       0       0       0       0       0       0       0       0\n",
      "       0       0       0       0       0       0       0       0\n",
      "       0       0       0       0       0       0       0       0\n",
      "       0       0       0       0       0       0       0       0\n",
      "       0       0       0       0       0       0       0       0\n",
      "       0       0       0       0       0       0       0       0\n",
      "       0       0       0       0       0       0       0       0\n",
      "       0       0       0       0       0       0       0       0\n",
      "       0       0       0       0       0       0       0       0\n",
      "       0       0       0       0       0       0       0       0\n",
      "       0       0       0       0       0       0       0       0\n",
      "       0       0       0       0       0       0       0       0\n",
      "\n"
     ]
    }
   ],
   "source": [
    "indices = range(0, KH.shape[1], 8)\n",
    "\n",
    "for i, kh in zip(indices, np.split(KH, indices[1:], axis=1)):\n",
    "    print(\"Columns {}:{}\".format(i,i+kh.shape[1]))\n",
    "    for L in kh:\n",
    "        print((\"{:8.4g}\" * len(L)).format(*L))\n",
    "    print()\n"
   ]
  },
  {
   "cell_type": "markdown",
   "metadata": {},
   "source": [
    "Another way to show an array is to plot it using plt.matshow. Each cell will be colored according to its value. Clearly if the values differ too little, the show up as the same value. This is actually the case here.\n",
    "\n",
    "Notice that matshow does not use the coordinates, it uses the index of the rows and columns. Because of this, it's plot upside down, just as was the case with plt.spy above."
   ]
  },
  {
   "cell_type": "code",
   "execution_count": 75,
   "metadata": {
    "collapsed": false
   },
   "outputs": [
    {
     "name": "stdout",
     "output_type": "stream",
     "text": [
      "The kh values of the different shapes:  [10.0, 0.0005, 0.0005, 5.0]\n"
     ]
    },
    {
     "data": {
      "image/png": "[encoded data removed]",
      "text/plain": [
       "<matplotlib.figure.Figure at 0x115aef828>"
      ]
     },
     "metadata": {},
     "output_type": "display_data"
    }
   ],
   "source": [
    "print(\"The kh values of the different shapes: \", [sr.record[ikh] for sr in shprecs])\n",
    "\n",
    "plt.matshow(KH)\n",
    "plt.show()"
   ]
  },
  {
   "cell_type": "markdown",
   "metadata": {},
   "source": [
    "You could also contour the shapes, but that has the same problems as with matshow: because of the small differences between the values of different shapes. However, the contourf function uses the coordinates of the grid, so it's plotted correctly on scale and right side up."
   ]
  },
  {
   "cell_type": "code",
   "execution_count": 76,
   "metadata": {
    "collapsed": false
   },
   "outputs": [
    {
     "data": {
      "image/png": "[encoded data removed]",
      "text/plain": [
       "<matplotlib.figure.Figure at 0x115aefcc0>"
      ]
     },
     "metadata": {},
     "output_type": "display_data"
    }
   ],
   "source": [
    "plt.contourf(XM, YM, KH, 50)\n",
    "plt.show()"
   ]
  },
  {
   "cell_type": "markdown",
   "metadata": {},
   "source": [
    "# Conclusion\n",
    "\n",
    "The shapefile module makes reading shapefiles straightforward. Combined with inpoly (matplotlib.path) it's now easy to fill an array based on shape contours with their associated values. This is extremely useful when assigning spatial data to arrays of simulators like the finite difference model MODFLOW"
   ]
  },
  {
   "cell_type": "code",
   "execution_count": null,
   "metadata": {
    "collapsed": true
   },
   "outputs": [],
   "source": []
  }
 ],
 "metadata": {
  "anaconda-cloud": {},
  "kernelspec": {
   "display_name": "Python [default]",
   "language": "python",
   "name": "python3"
  },
  "language_info": {
   "codemirror_mode": {
    "name": "ipython",
    "version": 3
   },
   "file_extension": ".py",
   "mimetype": "text/x-python",
   "name": "python",
   "nbconvert_exporter": "python",
   "pygments_lexer": "ipython3",
   "version": "3.5.2"
  }
 },
 "nbformat": 4,
 "nbformat_minor": 1
}
