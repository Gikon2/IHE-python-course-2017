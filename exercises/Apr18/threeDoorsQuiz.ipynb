{
 "cells": [
  {
   "cell_type": "markdown",
   "metadata": {},
   "source": [
    "# Three-doors quiz (famous statistical fallacy)\n"
   ]
  },
  {
   "cell_type": "code",
   "execution_count": 43,
   "metadata": {
    "collapsed": true
   },
   "outputs": [],
   "source": [
    "import random\n",
    "\n",
    "verbose = False\n",
    "\n",
    "N = 1 if verbose else 1000\n",
    "\n",
    "verbose = True"
   ]
  },
  {
   "cell_type": "markdown",
   "metadata": {},
   "source": [
    "### Three strategies will be explored\n",
    "\n",
    "a) The candicate sticks with his/her initial door\n",
    "\n",
    "b) The candiates chooses anew from the twoo remaining doors\n",
    "\n",
    "c) The candidats switches to the other of the two remaining doors, the one he / she did not choose initially"
   ]
  },
  {
   "cell_type": "code",
   "execution_count": 44,
   "metadata": {
    "collapsed": true
   },
   "outputs": [],
   "source": [
    "# here are the scores (total number of successes) of the three strategies:\n",
    "str_a, str_b, str_c = 0, 0, 0  # initially all three zero\n",
    "\n",
    "# here are the doors, a list (we could also use a set)\n",
    "# it's easy to switch between list and set using list() and set() functions\n",
    "doors = [1, 2, 3]"
   ]
  },
  {
   "cell_type": "markdown",
   "metadata": {},
   "source": [
    "So we have three doors, numbered 1, 2 and 3\n",
    "\n",
    "The prize door will be chosen randomly from these three doors. It will not been known to anyone at this point.\n",
    "\n",
    "Then the candicate chooses hes /her door from the three doors.\n",
    "\n",
    "Then we remove the chosen door from the doors. So that doors now only contains the two unchosen doors.\n",
    "\n",
    "If verbose, we show the differnt doors (only for ourselves to check the procedure)."
   ]
  },
  {
   "cell_type": "code",
   "execution_count": 60,
   "metadata": {
    "collapsed": false
   },
   "outputs": [],
   "source": [
    "prize_door = random.choice(doors) # door with prize, chosen randomly\n",
    "\n",
    "cand_door = random.choice(doors) # the candidate's choice"
   ]
  },
  {
   "cell_type": "markdown",
   "metadata": {},
   "source": [
    "Then the quiz master steps in. He / she is informed behind the scenes which door has the prize and also knows the choise of the candicate. He / she then opens the door that was neither chosen nor has the prize."
   ]
  },
  {
   "cell_type": "code",
   "execution_count": 61,
   "metadata": {
    "collapsed": false
   },
   "outputs": [
    {
     "name": "stdout",
     "output_type": "stream",
     "text": [
      "cand_door   =  1\n",
      "prize_door  =  3\n",
      "quizm_door  =  2\n"
     ]
    }
   ],
   "source": [
    "quizm_door = set(doors) - {prize_door, cand_door}\n",
    "\n",
    "# note that the quizm_door is a set (with one item) no list, that's ok for now\n",
    "# but we may need to use *quizm_door to unpack this time as an int, see below\n",
    "\n",
    "if verbose:\n",
    "    print(\"cand_door   = \", cand_door)\n",
    "    print(\"prize_door  = \", prize_door)\n",
    "    print(\"quizm_door  = \",  *quizm_door)  # use * to unpack, because quizm_door is a set"
   ]
  },
  {
   "cell_type": "code",
   "execution_count": 62,
   "metadata": {
    "collapsed": false
   },
   "outputs": [
    {
     "name": "stdout",
     "output_type": "stream",
     "text": [
      "closed_doors = {1, 3}\n"
     ]
    }
   ],
   "source": [
    "closed_doors = set(doors) - quizm_door  # closed_doors is a set, not a list, that's fine\n",
    "\n",
    "if verbose:\n",
    "    print(\"closed_doors =\", closed_doors)"
   ]
  },
  {
   "cell_type": "markdown",
   "metadata": {},
   "source": [
    "Now, finally it's up to the candidate to make his / her decision. That is choose a stragegy, either `stick`, `choose`, or `stick`"
   ]
  },
  {
   "cell_type": "code",
   "execution_count": null,
   "metadata": {
    "collapsed": true
   },
   "outputs": [],
   "source": [
    "stick = cand_door\n",
    "choose = random.choise(list(closed_doors))\n",
    "switch = *(closed_doors - {cand_door})\n",
    "\n",
    "if verbose:\n",
    "    print(\"prize = {}, stick = {}, choose = {}, switch = {}\".format(prize_door, stick, choose, switch))"
   ]
  },
  {
   "cell_type": "markdown",
   "metadata": {},
   "source": [
    "And we score the successes for each strategy"
   ]
  },
  {
   "cell_type": "code",
   "execution_count": 64,
   "metadata": {
    "collapsed": false
   },
   "outputs": [
    {
     "ename": "NameError",
     "evalue": "name 'stick' is not defined",
     "output_type": "error",
     "traceback": [
      "\u001b[0;31m---------------------------------------------------------------------------\u001b[0m",
      "\u001b[0;31mNameError\u001b[0m                                 Traceback (most recent call last)",
      "\u001b[0;32m<ipython-input-64-d29454030997>\u001b[0m in \u001b[0;36m<module>\u001b[0;34m()\u001b[0m\n\u001b[1;32m      1\u001b[0m \u001b[0;31m# strategy 1: stick with the original door\u001b[0m\u001b[0;34m\u001b[0m\u001b[0;34m\u001b[0m\u001b[0m\n\u001b[0;32m----> 2\u001b[0;31m \u001b[0;32mif\u001b[0m \u001b[0mstick\u001b[0m \u001b[0;34m==\u001b[0m \u001b[0mprize_door\u001b[0m\u001b[0;34m:\u001b[0m\u001b[0;34m\u001b[0m\u001b[0m\n\u001b[0m\u001b[1;32m      3\u001b[0m     \u001b[0mstr_stick\u001b[0m \u001b[0;34m+=\u001b[0m \u001b[0;36m1\u001b[0m\u001b[0;34m\u001b[0m\u001b[0m\n\u001b[1;32m      4\u001b[0m \u001b[0;34m\u001b[0m\u001b[0m\n\u001b[1;32m      5\u001b[0m \u001b[0;31m# strategy 2: choose anew from the two remaining doors\u001b[0m\u001b[0;34m\u001b[0m\u001b[0;34m\u001b[0m\u001b[0m\n",
      "\u001b[0;31mNameError\u001b[0m: name 'stick' is not defined"
     ]
    }
   ],
   "source": [
    "# strategy 1: stick with the original door\n",
    "if stick == prize_door:\n",
    "    str_stick += 1\n",
    "\n",
    "# strategy 2: choose anew from the two remaining doors\n",
    "if choose  == prize_door:\n",
    "    str_choose += 1\n",
    "\n",
    "# strategy 3: choose the other closed door\n",
    "if switch == prize_door:  # we use set logic { }\n",
    "    str_switch += 1\n"
   ]
  },
  {
   "cell_type": "markdown",
   "metadata": {},
   "source": [
    "# Put all together in a single loop to do N trials"
   ]
  },
  {
   "cell_type": "code",
   "execution_count": 122,
   "metadata": {
    "collapsed": false
   },
   "outputs": [
    {
     "name": "stdout",
     "output_type": "stream",
     "text": [
      "Total\n",
      "    trial    prize    stick   choose   switch str_stick str_choose str_switch\n",
      "     1000 _        _        _        _             335      500      665\n"
     ]
    }
   ],
   "source": [
    "import random\n",
    "\n",
    "verbose=False\n",
    "\n",
    "N = 10 if verbose else 1000\n",
    "\n",
    "if verbose:\n",
    "    print((\" {:>8s}\"*8).format(\n",
    "            \"trial\", \"prize\", \"stick\", \"choose\", \"switch\",\n",
    "            \"str_stick\", \"str_choose\", \"str_switch\"))\n",
    "\n",
    "# intialize scores for the 3 scenarios\n",
    "str_stick, str_choose, str_switch= 0, 0, 0  # initially all three zero\n",
    "\n",
    "for trial in range(N):\n",
    "    \n",
    "    doors      = [1, 2, 3]\n",
    "    prize_door = random.choice(doors)\n",
    "    cand_door  = random.choice(doors)\n",
    "    quizm_door = random.choice(list(set(doors) - {prize_door, cand_door}))\n",
    "\n",
    "    closed_doors = set(doors) - {quizm_door}  # closed_doors is a set\n",
    "\n",
    "    #print(doors, prize_door, cand_door, quizm_door, closed_doors, cand_door)\n",
    "\n",
    "    # apply strategy, all three\n",
    "    stick  = cand_door\n",
    "    choose = random.choice(list(closed_doors))\n",
    "    switch = list(closed_doors - {cand_door})[0]\n",
    "\n",
    "    # score result of each strategy\n",
    "    if stick  == prize_door:    str_stick += 1\n",
    "    if choose == prize_door:    str_choose += 1\n",
    "    if switch == prize_door:    str_switch += 1\n",
    "\n",
    "    if verbose:\n",
    "        print((\" {:8d}\" * 8).format(\n",
    "              trial,\n",
    "              prize_door,\n",
    "              stick,\n",
    "              choose,\n",
    "              switch,\n",
    "              str_stick,\n",
    "              str_choose,\n",
    "              str_switch))\n",
    "\n",
    "print(\"Total\")\n",
    "print((\" {:>8s}\"*8).format(\"trial\", \"prize\", \"stick\", \"choose\", \"switch\", \"str_stick\", \"str_choose\", \"str_switch\"))\n",
    "print(((\" {:8}\") * 8).format(N, \"_\", \"_\", \"_\", \"_\", str_stick, str_choose, str_switch))"
   ]
  }
 ],
 "metadata": {
  "anaconda-cloud": {},
  "kernelspec": {
   "display_name": "Python [default]",
   "language": "python",
   "name": "python3"
  },
  "language_info": {
   "codemirror_mode": {
    "name": "ipython",
    "version": 3
   },
   "file_extension": ".py",
   "mimetype": "text/x-python",
   "name": "python",
   "nbconvert_exporter": "python",
   "pygments_lexer": "ipython3",
   "version": "3.5.2"
  }
 },
 "nbformat": 4,
 "nbformat_minor": 1
}
