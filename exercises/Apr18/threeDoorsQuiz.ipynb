{
 "cells": [
  {
   "cell_type": "markdown",
   "metadata": {},
   "source": [
    "<figure>\n",
    "  <IMG SRC=\"../../logo/logo.png\" WIDTH=250 ALIGN=\"right\">\n",
    "</figure>\n",
    "\n",
    "# IHE Python course, 2017\n",
    "\n",
    "# Three-doors quiz (famous statistical fallacy)\n",
    "\n",
    "T.N.Olsthoorn, \n",
    "April 18, 2017\n",
    "\n",
    "The famous three doors fallacy goes like this. You participate in a television game and won. The only thing you still have to do is choose one out of three doors behing one of which is the prize to be won. After choosing your door, the quizmaster opens one of the two other doors. He shows that the prize is not behind the door he opened. Now you're given the opportunity to change your mind. What do you decide? Stick with your door, choose randomly one of the two closed doors? Or switch to the other closed door? Does it make any difference and if so, why?\n",
    "\n",
    "Below this problem is coded in Python. First in pieces, step by  step and easy to checke each step. At the end everything is put together in one cell, so that the game can be run any number of times, while the scores of each strategy are accumulated. Guess beforehand what the outcomes of the strategies \"stick\", \"choose\" or \"change\" will be after thousand trials."
   ]
  },
  {
   "cell_type": "markdown",
   "metadata": {},
   "source": [
    "# First part, step by step"
   ]
  },
  {
   "cell_type": "code",
   "execution_count": 43,
   "metadata": {
    "collapsed": true
   },
   "outputs": [],
   "source": [
    "import random\n",
    "\n",
    "verbose = True\n",
    "\n",
    "N = 1 if verbose else 10000\n",
    "\n",
    "verbose = True"
   ]
  },
  {
   "cell_type": "markdown",
   "metadata": {},
   "source": [
    "### Three strategies will be explored\n",
    "\n",
    "a) The candicate sticks with his/her initial door\n",
    "\n",
    "b) The candiates chooses anew from the twoo remaining doors\n",
    "\n",
    "c) The candidats switches to the other of the two remaining doors, the one he / she did not choose initially"
   ]
  },
  {
   "cell_type": "code",
   "execution_count": 44,
   "metadata": {
    "collapsed": true
   },
   "outputs": [],
   "source": [
    "# here are the scores (total number of successes) of the three strategies:\n",
    "str_a, str_b, str_c = 0, 0, 0  # initially all three zero\n",
    "\n",
    "# here are the doors, a list (we could also use a set)\n",
    "# it's easy to switch between list and set using list() and set() functions\n",
    "doors = [1, 2, 3]"
   ]
  },
  {
   "cell_type": "markdown",
   "metadata": {},
   "source": [
    "So we have three doors, numbered 1, 2 and 3\n",
    "\n",
    "The prize door will be chosen randomly from these three doors. It will not been known to anyone at this point.\n",
    "\n",
    "Then the candicate chooses hes /her door from the three doors.\n",
    "\n",
    "Then we remove the chosen door from the doors. So that doors now only contains the two unchosen doors.\n",
    "\n",
    "If verbose, we show the differnt doors (only for ourselves to check the procedure)."
   ]
  },
  {
   "cell_type": "code",
   "execution_count": 45,
   "metadata": {
    "collapsed": false
   },
   "outputs": [
    {
     "data": {
      "text/plain": [
       "2"
      ]
     },
     "execution_count": 45,
     "metadata": {},
     "output_type": "execute_result"
    }
   ],
   "source": [
    "prize_door"
   ]
  },
  {
   "cell_type": "code",
   "execution_count": 46,
   "metadata": {
    "collapsed": false
   },
   "outputs": [],
   "source": [
    "prize_door = random.choice(doors) # door with prize, chosen randomly\n",
    "\n",
    "cand_door = random.choice(doors) # the candidate's choice"
   ]
  },
  {
   "cell_type": "markdown",
   "metadata": {},
   "source": [
    "Then the quiz master steps in. He / she is informed behind the scenes which door has the prize and also knows the choise of the candicate. He / she then opens the door that was neither chosen nor has the prize."
   ]
  },
  {
   "cell_type": "code",
   "execution_count": 47,
   "metadata": {
    "collapsed": false
   },
   "outputs": [
    {
     "name": "stdout",
     "output_type": "stream",
     "text": [
      "cand_door   =  2\n",
      "prize_door  =  3\n",
      "quizm_door  =  1\n"
     ]
    }
   ],
   "source": [
    "quizm_door = set(doors) - {prize_door, cand_door}\n",
    "\n",
    "# note that the quizm_door is a set (with one item) no list, that's ok for now\n",
    "# but we may need to use *quizm_door to unpack this time as an int, see below\n",
    "\n",
    "if verbose:\n",
    "    print(\"cand_door   = \", cand_door)\n",
    "    print(\"prize_door  = \", prize_door)\n",
    "    print(\"quizm_door  = \",  *quizm_door)  # use * to unpack, because quizm_door is a set"
   ]
  },
  {
   "cell_type": "code",
   "execution_count": 48,
   "metadata": {
    "collapsed": false
   },
   "outputs": [
    {
     "name": "stdout",
     "output_type": "stream",
     "text": [
      "closed_doors = {2, 3}\n"
     ]
    }
   ],
   "source": [
    "closed_doors = set(doors) - quizm_door  # closed_doors is a set, not a list, that's fine\n",
    "\n",
    "if verbose:\n",
    "    print(\"closed_doors =\", closed_doors)"
   ]
  },
  {
   "cell_type": "markdown",
   "metadata": {},
   "source": [
    "Now, finally it's up to the candidate to make his / her decision. That is choose a stragegy, either `stick`, `choose`, or `stick`"
   ]
  },
  {
   "cell_type": "code",
   "execution_count": 49,
   "metadata": {
    "collapsed": false
   },
   "outputs": [
    {
     "name": "stdout",
     "output_type": "stream",
     "text": [
      "prize = 3, stick = 2, choose = 3, switch = {3}\n"
     ]
    }
   ],
   "source": [
    "stick = cand_door\n",
    "choose = random.choice(list(closed_doors))\n",
    "switch = closed_doors - {cand_door}\n",
    "\n",
    "if verbose:\n",
    "    print(\"prize = {}, stick = {}, choose = {}, switch = {}\".format(prize_door, stick, choose, switch))"
   ]
  },
  {
   "cell_type": "markdown",
   "metadata": {},
   "source": [
    "And we score the successes for each strategy"
   ]
  },
  {
   "cell_type": "code",
   "execution_count": 50,
   "metadata": {
    "collapsed": false
   },
   "outputs": [],
   "source": [
    "# strategy 1: stick with the original door\n",
    "if stick == prize_door:\n",
    "    str_stick += 1\n",
    "\n",
    "# strategy 2: choose anew from the two remaining doors\n",
    "if choose  == prize_door:\n",
    "    str_choose += 1\n",
    "\n",
    "# strategy 3: choose the other closed door\n",
    "if switch == prize_door:  # we use set logic { }\n",
    "    str_switch += 1\n"
   ]
  },
  {
   "cell_type": "markdown",
   "metadata": {},
   "source": [
    "# Put all together in a single loop to do N trials"
   ]
  },
  {
   "cell_type": "code",
   "execution_count": 51,
   "metadata": {
    "collapsed": false
   },
   "outputs": [
    {
     "name": "stdout",
     "output_type": "stream",
     "text": [
      "Total\n",
      "    trial    prize    stick   choose   switch str_stick str_choose str_switch\n",
      "        5 _        _        _        _               3        1        2\n"
     ]
    }
   ],
   "source": [
    "import random\n",
    "\n",
    "verbose=False\n",
    "\n",
    "N = 10 if verbose else 1000\n",
    "\n",
    "if verbose:\n",
    "    print((\" {:>8s}\"*8).format(\n",
    "            \"trial\", \"prize\", \"stick\", \"choose\", \"switch\",\n",
    "            \"str_stick\", \"str_choose\", \"str_switch\"))\n",
    "\n",
    "# intialize scores for the 3 scenarios\n",
    "str_stick, str_choose, str_switch= 0, 0, 0  # initially all three zero\n",
    "\n",
    "for trial in range(N):\n",
    "    \n",
    "    doors      = [1, 2, 3]\n",
    "    prize_door = random.choice(doors)\n",
    "    cand_door  = random.choice(doors)\n",
    "    quizm_door = random.choice(list(set(doors) - {prize_door, cand_door}))\n",
    "\n",
    "    closed_doors = set(doors) - {quizm_door}  # closed_doors is a set\n",
    "\n",
    "    #print(doors, prize_door, cand_door, quizm_door, closed_doors, cand_door)\n",
    "\n",
    "    # apply strategy, all three\n",
    "    stick  = cand_door\n",
    "    choose = random.choice(list(closed_doors))\n",
    "    switch = list(closed_doors - {cand_door})[0]\n",
    "\n",
    "    # score result of each strategy\n",
    "    if stick  == prize_door:    str_stick += 1\n",
    "    if choose == prize_door:    str_choose += 1\n",
    "    if switch == prize_door:    str_switch += 1\n",
    "\n",
    "    if verbose:\n",
    "        print((\" {:8d}\" * 8).format(\n",
    "              trial,\n",
    "              prize_door,\n",
    "              stick,\n",
    "              choose,\n",
    "              switch,\n",
    "              str_stick,\n",
    "              str_choose,\n",
    "              str_switch))\n",
    "\n",
    "print(\"Total\")\n",
    "print((\" {:>8s}\"*8).format(\"trial\", \"prize\", \"stick\", \"choose\", \"switch\", \"str_stick\", \"str_choose\", \"str_switch\"))\n",
    "print(((\" {:8}\") * 8).format(N, \"_\", \"_\", \"_\", \"_\", str_stick, str_choose, str_switch))"
   ]
  },
  {
   "cell_type": "code",
   "execution_count": null,
   "metadata": {
    "collapsed": true
   },
   "outputs": [],
   "source": []
  },
  {
   "cell_type": "code",
   "execution_count": null,
   "metadata": {
    "collapsed": true
   },
   "outputs": [],
   "source": []
  }
 ],
 "metadata": {
  "anaconda-cloud": {},
  "kernelspec": {
   "display_name": "Python [default]",
   "language": "python",
   "name": "python3"
  },
  "language_info": {
   "codemirror_mode": {
    "name": "ipython",
    "version": 3
   },
   "file_extension": ".py",
   "mimetype": "text/x-python",
   "name": "python",
   "nbconvert_exporter": "python",
   "pygments_lexer": "ipython3",
   "version": "3.5.2"
  }
 },
 "nbformat": 4,
 "nbformat_minor": 1
}
