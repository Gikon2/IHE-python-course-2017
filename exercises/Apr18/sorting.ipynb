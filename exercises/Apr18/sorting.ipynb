{
 "cells": [
  {
   "cell_type": "markdown",
   "metadata": {},
   "source": [
    "<figure>\n",
    "  <IMG SRC=\"../../logo/logo.png\" WIDTH=250 ALIGN=\"right\">\n",
    "</figure>\n",
    "\n",
    "# IHE Python course, 2017\n",
    "\n",
    "## Sorting\n",
    "\n",
    "T.N.Olsthoorn, Feb2017\n",
    "\n",
    "Sorting (and) filtering are important operations when working with data and databases. This tutorial demonstrates some of the concepts.\n",
    "\n",
    "It's necessary to discriminate in-place sorting from sorting whereby a new python object is gnerated. Inplace sorting happens when using an instance's own .sort() method if it exists. Not all python sequences and arrays have a .sort() method, only those that are muttable and for which ordering makes sence. This comes down to only lists and arrays; strings and tuples have no .sort() method because they are immutable and neither have dicts and sets, because for them sorting in place makes no sence, because the concept of ordering meakes no sense for dicts and sets.\n",
    "\n",
    "For all sequences one may use numpy's sort function, np.sort(). It takes lists, tuples and arrays and always generates a new numpy array.\n",
    "\n",
    "Then there is the sorted() builtin function. Sorted() always generates a list, no matter what input it is given. It takes, lists, tuples, strings and arrays and always geneates a list in which the items are odered. The sorted function also takes dicts and sets and will generate a sorted list of their keys or elements in case of a set.  \n",
    "\n",
    "Further down we'll see how the key keyword is used to sort sequences that have elements that cannot be ordered without telling how.\n",
    "\n",
    "We'll show how argsort() works, which generates the indices that will sort a sequence.\n",
    "\n",
    "Finally we'll experiment with hierarchical sorting also using sort."
   ]
  },
  {
   "cell_type": "code",
   "execution_count": 1,
   "metadata": {
    "collapsed": true
   },
   "outputs": [],
   "source": [
    "import numpy as np\n",
    "from numpy import random\n",
    "from pprint import pprint"
   ]
  },
  {
   "cell_type": "markdown",
   "metadata": {},
   "source": [
    "Let's first explore how one sees whether a printed sequence is a tuple, a list or an array.\n",
    "\n",
    "tuples are enclosed in ( ), lists in [ ]  and arays also in [ ], however, the elements in tuuples and arrays are separted by commas (showing that they are distice), while the elements in an array have no separating commpas: they form one block, the array."
   ]
  },
  {
   "cell_type": "code",
   "execution_count": 2,
   "metadata": {
    "collapsed": false
   },
   "outputs": [
    {
     "name": "stdout",
     "output_type": "stream",
     "text": [
      "<class 'tuple'>\n",
      "(3, 4, 7, 2, 4, 4, 5, 5, 4, 6, 1, 9, 0, 0, 2)      <----- tuple, parentheses, with commas\n",
      "\n",
      "<class 'list'>\n",
      "[3, 4, 7, 2, 4, 4, 5, 5, 4, 6, 1, 9, 0, 0, 2]      <----- list, brackets, with commas\n",
      "\n",
      "<class 'numpy.ndarray'>\n",
      "[3 4 7 2 4 4 5 5 4 6 1 9 0 0 2]      <----- array, brackets, without commas!\n",
      "\n",
      "<class 'set'>\n",
      "{0, 1, 2, 3, 4, 5, 6, 7, 9}       <----- set, curly braces, with commas\n",
      "\n",
      "{'d': 6, 'c': 5, 'g': 3, 'h': 4, 'b': 2, 'e': 1, 'f': 7, 'a': 0}      <----- dict, curly braces, with commas and colons\n",
      "\n",
      "Notice that the order in which the dict itmes are printed\n",
      "in different from that used to specify them \n",
      "Dicts and sets have no order.\n"
     ]
    }
   ],
   "source": [
    "myArray = np.random.randint(10, size=15)\n",
    "myTuple = tuple(myArray)\n",
    "myList = list(myArray)\n",
    "mySet = set(myArray)\n",
    "myDict = {c:n for c, n in zip('aebghcdf', range(10))}\n",
    "\n",
    "print(type(myTuple))\n",
    "print(myTuple, \"     <----- tuple, parentheses, with commas\\n\")\n",
    "print(type(myList))\n",
    "print(myList,  \"     <----- list, brackets, with commas\\n\")\n",
    "print(type(myArray))\n",
    "print(myArray, \"     <----- array, brackets, without commas!\\n\")\n",
    "print(type(mySet))\n",
    "print(mySet, \"      <----- set, curly braces, with commas\\n\")\n",
    "print(myDict, \"     <----- dict, curly braces, with commas and colons\")\n",
    "print(\"\\nNotice that the order in which the dict itmes are printed\")\n",
    "print(\"in different from that used to specify them \") \n",
    "print(\"Dicts and sets have no order.\")"
   ]
  },
  {
   "cell_type": "markdown",
   "metadata": {},
   "source": [
    "## In-place sorting\n",
    "\n",
    "This is done using the method **.sort().** Only sequences for which order makes sence and that ar not immutiable have this .sort() method. Hence: **only lists and arrays**"
   ]
  },
  {
   "cell_type": "code",
   "execution_count": 3,
   "metadata": {
    "collapsed": false
   },
   "outputs": [
    {
     "name": "stdout",
     "output_type": "stream",
     "text": [
      "[5, 5, 4, 5, 5, 4, 2, 4, 6, 5, 2, 1, 0, 0, 1]\n",
      "[5 5 4 5 5 4 2 4 6 5 2 1 0 0 1]\n",
      "a=None, b=None\n",
      "[0, 0, 1, 1, 2, 2, 4, 4, 4, 5, 5, 5, 5, 5, 6]\n",
      "[0 0 1 1 2 2 4 4 4 5 5 5 5 5 6]\n"
     ]
    }
   ],
   "source": [
    "myArr  = np.random.randint(7, size=15)\n",
    "myList = list(myArr)\n",
    "\n",
    "print(myList)\n",
    "print(myArr)\n",
    "\n",
    "a = myList.sort()  # in-place sorting of a list, no output\n",
    "b = myArr.sort()   # same for array\n",
    "\n",
    "print(\"a={}, b={}\". format(a, b))\n",
    "\n",
    "print(myList)\n",
    "print(myArr)"
   ]
  },
  {
   "cell_type": "markdown",
   "metadata": {},
   "source": [
    "It's clear the .sort() method produces not output (both a and b obtained None). So assignment makes not sense for in-place sorting.\n",
    "\n",
    "Of course, the .sort() method does not change the type of the sequence that is sorted."
   ]
  },
  {
   "cell_type": "markdown",
   "metadata": {},
   "source": [
    "The other sequences have not .sort method:"
   ]
  },
  {
   "cell_type": "code",
   "execution_count": 4,
   "metadata": {
    "collapsed": false
   },
   "outputs": [
    {
     "name": "stdout",
     "output_type": "stream",
     "text": [
      "equences myDict     does not have method .sort()\n",
      "sequence myArr               has  method .sort()\n",
      "equences mySet      does not have method .sort()\n",
      "sequence myList              has  method .sort()\n",
      "equences myString   does not have method .sort()\n",
      "equences myTuple    does not have method .sort()\n"
     ]
    }
   ],
   "source": [
    "sequences = {'myArr': myArr, 'myList': myList, 'myTuple': myTuple, 'myDict': myDict,\n",
    "         'mySet': mySet, 'myString': 'myString'}\n",
    "\n",
    "for k in sequences:\n",
    "    if 'sort' in dir(sequences[k]):\n",
    "        print(\"sequence {:10}          has  method .sort()\".format(k))\n",
    "    else:\n",
    "        print(\"equences {:10} does not have method .sort()\".format(k))"
   ]
  },
  {
   "cell_type": "markdown",
   "metadata": {},
   "source": [
    "# using np.sort(...) function\n",
    "\n",
    "The np.sort() function (from the numpy module) sorts different sequences and turns them into a numpy array. Firthermore, it always generates a new object (a numpy array) and never sorts in-place."
   ]
  },
  {
   "cell_type": "code",
   "execution_count": 159,
   "metadata": {
    "collapsed": true
   },
   "outputs": [],
   "source": [
    "myArray = np.random.randint(10, size=15)\n",
    "myTuple = tuple(myArray)\n",
    "myList = list(myArray)\n",
    "mySet = set(myArray)\n",
    "myDict = {c:n for c, n in zip('aebghcdf', range(10))}"
   ]
  },
  {
   "cell_type": "code",
   "execution_count": 169,
   "metadata": {
    "collapsed": false
   },
   "outputs": [
    {
     "name": "stdout",
     "output_type": "stream",
     "text": [
      "[7 0 8 2 5 6 3 2 9 0 9 9 8 3 3]    <--- a numpy array was given\n",
      "[0 0 2 2 3 3 3 5 6 7 8 8 9 9 9]    <--- a sorted numpy array was returned\n",
      "(7, 0, 8, 2, 5, 6, 3, 2, 9, 0, 9, 9, 8, 3, 3)    <--- a tuple was given\n",
      "[0 0 2 2 3 3 3 5 6 7 8 8 9 9 9]    <--- a sorted numpy array was returned\n",
      "[7, 0, 8, 2, 5, 6, 3, 2, 9, 0, 9, 9, 8, 3, 3]    <--- an list was given\n",
      "[0 0 2 2 3 3 3 5 6 7 8 8 9 9 9]    <--- a sorted numpy array was returned\n"
     ]
    }
   ],
   "source": [
    "print(myArray, \"   <--- a numpy array was given\")\n",
    "print(np.sort(myArray), \"   <--- a sorted numpy array was returned\")\n",
    "print(myTuple, \"   <--- a tuple was given\")\n",
    "print(np.sort(myTuple), \"   <--- a sorted numpy array was returned\")\n",
    "print(myList, \"   <--- an list was given\")\n",
    "print(np.sort(myList), \"   <--- a sorted numpy array was returned\")\n",
    "#print(myDict)\n",
    "#print(np.sort(myDict))  # can't be sorted with np.sort()\n",
    "#print(mySet)\n",
    "#print(np.sort(mySet)) # can't be sorted with np.sort()"
   ]
  },
  {
   "cell_type": "markdown",
   "metadata": {},
   "source": [
    "When multiple arrays are passed in, they are sorted along their last axis unless the keyword `axis` is used."
   ]
  },
  {
   "cell_type": "code",
   "execution_count": 171,
   "metadata": {
    "collapsed": false
   },
   "outputs": [
    {
     "name": "stdout",
     "output_type": "stream",
     "text": [
      "[[ 8  5  6 10 12]\n",
      " [ 1  4  4  2  6]\n",
      " [ 1  6  1  3  4]\n",
      " [ 8  4  2  3  9]\n",
      " [12 10 11  0  0]\n",
      " [ 8 12  5  5  4]\n",
      " [ 2  8  4 11  4]]\n"
     ]
    }
   ],
   "source": [
    "myArr= np.random.randint(13, size=35).reshape((7, 5))\n",
    "print(myArr)"
   ]
  },
  {
   "cell_type": "code",
   "execution_count": 173,
   "metadata": {
    "collapsed": false
   },
   "outputs": [
    {
     "data": {
      "text/plain": [
       "array([[ 5,  6,  8, 10, 12],\n",
       "       [ 1,  2,  4,  4,  6],\n",
       "       [ 1,  1,  3,  4,  6],\n",
       "       [ 2,  3,  4,  8,  9],\n",
       "       [ 0,  0, 10, 11, 12],\n",
       "       [ 4,  5,  5,  8, 12],\n",
       "       [ 2,  4,  4,  8, 11]])"
      ]
     },
     "execution_count": 173,
     "metadata": {},
     "output_type": "execute_result"
    }
   ],
   "source": [
    "np.sort(myArr)  # each row is sorted individually along the last axis (axix=1)"
   ]
  },
  {
   "cell_type": "code",
   "execution_count": 174,
   "metadata": {
    "collapsed": false
   },
   "outputs": [
    {
     "data": {
      "text/plain": [
       "array([[ 1,  4,  1,  0,  0],\n",
       "       [ 1,  4,  2,  2,  4],\n",
       "       [ 2,  5,  4,  3,  4],\n",
       "       [ 8,  6,  4,  3,  4],\n",
       "       [ 8,  8,  5,  5,  6],\n",
       "       [ 8, 10,  6, 10,  9],\n",
       "       [12, 12, 11, 11, 12]])"
      ]
     },
     "execution_count": 174,
     "metadata": {},
     "output_type": "execute_result"
    }
   ],
   "source": [
    "np.sort(myArr, axis=0)  # each column is sorted invididually along the firs axis (axis=0)"
   ]
  },
  {
   "cell_type": "code",
   "execution_count": 178,
   "metadata": {
    "collapsed": false
   },
   "outputs": [
    {
     "name": "stdout",
     "output_type": "stream",
     "text": [
      "[[8, 5, 6, 10, 12],\n",
      " [1, 4, 4, 2, 6],\n",
      " [1, 6, 1, 3, 4],\n",
      " [8, 4, 2, 3, 9],\n",
      " [12, 10, 11, 0, 0],\n",
      " [8, 12, 5, 5, 4],\n",
      " [2, 8, 4, 11, 4]]\n"
     ]
    }
   ],
   "source": [
    "myList = [list(L) for L in myList]\n",
    "print(\"a list of lists:\")\n",
    "pprint(myList)"
   ]
  },
  {
   "cell_type": "markdown",
   "metadata": {},
   "source": [
    "Sorting with np.sort a list of lists generates an array in which each row is sorted (because default sorting is along the last axis."
   ]
  },
  {
   "cell_type": "code",
   "execution_count": 180,
   "metadata": {
    "collapsed": false
   },
   "outputs": [
    {
     "data": {
      "text/plain": [
       "array([[ 5,  6,  8, 10, 12],\n",
       "       [ 1,  2,  4,  4,  6],\n",
       "       [ 1,  1,  3,  4,  6],\n",
       "       [ 2,  3,  4,  8,  9],\n",
       "       [ 0,  0, 10, 11, 12],\n",
       "       [ 4,  5,  5,  8, 12],\n",
       "       [ 2,  4,  4,  8, 11]])"
      ]
     },
     "execution_count": 180,
     "metadata": {},
     "output_type": "execute_result"
    }
   ],
   "source": [
    "np.sort(myList)"
   ]
  },
  {
   "cell_type": "code",
   "execution_count": null,
   "metadata": {
    "collapsed": true
   },
   "outputs": [],
   "source": [
    "The other way around (sorting along axis=0) also works on a list of lists"
   ]
  },
  {
   "cell_type": "code",
   "execution_count": 181,
   "metadata": {
    "collapsed": false
   },
   "outputs": [
    {
     "data": {
      "text/plain": [
       "array([[ 1,  4,  1,  0,  0],\n",
       "       [ 1,  4,  2,  2,  4],\n",
       "       [ 2,  5,  4,  3,  4],\n",
       "       [ 8,  6,  4,  3,  4],\n",
       "       [ 8,  8,  5,  5,  6],\n",
       "       [ 8, 10,  6, 10,  9],\n",
       "       [12, 12, 11, 11, 12]])"
      ]
     },
     "execution_count": 181,
     "metadata": {},
     "output_type": "execute_result"
    }
   ],
   "source": [
    "np.sort(myList, axis=0)"
   ]
  },
  {
   "cell_type": "markdown",
   "metadata": {},
   "source": [
    "Sorting tuples along the first or second axis also works. But notice that when using numpy.sort() one always obtains a numpy array as result."
   ]
  },
  {
   "cell_type": "code",
   "execution_count": 198,
   "metadata": {
    "collapsed": false
   },
   "outputs": [
    {
     "name": "stdout",
     "output_type": "stream",
     "text": [
      "a tuple of tuples:\n",
      "[(8, 5, 6, 10, 12),\n",
      " (1, 4, 4, 2, 6),\n",
      " (1, 6, 1, 3, 4),\n",
      " (8, 4, 2, 3, 9),\n",
      " (12, 10, 11, 0, 0),\n",
      " (8, 12, 5, 5, 4),\n",
      " (2, 8, 4, 11, 4)]\n",
      "\n",
      "[[ 5  6  8 10 12]\n",
      " [ 1  2  4  4  6]\n",
      " [ 1  1  3  4  6]\n",
      " [ 2  3  4  8  9]\n",
      " [ 0  0 10 11 12]\n",
      " [ 4  5  5  8 12]\n",
      " [ 2  4  4  8 11]]\n",
      "\n",
      "[[ 5  6  8 10 12]\n",
      " [ 1  2  4  4  6]\n",
      " [ 1  1  3  4  6]\n",
      " [ 2  3  4  8  9]\n",
      " [ 0  0 10 11 12]\n",
      " [ 4  5  5  8 12]\n",
      " [ 2  4  4  8 11]]\n"
     ]
    }
   ],
   "source": [
    "myTuple = [tuple(T) for T in myList]\n",
    "print(\"a tuple of tuples:\")\n",
    "pprint(myTuple)\n",
    "print()\n",
    "print(np.sort(myTuple))\n",
    "print()\n",
    "print(np.sort(myTuple, axis=1))"
   ]
  },
  {
   "cell_type": "markdown",
   "metadata": {},
   "source": [
    "The list of strings can only be sorted along axis=0, so that the one that is alphabetically first comes floating on top.\n",
    "\n",
    "Also here one obtains a numpy array of which the values are of the numpy_str_ class. The letters themselves are of "
   ]
  },
  {
   "cell_type": "code",
   "execution_count": 210,
   "metadata": {
    "collapsed": false
   },
   "outputs": [
    {
     "name": "stdout",
     "output_type": "stream",
     "text": [
      "\n",
      "['the quick brown fox', 'jumps over the lazy', 'dog in the garden !']\n",
      "\n",
      "['dog in the garden !' 'jumps over the lazy' 'the quick brown fox']\n",
      "\n",
      "<class 'numpy.ndarray'>       <--- type of strsort itself\n",
      "\n",
      "<U19       <--- type of the items in the array strsort, unicode characters\n",
      "In fact, a little endian (<) bystring of 19 unicode characters (U19).\n",
      "\n",
      "<class 'numpy.str_'>       <--- type of second line of strsort\n",
      "\n",
      "<class 'str'>       <--- type of a character in a string\n"
     ]
    }
   ],
   "source": [
    "myStr = [\"the quick brown fox\",\n",
    "         \"jumps over the lazy\",\n",
    "         \"dog in the garden !\"]\n",
    "print()\n",
    "print(myStr)\n",
    "print()\n",
    "strsort = np.sort(myStr)\n",
    "print(strsort)\n",
    "print()\n",
    "print(type(strsort), \"      <--- type of strsort itself\")\n",
    "print()\n",
    "print(strsort.dtype, \"      <--- type of the items in the array strsort, unicode characters\")\n",
    "print(\"In fact, a little endian (<) bystring of 19 unicode characters (U19).\")\n",
    "print()\n",
    "print(type(strsort[1]), \"      <--- type of second line of strsort\")\n",
    "print()\n",
    "print(type(strsort[1][3]), \"      <--- type of a character in a string\")"
   ]
  },
  {
   "cell_type": "code",
   "execution_count": null,
   "metadata": {
    "collapsed": true
   },
   "outputs": [],
   "source": []
  },
  {
   "cell_type": "markdown",
   "metadata": {},
   "source": [
    "## Builtin function sorted(...)\n",
    "\n",
    "Python's built-in function sorted is a geneal workhorst, which takes any sequence and even dicts and sets for sorting. It always generates a list, whatever its input is, and never sorts in place. It is more general than the other two, np.sort() and the .sort() method of lists and arrays."
   ]
  },
  {
   "cell_type": "code",
   "execution_count": null,
   "metadata": {
    "collapsed": true
   },
   "outputs": [],
   "source": [
    "myArray = np.random.randint(10, size=15)\n",
    "myTuple = tuple(myArray)\n",
    "myList = list(myArray)\n",
    "mySet = set(myArray)\n",
    "myDict = {c:n for c, n in zip('aebghcdf', range(10))}"
   ]
  },
  {
   "cell_type": "code",
   "execution_count": 213,
   "metadata": {
    "collapsed": false
   },
   "outputs": [
    {
     "name": "stdout",
     "output_type": "stream",
     "text": [
      "[0, 0, 2, 2, 3, 3, 3, 5, 6, 7, 8, 8, 9, 9, 9]       <--- a List, not an array.\n",
      "[(1, 4, 4, 2, 6), (1, 6, 1, 3, 4), (2, 8, 4, 11, 4), (8, 4, 2, 3, 9), (8, 5, 6, 10, 12), (8, 12, 5, 5, 4), (12, 10, 11, 0, 0)]\n",
      "[[1, 4, 4, 2, 6], [1, 6, 1, 3, 4], [2, 8, 4, 11, 4], [8, 4, 2, 3, 9], [8, 5, 6, 10, 12], [8, 12, 5, 5, 4], [12, 10, 11, 0, 0]]\n",
      "[0, 2, 3, 5, 6, 7, 8, 9]       <--- a list of the sorted set elements\n",
      "['a', 'b', 'c', 'd', 'e', 'f', 'g', 'h']       <--- a list of the sorted keys of the dict\n"
     ]
    }
   ],
   "source": [
    "print(sorted(myArray), \"      <--- a List, not an array.\")\n",
    "print(sorted(myTuple))\n",
    "print(sorted(myList))\n",
    "print(sorted(mySet), \"      <--- a list of the sorted set elements\")\n",
    "print(sorted(myDict), \"      <--- a list of the sorted keys of the dict\")"
   ]
  },
  {
   "cell_type": "markdown",
   "metadata": {},
   "source": [
    "Let's see how sorted works on a list of lists. First generate one:"
   ]
  },
  {
   "cell_type": "code",
   "execution_count": 226,
   "metadata": {
    "collapsed": false
   },
   "outputs": [
    {
     "name": "stdout",
     "output_type": "stream",
     "text": [
      "a list of lists:\n",
      "[(1, 1, 1),\n",
      " (2, 2, 2),\n",
      " (2, 2, 0),\n",
      " (0, 1, 1),\n",
      " (0, 2, 1),\n",
      " (2, 0, 2),\n",
      " (2, 2, 0),\n",
      " (1, 1, 0),\n",
      " (1, 0, 1),\n",
      " (1, 1, 0),\n",
      " (0, 2, 0),\n",
      " (0, 0, 2),\n",
      " (2, 2, 2),\n",
      " (0, 2, 1),\n",
      " (0, 2, 1),\n",
      " (0, 2, 0),\n",
      " (1, 2, 1),\n",
      " (1, 2, 2),\n",
      " (2, 1, 0),\n",
      " (0, 1, 2)]\n"
     ]
    }
   ],
   "source": [
    "myArr = np.random.randint(3, size=60).reshape((20, 3))\n",
    "myList = list([tuple(L) for L in myArr])\n",
    "print(\"a list of lists:\")\n",
    "pprint(myList)"
   ]
  },
  {
   "cell_type": "markdown",
   "metadata": {},
   "source": [
    "Then sort:"
   ]
  },
  {
   "cell_type": "code",
   "execution_count": 224,
   "metadata": {
    "collapsed": false
   },
   "outputs": [
    {
     "data": {
      "text/plain": [
       "[(0, 2, 1, 1),\n",
       " (0, 3, 1, 2),\n",
       " (0, 3, 2, 3),\n",
       " (1, 1, 0, 3),\n",
       " (1, 1, 1, 2),\n",
       " (1, 2, 0, 0),\n",
       " (1, 3, 2, 0),\n",
       " (2, 0, 1, 3),\n",
       " (2, 1, 1, 1),\n",
       " (2, 2, 0, 1),\n",
       " (2, 2, 3, 3),\n",
       " (2, 3, 0, 2),\n",
       " (3, 3, 0, 1),\n",
       " (3, 3, 0, 2),\n",
       " (3, 3, 0, 3)]"
      ]
     },
     "execution_count": 224,
     "metadata": {},
     "output_type": "execute_result"
    }
   ],
   "source": [
    "sorted(myList)"
   ]
  },
  {
   "cell_type": "markdown",
   "metadata": {},
   "source": [
    "We got the list of lists with the lists sorted, first column first second column second and so on. This is a hierarchial sort."
   ]
  },
  {
   "cell_type": "markdown",
   "metadata": {},
   "source": [
    "## The sorted function with arbitrary items, use the key keyword\n",
    "\n",
    "You can't always sort items in a list. For instance, by what criterion would you sort animals? Their, age, their size, their weight, the affection, their price ?? You name it.\n",
    "\n",
    "sorted(..) has the keyword key that you can use to make them compariable. The keyword accepts a function that computes a value for the item (age, weight, size, whatever), based on which they are mutually comparable. \n",
    "\n",
    "To show this, create a dict with arbitrary keys of different types, e.g. consisting of a mix of  tuples, strings and numbers). Such keys are ok for a dict because they are all immutable."
   ]
  },
  {
   "cell_type": "code",
   "execution_count": 235,
   "metadata": {
    "collapsed": false
   },
   "outputs": [
    {
     "name": "stdout",
     "output_type": "stream",
     "text": [
      "\n",
      "[(3, 2, 2, 'beast'), (0, 'a', 'abcd'), ('dog', (4, 'abc')), ['dog', 5], 'bike']\n"
     ]
    }
   ],
   "source": [
    "myList = [(3, 2, 2, 'beast'), (0, 'a', 'abcd'), ('dog', (4, 'abc')), ['dog', 5], 'bike']\n",
    "print()\n",
    "print(myList)"
   ]
  },
  {
   "cell_type": "markdown",
   "metadata": {},
   "source": [
    "Next try to sort this dict, like with did before with the previous dict that had simple characters as keys:"
   ]
  },
  {
   "cell_type": "code",
   "execution_count": 234,
   "metadata": {
    "collapsed": false
   },
   "outputs": [
    {
     "ename": "TypeError",
     "evalue": "unorderable types: str() < int()",
     "output_type": "error",
     "traceback": [
      "\u001b[0;31m---------------------------------------------------------------------------\u001b[0m",
      "\u001b[0;31mTypeError\u001b[0m                                 Traceback (most recent call last)",
      "\u001b[0;32m<ipython-input-234-b6c5fe55d655>\u001b[0m in \u001b[0;36m<module>\u001b[0;34m()\u001b[0m\n\u001b[0;32m----> 1\u001b[0;31m \u001b[0msorted\u001b[0m\u001b[0;34m(\u001b[0m\u001b[0mmyList\u001b[0m\u001b[0;34m)\u001b[0m  \u001b[0;31m# doesn't work, because, python doen't know how to sort such diverse keys\u001b[0m\u001b[0;34m\u001b[0m\u001b[0m\n\u001b[0m",
      "\u001b[0;31mTypeError\u001b[0m: unorderable types: str() < int()"
     ]
    }
   ],
   "source": [
    "sorted(myList)  # doesn't work, because, python doen't know how to sort such diverse keys"
   ]
  },
  {
   "cell_type": "markdown",
   "metadata": {},
   "source": [
    "This these keys, sorting doesn't work because python know of no rule to sort them."
   ]
  },
  {
   "cell_type": "markdown",
   "metadata": {},
   "source": [
    "So let's inspect the signature of the sorted(..) function.\n",
    "Type this in a new cell and press <shift><enter> to execute it:\n",
    "\n",
    "```sorted?```\n",
    "\n",
    "This is what you get in a separate new window at the bottom of your screen:\n",
    "\n",
    ">Signature: `sorted(iterable, key=None, reverse=False)`\n",
    ">Docstring:\n",
    ">Return a new list containing all items from the iterable in ascending order.\n",
    ">\n",
    ">A custom key function can be supplied to customise the sort order, and the\n",
    ">reverse flag can be set to request the result in descending order.\n",
    ">Type:      builtin_function_or_method\n",
    "\n",
    "Obviously, `revere=True` sorts in descending manner\n",
    "\n",
    "But `key` is special and our next subject."
   ]
  },
  {
   "cell_type": "markdown",
   "metadata": {},
   "source": [
    "We could still sort myList above, for instance according to the number of items that each item consists of. The function for key would then simple return that number for each item in the list, so that sorted can use that number to compare them."
   ]
  },
  {
   "cell_type": "code",
   "execution_count": 236,
   "metadata": {
    "collapsed": false
   },
   "outputs": [
    {
     "data": {
      "text/plain": [
       "[('dog', (4, 'abc')), ['dog', 5], (0, 'a', 'abcd'), (3, 2, 2, 'beast'), 'bike']"
      ]
     },
     "execution_count": 236,
     "metadata": {},
     "output_type": "execute_result"
    }
   ],
   "source": [
    "def longest(k):\n",
    "    return len(k)\n",
    "\n",
    "sorted(myList, key=longest)"
   ]
  },
  {
   "cell_type": "markdown",
   "metadata": {},
   "source": [
    "This works. And this key method is a general way to compare items in a list."
   ]
  },
  {
   "cell_type": "markdown",
   "metadata": {},
   "source": [
    "## use of lambda functions, (anonymous functions) with key\n",
    "\n",
    "In practice, having to define a separate function each time one needs it for a key is considered overkill. Instead lambda functions, also called anonymous functions are most often used. They are very practical.\n",
    "\n",
    "A lambda function consists of the word lambd followed by input parameters a colon and a single expression that yields a single answer.\n",
    "\n",
    "**lambda x, y, z, .... : expression(x, y, z, ...)**\n",
    "\n",
    "For instance to get the length of an item, the equivalent of the function `longest()` above would be\n",
    "\n",
    "**lambda x: len(x)**\n",
    "\n",
    "In pratice the sort then becomes:"
   ]
  },
  {
   "cell_type": "code",
   "execution_count": 238,
   "metadata": {
    "collapsed": false
   },
   "outputs": [
    {
     "data": {
      "text/plain": [
       "[('dog', (4, 'abc')), ['dog', 5], (0, 'a', 'abcd'), (3, 2, 2, 'beast'), 'bike']"
      ]
     },
     "execution_count": 238,
     "metadata": {},
     "output_type": "execute_result"
    }
   ],
   "source": [
    "sorted(myList, key=lambda x: len(x))"
   ]
  },
  {
   "cell_type": "markdown",
   "metadata": {},
   "source": [
    "Another example. Here's a list of tuples. They can be sorted, but without the use of a key, sorting would be according to firs item, then second item etc. This is generally not what you want."
   ]
  },
  {
   "cell_type": "code",
   "execution_count": 240,
   "metadata": {
    "collapsed": false
   },
   "outputs": [
    {
     "data": {
      "text/plain": [
       "[(-2, 3, -4), (3, 5, 0), (4, 1, 2), (4, 3, 5), (6, -1, 7)]"
      ]
     },
     "execution_count": 240,
     "metadata": {},
     "output_type": "execute_result"
    }
   ],
   "source": [
    "myList = [(4, 3, 5), (6, -1, 7), (4, 1, 2), (-2, 3, -4), (3, 5, 0)]\n",
    "sorted(myList)"
   ]
  },
  {
   "cell_type": "markdown",
   "metadata": {},
   "source": [
    "As is seen, these tuples are sorted based on their first value [-2, 3, 4, 6] and on their second value for itmes for which the first are the same and so on.\n",
    "\n",
    "\n",
    "But what if we want to sort them base on their third value instead?\n",
    "\n",
    "The function that would allow us to, should just pick out the third item of every tuple in the list to sort upon. This looks like so:"
   ]
  },
  {
   "cell_type": "code",
   "execution_count": 243,
   "metadata": {
    "collapsed": false
   },
   "outputs": [
    {
     "data": {
      "text/plain": [
       "[(-2, 3, -4), (3, 5, 0), (4, 1, 2), (4, 3, 5), (6, -1, 7)]"
      ]
     },
     "execution_count": 243,
     "metadata": {},
     "output_type": "execute_result"
    }
   ],
   "source": [
    "sorted(myList, key=lambda x: x[2])"
   ]
  },
  {
   "cell_type": "markdown",
   "metadata": {},
   "source": [
    "The tuples are now sorted according to their third element."
   ]
  },
  {
   "cell_type": "markdown",
   "metadata": {},
   "source": [
    "Now let's take a dict of animals each with a dict of their properties"
   ]
  },
  {
   "cell_type": "code",
   "execution_count": 82,
   "metadata": {
    "collapsed": false
   },
   "outputs": [],
   "source": [
    "myCircus =   {'duke': {'what': 'horse', 'color': 'brown', 'age':7, 'weight': 250},\n",
    "              'spooky': {'what': 'cat', 'color': 'orange', 'age':9, 'weight': 2.3},\n",
    "              'mooh': {'what': 'cow', 'color': 'black-white}', 'age':4, 'weight': 290},\n",
    "              'john': {'what': 'elephant', 'color': 'grey', 'age': 22, 'weight': 1840}}"
   ]
  },
  {
   "cell_type": "code",
   "execution_count": 244,
   "metadata": {
    "collapsed": false
   },
   "outputs": [
    {
     "data": {
      "text/plain": [
       "{'age': 22, 'color': 'grey', 'weight': 1840, 'what': 'elephant'}"
      ]
     },
     "execution_count": 244,
     "metadata": {},
     "output_type": "execute_result"
    }
   ],
   "source": [
    "myCircus['john']"
   ]
  },
  {
   "cell_type": "code",
   "execution_count": 245,
   "metadata": {
    "collapsed": false
   },
   "outputs": [
    {
     "data": {
      "text/plain": [
       "['elephant', 22]"
      ]
     },
     "execution_count": 245,
     "metadata": {},
     "output_type": "execute_result"
    }
   ],
   "source": [
    "[myCircus['john']['what'], myCircus['john']['age']]"
   ]
  },
  {
   "cell_type": "markdown",
   "metadata": {},
   "source": [
    "Lets sort these animals, but how? We can sort them based on their age or on their weight. Let's do one after the other"
   ]
  },
  {
   "cell_type": "code",
   "execution_count": 255,
   "metadata": {
    "collapsed": false
   },
   "outputs": [
    {
     "name": "stdout",
     "output_type": "stream",
     "text": [
      "\n",
      "Unsorted circus, because dict has no order:\n",
      "\n",
      "[('spooky', {'age': 9, 'color': 'orange', 'weight': 2.3, 'what': 'cat'}),\n",
      " ('john', {'age': 22, 'color': 'grey', 'weight': 1840, 'what': 'elephant'}),\n",
      " ('mooh', {'age': 4, 'color': 'black-white}', 'weight': 290, 'what': 'cow'}),\n",
      " ('duke', {'age': 7, 'color': 'brown', 'weight': 250, 'what': 'horse'})]\n",
      "\n",
      "Sorted lexicographically according to animal's name:\n",
      "\n",
      "[('duke', {'age': 7, 'color': 'brown', 'weight': 250, 'what': 'horse'}),\n",
      " ('john', {'age': 22, 'color': 'grey', 'weight': 1840, 'what': 'elephant'}),\n",
      " ('mooh', {'age': 4, 'color': 'black-white}', 'weight': 290, 'what': 'cow'}),\n",
      " ('spooky', {'age': 9, 'color': 'orange', 'weight': 2.3, 'what': 'cat'})]\n",
      "\n",
      "Sorted accoring to animal's age:\n",
      "\n",
      "[('mooh', {'age': 4, 'color': 'black-white}', 'weight': 290, 'what': 'cow'}),\n",
      " ('duke', {'age': 7, 'color': 'brown', 'weight': 250, 'what': 'horse'}),\n",
      " ('spooky', {'age': 9, 'color': 'orange', 'weight': 2.3, 'what': 'cat'}),\n",
      " ('john', {'age': 22, 'color': 'grey', 'weight': 1840, 'what': 'elephant'})]\n",
      "\n",
      "Sorted accoring to animal's weight:\n",
      "\n",
      "[('spooky', {'age': 9, 'color': 'orange', 'weight': 2.3, 'what': 'cat'}),\n",
      " ('duke', {'age': 7, 'color': 'brown', 'weight': 250, 'what': 'horse'}),\n",
      " ('mooh', {'age': 4, 'color': 'black-white}', 'weight': 290, 'what': 'cow'}),\n",
      " ('john', {'age': 22, 'color': 'grey', 'weight': 1840, 'what': 'elephant'})]\n"
     ]
    }
   ],
   "source": [
    "def compAge(animal):\n",
    "    return animal[1]['age']\n",
    "\n",
    "print(\"\\nUnsorted circus, because dict has no order:\\n\")\n",
    "pprint([(k, myCircus[k]) for k in myCircus])\n",
    "print(\"\\nSorted lexicographically according to animal's name:\\n\")\n",
    "pprint(sorted([(k, myCircus[k]) for k in myCircus]))\n",
    "print(\"\\nSorted accoring to animal's age:\\n\")\n",
    "pprint(sorted([(k, myCircus[k]) for k in myCircus], key=compAge))\n",
    "print(\"\\nSorted accoring to animal's weight:\\n\")\n",
    "pprint(sorted([(k, myCircus[k]) for k in myCircus], key=lambda animal: animal[1]['weight']))"
   ]
  },
  {
   "cell_type": "markdown",
   "metadata": {},
   "source": [
    "This is somewhat complex. The comprehension produces a list with one item per key k. Each item of the list is itself a list of two items, namely the key and the dict [k, myCircus[k]] with the properties of the animal under key k.\n",
    "The compAge function takes each item, i.e. the list [k, myCircus[k]] (called animal inside the function), it returns animal[1]]['age']. Note that animal[1] is the second item of the incoming list, which is the dict. Therefore, animal[1]['age'] returns the value under key 'age' of the dict belonging to that animal. This value, the age of the animal, is then used to compare the different animals in the list for sorting. That it works is seen on the hand of the increasing ages of the animals in this list.\n",
    "\n",
    "It's left up to you to sort the animals based on their weight. And yes, sort them in reversed (decreasing order)."
   ]
  },
  {
   "cell_type": "markdown",
   "metadata": {},
   "source": [
    "## Using np.argsort()\n",
    "\n",
    "`argsort()` is a function in `numpy` and a method of `numpy arrays`. It does not exist as a Python builtin function like sorted() and it does not exist as a method of `list` like `list.sort()`. It creates a numpy array with the indices that would sort the original numpy array. It's also called an indirect sort."
   ]
  },
  {
   "cell_type": "code",
   "execution_count": 264,
   "metadata": {
    "collapsed": false
   },
   "outputs": [
    {
     "name": "stdout",
     "output_type": "stream",
     "text": [
      "myArray         :  [7 0 8 2 5 6 3 2 9 0 9 9 8 3 3]  <-- a numpy array\n",
      "indices         :  [ 1  9  3  7  6 13 14  4  5  0  2 12  8 10 11]\n",
      "myArray[I]      :  [0 0 2 2 3 3 3 5 6 7 8 8 9 9 9]\n",
      "sorted(myArray) :  [0, 0, 2, 2, 3, 3, 3, 5, 6, 7, 8, 8, 9, 9, 9]  <-- a List\n"
     ]
    }
   ],
   "source": [
    "I = np.argsort(myArray)\n",
    "print(\"myArray         : \", myArray, \" <-- a numpy array\")\n",
    "print(\"indices         : \",I)\n",
    "print(\"myArray[I]      : \", myArray[I])\n",
    "print(\"sorted(myArray) : \", sorted(myArray), \" <-- a List\")"
   ]
  },
  {
   "cell_type": "code",
   "execution_count": 268,
   "metadata": {
    "collapsed": false
   },
   "outputs": [
    {
     "name": "stdout",
     "output_type": "stream",
     "text": [
      "[[ 4 12  9 12  1  4  3  7]\n",
      " [ 6 10  8  2 11  7  3 12]\n",
      " [ 6  9  8 10  5  8  7  2]\n",
      " [11 12  1  2  7  0  9  1]\n",
      " [ 2 12  3  8  5  0  9  1]]\n"
     ]
    }
   ],
   "source": [
    "myArray = np.random.randint(13, size=40).reshape((5, 8))\n",
    "print(myArray)"
   ]
  },
  {
   "cell_type": "markdown",
   "metadata": {},
   "source": [
    "np.argsort() or as instance method myList.argsort() yields the indices along the last axis (axis=1), that would sort each row of the array."
   ]
  },
  {
   "cell_type": "code",
   "execution_count": 276,
   "metadata": {
    "collapsed": false
   },
   "outputs": [
    {
     "name": "stdout",
     "output_type": "stream",
     "text": [
      "[[4 6 0 5 7 2 1 3]\n",
      " [3 6 0 5 2 1 4 7]\n",
      " [7 4 0 6 2 5 1 3]\n",
      " [5 2 7 3 4 6 0 1]\n",
      " [5 7 0 2 4 3 6 1]]\n"
     ]
    }
   ],
   "source": [
    "Iarray = myArray.argsort()\n",
    "print(Iarray)"
   ]
  },
  {
   "cell_type": "markdown",
   "metadata": {},
   "source": [
    "We may now sort the array according to any of its rows"
   ]
  },
  {
   "cell_type": "code",
   "execution_count": 286,
   "metadata": {
    "collapsed": false
   },
   "outputs": [
    {
     "data": {
      "text/plain": [
       "array([[ 7,  1,  4,  3,  9,  4, 12, 12],\n",
       "       [12, 11,  6,  3,  8,  7, 10,  2],\n",
       "       [ 2,  5,  6,  7,  8,  8,  9, 10],\n",
       "       [ 1,  7, 11,  9,  1,  0, 12,  2],\n",
       "       [ 1,  5,  2,  9,  3,  0, 12,  8]])"
      ]
     },
     "execution_count": 286,
     "metadata": {},
     "output_type": "execute_result"
    }
   ],
   "source": [
    "myArray[:,Iarray[2]] #  sorting according to row 2"
   ]
  },
  {
   "cell_type": "code",
   "execution_count": 287,
   "metadata": {
    "collapsed": false
   },
   "outputs": [
    {
     "data": {
      "text/plain": [
       "array([[ 7,  1,  4,  3,  9,  4, 12, 12],\n",
       "       [12, 11,  6,  3,  8,  7, 10,  2],\n",
       "       [ 2,  5,  6,  7,  8,  8,  9, 10],\n",
       "       [ 1,  7, 11,  9,  1,  0, 12,  2],\n",
       "       [ 1,  5,  2,  9,  3,  0, 12,  8]])"
      ]
     },
     "execution_count": 287,
     "metadata": {},
     "output_type": "execute_result"
    }
   ],
   "source": [
    "np.take(myArray, indices=Iarray[2], axis=1)   # same thing using np.take"
   ]
  },
  {
   "cell_type": "markdown",
   "metadata": {},
   "source": [
    "Sorting all rows simultaneously:\n",
    "\n",
    "Use a comprehension to generate a list of arrays that are each sorted using the indices Iarray generated by myArray.argsort() above. Then apply `np.array(...)` or `np.asarray(...)` over it, to convert into a numpy array"
   ]
  },
  {
   "cell_type": "code",
   "execution_count": 277,
   "metadata": {
    "collapsed": false
   },
   "outputs": [
    {
     "data": {
      "text/plain": [
       "array([[ 1,  3,  4,  4,  7,  9, 12, 12],\n",
       "       [ 2,  3,  6,  7,  8, 10, 11, 12],\n",
       "       [ 2,  5,  6,  7,  8,  8,  9, 10],\n",
       "       [ 0,  1,  1,  2,  7,  9, 11, 12],\n",
       "       [ 0,  1,  2,  3,  5,  8,  9, 12]])"
      ]
     },
     "execution_count": 277,
     "metadata": {},
     "output_type": "execute_result"
    }
   ],
   "source": [
    "np.asarray([L[I] for L, I in zip(myArray, Iarray)])"
   ]
  },
  {
   "cell_type": "markdown",
   "metadata": {},
   "source": [
    "The other way around, applying argsort along the columns of myArray (setting axis=0)"
   ]
  },
  {
   "cell_type": "code",
   "execution_count": 283,
   "metadata": {
    "collapsed": false
   },
   "outputs": [
    {
     "name": "stdout",
     "output_type": "stream",
     "text": [
      "[[4 2 3 1 0 3 0 3]\n",
      " [0 1 4 3 2 4 1 4]\n",
      " [1 0 1 4 4 0 2 2]\n",
      " [2 3 2 2 3 1 3 0]\n",
      " [3 4 0 0 1 2 4 1]]\n"
     ]
    }
   ],
   "source": [
    "Jarray = myArray.argsort(axis=0)\n",
    "print(Jarray)"
   ]
  },
  {
   "cell_type": "markdown",
   "metadata": {},
   "source": [
    "Sorting myArray verticall according to column 3:"
   ]
  },
  {
   "cell_type": "code",
   "execution_count": 288,
   "metadata": {
    "collapsed": false
   },
   "outputs": [
    {
     "data": {
      "text/plain": [
       "array([[11, 12,  1,  2,  7,  0,  9,  1],\n",
       "       [ 2, 12,  3,  8,  5,  0,  9,  1],\n",
       "       [ 6, 10,  8,  2, 11,  7,  3, 12],\n",
       "       [ 6,  9,  8, 10,  5,  8,  7,  2],\n",
       "       [ 4, 12,  9, 12,  1,  4,  3,  7]])"
      ]
     },
     "execution_count": 288,
     "metadata": {},
     "output_type": "execute_result"
    }
   ],
   "source": [
    "myArray[Jarray[:,2], :]"
   ]
  },
  {
   "cell_type": "code",
   "execution_count": 290,
   "metadata": {
    "collapsed": false
   },
   "outputs": [
    {
     "data": {
      "text/plain": [
       "array([[11, 12,  1,  2,  7,  0,  9,  1],\n",
       "       [ 2, 12,  3,  8,  5,  0,  9,  1],\n",
       "       [ 6, 10,  8,  2, 11,  7,  3, 12],\n",
       "       [ 6,  9,  8, 10,  5,  8,  7,  2],\n",
       "       [ 4, 12,  9, 12,  1,  4,  3,  7]])"
      ]
     },
     "execution_count": 290,
     "metadata": {},
     "output_type": "execute_result"
    }
   ],
   "source": [
    "np.take(myArray, indices=Jarray[:, 2], axis=0)  # same thing"
   ]
  },
  {
   "cell_type": "markdown",
   "metadata": {},
   "source": [
    "Using a comprehension to sort all columns using the index array and converting the total list to a numpy array using `np.array(...)` or `np.asarray(...)`\n",
    "\n",
    "Notice the tranposes to make the selection easy and the transpose to have the final array orientation the same as the original:"
   ]
  },
  {
   "cell_type": "code",
   "execution_count": 291,
   "metadata": {
    "collapsed": false
   },
   "outputs": [
    {
     "data": {
      "text/plain": [
       "array([[ 2,  9,  1,  2,  1,  0,  3,  1],\n",
       "       [ 4, 10,  3,  2,  5,  0,  3,  1],\n",
       "       [ 6, 12,  8,  8,  5,  4,  7,  2],\n",
       "       [ 6, 12,  8, 10,  7,  7,  9,  7],\n",
       "       [11, 12,  9, 12, 11,  8,  9, 12]])"
      ]
     },
     "execution_count": 291,
     "metadata": {},
     "output_type": "execute_result"
    }
   ],
   "source": [
    "np.asarray([k[J] for k, J in zip(myArray.T, Jarray.T)]).T"
   ]
  },
  {
   "cell_type": "markdown",
   "metadata": {},
   "source": [
    "## Hierarchial sort with sorted(...), using key\n",
    "\n",
    "Sorting according to a set of given fields, i.e.hierarchical sorting:\n",
    "\n",
    "Let's say we wish to sort myArray first for column 5, then 3 then 7 and then 1.\n",
    "\n",
    "How to do that?\n",
    "\n",
    "if we have the indices like generated above usign argsort, we can make tuples from them in the desired order and use those as sortkeys. This works because tuples are immutable and tuples with integers are comparable.\n",
    "\n",
    "The easiest way is to use the key keyword like it was done before."
   ]
  },
  {
   "cell_type": "code",
   "execution_count": 299,
   "metadata": {
    "collapsed": false
   },
   "outputs": [
    {
     "name": "stdout",
     "output_type": "stream",
     "text": [
      "[[1 2 2]\n",
      " [2 0 0]\n",
      " [2 1 0]\n",
      " [0 0 2]\n",
      " [1 1 2]\n",
      " [0 2 1]\n",
      " [0 0 0]\n",
      " [0 2 1]\n",
      " [2 1 0]\n",
      " [1 0 2]\n",
      " [1 2 1]\n",
      " [2 2 1]\n",
      " [2 0 2]\n",
      " [2 2 0]\n",
      " [2 0 0]\n",
      " [1 0 0]\n",
      " [1 1 1]\n",
      " [1 0 2]\n",
      " [0 1 0]\n",
      " [2 0 1]]\n"
     ]
    }
   ],
   "source": [
    "myArray = np.random.randint(3, size=60).reshape((20, 3))\n",
    "print(myArray)"
   ]
  },
  {
   "cell_type": "code",
   "execution_count": 300,
   "metadata": {
    "collapsed": false
   },
   "outputs": [
    {
     "data": {
      "text/plain": [
       "array([[0, 0, 0],\n",
       "       [0, 1, 0],\n",
       "       [1, 0, 0],\n",
       "       [2, 0, 0],\n",
       "       [2, 0, 0],\n",
       "       [2, 1, 0],\n",
       "       [2, 1, 0],\n",
       "       [2, 2, 0],\n",
       "       [0, 2, 1],\n",
       "       [0, 2, 1],\n",
       "       [1, 1, 1],\n",
       "       [1, 2, 1],\n",
       "       [2, 0, 1],\n",
       "       [2, 2, 1],\n",
       "       [0, 0, 2],\n",
       "       [1, 0, 2],\n",
       "       [1, 0, 2],\n",
       "       [1, 1, 2],\n",
       "       [1, 2, 2],\n",
       "       [2, 0, 2]])"
      ]
     },
     "execution_count": 300,
     "metadata": {},
     "output_type": "execute_result"
    }
   ],
   "source": [
    "fields = [2, 0, 1]\n",
    "\n",
    "np.array(sorted(myArray, key=lambda x: tuple(x[fields])))"
   ]
  },
  {
   "cell_type": "code",
   "execution_count": 302,
   "metadata": {
    "collapsed": false
   },
   "outputs": [
    {
     "name": "stdout",
     "output_type": "stream",
     "text": [
      "[array([1, 2, 2]),\n",
      " array([2, 0, 0]),\n",
      " array([2, 1, 0]),\n",
      " array([0, 0, 2]),\n",
      " array([1, 1, 2]),\n",
      " array([0, 2, 1]),\n",
      " array([0, 0, 0]),\n",
      " array([0, 2, 1]),\n",
      " array([2, 1, 0]),\n",
      " array([1, 0, 2]),\n",
      " array([1, 2, 1]),\n",
      " array([2, 2, 1]),\n",
      " array([2, 0, 2]),\n",
      " array([2, 2, 0]),\n",
      " array([2, 0, 0]),\n",
      " array([1, 0, 0]),\n",
      " array([1, 1, 1]),\n",
      " array([1, 0, 2]),\n",
      " array([0, 1, 0]),\n",
      " array([2, 0, 1])]\n"
     ]
    }
   ],
   "source": [
    "myList = list(myArray)\n",
    "pprint(myList)  # a list of arrays"
   ]
  },
  {
   "cell_type": "code",
   "execution_count": 303,
   "metadata": {
    "collapsed": false
   },
   "outputs": [
    {
     "data": {
      "text/plain": [
       "[array([0, 0, 0]),\n",
       " array([0, 1, 0]),\n",
       " array([1, 0, 0]),\n",
       " array([2, 0, 0]),\n",
       " array([2, 0, 0]),\n",
       " array([2, 1, 0]),\n",
       " array([2, 1, 0]),\n",
       " array([2, 2, 0]),\n",
       " array([0, 2, 1]),\n",
       " array([0, 2, 1]),\n",
       " array([1, 1, 1]),\n",
       " array([1, 2, 1]),\n",
       " array([2, 0, 1]),\n",
       " array([2, 2, 1]),\n",
       " array([0, 0, 2]),\n",
       " array([1, 0, 2]),\n",
       " array([1, 0, 2]),\n",
       " array([1, 1, 2]),\n",
       " array([1, 2, 2]),\n",
       " array([2, 0, 2])]"
      ]
     },
     "execution_count": 303,
     "metadata": {},
     "output_type": "execute_result"
    }
   ],
   "source": [
    "sorted(myArray, key=lambda x: tuple(x[fields]))  # also hierchically sorted as before"
   ]
  },
  {
   "cell_type": "markdown",
   "metadata": {},
   "source": []
  }
 ],
 "metadata": {
  "anaconda-cloud": {},
  "kernelspec": {
   "display_name": "Python [default]",
   "language": "python",
   "name": "python3"
  },
  "language_info": {
   "codemirror_mode": {
    "name": "ipython",
    "version": 3
   },
   "file_extension": ".py",
   "mimetype": "text/x-python",
   "name": "python",
   "nbconvert_exporter": "python",
   "pygments_lexer": "ipython3",
   "version": "3.5.2"
  }
 },
 "nbformat": 4,
 "nbformat_minor": 1
}
