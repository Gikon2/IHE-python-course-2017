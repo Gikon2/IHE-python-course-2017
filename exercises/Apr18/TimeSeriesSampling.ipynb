{
 "cells": [
  {
   "cell_type": "markdown",
   "metadata": {},
   "source": [
    "# Time series manipulation\n",
    "\n",
    "Most scientists and engineers, including hydrologists, physisists, electronic engineers, social scientists and economists are often faced with time series that bear information that is to be extracted or to be used in predictions. Pandas has virtually all the tools that are required to handle time series, while keeping dates and data strictly connected. These time series loaded into pandas then form the basis of further analysis.\n",
    "\n",
    "Loading into pandas can be done with pd.read_csv, pd.read_table, pd.read_excel as we used before as well as with numerous other functions ready to be using in pandas. Just use tab-complition to see al the possibilities"
   ]
  },
  {
   "cell_type": "code",
   "execution_count": 149,
   "metadata": {
    "collapsed": true
   },
   "outputs": [],
   "source": [
    "import pandas as pd\n",
    "import matplotlib.pyplot as plt\n",
    "import numpy as np"
   ]
  },
  {
   "cell_type": "markdown",
   "metadata": {},
   "source": [
    "Show which reading functions pandas has as onboard methods.\n",
    "\n",
    "We can use a coprehension to select what we want:"
   ]
  },
  {
   "cell_type": "code",
   "execution_count": 3,
   "metadata": {
    "collapsed": false
   },
   "outputs": [
    {
     "data": {
      "text/plain": [
       "['read_clipboard',\n",
       " 'read_csv',\n",
       " 'read_excel',\n",
       " 'read_fwf',\n",
       " 'read_gbq',\n",
       " 'read_hdf',\n",
       " 'read_html',\n",
       " 'read_json',\n",
       " 'read_msgpack',\n",
       " 'read_pickle',\n",
       " 'read_sas',\n",
       " 'read_sql',\n",
       " 'read_sql_query',\n",
       " 'read_sql_table',\n",
       " 'read_stata',\n",
       " 'read_table']"
      ]
     },
     "execution_count": 3,
     "metadata": {},
     "output_type": "execute_result"
    }
   ],
   "source": [
    "[d for d in dir(pd) if d.startswith(\"read\")]"
   ]
  },
  {
   "cell_type": "markdown",
   "metadata": {},
   "source": [
    "Hence there's a large number of possibilities.\n",
    "\n",
    "Move to the directory with the examples. Then print pwd to see if you're there.\n",
    "\n",
    "Notice, the first part of the pwd command will be different on your computer."
   ]
  },
  {
   "cell_type": "code",
   "execution_count": 32,
   "metadata": {
    "collapsed": false
   },
   "outputs": [
    {
     "name": "stdout",
     "output_type": "stream",
     "text": [
      "/Users/Theo/GRWMODELS/python/IHEcourse2017/exercises/Apr18\n"
     ]
    }
   ],
   "source": [
    "cd python/IHEcourse2017/exercises/Apr18/"
   ]
  },
  {
   "cell_type": "code",
   "execution_count": 4,
   "metadata": {
    "collapsed": false
   },
   "outputs": [
    {
     "data": {
      "text/plain": [
       "'/Users/Theo/GRWMODELS/python/IHEcourse2017/exercises/Apr18'"
      ]
     },
     "execution_count": 4,
     "metadata": {},
     "output_type": "execute_result"
    }
   ],
   "source": [
    "pwd"
   ]
  },
  {
   "cell_type": "markdown",
   "metadata": {},
   "source": [
    "See if we have a csv datafile, which is a long year groundwater head series in the south of the Netherlands (chosen more or less at random for its length)."
   ]
  },
  {
   "cell_type": "code",
   "execution_count": 87,
   "metadata": {
    "collapsed": false
   },
   "outputs": [
    {
     "name": "stdout",
     "output_type": "stream",
     "text": [
      "\u001b[31mB50E0133001_1.csv\u001b[m\u001b[m*    Untitled.ipynb        threeDoorsQuiz.ipynb\r\n",
      "B50E0133001_1.xls     sorting.ipynb\r\n"
     ]
    }
   ],
   "source": [
    "ls"
   ]
  },
  {
   "cell_type": "markdown",
   "metadata": {},
   "source": [
    "It's not a bad habit to use os to verify that the file exists."
   ]
  },
  {
   "cell_type": "code",
   "execution_count": 88,
   "metadata": {
    "collapsed": false
   },
   "outputs": [
    {
     "data": {
      "text/plain": [
       "True"
      ]
     },
     "execution_count": 88,
     "metadata": {},
     "output_type": "execute_result"
    }
   ],
   "source": [
    "import os\n",
    "os.path.isfile(\"B50E0133001_1.csv\")"
   ]
  },
  {
   "cell_type": "markdown",
   "metadata": {},
   "source": [
    "Ok, now we will naively try to read it in using pd.read_csv. This may fail or not. If it fails we sharpen the knife by adding or using one or more options provided by pd.read_csv."
   ]
  },
  {
   "cell_type": "code",
   "execution_count": 212,
   "metadata": {
    "collapsed": false
   },
   "outputs": [
    {
     "ename": "CParserError",
     "evalue": "Error tokenizing data. C error: Expected 12 fields in line 12, saw 13\n",
     "output_type": "error",
     "traceback": [
      "\u001b[0;31m---------------------------------------------------------------------------\u001b[0m",
      "\u001b[0;31mCParserError\u001b[0m                              Traceback (most recent call last)",
      "\u001b[0;32m<ipython-input-212-d556bc408458>\u001b[0m in \u001b[0;36m<module>\u001b[0;34m()\u001b[0m\n\u001b[0;32m----> 1\u001b[0;31m \u001b[0mpb\u001b[0m \u001b[0;34m=\u001b[0m \u001b[0mpd\u001b[0m\u001b[0;34m.\u001b[0m\u001b[0mread_csv\u001b[0m\u001b[0;34m(\u001b[0m\u001b[0;34m\"B50E0133001_1.csv\"\u001b[0m\u001b[0;34m)\u001b[0m\u001b[0;34m\u001b[0m\u001b[0m\n\u001b[0m\u001b[1;32m      2\u001b[0m \u001b[0mpb\u001b[0m\u001b[0;34m.\u001b[0m\u001b[0mhead\u001b[0m\u001b[0;34m(\u001b[0m\u001b[0;34m)\u001b[0m\u001b[0;34m\u001b[0m\u001b[0m\n",
      "\u001b[0;32m/Users/Theo/anaconda/lib/python3.5/site-packages/pandas/io/parsers.py\u001b[0m in \u001b[0;36mparser_f\u001b[0;34m(filepath_or_buffer, sep, delimiter, header, names, index_col, usecols, squeeze, prefix, mangle_dupe_cols, dtype, engine, converters, true_values, false_values, skipinitialspace, skiprows, skipfooter, nrows, na_values, keep_default_na, na_filter, verbose, skip_blank_lines, parse_dates, infer_datetime_format, keep_date_col, date_parser, dayfirst, iterator, chunksize, compression, thousands, decimal, lineterminator, quotechar, quoting, escapechar, comment, encoding, dialect, tupleize_cols, error_bad_lines, warn_bad_lines, skip_footer, doublequote, delim_whitespace, as_recarray, compact_ints, use_unsigned, low_memory, buffer_lines, memory_map, float_precision)\u001b[0m\n\u001b[1;32m    560\u001b[0m                     skip_blank_lines=skip_blank_lines)\n\u001b[1;32m    561\u001b[0m \u001b[0;34m\u001b[0m\u001b[0m\n\u001b[0;32m--> 562\u001b[0;31m         \u001b[0;32mreturn\u001b[0m \u001b[0m_read\u001b[0m\u001b[0;34m(\u001b[0m\u001b[0mfilepath_or_buffer\u001b[0m\u001b[0;34m,\u001b[0m \u001b[0mkwds\u001b[0m\u001b[0;34m)\u001b[0m\u001b[0;34m\u001b[0m\u001b[0m\n\u001b[0m\u001b[1;32m    563\u001b[0m \u001b[0;34m\u001b[0m\u001b[0m\n\u001b[1;32m    564\u001b[0m     \u001b[0mparser_f\u001b[0m\u001b[0;34m.\u001b[0m\u001b[0m__name__\u001b[0m \u001b[0;34m=\u001b[0m \u001b[0mname\u001b[0m\u001b[0;34m\u001b[0m\u001b[0m\n",
      "\u001b[0;32m/Users/Theo/anaconda/lib/python3.5/site-packages/pandas/io/parsers.py\u001b[0m in \u001b[0;36m_read\u001b[0;34m(filepath_or_buffer, kwds)\u001b[0m\n\u001b[1;32m    323\u001b[0m         \u001b[0;32mreturn\u001b[0m \u001b[0mparser\u001b[0m\u001b[0;34m\u001b[0m\u001b[0m\n\u001b[1;32m    324\u001b[0m \u001b[0;34m\u001b[0m\u001b[0m\n\u001b[0;32m--> 325\u001b[0;31m     \u001b[0;32mreturn\u001b[0m \u001b[0mparser\u001b[0m\u001b[0;34m.\u001b[0m\u001b[0mread\u001b[0m\u001b[0;34m(\u001b[0m\u001b[0;34m)\u001b[0m\u001b[0;34m\u001b[0m\u001b[0m\n\u001b[0m\u001b[1;32m    326\u001b[0m \u001b[0;34m\u001b[0m\u001b[0m\n\u001b[1;32m    327\u001b[0m _parser_defaults = {\n",
      "\u001b[0;32m/Users/Theo/anaconda/lib/python3.5/site-packages/pandas/io/parsers.py\u001b[0m in \u001b[0;36mread\u001b[0;34m(self, nrows)\u001b[0m\n\u001b[1;32m    813\u001b[0m                 \u001b[0;32mraise\u001b[0m \u001b[0mValueError\u001b[0m\u001b[0;34m(\u001b[0m\u001b[0;34m'skip_footer not supported for iteration'\u001b[0m\u001b[0;34m)\u001b[0m\u001b[0;34m\u001b[0m\u001b[0m\n\u001b[1;32m    814\u001b[0m \u001b[0;34m\u001b[0m\u001b[0m\n\u001b[0;32m--> 815\u001b[0;31m         \u001b[0mret\u001b[0m \u001b[0;34m=\u001b[0m \u001b[0mself\u001b[0m\u001b[0;34m.\u001b[0m\u001b[0m_engine\u001b[0m\u001b[0;34m.\u001b[0m\u001b[0mread\u001b[0m\u001b[0;34m(\u001b[0m\u001b[0mnrows\u001b[0m\u001b[0;34m)\u001b[0m\u001b[0;34m\u001b[0m\u001b[0m\n\u001b[0m\u001b[1;32m    816\u001b[0m \u001b[0;34m\u001b[0m\u001b[0m\n\u001b[1;32m    817\u001b[0m         \u001b[0;32mif\u001b[0m \u001b[0mself\u001b[0m\u001b[0;34m.\u001b[0m\u001b[0moptions\u001b[0m\u001b[0;34m.\u001b[0m\u001b[0mget\u001b[0m\u001b[0;34m(\u001b[0m\u001b[0;34m'as_recarray'\u001b[0m\u001b[0;34m)\u001b[0m\u001b[0;34m:\u001b[0m\u001b[0;34m\u001b[0m\u001b[0m\n",
      "\u001b[0;32m/Users/Theo/anaconda/lib/python3.5/site-packages/pandas/io/parsers.py\u001b[0m in \u001b[0;36mread\u001b[0;34m(self, nrows)\u001b[0m\n\u001b[1;32m   1312\u001b[0m     \u001b[0;32mdef\u001b[0m \u001b[0mread\u001b[0m\u001b[0;34m(\u001b[0m\u001b[0mself\u001b[0m\u001b[0;34m,\u001b[0m \u001b[0mnrows\u001b[0m\u001b[0;34m=\u001b[0m\u001b[0;32mNone\u001b[0m\u001b[0;34m)\u001b[0m\u001b[0;34m:\u001b[0m\u001b[0;34m\u001b[0m\u001b[0m\n\u001b[1;32m   1313\u001b[0m         \u001b[0;32mtry\u001b[0m\u001b[0;34m:\u001b[0m\u001b[0;34m\u001b[0m\u001b[0m\n\u001b[0;32m-> 1314\u001b[0;31m             \u001b[0mdata\u001b[0m \u001b[0;34m=\u001b[0m \u001b[0mself\u001b[0m\u001b[0;34m.\u001b[0m\u001b[0m_reader\u001b[0m\u001b[0;34m.\u001b[0m\u001b[0mread\u001b[0m\u001b[0;34m(\u001b[0m\u001b[0mnrows\u001b[0m\u001b[0;34m)\u001b[0m\u001b[0;34m\u001b[0m\u001b[0m\n\u001b[0m\u001b[1;32m   1315\u001b[0m         \u001b[0;32mexcept\u001b[0m \u001b[0mStopIteration\u001b[0m\u001b[0;34m:\u001b[0m\u001b[0;34m\u001b[0m\u001b[0m\n\u001b[1;32m   1316\u001b[0m             \u001b[0;32mif\u001b[0m \u001b[0mself\u001b[0m\u001b[0;34m.\u001b[0m\u001b[0m_first_chunk\u001b[0m\u001b[0;34m:\u001b[0m\u001b[0;34m\u001b[0m\u001b[0m\n",
      "\u001b[0;32mpandas/parser.pyx\u001b[0m in \u001b[0;36mpandas.parser.TextReader.read (pandas/parser.c:8748)\u001b[0;34m()\u001b[0m\n",
      "\u001b[0;32mpandas/parser.pyx\u001b[0m in \u001b[0;36mpandas.parser.TextReader._read_low_memory (pandas/parser.c:9003)\u001b[0;34m()\u001b[0m\n",
      "\u001b[0;32mpandas/parser.pyx\u001b[0m in \u001b[0;36mpandas.parser.TextReader._read_rows (pandas/parser.c:9731)\u001b[0;34m()\u001b[0m\n",
      "\u001b[0;32mpandas/parser.pyx\u001b[0m in \u001b[0;36mpandas.parser.TextReader._tokenize_rows (pandas/parser.c:9602)\u001b[0;34m()\u001b[0m\n",
      "\u001b[0;32mpandas/parser.pyx\u001b[0m in \u001b[0;36mpandas.parser.raise_parser_error (pandas/parser.c:23325)\u001b[0;34m()\u001b[0m\n",
      "\u001b[0;31mCParserError\u001b[0m: Error tokenizing data. C error: Expected 12 fields in line 12, saw 13\n"
     ]
    }
   ],
   "source": [
    "pb = pd.read_csv(\"B50E0133001_1.csv\")\n",
    "pb.head()"
   ]
  },
  {
   "cell_type": "markdown",
   "metadata": {},
   "source": [
    "Obviously, the read_csv above failed. Upon inspection of the file in an editor, we see that the top is a mess. Not really, but at least we want to sktip this part and get to the actual time series data of interest further down in the file.\n",
    "\n",
    "So let's skip a few rows (too few, but we can correct step by step)"
   ]
  },
  {
   "cell_type": "code",
   "execution_count": 213,
   "metadata": {
    "collapsed": false
   },
   "outputs": [
    {
     "data": {
      "text/html": [
       "<div>\n",
       "<table border=\"1\" class=\"dataframe\">\n",
       "  <thead>\n",
       "    <tr style=\"text-align: right;\">\n",
       "      <th></th>\n",
       "      <th>MP:</th>\n",
       "      <th>Meetpunt</th>\n",
       "      <th>Unnamed: 2</th>\n",
       "      <th>Unnamed: 3</th>\n",
       "      <th>Unnamed: 4</th>\n",
       "      <th>Unnamed: 5</th>\n",
       "      <th>Unnamed: 6</th>\n",
       "      <th>Unnamed: 7</th>\n",
       "      <th>Unnamed: 8</th>\n",
       "      <th>Unnamed: 9</th>\n",
       "      <th>Unnamed: 10</th>\n",
       "      <th>Unnamed: 11</th>\n",
       "    </tr>\n",
       "  </thead>\n",
       "  <tbody>\n",
       "    <tr>\n",
       "      <th>Locatie</th>\n",
       "      <td>Filternummer</td>\n",
       "      <td>Externe aanduiding</td>\n",
       "      <td>X-coordinaat</td>\n",
       "      <td>Y-coordinaat</td>\n",
       "      <td>Maaiveld (cm t.o.v. NAP)</td>\n",
       "      <td>Datum maaiveld gemeten</td>\n",
       "      <td>Startdatum</td>\n",
       "      <td>Einddatum</td>\n",
       "      <td>Meetpunt (cm t.o.v. NAP)</td>\n",
       "      <td>Meetpunt (cm t.o.v. MV)</td>\n",
       "      <td>Bovenkant filter (cm t.o.v. NAP)</td>\n",
       "      <td>Onderkant filter (cm t.o.v. NAP)</td>\n",
       "    </tr>\n",
       "    <tr>\n",
       "      <th>B50E0133</th>\n",
       "      <td>001</td>\n",
       "      <td>50EP0133</td>\n",
       "      <td>129287</td>\n",
       "      <td>395441</td>\n",
       "      <td>1360</td>\n",
       "      <td>11-03-1955</td>\n",
       "      <td>11-03-1955</td>\n",
       "      <td>10-09-1969</td>\n",
       "      <td>1401</td>\n",
       "      <td>41</td>\n",
       "      <td>-240</td>\n",
       "      <td>-340</td>\n",
       "    </tr>\n",
       "    <tr>\n",
       "      <th>B50E0133</th>\n",
       "      <td>001</td>\n",
       "      <td>50EP0133</td>\n",
       "      <td>129287</td>\n",
       "      <td>395441</td>\n",
       "      <td>1360</td>\n",
       "      <td>10-09-1969</td>\n",
       "      <td>10-09-1969</td>\n",
       "      <td>15-02-2011</td>\n",
       "      <td>1401</td>\n",
       "      <td>41</td>\n",
       "      <td>-240</td>\n",
       "      <td>-340</td>\n",
       "    </tr>\n",
       "    <tr>\n",
       "      <th>B50E0133</th>\n",
       "      <td>001</td>\n",
       "      <td>50EP0133</td>\n",
       "      <td>129287</td>\n",
       "      <td>395441</td>\n",
       "      <td>1357</td>\n",
       "      <td>15-02-2011</td>\n",
       "      <td>15-02-2011</td>\n",
       "      <td>13-10-2016</td>\n",
       "      <td>1448</td>\n",
       "      <td>91</td>\n",
       "      <td>-240</td>\n",
       "      <td>-340</td>\n",
       "    </tr>\n",
       "    <tr>\n",
       "      <th>Locatie</th>\n",
       "      <td>Filternummer</td>\n",
       "      <td>Peildatum</td>\n",
       "      <td>Stand (cm t.o.v. MP)</td>\n",
       "      <td>Stand (cm t.o.v. MV)</td>\n",
       "      <td>Stand (cm t.o.v. NAP)</td>\n",
       "      <td>Bijzonderheid</td>\n",
       "      <td>Opmerking</td>\n",
       "      <td>NaN</td>\n",
       "      <td>NaN</td>\n",
       "      <td>NaN</td>\n",
       "      <td>NaN</td>\n",
       "      <td>NaN</td>\n",
       "    </tr>\n",
       "  </tbody>\n",
       "</table>\n",
       "</div>"
      ],
      "text/plain": [
       "                   MP:            Meetpunt            Unnamed: 2  \\\n",
       "Locatie   Filternummer  Externe aanduiding          X-coordinaat   \n",
       "B50E0133           001            50EP0133                129287   \n",
       "B50E0133           001            50EP0133                129287   \n",
       "B50E0133           001            50EP0133                129287   \n",
       "Locatie   Filternummer           Peildatum  Stand (cm t.o.v. MP)   \n",
       "\n",
       "                    Unnamed: 3                Unnamed: 4  \\\n",
       "Locatie           Y-coordinaat  Maaiveld (cm t.o.v. NAP)   \n",
       "B50E0133                395441                      1360   \n",
       "B50E0133                395441                      1360   \n",
       "B50E0133                395441                      1357   \n",
       "Locatie   Stand (cm t.o.v. MV)     Stand (cm t.o.v. NAP)   \n",
       "\n",
       "                      Unnamed: 5  Unnamed: 6  Unnamed: 7  \\\n",
       "Locatie   Datum maaiveld gemeten  Startdatum   Einddatum   \n",
       "B50E0133              11-03-1955  11-03-1955  10-09-1969   \n",
       "B50E0133              10-09-1969  10-09-1969  15-02-2011   \n",
       "B50E0133              15-02-2011  15-02-2011  13-10-2016   \n",
       "Locatie            Bijzonderheid   Opmerking         NaN   \n",
       "\n",
       "                        Unnamed: 8               Unnamed: 9  \\\n",
       "Locatie   Meetpunt (cm t.o.v. NAP)  Meetpunt (cm t.o.v. MV)   \n",
       "B50E0133                      1401                       41   \n",
       "B50E0133                      1401                       41   \n",
       "B50E0133                      1448                       91   \n",
       "Locatie                        NaN                      NaN   \n",
       "\n",
       "                               Unnamed: 10                       Unnamed: 11  \n",
       "Locatie   Bovenkant filter (cm t.o.v. NAP)  Onderkant filter (cm t.o.v. NAP)  \n",
       "B50E0133                              -240                              -340  \n",
       "B50E0133                              -240                              -340  \n",
       "B50E0133                              -240                              -340  \n",
       "Locatie                                NaN                               NaN  "
      ]
     },
     "execution_count": 213,
     "metadata": {},
     "output_type": "execute_result"
    }
   ],
   "source": [
    "pb = pd.read_csv(\"B50E0133001_1.csv\", skiprows=9)\n",
    "pb.head()"
   ]
  },
  {
   "cell_type": "markdown",
   "metadata": {},
   "source": [
    "Ok, we got some top table in the file. See which line pd thought was the header.\n",
    "\n",
    "Ok. skip a few more lines."
   ]
  },
  {
   "cell_type": "code",
   "execution_count": 95,
   "metadata": {
    "collapsed": false
   },
   "outputs": [
    {
     "data": {
      "text/html": [
       "<div>\n",
       "<table border=\"1\" class=\"dataframe\">\n",
       "  <thead>\n",
       "    <tr style=\"text-align: right;\">\n",
       "      <th></th>\n",
       "      <th>Locatie</th>\n",
       "      <th>Filternummer</th>\n",
       "      <th>Externe aanduiding</th>\n",
       "      <th>X-coordinaat</th>\n",
       "      <th>Y-coordinaat</th>\n",
       "      <th>Maaiveld (cm t.o.v. NAP)</th>\n",
       "      <th>Datum maaiveld gemeten</th>\n",
       "      <th>Startdatum</th>\n",
       "      <th>Einddatum</th>\n",
       "      <th>Meetpunt (cm t.o.v. NAP)</th>\n",
       "      <th>Meetpunt (cm t.o.v. MV)</th>\n",
       "      <th>Bovenkant filter (cm t.o.v. NAP)</th>\n",
       "      <th>Onderkant filter (cm t.o.v. NAP)</th>\n",
       "    </tr>\n",
       "  </thead>\n",
       "  <tbody>\n",
       "    <tr>\n",
       "      <th>0</th>\n",
       "      <td>B50E0133</td>\n",
       "      <td>001</td>\n",
       "      <td>50EP0133</td>\n",
       "      <td>129287</td>\n",
       "      <td>395441</td>\n",
       "      <td>1360</td>\n",
       "      <td>11-03-1955</td>\n",
       "      <td>11-03-1955</td>\n",
       "      <td>10-09-1969</td>\n",
       "      <td>1401.0</td>\n",
       "      <td>41.0</td>\n",
       "      <td>-240.0</td>\n",
       "      <td>-340.0</td>\n",
       "    </tr>\n",
       "    <tr>\n",
       "      <th>1</th>\n",
       "      <td>B50E0133</td>\n",
       "      <td>001</td>\n",
       "      <td>50EP0133</td>\n",
       "      <td>129287</td>\n",
       "      <td>395441</td>\n",
       "      <td>1360</td>\n",
       "      <td>10-09-1969</td>\n",
       "      <td>10-09-1969</td>\n",
       "      <td>15-02-2011</td>\n",
       "      <td>1401.0</td>\n",
       "      <td>41.0</td>\n",
       "      <td>-240.0</td>\n",
       "      <td>-340.0</td>\n",
       "    </tr>\n",
       "    <tr>\n",
       "      <th>2</th>\n",
       "      <td>B50E0133</td>\n",
       "      <td>001</td>\n",
       "      <td>50EP0133</td>\n",
       "      <td>129287</td>\n",
       "      <td>395441</td>\n",
       "      <td>1357</td>\n",
       "      <td>15-02-2011</td>\n",
       "      <td>15-02-2011</td>\n",
       "      <td>13-10-2016</td>\n",
       "      <td>1448.0</td>\n",
       "      <td>91.0</td>\n",
       "      <td>-240.0</td>\n",
       "      <td>-340.0</td>\n",
       "    </tr>\n",
       "    <tr>\n",
       "      <th>3</th>\n",
       "      <td>Locatie</td>\n",
       "      <td>Filternummer</td>\n",
       "      <td>Peildatum</td>\n",
       "      <td>Stand (cm t.o.v. MP)</td>\n",
       "      <td>Stand (cm t.o.v. MV)</td>\n",
       "      <td>Stand (cm t.o.v. NAP)</td>\n",
       "      <td>Bijzonderheid</td>\n",
       "      <td>Opmerking</td>\n",
       "      <td>NaN</td>\n",
       "      <td>NaN</td>\n",
       "      <td>NaN</td>\n",
       "      <td>NaN</td>\n",
       "      <td>NaN</td>\n",
       "    </tr>\n",
       "    <tr>\n",
       "      <th>4</th>\n",
       "      <td>B50E0133</td>\n",
       "      <td>001</td>\n",
       "      <td>11-03-1955</td>\n",
       "      <td>675</td>\n",
       "      <td>634</td>\n",
       "      <td>726</td>\n",
       "      <td>NaN</td>\n",
       "      <td>NaN</td>\n",
       "      <td>NaN</td>\n",
       "      <td>NaN</td>\n",
       "      <td>NaN</td>\n",
       "      <td>NaN</td>\n",
       "      <td>NaN</td>\n",
       "    </tr>\n",
       "  </tbody>\n",
       "</table>\n",
       "</div>"
      ],
      "text/plain": [
       "    Locatie  Filternummer Externe aanduiding          X-coordinaat  \\\n",
       "0  B50E0133           001           50EP0133                129287   \n",
       "1  B50E0133           001           50EP0133                129287   \n",
       "2  B50E0133           001           50EP0133                129287   \n",
       "3   Locatie  Filternummer          Peildatum  Stand (cm t.o.v. MP)   \n",
       "4  B50E0133           001         11-03-1955                   675   \n",
       "\n",
       "           Y-coordinaat Maaiveld (cm t.o.v. NAP) Datum maaiveld gemeten  \\\n",
       "0                395441                     1360             11-03-1955   \n",
       "1                395441                     1360             10-09-1969   \n",
       "2                395441                     1357             15-02-2011   \n",
       "3  Stand (cm t.o.v. MV)    Stand (cm t.o.v. NAP)          Bijzonderheid   \n",
       "4                   634                      726                    NaN   \n",
       "\n",
       "   Startdatum   Einddatum  Meetpunt (cm t.o.v. NAP)  Meetpunt (cm t.o.v. MV)  \\\n",
       "0  11-03-1955  10-09-1969                    1401.0                     41.0   \n",
       "1  10-09-1969  15-02-2011                    1401.0                     41.0   \n",
       "2  15-02-2011  13-10-2016                    1448.0                     91.0   \n",
       "3   Opmerking         NaN                       NaN                      NaN   \n",
       "4         NaN         NaN                       NaN                      NaN   \n",
       "\n",
       "   Bovenkant filter (cm t.o.v. NAP)  Onderkant filter (cm t.o.v. NAP)  \n",
       "0                            -240.0                            -340.0  \n",
       "1                            -240.0                            -340.0  \n",
       "2                            -240.0                            -340.0  \n",
       "3                               NaN                               NaN  \n",
       "4                               NaN                               NaN  "
      ]
     },
     "execution_count": 95,
     "metadata": {},
     "output_type": "execute_result"
    }
   ],
   "source": [
    "pb = pd.read_csv(\"B50E0133001_1.csv\", skiprows=11)\n",
    "pb.head()"
   ]
  },
  {
   "cell_type": "markdown",
   "metadata": {},
   "source": [
    "Now we really got the first table in the file, but this is not the one we need. On line 3 we see the desired header line. So skip 3 more lines to get there."
   ]
  },
  {
   "cell_type": "code",
   "execution_count": 75,
   "metadata": {
    "collapsed": false
   },
   "outputs": [
    {
     "data": {
      "text/html": [
       "<div>\n",
       "<table border=\"1\" class=\"dataframe\">\n",
       "  <thead>\n",
       "    <tr style=\"text-align: right;\">\n",
       "      <th></th>\n",
       "      <th>Locatie</th>\n",
       "      <th>Filternummer</th>\n",
       "      <th>Peildatum</th>\n",
       "      <th>Stand (cm t.o.v. MP)</th>\n",
       "      <th>Stand (cm t.o.v. MV)</th>\n",
       "      <th>Stand (cm t.o.v. NAP)</th>\n",
       "      <th>Bijzonderheid</th>\n",
       "      <th>Opmerking</th>\n",
       "      <th>Unnamed: 8</th>\n",
       "      <th>Unnamed: 9</th>\n",
       "      <th>Unnamed: 10</th>\n",
       "      <th>Unnamed: 11</th>\n",
       "    </tr>\n",
       "  </thead>\n",
       "  <tbody>\n",
       "    <tr>\n",
       "      <th>0</th>\n",
       "      <td>B50E0133</td>\n",
       "      <td>1</td>\n",
       "      <td>11-03-1955</td>\n",
       "      <td>675.0</td>\n",
       "      <td>634.0</td>\n",
       "      <td>726.0</td>\n",
       "      <td>NaN</td>\n",
       "      <td>NaN</td>\n",
       "      <td>NaN</td>\n",
       "      <td>NaN</td>\n",
       "      <td>NaN</td>\n",
       "      <td>NaN</td>\n",
       "    </tr>\n",
       "    <tr>\n",
       "      <th>1</th>\n",
       "      <td>B50E0133</td>\n",
       "      <td>1</td>\n",
       "      <td>23-03-1955</td>\n",
       "      <td>668.0</td>\n",
       "      <td>627.0</td>\n",
       "      <td>733.0</td>\n",
       "      <td>NaN</td>\n",
       "      <td>NaN</td>\n",
       "      <td>NaN</td>\n",
       "      <td>NaN</td>\n",
       "      <td>NaN</td>\n",
       "      <td>NaN</td>\n",
       "    </tr>\n",
       "    <tr>\n",
       "      <th>2</th>\n",
       "      <td>B50E0133</td>\n",
       "      <td>1</td>\n",
       "      <td>08-04-1955</td>\n",
       "      <td>669.0</td>\n",
       "      <td>628.0</td>\n",
       "      <td>732.0</td>\n",
       "      <td>NaN</td>\n",
       "      <td>NaN</td>\n",
       "      <td>NaN</td>\n",
       "      <td>NaN</td>\n",
       "      <td>NaN</td>\n",
       "      <td>NaN</td>\n",
       "    </tr>\n",
       "    <tr>\n",
       "      <th>3</th>\n",
       "      <td>B50E0133</td>\n",
       "      <td>1</td>\n",
       "      <td>22-04-1955</td>\n",
       "      <td>660.0</td>\n",
       "      <td>619.0</td>\n",
       "      <td>741.0</td>\n",
       "      <td>NaN</td>\n",
       "      <td>NaN</td>\n",
       "      <td>NaN</td>\n",
       "      <td>NaN</td>\n",
       "      <td>NaN</td>\n",
       "      <td>NaN</td>\n",
       "    </tr>\n",
       "    <tr>\n",
       "      <th>4</th>\n",
       "      <td>B50E0133</td>\n",
       "      <td>1</td>\n",
       "      <td>06-05-1955</td>\n",
       "      <td>651.0</td>\n",
       "      <td>610.0</td>\n",
       "      <td>750.0</td>\n",
       "      <td>NaN</td>\n",
       "      <td>NaN</td>\n",
       "      <td>NaN</td>\n",
       "      <td>NaN</td>\n",
       "      <td>NaN</td>\n",
       "      <td>NaN</td>\n",
       "    </tr>\n",
       "  </tbody>\n",
       "</table>\n",
       "</div>"
      ],
      "text/plain": [
       "    Locatie  Filternummer   Peildatum  Stand (cm t.o.v. MP)  \\\n",
       "0  B50E0133             1  11-03-1955                 675.0   \n",
       "1  B50E0133             1  23-03-1955                 668.0   \n",
       "2  B50E0133             1  08-04-1955                 669.0   \n",
       "3  B50E0133             1  22-04-1955                 660.0   \n",
       "4  B50E0133             1  06-05-1955                 651.0   \n",
       "\n",
       "   Stand (cm t.o.v. MV)  Stand (cm t.o.v. NAP) Bijzonderheid Opmerking  \\\n",
       "0                 634.0                  726.0           NaN       NaN   \n",
       "1                 627.0                  733.0           NaN       NaN   \n",
       "2                 628.0                  732.0           NaN       NaN   \n",
       "3                 619.0                  741.0           NaN       NaN   \n",
       "4                 610.0                  750.0           NaN       NaN   \n",
       "\n",
       "   Unnamed: 8  Unnamed: 9  Unnamed: 10  Unnamed: 11  \n",
       "0         NaN         NaN          NaN          NaN  \n",
       "1         NaN         NaN          NaN          NaN  \n",
       "2         NaN         NaN          NaN          NaN  \n",
       "3         NaN         NaN          NaN          NaN  \n",
       "4         NaN         NaN          NaN          NaN  "
      ]
     },
     "execution_count": 75,
     "metadata": {},
     "output_type": "execute_result"
    }
   ],
   "source": [
    "pb = pd.read_csv(\"B50E0133001_1.csv\", skiprows=15)\n",
    "pb.head()"
   ]
  },
  {
   "cell_type": "markdown",
   "metadata": {},
   "source": [
    "This is fine. At least a good start. But we want \"Peildatum\" as our index. So:"
   ]
  },
  {
   "cell_type": "code",
   "execution_count": 74,
   "metadata": {
    "collapsed": false
   },
   "outputs": [
    {
     "data": {
      "text/html": [
       "<div>\n",
       "<table border=\"1\" class=\"dataframe\">\n",
       "  <thead>\n",
       "    <tr style=\"text-align: right;\">\n",
       "      <th></th>\n",
       "      <th>Locatie</th>\n",
       "      <th>Filternummer</th>\n",
       "      <th>Stand (cm t.o.v. MP)</th>\n",
       "      <th>Stand (cm t.o.v. MV)</th>\n",
       "      <th>Stand (cm t.o.v. NAP)</th>\n",
       "      <th>Bijzonderheid</th>\n",
       "      <th>Opmerking</th>\n",
       "      <th>Unnamed: 8</th>\n",
       "      <th>Unnamed: 9</th>\n",
       "      <th>Unnamed: 10</th>\n",
       "      <th>Unnamed: 11</th>\n",
       "    </tr>\n",
       "    <tr>\n",
       "      <th>Peildatum</th>\n",
       "      <th></th>\n",
       "      <th></th>\n",
       "      <th></th>\n",
       "      <th></th>\n",
       "      <th></th>\n",
       "      <th></th>\n",
       "      <th></th>\n",
       "      <th></th>\n",
       "      <th></th>\n",
       "      <th></th>\n",
       "      <th></th>\n",
       "    </tr>\n",
       "  </thead>\n",
       "  <tbody>\n",
       "    <tr>\n",
       "      <th>11-03-1955</th>\n",
       "      <td>B50E0133</td>\n",
       "      <td>1</td>\n",
       "      <td>675.0</td>\n",
       "      <td>634.0</td>\n",
       "      <td>726.0</td>\n",
       "      <td>NaN</td>\n",
       "      <td>NaN</td>\n",
       "      <td>NaN</td>\n",
       "      <td>NaN</td>\n",
       "      <td>NaN</td>\n",
       "      <td>NaN</td>\n",
       "    </tr>\n",
       "    <tr>\n",
       "      <th>23-03-1955</th>\n",
       "      <td>B50E0133</td>\n",
       "      <td>1</td>\n",
       "      <td>668.0</td>\n",
       "      <td>627.0</td>\n",
       "      <td>733.0</td>\n",
       "      <td>NaN</td>\n",
       "      <td>NaN</td>\n",
       "      <td>NaN</td>\n",
       "      <td>NaN</td>\n",
       "      <td>NaN</td>\n",
       "      <td>NaN</td>\n",
       "    </tr>\n",
       "    <tr>\n",
       "      <th>08-04-1955</th>\n",
       "      <td>B50E0133</td>\n",
       "      <td>1</td>\n",
       "      <td>669.0</td>\n",
       "      <td>628.0</td>\n",
       "      <td>732.0</td>\n",
       "      <td>NaN</td>\n",
       "      <td>NaN</td>\n",
       "      <td>NaN</td>\n",
       "      <td>NaN</td>\n",
       "      <td>NaN</td>\n",
       "      <td>NaN</td>\n",
       "    </tr>\n",
       "    <tr>\n",
       "      <th>22-04-1955</th>\n",
       "      <td>B50E0133</td>\n",
       "      <td>1</td>\n",
       "      <td>660.0</td>\n",
       "      <td>619.0</td>\n",
       "      <td>741.0</td>\n",
       "      <td>NaN</td>\n",
       "      <td>NaN</td>\n",
       "      <td>NaN</td>\n",
       "      <td>NaN</td>\n",
       "      <td>NaN</td>\n",
       "      <td>NaN</td>\n",
       "    </tr>\n",
       "    <tr>\n",
       "      <th>06-05-1955</th>\n",
       "      <td>B50E0133</td>\n",
       "      <td>1</td>\n",
       "      <td>651.0</td>\n",
       "      <td>610.0</td>\n",
       "      <td>750.0</td>\n",
       "      <td>NaN</td>\n",
       "      <td>NaN</td>\n",
       "      <td>NaN</td>\n",
       "      <td>NaN</td>\n",
       "      <td>NaN</td>\n",
       "      <td>NaN</td>\n",
       "    </tr>\n",
       "  </tbody>\n",
       "</table>\n",
       "</div>"
      ],
      "text/plain": [
       "             Locatie  Filternummer  Stand (cm t.o.v. MP)  \\\n",
       "Peildatum                                                  \n",
       "11-03-1955  B50E0133             1                 675.0   \n",
       "23-03-1955  B50E0133             1                 668.0   \n",
       "08-04-1955  B50E0133             1                 669.0   \n",
       "22-04-1955  B50E0133             1                 660.0   \n",
       "06-05-1955  B50E0133             1                 651.0   \n",
       "\n",
       "            Stand (cm t.o.v. MV)  Stand (cm t.o.v. NAP) Bijzonderheid  \\\n",
       "Peildatum                                                               \n",
       "11-03-1955                 634.0                  726.0           NaN   \n",
       "23-03-1955                 627.0                  733.0           NaN   \n",
       "08-04-1955                 628.0                  732.0           NaN   \n",
       "22-04-1955                 619.0                  741.0           NaN   \n",
       "06-05-1955                 610.0                  750.0           NaN   \n",
       "\n",
       "           Opmerking  Unnamed: 8  Unnamed: 9  Unnamed: 10  Unnamed: 11  \n",
       "Peildatum                                                               \n",
       "11-03-1955       NaN         NaN         NaN          NaN          NaN  \n",
       "23-03-1955       NaN         NaN         NaN          NaN          NaN  \n",
       "08-04-1955       NaN         NaN         NaN          NaN          NaN  \n",
       "22-04-1955       NaN         NaN         NaN          NaN          NaN  \n",
       "06-05-1955       NaN         NaN         NaN          NaN          NaN  "
      ]
     },
     "execution_count": 74,
     "metadata": {},
     "output_type": "execute_result"
    }
   ],
   "source": [
    "pb = pd.read_csv(\"B50E0133001_1.csv\", skiprows=15, index_col=\"Peildatum\")\n",
    "pb.head()"
   ]
  },
  {
   "cell_type": "markdown",
   "metadata": {},
   "source": [
    "Better, but the idex still consists of strings and not of dates. Therefore, tell read_csv to part the dates:"
   ]
  },
  {
   "cell_type": "code",
   "execution_count": 73,
   "metadata": {
    "collapsed": false
   },
   "outputs": [
    {
     "data": {
      "text/html": [
       "<div>\n",
       "<table border=\"1\" class=\"dataframe\">\n",
       "  <thead>\n",
       "    <tr style=\"text-align: right;\">\n",
       "      <th></th>\n",
       "      <th>Locatie</th>\n",
       "      <th>Filternummer</th>\n",
       "      <th>Stand (cm t.o.v. MP)</th>\n",
       "      <th>Stand (cm t.o.v. MV)</th>\n",
       "      <th>Stand (cm t.o.v. NAP)</th>\n",
       "      <th>Bijzonderheid</th>\n",
       "      <th>Opmerking</th>\n",
       "      <th>Unnamed: 8</th>\n",
       "      <th>Unnamed: 9</th>\n",
       "      <th>Unnamed: 10</th>\n",
       "      <th>Unnamed: 11</th>\n",
       "    </tr>\n",
       "    <tr>\n",
       "      <th>Peildatum</th>\n",
       "      <th></th>\n",
       "      <th></th>\n",
       "      <th></th>\n",
       "      <th></th>\n",
       "      <th></th>\n",
       "      <th></th>\n",
       "      <th></th>\n",
       "      <th></th>\n",
       "      <th></th>\n",
       "      <th></th>\n",
       "      <th></th>\n",
       "    </tr>\n",
       "  </thead>\n",
       "  <tbody>\n",
       "    <tr>\n",
       "      <th>1955-11-03</th>\n",
       "      <td>B50E0133</td>\n",
       "      <td>1</td>\n",
       "      <td>675.0</td>\n",
       "      <td>634.0</td>\n",
       "      <td>726.0</td>\n",
       "      <td>NaN</td>\n",
       "      <td>NaN</td>\n",
       "      <td>NaN</td>\n",
       "      <td>NaN</td>\n",
       "      <td>NaN</td>\n",
       "      <td>NaN</td>\n",
       "    </tr>\n",
       "    <tr>\n",
       "      <th>1955-03-23</th>\n",
       "      <td>B50E0133</td>\n",
       "      <td>1</td>\n",
       "      <td>668.0</td>\n",
       "      <td>627.0</td>\n",
       "      <td>733.0</td>\n",
       "      <td>NaN</td>\n",
       "      <td>NaN</td>\n",
       "      <td>NaN</td>\n",
       "      <td>NaN</td>\n",
       "      <td>NaN</td>\n",
       "      <td>NaN</td>\n",
       "    </tr>\n",
       "    <tr>\n",
       "      <th>1955-08-04</th>\n",
       "      <td>B50E0133</td>\n",
       "      <td>1</td>\n",
       "      <td>669.0</td>\n",
       "      <td>628.0</td>\n",
       "      <td>732.0</td>\n",
       "      <td>NaN</td>\n",
       "      <td>NaN</td>\n",
       "      <td>NaN</td>\n",
       "      <td>NaN</td>\n",
       "      <td>NaN</td>\n",
       "      <td>NaN</td>\n",
       "    </tr>\n",
       "    <tr>\n",
       "      <th>1955-04-22</th>\n",
       "      <td>B50E0133</td>\n",
       "      <td>1</td>\n",
       "      <td>660.0</td>\n",
       "      <td>619.0</td>\n",
       "      <td>741.0</td>\n",
       "      <td>NaN</td>\n",
       "      <td>NaN</td>\n",
       "      <td>NaN</td>\n",
       "      <td>NaN</td>\n",
       "      <td>NaN</td>\n",
       "      <td>NaN</td>\n",
       "    </tr>\n",
       "    <tr>\n",
       "      <th>1955-06-05</th>\n",
       "      <td>B50E0133</td>\n",
       "      <td>1</td>\n",
       "      <td>651.0</td>\n",
       "      <td>610.0</td>\n",
       "      <td>750.0</td>\n",
       "      <td>NaN</td>\n",
       "      <td>NaN</td>\n",
       "      <td>NaN</td>\n",
       "      <td>NaN</td>\n",
       "      <td>NaN</td>\n",
       "      <td>NaN</td>\n",
       "    </tr>\n",
       "  </tbody>\n",
       "</table>\n",
       "</div>"
      ],
      "text/plain": [
       "             Locatie  Filternummer  Stand (cm t.o.v. MP)  \\\n",
       "Peildatum                                                  \n",
       "1955-11-03  B50E0133             1                 675.0   \n",
       "1955-03-23  B50E0133             1                 668.0   \n",
       "1955-08-04  B50E0133             1                 669.0   \n",
       "1955-04-22  B50E0133             1                 660.0   \n",
       "1955-06-05  B50E0133             1                 651.0   \n",
       "\n",
       "            Stand (cm t.o.v. MV)  Stand (cm t.o.v. NAP) Bijzonderheid  \\\n",
       "Peildatum                                                               \n",
       "1955-11-03                 634.0                  726.0           NaN   \n",
       "1955-03-23                 627.0                  733.0           NaN   \n",
       "1955-08-04                 628.0                  732.0           NaN   \n",
       "1955-04-22                 619.0                  741.0           NaN   \n",
       "1955-06-05                 610.0                  750.0           NaN   \n",
       "\n",
       "           Opmerking  Unnamed: 8  Unnamed: 9  Unnamed: 10  Unnamed: 11  \n",
       "Peildatum                                                               \n",
       "1955-11-03       NaN         NaN         NaN          NaN          NaN  \n",
       "1955-03-23       NaN         NaN         NaN          NaN          NaN  \n",
       "1955-08-04       NaN         NaN         NaN          NaN          NaN  \n",
       "1955-04-22       NaN         NaN         NaN          NaN          NaN  \n",
       "1955-06-05       NaN         NaN         NaN          NaN          NaN  "
      ]
     },
     "execution_count": 73,
     "metadata": {},
     "output_type": "execute_result"
    }
   ],
   "source": [
    "pb = pd.read_csv(\"B50E0133001_1.csv\", skiprows=15, index_col=\"Peildatum\", parse_dates=True)\n",
    "pb.head()"
   ]
  },
  {
   "cell_type": "markdown",
   "metadata": {},
   "source": [
    "Problem is that some dates will be messed up as pandas will by default interprete dates as mm-dd-yyyyy, while we have dd-mm-yyyy. For some dates this does not matter but for other dates this is ambiguous unless it is specified that the dates start with the day instead of the month."
   ]
  },
  {
   "cell_type": "code",
   "execution_count": 71,
   "metadata": {
    "collapsed": false
   },
   "outputs": [],
   "source": [
    "pb = pd.read_csv(\"B50E0133001_1.csv\", skiprows=15, index_col=\"Peildatum\", parse_dates=True, dayfirst=True)\n",
    "pb.head()"
   ]
  },
  {
   "cell_type": "code",
   "execution_count": 72,
   "metadata": {
    "collapsed": false
   },
   "outputs": [
    {
     "data": {
      "text/html": [
       "<div>\n",
       "<table border=\"1\" class=\"dataframe\">\n",
       "  <thead>\n",
       "    <tr style=\"text-align: right;\">\n",
       "      <th></th>\n",
       "      <th>Locatie</th>\n",
       "      <th>Filternummer</th>\n",
       "      <th>Stand (cm t.o.v. MP)</th>\n",
       "      <th>Stand (cm t.o.v. MV)</th>\n",
       "      <th>Stand (cm t.o.v. NAP)</th>\n",
       "      <th>Bijzonderheid</th>\n",
       "      <th>Opmerking</th>\n",
       "      <th>Unnamed: 8</th>\n",
       "      <th>Unnamed: 9</th>\n",
       "      <th>Unnamed: 10</th>\n",
       "      <th>Unnamed: 11</th>\n",
       "    </tr>\n",
       "    <tr>\n",
       "      <th>Peildatum</th>\n",
       "      <th></th>\n",
       "      <th></th>\n",
       "      <th></th>\n",
       "      <th></th>\n",
       "      <th></th>\n",
       "      <th></th>\n",
       "      <th></th>\n",
       "      <th></th>\n",
       "      <th></th>\n",
       "      <th></th>\n",
       "      <th></th>\n",
       "    </tr>\n",
       "  </thead>\n",
       "  <tbody>\n",
       "    <tr>\n",
       "      <th>1955-03-11</th>\n",
       "      <td>B50E0133</td>\n",
       "      <td>1</td>\n",
       "      <td>675.0</td>\n",
       "      <td>634.0</td>\n",
       "      <td>726.0</td>\n",
       "      <td>NaN</td>\n",
       "      <td>NaN</td>\n",
       "      <td>NaN</td>\n",
       "      <td>NaN</td>\n",
       "      <td>NaN</td>\n",
       "      <td>NaN</td>\n",
       "    </tr>\n",
       "    <tr>\n",
       "      <th>1955-03-23</th>\n",
       "      <td>B50E0133</td>\n",
       "      <td>1</td>\n",
       "      <td>668.0</td>\n",
       "      <td>627.0</td>\n",
       "      <td>733.0</td>\n",
       "      <td>NaN</td>\n",
       "      <td>NaN</td>\n",
       "      <td>NaN</td>\n",
       "      <td>NaN</td>\n",
       "      <td>NaN</td>\n",
       "      <td>NaN</td>\n",
       "    </tr>\n",
       "    <tr>\n",
       "      <th>1955-04-08</th>\n",
       "      <td>B50E0133</td>\n",
       "      <td>1</td>\n",
       "      <td>669.0</td>\n",
       "      <td>628.0</td>\n",
       "      <td>732.0</td>\n",
       "      <td>NaN</td>\n",
       "      <td>NaN</td>\n",
       "      <td>NaN</td>\n",
       "      <td>NaN</td>\n",
       "      <td>NaN</td>\n",
       "      <td>NaN</td>\n",
       "    </tr>\n",
       "    <tr>\n",
       "      <th>1955-04-22</th>\n",
       "      <td>B50E0133</td>\n",
       "      <td>1</td>\n",
       "      <td>660.0</td>\n",
       "      <td>619.0</td>\n",
       "      <td>741.0</td>\n",
       "      <td>NaN</td>\n",
       "      <td>NaN</td>\n",
       "      <td>NaN</td>\n",
       "      <td>NaN</td>\n",
       "      <td>NaN</td>\n",
       "      <td>NaN</td>\n",
       "    </tr>\n",
       "    <tr>\n",
       "      <th>1955-05-06</th>\n",
       "      <td>B50E0133</td>\n",
       "      <td>1</td>\n",
       "      <td>651.0</td>\n",
       "      <td>610.0</td>\n",
       "      <td>750.0</td>\n",
       "      <td>NaN</td>\n",
       "      <td>NaN</td>\n",
       "      <td>NaN</td>\n",
       "      <td>NaN</td>\n",
       "      <td>NaN</td>\n",
       "      <td>NaN</td>\n",
       "    </tr>\n",
       "  </tbody>\n",
       "</table>\n",
       "</div>"
      ],
      "text/plain": [
       "             Locatie  Filternummer  Stand (cm t.o.v. MP)  \\\n",
       "Peildatum                                                  \n",
       "1955-03-11  B50E0133             1                 675.0   \n",
       "1955-03-23  B50E0133             1                 668.0   \n",
       "1955-04-08  B50E0133             1                 669.0   \n",
       "1955-04-22  B50E0133             1                 660.0   \n",
       "1955-05-06  B50E0133             1                 651.0   \n",
       "\n",
       "            Stand (cm t.o.v. MV)  Stand (cm t.o.v. NAP) Bijzonderheid  \\\n",
       "Peildatum                                                               \n",
       "1955-03-11                 634.0                  726.0           NaN   \n",
       "1955-03-23                 627.0                  733.0           NaN   \n",
       "1955-04-08                 628.0                  732.0           NaN   \n",
       "1955-04-22                 619.0                  741.0           NaN   \n",
       "1955-05-06                 610.0                  750.0           NaN   \n",
       "\n",
       "           Opmerking  Unnamed: 8  Unnamed: 9  Unnamed: 10  Unnamed: 11  \n",
       "Peildatum                                                               \n",
       "1955-03-11       NaN         NaN         NaN          NaN          NaN  \n",
       "1955-03-23       NaN         NaN         NaN          NaN          NaN  \n",
       "1955-04-08       NaN         NaN         NaN          NaN          NaN  \n",
       "1955-04-22       NaN         NaN         NaN          NaN          NaN  \n",
       "1955-05-06       NaN         NaN         NaN          NaN          NaN  "
      ]
     },
     "execution_count": 72,
     "metadata": {},
     "output_type": "execute_result"
    }
   ],
   "source": [
    "pb.head()"
   ]
  },
  {
   "cell_type": "markdown",
   "metadata": {},
   "source": [
    "So far so good. Now do some clean-up as we only need the 6th column with the head above national datum. We can tell read_csv what columns to use by specifying a list of headers. First trial"
   ]
  },
  {
   "cell_type": "code",
   "execution_count": 99,
   "metadata": {
    "collapsed": false
   },
   "outputs": [
    {
     "ename": "ValueError",
     "evalue": "Index Peildatum invalid",
     "output_type": "error",
     "traceback": [
      "\u001b[0;31m---------------------------------------------------------------------------\u001b[0m",
      "\u001b[0;31mValueError\u001b[0m                                Traceback (most recent call last)",
      "\u001b[0;32m<ipython-input-99-0a65cbcf2cb1>\u001b[0m in \u001b[0;36m<module>\u001b[0;34m()\u001b[0m\n\u001b[1;32m      1\u001b[0m pb = pd.read_csv(\"B50E0133001_1.csv\", skiprows=15,\n\u001b[1;32m      2\u001b[0m                  \u001b[0mindex_col\u001b[0m\u001b[0;34m=\u001b[0m\u001b[0;34m\"Peildatum\"\u001b[0m\u001b[0;34m,\u001b[0m \u001b[0mparse_dates\u001b[0m\u001b[0;34m=\u001b[0m\u001b[0;32mTrue\u001b[0m\u001b[0;34m,\u001b[0m \u001b[0mdayfirst\u001b[0m\u001b[0;34m=\u001b[0m\u001b[0;32mTrue\u001b[0m\u001b[0;34m,\u001b[0m\u001b[0;34m\u001b[0m\u001b[0m\n\u001b[0;32m----> 3\u001b[0;31m                 usecols=[\"Stand (cm t.o.v. NAP)\"])\n\u001b[0m\u001b[1;32m      4\u001b[0m \u001b[0mpb\u001b[0m\u001b[0;34m.\u001b[0m\u001b[0mhead\u001b[0m\u001b[0;34m(\u001b[0m\u001b[0;34m)\u001b[0m\u001b[0;34m\u001b[0m\u001b[0m\n",
      "\u001b[0;32m/Users/Theo/anaconda/lib/python3.5/site-packages/pandas/io/parsers.py\u001b[0m in \u001b[0;36mparser_f\u001b[0;34m(filepath_or_buffer, sep, delimiter, header, names, index_col, usecols, squeeze, prefix, mangle_dupe_cols, dtype, engine, converters, true_values, false_values, skipinitialspace, skiprows, skipfooter, nrows, na_values, keep_default_na, na_filter, verbose, skip_blank_lines, parse_dates, infer_datetime_format, keep_date_col, date_parser, dayfirst, iterator, chunksize, compression, thousands, decimal, lineterminator, quotechar, quoting, escapechar, comment, encoding, dialect, tupleize_cols, error_bad_lines, warn_bad_lines, skip_footer, doublequote, delim_whitespace, as_recarray, compact_ints, use_unsigned, low_memory, buffer_lines, memory_map, float_precision)\u001b[0m\n\u001b[1;32m    560\u001b[0m                     skip_blank_lines=skip_blank_lines)\n\u001b[1;32m    561\u001b[0m \u001b[0;34m\u001b[0m\u001b[0m\n\u001b[0;32m--> 562\u001b[0;31m         \u001b[0;32mreturn\u001b[0m \u001b[0m_read\u001b[0m\u001b[0;34m(\u001b[0m\u001b[0mfilepath_or_buffer\u001b[0m\u001b[0;34m,\u001b[0m \u001b[0mkwds\u001b[0m\u001b[0;34m)\u001b[0m\u001b[0;34m\u001b[0m\u001b[0m\n\u001b[0m\u001b[1;32m    563\u001b[0m \u001b[0;34m\u001b[0m\u001b[0m\n\u001b[1;32m    564\u001b[0m     \u001b[0mparser_f\u001b[0m\u001b[0;34m.\u001b[0m\u001b[0m__name__\u001b[0m \u001b[0;34m=\u001b[0m \u001b[0mname\u001b[0m\u001b[0;34m\u001b[0m\u001b[0m\n",
      "\u001b[0;32m/Users/Theo/anaconda/lib/python3.5/site-packages/pandas/io/parsers.py\u001b[0m in \u001b[0;36m_read\u001b[0;34m(filepath_or_buffer, kwds)\u001b[0m\n\u001b[1;32m    323\u001b[0m         \u001b[0;32mreturn\u001b[0m \u001b[0mparser\u001b[0m\u001b[0;34m\u001b[0m\u001b[0m\n\u001b[1;32m    324\u001b[0m \u001b[0;34m\u001b[0m\u001b[0m\n\u001b[0;32m--> 325\u001b[0;31m     \u001b[0;32mreturn\u001b[0m \u001b[0mparser\u001b[0m\u001b[0;34m.\u001b[0m\u001b[0mread\u001b[0m\u001b[0;34m(\u001b[0m\u001b[0;34m)\u001b[0m\u001b[0;34m\u001b[0m\u001b[0m\n\u001b[0m\u001b[1;32m    326\u001b[0m \u001b[0;34m\u001b[0m\u001b[0m\n\u001b[1;32m    327\u001b[0m _parser_defaults = {\n",
      "\u001b[0;32m/Users/Theo/anaconda/lib/python3.5/site-packages/pandas/io/parsers.py\u001b[0m in \u001b[0;36mread\u001b[0;34m(self, nrows)\u001b[0m\n\u001b[1;32m    813\u001b[0m                 \u001b[0;32mraise\u001b[0m \u001b[0mValueError\u001b[0m\u001b[0;34m(\u001b[0m\u001b[0;34m'skip_footer not supported for iteration'\u001b[0m\u001b[0;34m)\u001b[0m\u001b[0;34m\u001b[0m\u001b[0m\n\u001b[1;32m    814\u001b[0m \u001b[0;34m\u001b[0m\u001b[0m\n\u001b[0;32m--> 815\u001b[0;31m         \u001b[0mret\u001b[0m \u001b[0;34m=\u001b[0m \u001b[0mself\u001b[0m\u001b[0;34m.\u001b[0m\u001b[0m_engine\u001b[0m\u001b[0;34m.\u001b[0m\u001b[0mread\u001b[0m\u001b[0;34m(\u001b[0m\u001b[0mnrows\u001b[0m\u001b[0;34m)\u001b[0m\u001b[0;34m\u001b[0m\u001b[0m\n\u001b[0m\u001b[1;32m    816\u001b[0m \u001b[0;34m\u001b[0m\u001b[0m\n\u001b[1;32m    817\u001b[0m         \u001b[0;32mif\u001b[0m \u001b[0mself\u001b[0m\u001b[0;34m.\u001b[0m\u001b[0moptions\u001b[0m\u001b[0;34m.\u001b[0m\u001b[0mget\u001b[0m\u001b[0;34m(\u001b[0m\u001b[0;34m'as_recarray'\u001b[0m\u001b[0;34m)\u001b[0m\u001b[0;34m:\u001b[0m\u001b[0;34m\u001b[0m\u001b[0m\n",
      "\u001b[0;32m/Users/Theo/anaconda/lib/python3.5/site-packages/pandas/io/parsers.py\u001b[0m in \u001b[0;36mread\u001b[0;34m(self, nrows)\u001b[0m\n\u001b[1;32m   1385\u001b[0m \u001b[0;34m\u001b[0m\u001b[0m\n\u001b[1;32m   1386\u001b[0m             \u001b[0mnames\u001b[0m\u001b[0;34m,\u001b[0m \u001b[0mdata\u001b[0m \u001b[0;34m=\u001b[0m \u001b[0mself\u001b[0m\u001b[0;34m.\u001b[0m\u001b[0m_do_date_conversions\u001b[0m\u001b[0;34m(\u001b[0m\u001b[0mnames\u001b[0m\u001b[0;34m,\u001b[0m \u001b[0mdata\u001b[0m\u001b[0;34m)\u001b[0m\u001b[0;34m\u001b[0m\u001b[0m\n\u001b[0;32m-> 1387\u001b[0;31m             \u001b[0mindex\u001b[0m\u001b[0;34m,\u001b[0m \u001b[0mnames\u001b[0m \u001b[0;34m=\u001b[0m \u001b[0mself\u001b[0m\u001b[0;34m.\u001b[0m\u001b[0m_make_index\u001b[0m\u001b[0;34m(\u001b[0m\u001b[0mdata\u001b[0m\u001b[0;34m,\u001b[0m \u001b[0malldata\u001b[0m\u001b[0;34m,\u001b[0m \u001b[0mnames\u001b[0m\u001b[0;34m)\u001b[0m\u001b[0;34m\u001b[0m\u001b[0m\n\u001b[0m\u001b[1;32m   1388\u001b[0m \u001b[0;34m\u001b[0m\u001b[0m\n\u001b[1;32m   1389\u001b[0m         \u001b[0;31m# maybe create a mi on the columns\u001b[0m\u001b[0;34m\u001b[0m\u001b[0;34m\u001b[0m\u001b[0m\n",
      "\u001b[0;32m/Users/Theo/anaconda/lib/python3.5/site-packages/pandas/io/parsers.py\u001b[0m in \u001b[0;36m_make_index\u001b[0;34m(self, data, alldata, columns, indexnamerow)\u001b[0m\n\u001b[1;32m   1027\u001b[0m \u001b[0;34m\u001b[0m\u001b[0m\n\u001b[1;32m   1028\u001b[0m         \u001b[0;32melif\u001b[0m \u001b[0;32mnot\u001b[0m \u001b[0mself\u001b[0m\u001b[0;34m.\u001b[0m\u001b[0m_has_complex_date_col\u001b[0m\u001b[0;34m:\u001b[0m\u001b[0;34m\u001b[0m\u001b[0m\n\u001b[0;32m-> 1029\u001b[0;31m             \u001b[0mindex\u001b[0m \u001b[0;34m=\u001b[0m \u001b[0mself\u001b[0m\u001b[0;34m.\u001b[0m\u001b[0m_get_simple_index\u001b[0m\u001b[0;34m(\u001b[0m\u001b[0malldata\u001b[0m\u001b[0;34m,\u001b[0m \u001b[0mcolumns\u001b[0m\u001b[0;34m)\u001b[0m\u001b[0;34m\u001b[0m\u001b[0m\n\u001b[0m\u001b[1;32m   1030\u001b[0m             \u001b[0mindex\u001b[0m \u001b[0;34m=\u001b[0m \u001b[0mself\u001b[0m\u001b[0;34m.\u001b[0m\u001b[0m_agg_index\u001b[0m\u001b[0;34m(\u001b[0m\u001b[0mindex\u001b[0m\u001b[0;34m)\u001b[0m\u001b[0;34m\u001b[0m\u001b[0m\n\u001b[1;32m   1031\u001b[0m \u001b[0;34m\u001b[0m\u001b[0m\n",
      "\u001b[0;32m/Users/Theo/anaconda/lib/python3.5/site-packages/pandas/io/parsers.py\u001b[0m in \u001b[0;36m_get_simple_index\u001b[0;34m(self, data, columns)\u001b[0m\n\u001b[1;32m   1061\u001b[0m         \u001b[0mindex\u001b[0m \u001b[0;34m=\u001b[0m \u001b[0;34m[\u001b[0m\u001b[0;34m]\u001b[0m\u001b[0;34m\u001b[0m\u001b[0m\n\u001b[1;32m   1062\u001b[0m         \u001b[0;32mfor\u001b[0m \u001b[0midx\u001b[0m \u001b[0;32min\u001b[0m \u001b[0mself\u001b[0m\u001b[0;34m.\u001b[0m\u001b[0mindex_col\u001b[0m\u001b[0;34m:\u001b[0m\u001b[0;34m\u001b[0m\u001b[0m\n\u001b[0;32m-> 1063\u001b[0;31m             \u001b[0mi\u001b[0m \u001b[0;34m=\u001b[0m \u001b[0mix\u001b[0m\u001b[0;34m(\u001b[0m\u001b[0midx\u001b[0m\u001b[0;34m)\u001b[0m\u001b[0;34m\u001b[0m\u001b[0m\n\u001b[0m\u001b[1;32m   1064\u001b[0m             \u001b[0mto_remove\u001b[0m\u001b[0;34m.\u001b[0m\u001b[0mappend\u001b[0m\u001b[0;34m(\u001b[0m\u001b[0mi\u001b[0m\u001b[0;34m)\u001b[0m\u001b[0;34m\u001b[0m\u001b[0m\n\u001b[1;32m   1065\u001b[0m             \u001b[0mindex\u001b[0m\u001b[0;34m.\u001b[0m\u001b[0mappend\u001b[0m\u001b[0;34m(\u001b[0m\u001b[0mdata\u001b[0m\u001b[0;34m[\u001b[0m\u001b[0mi\u001b[0m\u001b[0;34m]\u001b[0m\u001b[0;34m)\u001b[0m\u001b[0;34m\u001b[0m\u001b[0m\n",
      "\u001b[0;32m/Users/Theo/anaconda/lib/python3.5/site-packages/pandas/io/parsers.py\u001b[0m in \u001b[0;36mix\u001b[0;34m(col)\u001b[0m\n\u001b[1;32m   1055\u001b[0m             \u001b[0;32mif\u001b[0m \u001b[0;32mnot\u001b[0m \u001b[0misinstance\u001b[0m\u001b[0;34m(\u001b[0m\u001b[0mcol\u001b[0m\u001b[0;34m,\u001b[0m \u001b[0mcompat\u001b[0m\u001b[0;34m.\u001b[0m\u001b[0mstring_types\u001b[0m\u001b[0;34m)\u001b[0m\u001b[0;34m:\u001b[0m\u001b[0;34m\u001b[0m\u001b[0m\n\u001b[1;32m   1056\u001b[0m                 \u001b[0;32mreturn\u001b[0m \u001b[0mcol\u001b[0m\u001b[0;34m\u001b[0m\u001b[0m\n\u001b[0;32m-> 1057\u001b[0;31m             \u001b[0;32mraise\u001b[0m \u001b[0mValueError\u001b[0m\u001b[0;34m(\u001b[0m\u001b[0;34m'Index %s invalid'\u001b[0m \u001b[0;34m%\u001b[0m \u001b[0mcol\u001b[0m\u001b[0;34m)\u001b[0m\u001b[0;34m\u001b[0m\u001b[0m\n\u001b[0m\u001b[1;32m   1058\u001b[0m         \u001b[0mindex\u001b[0m \u001b[0;34m=\u001b[0m \u001b[0;32mNone\u001b[0m\u001b[0;34m\u001b[0m\u001b[0m\n\u001b[1;32m   1059\u001b[0m \u001b[0;34m\u001b[0m\u001b[0m\n",
      "\u001b[0;31mValueError\u001b[0m: Index Peildatum invalid"
     ]
    }
   ],
   "source": [
    "pb = pd.read_csv(\"B50E0133001_1.csv\", skiprows=15,\n",
    "                 index_col=\"Peildatum\", parse_dates=True, dayfirst=True,\n",
    "                usecols=[\"Stand (cm t.o.v. NAP)\"])\n",
    "pb.head()"
   ]
  },
  {
   "cell_type": "markdown",
   "metadata": {},
   "source": [
    "This failed, because we now have to specify all columns we want to use. This should include the columne \"Peildatum\". So add it to the list."
   ]
  },
  {
   "cell_type": "code",
   "execution_count": 214,
   "metadata": {
    "collapsed": false
   },
   "outputs": [
    {
     "data": {
      "text/html": [
       "<div>\n",
       "<table border=\"1\" class=\"dataframe\">\n",
       "  <thead>\n",
       "    <tr style=\"text-align: right;\">\n",
       "      <th></th>\n",
       "      <th>Stand (cm t.o.v. NAP)</th>\n",
       "    </tr>\n",
       "    <tr>\n",
       "      <th>Peildatum</th>\n",
       "      <th></th>\n",
       "    </tr>\n",
       "  </thead>\n",
       "  <tbody>\n",
       "    <tr>\n",
       "      <th>1955-03-11</th>\n",
       "      <td>726.0</td>\n",
       "    </tr>\n",
       "    <tr>\n",
       "      <th>1955-03-23</th>\n",
       "      <td>733.0</td>\n",
       "    </tr>\n",
       "    <tr>\n",
       "      <th>1955-04-08</th>\n",
       "      <td>732.0</td>\n",
       "    </tr>\n",
       "    <tr>\n",
       "      <th>1955-04-22</th>\n",
       "      <td>741.0</td>\n",
       "    </tr>\n",
       "    <tr>\n",
       "      <th>1955-05-06</th>\n",
       "      <td>750.0</td>\n",
       "    </tr>\n",
       "  </tbody>\n",
       "</table>\n",
       "</div>"
      ],
      "text/plain": [
       "            Stand (cm t.o.v. NAP)\n",
       "Peildatum                        \n",
       "1955-03-11                  726.0\n",
       "1955-03-23                  733.0\n",
       "1955-04-08                  732.0\n",
       "1955-04-22                  741.0\n",
       "1955-05-06                  750.0"
      ]
     },
     "execution_count": 214,
     "metadata": {},
     "output_type": "execute_result"
    }
   ],
   "source": [
    "pb = pd.read_csv(\"B50E0133001_1.csv\", skiprows=15,\n",
    "                 index_col=\"Peildatum\", parse_dates=True, dayfirst=True,\n",
    "                usecols=[\"Peildatum\", \"Stand (cm t.o.v. NAP)\"])\n",
    "pb.head()"
   ]
  },
  {
   "cell_type": "markdown",
   "metadata": {},
   "source": [
    "This is fine. We now have a one-column dataFrame with the proper index.\n",
    "\n",
    "For English speakers, change the column header for better readability."
   ]
  },
  {
   "cell_type": "code",
   "execution_count": 215,
   "metadata": {
    "collapsed": false
   },
   "outputs": [
    {
     "data": {
      "text/html": [
       "<div>\n",
       "<table border=\"1\" class=\"dataframe\">\n",
       "  <thead>\n",
       "    <tr style=\"text-align: right;\">\n",
       "      <th></th>\n",
       "      <th>NAP</th>\n",
       "    </tr>\n",
       "    <tr>\n",
       "      <th>Peildatum</th>\n",
       "      <th></th>\n",
       "    </tr>\n",
       "  </thead>\n",
       "  <tbody>\n",
       "    <tr>\n",
       "      <th>1955-03-11</th>\n",
       "      <td>726.0</td>\n",
       "    </tr>\n",
       "    <tr>\n",
       "      <th>1955-03-23</th>\n",
       "      <td>733.0</td>\n",
       "    </tr>\n",
       "    <tr>\n",
       "      <th>1955-04-08</th>\n",
       "      <td>732.0</td>\n",
       "    </tr>\n",
       "    <tr>\n",
       "      <th>1955-04-22</th>\n",
       "      <td>741.0</td>\n",
       "    </tr>\n",
       "    <tr>\n",
       "      <th>1955-05-06</th>\n",
       "      <td>750.0</td>\n",
       "    </tr>\n",
       "  </tbody>\n",
       "</table>\n",
       "</div>"
      ],
      "text/plain": [
       "              NAP\n",
       "Peildatum        \n",
       "1955-03-11  726.0\n",
       "1955-03-23  733.0\n",
       "1955-04-08  732.0\n",
       "1955-04-22  741.0\n",
       "1955-05-06  750.0"
      ]
     },
     "execution_count": 215,
     "metadata": {},
     "output_type": "execute_result"
    }
   ],
   "source": [
    "pb.columns = [\"NAP\"]\n",
    "pb.head()"
   ]
  },
  {
   "cell_type": "markdown",
   "metadata": {},
   "source": [
    "Check that pb is still a data frame, and only when we select one column from a dataFrame it becomes a series."
   ]
  },
  {
   "cell_type": "code",
   "execution_count": 216,
   "metadata": {
    "collapsed": false
   },
   "outputs": [
    {
     "name": "stdout",
     "output_type": "stream",
     "text": [
      "<class 'pandas.core.frame.DataFrame'>\n",
      "<class 'pandas.core.series.Series'>\n"
     ]
    }
   ],
   "source": [
    "print(type(pb))\n",
    "print(type(pb['NAP']))"
   ]
  },
  {
   "cell_type": "markdown",
   "metadata": {},
   "source": [
    "So select this column to get a time series."
   ]
  },
  {
   "cell_type": "code",
   "execution_count": 111,
   "metadata": {
    "collapsed": false
   },
   "outputs": [
    {
     "name": "stdout",
     "output_type": "stream",
     "text": [
      "<class 'pandas.core.series.Series'>\n"
     ]
    }
   ],
   "source": [
    "pb = pb['NAP']\n",
    "print(type(pb))"
   ]
  },
  {
   "cell_type": "code",
   "execution_count": 218,
   "metadata": {
    "collapsed": false
   },
   "outputs": [
    {
     "data": {
      "text/html": [
       "<div>\n",
       "<table border=\"1\" class=\"dataframe\">\n",
       "  <thead>\n",
       "    <tr style=\"text-align: right;\">\n",
       "      <th></th>\n",
       "      <th>NAP</th>\n",
       "    </tr>\n",
       "    <tr>\n",
       "      <th>Peildatum</th>\n",
       "      <th></th>\n",
       "    </tr>\n",
       "  </thead>\n",
       "  <tbody>\n",
       "    <tr>\n",
       "      <th>1955-03-11</th>\n",
       "      <td>726.0</td>\n",
       "    </tr>\n",
       "    <tr>\n",
       "      <th>1955-03-23</th>\n",
       "      <td>733.0</td>\n",
       "    </tr>\n",
       "    <tr>\n",
       "      <th>1955-04-08</th>\n",
       "      <td>732.0</td>\n",
       "    </tr>\n",
       "    <tr>\n",
       "      <th>1955-04-22</th>\n",
       "      <td>741.0</td>\n",
       "    </tr>\n",
       "    <tr>\n",
       "      <th>1955-05-06</th>\n",
       "      <td>750.0</td>\n",
       "    </tr>\n",
       "    <tr>\n",
       "      <th>1955-05-20</th>\n",
       "      <td>751.0</td>\n",
       "    </tr>\n",
       "    <tr>\n",
       "      <th>1955-06-03</th>\n",
       "      <td>744.0</td>\n",
       "    </tr>\n",
       "    <tr>\n",
       "      <th>1955-06-17</th>\n",
       "      <td>741.0</td>\n",
       "    </tr>\n",
       "    <tr>\n",
       "      <th>1955-07-01</th>\n",
       "      <td>662.0</td>\n",
       "    </tr>\n",
       "    <tr>\n",
       "      <th>1955-07-15</th>\n",
       "      <td>634.0</td>\n",
       "    </tr>\n",
       "    <tr>\n",
       "      <th>1955-07-29</th>\n",
       "      <td>612.0</td>\n",
       "    </tr>\n",
       "    <tr>\n",
       "      <th>1955-08-12</th>\n",
       "      <td>691.0</td>\n",
       "    </tr>\n",
       "    <tr>\n",
       "      <th>1955-08-26</th>\n",
       "      <td>607.0</td>\n",
       "    </tr>\n",
       "    <tr>\n",
       "      <th>1955-09-06</th>\n",
       "      <td>609.0</td>\n",
       "    </tr>\n",
       "    <tr>\n",
       "      <th>1955-10-04</th>\n",
       "      <td>634.0</td>\n",
       "    </tr>\n",
       "    <tr>\n",
       "      <th>1955-11-12</th>\n",
       "      <td>611.0</td>\n",
       "    </tr>\n",
       "    <tr>\n",
       "      <th>1955-12-11</th>\n",
       "      <td>653.0</td>\n",
       "    </tr>\n",
       "    <tr>\n",
       "      <th>1956-01-15</th>\n",
       "      <td>706.0</td>\n",
       "    </tr>\n",
       "    <tr>\n",
       "      <th>1956-03-18</th>\n",
       "      <td>774.0</td>\n",
       "    </tr>\n",
       "    <tr>\n",
       "      <th>1956-04-15</th>\n",
       "      <td>688.0</td>\n",
       "    </tr>\n",
       "  </tbody>\n",
       "</table>\n",
       "</div>"
      ],
      "text/plain": [
       "              NAP\n",
       "Peildatum        \n",
       "1955-03-11  726.0\n",
       "1955-03-23  733.0\n",
       "1955-04-08  732.0\n",
       "1955-04-22  741.0\n",
       "1955-05-06  750.0\n",
       "1955-05-20  751.0\n",
       "1955-06-03  744.0\n",
       "1955-06-17  741.0\n",
       "1955-07-01  662.0\n",
       "1955-07-15  634.0\n",
       "1955-07-29  612.0\n",
       "1955-08-12  691.0\n",
       "1955-08-26  607.0\n",
       "1955-09-06  609.0\n",
       "1955-10-04  634.0\n",
       "1955-11-12  611.0\n",
       "1955-12-11  653.0\n",
       "1956-01-15  706.0\n",
       "1956-03-18  774.0\n",
       "1956-04-15  688.0"
      ]
     },
     "execution_count": 218,
     "metadata": {},
     "output_type": "execute_result"
    }
   ],
   "source": [
    "pb.head(20)"
   ]
  },
  {
   "cell_type": "markdown",
   "metadata": {},
   "source": [
    "Dataframes and series can immediately be plotted."
   ]
  },
  {
   "cell_type": "code",
   "execution_count": 114,
   "metadata": {
    "collapsed": false
   },
   "outputs": [
    {
     "data": {
      "image/png": "[encoded data removed]",
      "text/plain": [
       "<matplotlib.figure.Figure at 0x11480c160>"
      ]
     },
     "metadata": {},
     "output_type": "display_data"
    }
   ],
   "source": [
    "pb.plot()\n",
    "plt.show()"
   ]
  },
  {
   "cell_type": "markdown",
   "metadata": {},
   "source": [
    "The next problem is to get the mean of the highest three measurements within each hydrological year, which starts on April 1 and ends at March 31.\n",
    "\n",
    "This requires resampling the data per hydrologic year.\n",
    "\n",
    "Which can be done with aliases put in the rule of the resample function of pandas series and dataFrames.\n",
    "\n",
    "Here are options:"
   ]
  },
  {
   "cell_type": "markdown",
   "metadata": {},
   "source": [
    "# Offset aliases (previously alled time rules) that can be used or resampling a time series or a dataFrame\n",
    "\n",
    "http://pandas.pydata.org/pandas-docs/stable/timeseries.html#offset-aliases\n",
    "\n",
    "B       business day frequency\n",
    "C       custom business day frequency (experimental)\n",
    "D       calendar day frequency\n",
    "W       weekly frequency\n",
    "M       month end frequency\n",
    "SM      semi-month end frequency (15th and end of month)\n",
    "BM      business month end frequency\n",
    "CBM     custom business month end frequency\n",
    "MS      month start frequency\n",
    "SMS     semi-month start frequency (1st and 15th)\n",
    "BMS     business month start frequency\n",
    "CBMS    custom business month start frequency\n",
    "Q       quarter end frequency\n",
    "BQ      business quarter endfrequency\n",
    "QS      quarter start frequency\n",
    "BQS     business quarter start frequency\n",
    "A       year end frequency\n",
    "BA      business year end frequency\n",
    "AS      year start frequency\n",
    "BAS     business year start frequency\n",
    "BH      business hour frequency\n",
    "H       hourly frequency\n",
    "T       minutely frequency\n",
    "S       secondly frequency\n",
    "L       milliseonds\n",
    "U       microseconds\n",
    "N       nanoseconds"
   ]
  },
  {
   "cell_type": "markdown",
   "metadata": {},
   "source": [
    "But fo sample at some arbitrary interval we need anchored offsets as the resample rule. Here are the options."
   ]
  },
  {
   "cell_type": "markdown",
   "metadata": {},
   "source": [
    "# Anchored offsets\n",
    "\n",
    "http://pandas.pydata.org/pandas-docs/stable/timeseries.html#offset-aliases\n",
    "\n",
    "For some frequencies you can specify an anchoring suffix:\n",
    "\n",
    "Alias\tDescription\n",
    "W-SUN\tweekly frequency (sundays). Same as ‘W’\n",
    "W-MON\tweekly frequency (mondays)\n",
    "W-TUE\tweekly frequency (tuesdays)\n",
    "W-WED\tweekly frequency (wednesdays)\n",
    "W-THU\tweekly frequency (thursdays)\n",
    "W-FRI\tweekly frequency (fridays)\n",
    "W-SAT\tweekly frequency (saturdays)\n",
    "(B)Q(S)-DEC\tquarterly frequency, year ends in December. Same as ‘Q’\n",
    "(B)Q(S)-JAN\tquarterly frequency, year ends in January\n",
    "(B)Q(S)-FEB\tquarterly frequency, year ends in February\n",
    "(B)Q(S)-MAR\tquarterly frequency, year ends in March\n",
    "(B)Q(S)-APR\tquarterly frequency, year ends in April\n",
    "(B)Q(S)-MAY\tquarterly frequency, year ends in May\n",
    "(B)Q(S)-JUN\tquarterly frequency, year ends in June\n",
    "(B)Q(S)-JUL\tquarterly frequency, year ends in July\n",
    "(B)Q(S)-AUG\tquarterly frequency, year ends in August\n",
    "(B)Q(S)-SEP\tquarterly frequency, year ends in September\n",
    "(B)Q(S)-OCT\tquarterly frequency, year ends in October\n",
    "(B)Q(S)-NOV\tquarterly frequency, year ends in November\n",
    "(B)A(S)-DEC\tannual frequency, anchored end of December. Same as ‘A’\n",
    "(B)A(S)-JAN\tannual frequency, anchored end of January\n",
    "(B)A(S)-FEB\tannual frequency, anchored end of February\n",
    "(B)A(S)-MAR\tannual frequency, anchored end of March\n",
    "(B)A(S)-APR\tannual frequency, anchored end of April\n",
    "(B)A(S)-MAY\tannual frequency, anchored end of May\n",
    "(B)A(S)-JUN\tannual frequency, anchored end of June\n",
    "(B)A(S)-JUL\tannual frequency, anchored end of July\n",
    "(B)A(S)-AUG\tannual frequency, anchored end of August\n",
    "(B)A(S)-SEP\tannual frequency, anchored end of September\n",
    "(B)A(S)-OCT\tannual frequency, anchored end of October\n",
    "(B)A(S)-NOV\tannual frequency, anchored end of November"
   ]
  },
  {
   "cell_type": "markdown",
   "metadata": {},
   "source": [
    "To see this at work. Resample the time series by hydrological year and compute the mean head in every hydrological year. This can be done as follows:"
   ]
  },
  {
   "cell_type": "code",
   "execution_count": 182,
   "metadata": {
    "collapsed": false
   },
   "outputs": [
    {
     "data": {
      "text/plain": [
       "Peildatum\n",
       "1954-04-01     729.500000\n",
       "1955-04-01     685.411765\n",
       "1956-04-01     706.909091\n",
       "1957-04-01     722.666667\n",
       "1958-04-01     766.750000\n",
       "1959-04-01     681.583333\n",
       "1960-04-01     669.416667\n",
       "1961-04-01     780.333333\n",
       "1962-04-01     761.272727\n",
       "1963-04-01     665.000000\n",
       "1964-04-01     708.857143\n",
       "1965-04-01     824.208333\n",
       "1966-04-01     909.240000\n",
       "1967-04-01     875.423077\n",
       "1968-04-01     885.884615\n",
       "1969-04-01     870.555556\n",
       "1970-04-01     895.576923\n",
       "1971-04-01     856.884615\n",
       "1972-04-01     865.080000\n",
       "1973-04-01     915.961538\n",
       "1974-04-01     970.038462\n",
       "1975-04-01    1000.518519\n",
       "1976-04-01     953.807692\n",
       "1977-04-01     974.884615\n",
       "1978-04-01    1022.360000\n",
       "1979-04-01    1065.000000\n",
       "1980-04-01    1059.296296\n",
       "1981-04-01    1052.769231\n",
       "1982-04-01    1062.703704\n",
       "1983-04-01    1071.518519\n",
       "                 ...     \n",
       "1987-04-01    1054.312500\n",
       "1988-04-01    1050.057143\n",
       "1989-04-01    1019.481481\n",
       "1990-04-01     994.576923\n",
       "1991-04-01     987.076923\n",
       "1992-04-01     998.923077\n",
       "1993-04-01    1013.576923\n",
       "1994-04-01    1055.000000\n",
       "1995-04-01    1023.360000\n",
       "1996-04-01     954.916667\n",
       "1997-04-01     964.653846\n",
       "1998-04-01    1015.880000\n",
       "1999-04-01    1041.520000\n",
       "2000-04-01    1047.363636\n",
       "2001-04-01    1065.052632\n",
       "2002-04-01    1058.545455\n",
       "2003-04-01    1018.875000\n",
       "2004-04-01    1004.086957\n",
       "2005-04-01    1013.347826\n",
       "2006-04-01    1023.708333\n",
       "2007-04-01    1036.333333\n",
       "2008-04-01    1018.739130\n",
       "2009-04-01    1009.500000\n",
       "2010-04-01    1043.625000\n",
       "2011-04-01    1037.437690\n",
       "2012-04-01    1036.402740\n",
       "2013-04-01    1033.126027\n",
       "2014-04-01    1036.473973\n",
       "2015-04-01    1041.406593\n",
       "2016-04-01    1054.360000\n",
       "Freq: AS-APR, Name: NAP, dtype: float64"
      ]
     },
     "execution_count": 182,
     "metadata": {},
     "output_type": "execute_result"
    }
   ],
   "source": [
    "pb.resample(\"AS-APR\").mean()"
   ]
  },
  {
   "cell_type": "markdown",
   "metadata": {},
   "source": [
    "This uses Groupby functionality. Which we'll inspect below."
   ]
  },
  {
   "cell_type": "code",
   "execution_count": 190,
   "metadata": {
    "collapsed": false
   },
   "outputs": [
    {
     "name": "stderr",
     "output_type": "stream",
     "text": [
      "/Users/Theo/anaconda/lib/python3.5/site-packages/IPython/utils/dir2.py:65: FutureWarning: .resample() is now a deferred operation\n",
      "use .resample(...).mean() instead of .resample(...)\n",
      "  canary = getattr(obj, '_ipython_canary_method_should_not_exist_', None)\n",
      "/Users/Theo/anaconda/lib/python3.5/site-packages/IPython/utils/dir2.py:74: FutureWarning: .resample() is now a deferred operation\n",
      "use .resample(...).mean() instead of .resample(...)\n",
      "  m = getattr(obj, name, None)\n"
     ]
    },
    {
     "data": {
      "text/plain": [
       "DatetimeIndexResampler [freq=<YearBegin: month=4>, axis=0, closed=left, label=left, convention=start, base=0]"
      ]
     },
     "execution_count": 190,
     "metadata": {},
     "output_type": "execute_result"
    }
   ],
   "source": [
    "Z = pb.resample(\"AS-APR\")\n",
    "Z"
   ]
  },
  {
   "cell_type": "code",
   "execution_count": 191,
   "metadata": {
    "collapsed": false
   },
   "outputs": [
    {
     "data": {
      "image/png": "[encoded data removed]",
      "text/plain": [
       "<matplotlib.figure.Figure at 0x117c73a58>"
      ]
     },
     "metadata": {},
     "output_type": "display_data"
    }
   ],
   "source": [
    "pb.plot()\n",
    "\n",
    "for z in Z:\n",
    "    #print(z)\n",
    "    data = z[-1]\n",
    "    I    = np.argsort(data)[-3:]\n",
    "    data[I].plot(marker='o', linestyle=\"\")\n",
    "plt.show()"
   ]
  },
  {
   "cell_type": "code",
   "execution_count": 211,
   "metadata": {
    "collapsed": false
   },
   "outputs": [
    {
     "data": {
      "text/plain": [
       "1955     729.500000\n",
       "1955     758.333333\n",
       "1956     724.000000\n",
       "1957     776.000000\n",
       "1958     805.000000\n",
       "1959     757.666667\n",
       "1960     784.333333\n",
       "1961     831.000000\n",
       "1962     841.666667\n",
       "1963     698.666667\n",
       "1964     735.666667\n",
       "1965     930.666667\n",
       "1966     955.666667\n",
       "1967     927.333333\n",
       "1968    1096.666667\n",
       "1969     916.666667\n",
       "1970     949.666667\n",
       "1971     874.333333\n",
       "1972     897.666667\n",
       "1973     954.666667\n",
       "1974    1040.000000\n",
       "1975    1059.666667\n",
       "1976     975.666667\n",
       "1977    1031.000000\n",
       "1978    1059.333333\n",
       "1979    1091.333333\n",
       "1980    1092.333333\n",
       "1981    1098.000000\n",
       "1982    1088.666667\n",
       "1983    1127.000000\n",
       "           ...     \n",
       "1987    1078.666667\n",
       "1988    1075.000000\n",
       "1989    1072.666667\n",
       "1990    1013.000000\n",
       "1991    1004.666667\n",
       "1992    1026.000000\n",
       "1993    1071.666667\n",
       "1994    1102.333333\n",
       "1995    1092.666667\n",
       "1996     971.666667\n",
       "1997    1002.000000\n",
       "1998    1102.666667\n",
       "1999    1097.333333\n",
       "2000    1079.666667\n",
       "2001    1112.000000\n",
       "2002    1122.666667\n",
       "2003    1056.666667\n",
       "2004    1035.333333\n",
       "2005    1033.333333\n",
       "2006    1064.666667\n",
       "2007    1062.666667\n",
       "2008    1052.333333\n",
       "2009    1039.666667\n",
       "2010    1086.333333\n",
       "2011    1070.666667\n",
       "2012    1062.000000\n",
       "2013    1061.333333\n",
       "2014    1083.333333\n",
       "2015    1099.666667\n",
       "2016    1094.666667\n",
       "dtype: float64"
      ]
     },
     "execution_count": 211,
     "metadata": {},
     "output_type": "execute_result"
    }
   ],
   "source": [
    "pb.plot()\n",
    "\n",
    "d = list()\n",
    "y = list()\n",
    "for z in Z:\n",
    "    data = z[-1]\n",
    "    I    = np.argsort(data)[-3:]\n",
    "    y.append(data.index.year[0])\n",
    "    d.append(data[I].mean())\n",
    "\n",
    "pd.Series(d, index=y)"
   ]
  },
  {
   "cell_type": "code",
   "execution_count": null,
   "metadata": {
    "collapsed": true
   },
   "outputs": [],
   "source": []
  }
 ],
 "metadata": {
  "anaconda-cloud": {},
  "kernelspec": {
   "display_name": "Python [default]",
   "language": "python",
   "name": "python3"
  },
  "language_info": {
   "codemirror_mode": {
    "name": "ipython",
    "version": 3
   },
   "file_extension": ".py",
   "mimetype": "text/x-python",
   "name": "python",
   "nbconvert_exporter": "python",
   "pygments_lexer": "ipython3",
   "version": "3.5.2"
  }
 },
 "nbformat": 4,
 "nbformat_minor": 1
}
