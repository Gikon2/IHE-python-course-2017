{
 "cells": [
  {
   "cell_type": "markdown",
   "metadata": {},
   "source": [
    "<figure>\n",
    "  <IMG SRC=\"../../logo/logo.png\" WIDTH=250 ALIGN=\"right\">\n",
    "</figure>\n",
    "\n",
    "# IHE Python course, 2017\n",
    "\n",
    "# Time series manipulation\n",
    "\n",
    "T.N.Olsthoorn, \n",
    "April 18, 2017\n",
    "\n",
    "\n",
    "Most scientists and engineers, including hydrologists, physisists, electronic engineers, social scientists and economists are often faced with time series that bear information that is to be extracted or to be used in predictions. Pandas has virtually all the tools that are required to handle time series, while keeping dates and data strictly connected. These time series loaded into pandas then form the basis of further analysis.\n",
    "\n",
    "Loading into pandas can be done with pd.read_csv, pd.read_table, pd.read_excel as we used before as well as with numerous other functions ready to be using in pandas. Just use tab-complition to see al the possibilities"
   ]
  },
  {
   "cell_type": "code",
   "execution_count": 2,
   "metadata": {
    "collapsed": true
   },
   "outputs": [],
   "source": [
    "import pandas as pd\n",
    "import matplotlib.pyplot as plt\n",
    "import numpy as np"
   ]
  },
  {
   "cell_type": "markdown",
   "metadata": {},
   "source": [
    "Show which reading functions pandas has as onboard methods.\n",
    "\n",
    "We can use a coprehension to select what we want:"
   ]
  },
  {
   "cell_type": "code",
   "execution_count": 6,
   "metadata": {
    "collapsed": false
   },
   "outputs": [
    {
     "data": {
      "text/plain": [
       "['read_clipboard',\n",
       " 'read_csv',\n",
       " 'read_excel',\n",
       " 'read_fwf',\n",
       " 'read_gbq',\n",
       " 'read_hdf',\n",
       " 'read_html',\n",
       " 'read_json',\n",
       " 'read_msgpack',\n",
       " 'read_pickle',\n",
       " 'read_sas',\n",
       " 'read_sql',\n",
       " 'read_sql_query',\n",
       " 'read_sql_table',\n",
       " 'read_stata',\n",
       " 'read_table']"
      ]
     },
     "execution_count": 6,
     "metadata": {},
     "output_type": "execute_result"
    }
   ],
   "source": [
    "[d for d in dir(pd) if d.startswith(\"read\")]"
   ]
  },
  {
   "cell_type": "code",
   "execution_count": null,
   "metadata": {
    "collapsed": true
   },
   "outputs": [],
   "source": [
    "pd.read_table()"
   ]
  },
  {
   "cell_type": "code",
   "execution_count": 3,
   "metadata": {
    "collapsed": false
   },
   "outputs": [
    {
     "data": {
      "text/plain": [
       "['read_clipboard',\n",
       " 'read_csv',\n",
       " 'read_excel',\n",
       " 'read_fwf',\n",
       " 'read_gbq',\n",
       " 'read_hdf',\n",
       " 'read_html',\n",
       " 'read_json',\n",
       " 'read_msgpack',\n",
       " 'read_pickle',\n",
       " 'read_sas',\n",
       " 'read_sql',\n",
       " 'read_sql_query',\n",
       " 'read_sql_table',\n",
       " 'read_stata',\n",
       " 'read_table']"
      ]
     },
     "execution_count": 3,
     "metadata": {},
     "output_type": "execute_result"
    }
   ],
   "source": [
    "[d for d in dir(pd) if d.startswith(\"read\")]"
   ]
  },
  {
   "cell_type": "markdown",
   "metadata": {},
   "source": [
    "Hence there's a large number of possibilities.\n",
    "\n",
    "Move to the directory with the examples. Then print pwd to see if you're there.\n",
    "\n",
    "Notice, the first part of the pwd command will be different on your computer."
   ]
  },
  {
   "cell_type": "code",
   "execution_count": 7,
   "metadata": {
    "collapsed": false
   },
   "outputs": [
    {
     "name": "stdout",
     "output_type": "stream",
     "text": [
      "[Errno 2] No such file or directory: 'python/IHEcourse2017/exercises/Apr18/'\n",
      "/Users/Theo/GRWMODELS/python/IHEcourse2017/exercises/Apr18\n"
     ]
    }
   ],
   "source": [
    "cd python/IHEcourse2017/exercises/Apr18/"
   ]
  },
  {
   "cell_type": "code",
   "execution_count": 8,
   "metadata": {
    "collapsed": false
   },
   "outputs": [
    {
     "data": {
      "text/plain": [
       "'/Users/Theo/GRWMODELS/python/IHEcourse2017/exercises/Apr18'"
      ]
     },
     "execution_count": 8,
     "metadata": {},
     "output_type": "execute_result"
    }
   ],
   "source": [
    "pwd"
   ]
  },
  {
   "cell_type": "markdown",
   "metadata": {},
   "source": [
    "See if we have a csv datafile, which is a long year groundwater head series in the south of the Netherlands (chosen more or less at random for its length)."
   ]
  },
  {
   "cell_type": "code",
   "execution_count": 9,
   "metadata": {
    "collapsed": false
   },
   "outputs": [
    {
     "name": "stdout",
     "output_type": "stream",
     "text": [
      "\u001b[31mB50E0133001_1.csv\u001b[m\u001b[m*        TimeSeriesSampling.ipynb  threeDoorsQuiz.ipynb\r\n",
      "B50E0133001_1.xls         sorting.ipynb\r\n"
     ]
    }
   ],
   "source": [
    "ls"
   ]
  },
  {
   "cell_type": "markdown",
   "metadata": {},
   "source": [
    "It's not a bad habit to use os to verify that the file exists."
   ]
  },
  {
   "cell_type": "code",
   "execution_count": 88,
   "metadata": {
    "collapsed": false
   },
   "outputs": [
    {
     "data": {
      "text/plain": [
       "True"
      ]
     },
     "execution_count": 88,
     "metadata": {},
     "output_type": "execute_result"
    }
   ],
   "source": [
    "import os\n",
    "os.path.isfile(\"B50E0133001_1.csv\")"
   ]
  },
  {
   "cell_type": "markdown",
   "metadata": {},
   "source": [
    "Ok, now we will naively try to read it in using pd.read_csv. This may fail or not. If it fails we sharpen the knife by adding or using one or more options provided by pd.read_csv."
   ]
  },
  {
   "cell_type": "code",
   "execution_count": 10,
   "metadata": {
    "collapsed": false
   },
   "outputs": [
    {
     "ename": "CParserError",
     "evalue": "Error tokenizing data. C error: Expected 12 fields in line 12, saw 13\n",
     "output_type": "error",
     "traceback": [
      "\u001b[0;31m---------------------------------------------------------------------------\u001b[0m",
      "\u001b[0;31mCParserError\u001b[0m                              Traceback (most recent call last)",
      "\u001b[0;32m<ipython-input-10-d556bc408458>\u001b[0m in \u001b[0;36m<module>\u001b[0;34m()\u001b[0m\n\u001b[0;32m----> 1\u001b[0;31m \u001b[0mpb\u001b[0m \u001b[0;34m=\u001b[0m \u001b[0mpd\u001b[0m\u001b[0;34m.\u001b[0m\u001b[0mread_csv\u001b[0m\u001b[0;34m(\u001b[0m\u001b[0;34m\"B50E0133001_1.csv\"\u001b[0m\u001b[0;34m)\u001b[0m\u001b[0;34m\u001b[0m\u001b[0m\n\u001b[0m\u001b[1;32m      2\u001b[0m \u001b[0mpb\u001b[0m\u001b[0;34m.\u001b[0m\u001b[0mhead\u001b[0m\u001b[0;34m(\u001b[0m\u001b[0;34m)\u001b[0m\u001b[0;34m\u001b[0m\u001b[0m\n",
      "\u001b[0;32m/Users/Theo/anaconda/lib/python3.5/site-packages/pandas/io/parsers.py\u001b[0m in \u001b[0;36mparser_f\u001b[0;34m(filepath_or_buffer, sep, delimiter, header, names, index_col, usecols, squeeze, prefix, mangle_dupe_cols, dtype, engine, converters, true_values, false_values, skipinitialspace, skiprows, skipfooter, nrows, na_values, keep_default_na, na_filter, verbose, skip_blank_lines, parse_dates, infer_datetime_format, keep_date_col, date_parser, dayfirst, iterator, chunksize, compression, thousands, decimal, lineterminator, quotechar, quoting, escapechar, comment, encoding, dialect, tupleize_cols, error_bad_lines, warn_bad_lines, skip_footer, doublequote, delim_whitespace, as_recarray, compact_ints, use_unsigned, low_memory, buffer_lines, memory_map, float_precision)\u001b[0m\n\u001b[1;32m    560\u001b[0m                     skip_blank_lines=skip_blank_lines)\n\u001b[1;32m    561\u001b[0m \u001b[0;34m\u001b[0m\u001b[0m\n\u001b[0;32m--> 562\u001b[0;31m         \u001b[0;32mreturn\u001b[0m \u001b[0m_read\u001b[0m\u001b[0;34m(\u001b[0m\u001b[0mfilepath_or_buffer\u001b[0m\u001b[0;34m,\u001b[0m \u001b[0mkwds\u001b[0m\u001b[0;34m)\u001b[0m\u001b[0;34m\u001b[0m\u001b[0m\n\u001b[0m\u001b[1;32m    563\u001b[0m \u001b[0;34m\u001b[0m\u001b[0m\n\u001b[1;32m    564\u001b[0m     \u001b[0mparser_f\u001b[0m\u001b[0;34m.\u001b[0m\u001b[0m__name__\u001b[0m \u001b[0;34m=\u001b[0m \u001b[0mname\u001b[0m\u001b[0;34m\u001b[0m\u001b[0m\n",
      "\u001b[0;32m/Users/Theo/anaconda/lib/python3.5/site-packages/pandas/io/parsers.py\u001b[0m in \u001b[0;36m_read\u001b[0;34m(filepath_or_buffer, kwds)\u001b[0m\n\u001b[1;32m    323\u001b[0m         \u001b[0;32mreturn\u001b[0m \u001b[0mparser\u001b[0m\u001b[0;34m\u001b[0m\u001b[0m\n\u001b[1;32m    324\u001b[0m \u001b[0;34m\u001b[0m\u001b[0m\n\u001b[0;32m--> 325\u001b[0;31m     \u001b[0;32mreturn\u001b[0m \u001b[0mparser\u001b[0m\u001b[0;34m.\u001b[0m\u001b[0mread\u001b[0m\u001b[0;34m(\u001b[0m\u001b[0;34m)\u001b[0m\u001b[0;34m\u001b[0m\u001b[0m\n\u001b[0m\u001b[1;32m    326\u001b[0m \u001b[0;34m\u001b[0m\u001b[0m\n\u001b[1;32m    327\u001b[0m _parser_defaults = {\n",
      "\u001b[0;32m/Users/Theo/anaconda/lib/python3.5/site-packages/pandas/io/parsers.py\u001b[0m in \u001b[0;36mread\u001b[0;34m(self, nrows)\u001b[0m\n\u001b[1;32m    813\u001b[0m                 \u001b[0;32mraise\u001b[0m \u001b[0mValueError\u001b[0m\u001b[0;34m(\u001b[0m\u001b[0;34m'skip_footer not supported for iteration'\u001b[0m\u001b[0;34m)\u001b[0m\u001b[0;34m\u001b[0m\u001b[0m\n\u001b[1;32m    814\u001b[0m \u001b[0;34m\u001b[0m\u001b[0m\n\u001b[0;32m--> 815\u001b[0;31m         \u001b[0mret\u001b[0m \u001b[0;34m=\u001b[0m \u001b[0mself\u001b[0m\u001b[0;34m.\u001b[0m\u001b[0m_engine\u001b[0m\u001b[0;34m.\u001b[0m\u001b[0mread\u001b[0m\u001b[0;34m(\u001b[0m\u001b[0mnrows\u001b[0m\u001b[0;34m)\u001b[0m\u001b[0;34m\u001b[0m\u001b[0m\n\u001b[0m\u001b[1;32m    816\u001b[0m \u001b[0;34m\u001b[0m\u001b[0m\n\u001b[1;32m    817\u001b[0m         \u001b[0;32mif\u001b[0m \u001b[0mself\u001b[0m\u001b[0;34m.\u001b[0m\u001b[0moptions\u001b[0m\u001b[0;34m.\u001b[0m\u001b[0mget\u001b[0m\u001b[0;34m(\u001b[0m\u001b[0;34m'as_recarray'\u001b[0m\u001b[0;34m)\u001b[0m\u001b[0;34m:\u001b[0m\u001b[0;34m\u001b[0m\u001b[0m\n",
      "\u001b[0;32m/Users/Theo/anaconda/lib/python3.5/site-packages/pandas/io/parsers.py\u001b[0m in \u001b[0;36mread\u001b[0;34m(self, nrows)\u001b[0m\n\u001b[1;32m   1312\u001b[0m     \u001b[0;32mdef\u001b[0m \u001b[0mread\u001b[0m\u001b[0;34m(\u001b[0m\u001b[0mself\u001b[0m\u001b[0;34m,\u001b[0m \u001b[0mnrows\u001b[0m\u001b[0;34m=\u001b[0m\u001b[0;32mNone\u001b[0m\u001b[0;34m)\u001b[0m\u001b[0;34m:\u001b[0m\u001b[0;34m\u001b[0m\u001b[0m\n\u001b[1;32m   1313\u001b[0m         \u001b[0;32mtry\u001b[0m\u001b[0;34m:\u001b[0m\u001b[0;34m\u001b[0m\u001b[0m\n\u001b[0;32m-> 1314\u001b[0;31m             \u001b[0mdata\u001b[0m \u001b[0;34m=\u001b[0m \u001b[0mself\u001b[0m\u001b[0;34m.\u001b[0m\u001b[0m_reader\u001b[0m\u001b[0;34m.\u001b[0m\u001b[0mread\u001b[0m\u001b[0;34m(\u001b[0m\u001b[0mnrows\u001b[0m\u001b[0;34m)\u001b[0m\u001b[0;34m\u001b[0m\u001b[0m\n\u001b[0m\u001b[1;32m   1315\u001b[0m         \u001b[0;32mexcept\u001b[0m \u001b[0mStopIteration\u001b[0m\u001b[0;34m:\u001b[0m\u001b[0;34m\u001b[0m\u001b[0m\n\u001b[1;32m   1316\u001b[0m             \u001b[0;32mif\u001b[0m \u001b[0mself\u001b[0m\u001b[0;34m.\u001b[0m\u001b[0m_first_chunk\u001b[0m\u001b[0;34m:\u001b[0m\u001b[0;34m\u001b[0m\u001b[0m\n",
      "\u001b[0;32mpandas/parser.pyx\u001b[0m in \u001b[0;36mpandas.parser.TextReader.read (pandas/parser.c:8748)\u001b[0;34m()\u001b[0m\n",
      "\u001b[0;32mpandas/parser.pyx\u001b[0m in \u001b[0;36mpandas.parser.TextReader._read_low_memory (pandas/parser.c:9003)\u001b[0;34m()\u001b[0m\n",
      "\u001b[0;32mpandas/parser.pyx\u001b[0m in \u001b[0;36mpandas.parser.TextReader._read_rows (pandas/parser.c:9731)\u001b[0;34m()\u001b[0m\n",
      "\u001b[0;32mpandas/parser.pyx\u001b[0m in \u001b[0;36mpandas.parser.TextReader._tokenize_rows (pandas/parser.c:9602)\u001b[0;34m()\u001b[0m\n",
      "\u001b[0;32mpandas/parser.pyx\u001b[0m in \u001b[0;36mpandas.parser.raise_parser_error (pandas/parser.c:23325)\u001b[0;34m()\u001b[0m\n",
      "\u001b[0;31mCParserError\u001b[0m: Error tokenizing data. C error: Expected 12 fields in line 12, saw 13\n"
     ]
    }
   ],
   "source": [
    "pb = pd.read_csv(\"B50E0133001_1.csv\")\n",
    "pb.head()"
   ]
  },
  {
   "cell_type": "markdown",
   "metadata": {},
   "source": [
    "Obviously, the read_csv above failed. Upon inspection of the file in an editor, we see that the top is a mess. Not really, but at least we want to sktip this part and get to the actual time series data of interest further down in the file.\n",
    "\n",
    "So let's skip a few rows (too few, but we can correct step by step)"
   ]
  },
  {
   "cell_type": "code",
   "execution_count": 11,
   "metadata": {
    "collapsed": false
   },
   "outputs": [
    {
     "data": {
      "text/html": [
       "<div>\n",
       "<table border=\"1\" class=\"dataframe\">\n",
       "  <thead>\n",
       "    <tr style=\"text-align: right;\">\n",
       "      <th></th>\n",
       "      <th>MP:</th>\n",
       "      <th>Meetpunt</th>\n",
       "      <th>Unnamed: 2</th>\n",
       "      <th>Unnamed: 3</th>\n",
       "      <th>Unnamed: 4</th>\n",
       "      <th>Unnamed: 5</th>\n",
       "      <th>Unnamed: 6</th>\n",
       "      <th>Unnamed: 7</th>\n",
       "      <th>Unnamed: 8</th>\n",
       "      <th>Unnamed: 9</th>\n",
       "      <th>Unnamed: 10</th>\n",
       "      <th>Unnamed: 11</th>\n",
       "    </tr>\n",
       "  </thead>\n",
       "  <tbody>\n",
       "    <tr>\n",
       "      <th>Locatie</th>\n",
       "      <td>Filternummer</td>\n",
       "      <td>Externe aanduiding</td>\n",
       "      <td>X-coordinaat</td>\n",
       "      <td>Y-coordinaat</td>\n",
       "      <td>Maaiveld (cm t.o.v. NAP)</td>\n",
       "      <td>Datum maaiveld gemeten</td>\n",
       "      <td>Startdatum</td>\n",
       "      <td>Einddatum</td>\n",
       "      <td>Meetpunt (cm t.o.v. NAP)</td>\n",
       "      <td>Meetpunt (cm t.o.v. MV)</td>\n",
       "      <td>Bovenkant filter (cm t.o.v. NAP)</td>\n",
       "      <td>Onderkant filter (cm t.o.v. NAP)</td>\n",
       "    </tr>\n",
       "    <tr>\n",
       "      <th>B50E0133</th>\n",
       "      <td>001</td>\n",
       "      <td>50EP0133</td>\n",
       "      <td>129287</td>\n",
       "      <td>395441</td>\n",
       "      <td>1360</td>\n",
       "      <td>11-03-1955</td>\n",
       "      <td>11-03-1955</td>\n",
       "      <td>10-09-1969</td>\n",
       "      <td>1401</td>\n",
       "      <td>41</td>\n",
       "      <td>-240</td>\n",
       "      <td>-340</td>\n",
       "    </tr>\n",
       "    <tr>\n",
       "      <th>B50E0133</th>\n",
       "      <td>001</td>\n",
       "      <td>50EP0133</td>\n",
       "      <td>129287</td>\n",
       "      <td>395441</td>\n",
       "      <td>1360</td>\n",
       "      <td>10-09-1969</td>\n",
       "      <td>10-09-1969</td>\n",
       "      <td>15-02-2011</td>\n",
       "      <td>1401</td>\n",
       "      <td>41</td>\n",
       "      <td>-240</td>\n",
       "      <td>-340</td>\n",
       "    </tr>\n",
       "    <tr>\n",
       "      <th>B50E0133</th>\n",
       "      <td>001</td>\n",
       "      <td>50EP0133</td>\n",
       "      <td>129287</td>\n",
       "      <td>395441</td>\n",
       "      <td>1357</td>\n",
       "      <td>15-02-2011</td>\n",
       "      <td>15-02-2011</td>\n",
       "      <td>13-10-2016</td>\n",
       "      <td>1448</td>\n",
       "      <td>91</td>\n",
       "      <td>-240</td>\n",
       "      <td>-340</td>\n",
       "    </tr>\n",
       "    <tr>\n",
       "      <th>Locatie</th>\n",
       "      <td>Filternummer</td>\n",
       "      <td>Peildatum</td>\n",
       "      <td>Stand (cm t.o.v. MP)</td>\n",
       "      <td>Stand (cm t.o.v. MV)</td>\n",
       "      <td>Stand (cm t.o.v. NAP)</td>\n",
       "      <td>Bijzonderheid</td>\n",
       "      <td>Opmerking</td>\n",
       "      <td>NaN</td>\n",
       "      <td>NaN</td>\n",
       "      <td>NaN</td>\n",
       "      <td>NaN</td>\n",
       "      <td>NaN</td>\n",
       "    </tr>\n",
       "  </tbody>\n",
       "</table>\n",
       "</div>"
      ],
      "text/plain": [
       "                   MP:            Meetpunt            Unnamed: 2  \\\n",
       "Locatie   Filternummer  Externe aanduiding          X-coordinaat   \n",
       "B50E0133           001            50EP0133                129287   \n",
       "B50E0133           001            50EP0133                129287   \n",
       "B50E0133           001            50EP0133                129287   \n",
       "Locatie   Filternummer           Peildatum  Stand (cm t.o.v. MP)   \n",
       "\n",
       "                    Unnamed: 3                Unnamed: 4  \\\n",
       "Locatie           Y-coordinaat  Maaiveld (cm t.o.v. NAP)   \n",
       "B50E0133                395441                      1360   \n",
       "B50E0133                395441                      1360   \n",
       "B50E0133                395441                      1357   \n",
       "Locatie   Stand (cm t.o.v. MV)     Stand (cm t.o.v. NAP)   \n",
       "\n",
       "                      Unnamed: 5  Unnamed: 6  Unnamed: 7  \\\n",
       "Locatie   Datum maaiveld gemeten  Startdatum   Einddatum   \n",
       "B50E0133              11-03-1955  11-03-1955  10-09-1969   \n",
       "B50E0133              10-09-1969  10-09-1969  15-02-2011   \n",
       "B50E0133              15-02-2011  15-02-2011  13-10-2016   \n",
       "Locatie            Bijzonderheid   Opmerking         NaN   \n",
       "\n",
       "                        Unnamed: 8               Unnamed: 9  \\\n",
       "Locatie   Meetpunt (cm t.o.v. NAP)  Meetpunt (cm t.o.v. MV)   \n",
       "B50E0133                      1401                       41   \n",
       "B50E0133                      1401                       41   \n",
       "B50E0133                      1448                       91   \n",
       "Locatie                        NaN                      NaN   \n",
       "\n",
       "                               Unnamed: 10                       Unnamed: 11  \n",
       "Locatie   Bovenkant filter (cm t.o.v. NAP)  Onderkant filter (cm t.o.v. NAP)  \n",
       "B50E0133                              -240                              -340  \n",
       "B50E0133                              -240                              -340  \n",
       "B50E0133                              -240                              -340  \n",
       "Locatie                                NaN                               NaN  "
      ]
     },
     "execution_count": 11,
     "metadata": {},
     "output_type": "execute_result"
    }
   ],
   "source": [
    "pb = pd.read_csv(\"B50E0133001_1.csv\", skiprows=9)\n",
    "pb.head()"
   ]
  },
  {
   "cell_type": "markdown",
   "metadata": {},
   "source": [
    "Ok, we got some top table in the file. See which line pd thought was the header.\n",
    "\n",
    "Ok. skip a few more lines."
   ]
  },
  {
   "cell_type": "code",
   "execution_count": 12,
   "metadata": {
    "collapsed": false
   },
   "outputs": [
    {
     "data": {
      "text/html": [
       "<div>\n",
       "<table border=\"1\" class=\"dataframe\">\n",
       "  <thead>\n",
       "    <tr style=\"text-align: right;\">\n",
       "      <th></th>\n",
       "      <th>Locatie</th>\n",
       "      <th>Filternummer</th>\n",
       "      <th>Externe aanduiding</th>\n",
       "      <th>X-coordinaat</th>\n",
       "      <th>Y-coordinaat</th>\n",
       "      <th>Maaiveld (cm t.o.v. NAP)</th>\n",
       "      <th>Datum maaiveld gemeten</th>\n",
       "      <th>Startdatum</th>\n",
       "      <th>Einddatum</th>\n",
       "      <th>Meetpunt (cm t.o.v. NAP)</th>\n",
       "      <th>Meetpunt (cm t.o.v. MV)</th>\n",
       "      <th>Bovenkant filter (cm t.o.v. NAP)</th>\n",
       "      <th>Onderkant filter (cm t.o.v. NAP)</th>\n",
       "    </tr>\n",
       "  </thead>\n",
       "  <tbody>\n",
       "    <tr>\n",
       "      <th>0</th>\n",
       "      <td>B50E0133</td>\n",
       "      <td>001</td>\n",
       "      <td>50EP0133</td>\n",
       "      <td>129287</td>\n",
       "      <td>395441</td>\n",
       "      <td>1360</td>\n",
       "      <td>11-03-1955</td>\n",
       "      <td>11-03-1955</td>\n",
       "      <td>10-09-1969</td>\n",
       "      <td>1401.0</td>\n",
       "      <td>41.0</td>\n",
       "      <td>-240.0</td>\n",
       "      <td>-340.0</td>\n",
       "    </tr>\n",
       "    <tr>\n",
       "      <th>1</th>\n",
       "      <td>B50E0133</td>\n",
       "      <td>001</td>\n",
       "      <td>50EP0133</td>\n",
       "      <td>129287</td>\n",
       "      <td>395441</td>\n",
       "      <td>1360</td>\n",
       "      <td>10-09-1969</td>\n",
       "      <td>10-09-1969</td>\n",
       "      <td>15-02-2011</td>\n",
       "      <td>1401.0</td>\n",
       "      <td>41.0</td>\n",
       "      <td>-240.0</td>\n",
       "      <td>-340.0</td>\n",
       "    </tr>\n",
       "    <tr>\n",
       "      <th>2</th>\n",
       "      <td>B50E0133</td>\n",
       "      <td>001</td>\n",
       "      <td>50EP0133</td>\n",
       "      <td>129287</td>\n",
       "      <td>395441</td>\n",
       "      <td>1357</td>\n",
       "      <td>15-02-2011</td>\n",
       "      <td>15-02-2011</td>\n",
       "      <td>13-10-2016</td>\n",
       "      <td>1448.0</td>\n",
       "      <td>91.0</td>\n",
       "      <td>-240.0</td>\n",
       "      <td>-340.0</td>\n",
       "    </tr>\n",
       "    <tr>\n",
       "      <th>3</th>\n",
       "      <td>Locatie</td>\n",
       "      <td>Filternummer</td>\n",
       "      <td>Peildatum</td>\n",
       "      <td>Stand (cm t.o.v. MP)</td>\n",
       "      <td>Stand (cm t.o.v. MV)</td>\n",
       "      <td>Stand (cm t.o.v. NAP)</td>\n",
       "      <td>Bijzonderheid</td>\n",
       "      <td>Opmerking</td>\n",
       "      <td>NaN</td>\n",
       "      <td>NaN</td>\n",
       "      <td>NaN</td>\n",
       "      <td>NaN</td>\n",
       "      <td>NaN</td>\n",
       "    </tr>\n",
       "    <tr>\n",
       "      <th>4</th>\n",
       "      <td>B50E0133</td>\n",
       "      <td>001</td>\n",
       "      <td>11-03-1955</td>\n",
       "      <td>675</td>\n",
       "      <td>634</td>\n",
       "      <td>726</td>\n",
       "      <td>NaN</td>\n",
       "      <td>NaN</td>\n",
       "      <td>NaN</td>\n",
       "      <td>NaN</td>\n",
       "      <td>NaN</td>\n",
       "      <td>NaN</td>\n",
       "      <td>NaN</td>\n",
       "    </tr>\n",
       "  </tbody>\n",
       "</table>\n",
       "</div>"
      ],
      "text/plain": [
       "    Locatie  Filternummer Externe aanduiding          X-coordinaat  \\\n",
       "0  B50E0133           001           50EP0133                129287   \n",
       "1  B50E0133           001           50EP0133                129287   \n",
       "2  B50E0133           001           50EP0133                129287   \n",
       "3   Locatie  Filternummer          Peildatum  Stand (cm t.o.v. MP)   \n",
       "4  B50E0133           001         11-03-1955                   675   \n",
       "\n",
       "           Y-coordinaat Maaiveld (cm t.o.v. NAP) Datum maaiveld gemeten  \\\n",
       "0                395441                     1360             11-03-1955   \n",
       "1                395441                     1360             10-09-1969   \n",
       "2                395441                     1357             15-02-2011   \n",
       "3  Stand (cm t.o.v. MV)    Stand (cm t.o.v. NAP)          Bijzonderheid   \n",
       "4                   634                      726                    NaN   \n",
       "\n",
       "   Startdatum   Einddatum  Meetpunt (cm t.o.v. NAP)  Meetpunt (cm t.o.v. MV)  \\\n",
       "0  11-03-1955  10-09-1969                    1401.0                     41.0   \n",
       "1  10-09-1969  15-02-2011                    1401.0                     41.0   \n",
       "2  15-02-2011  13-10-2016                    1448.0                     91.0   \n",
       "3   Opmerking         NaN                       NaN                      NaN   \n",
       "4         NaN         NaN                       NaN                      NaN   \n",
       "\n",
       "   Bovenkant filter (cm t.o.v. NAP)  Onderkant filter (cm t.o.v. NAP)  \n",
       "0                            -240.0                            -340.0  \n",
       "1                            -240.0                            -340.0  \n",
       "2                            -240.0                            -340.0  \n",
       "3                               NaN                               NaN  \n",
       "4                               NaN                               NaN  "
      ]
     },
     "execution_count": 12,
     "metadata": {},
     "output_type": "execute_result"
    }
   ],
   "source": [
    "pb = pd.read_csv(\"B50E0133001_1.csv\", skiprows=11)\n",
    "pb.head()"
   ]
  },
  {
   "cell_type": "markdown",
   "metadata": {},
   "source": [
    "Now we really got the first table in the file, but this is not the one we need. On line 3 we see the desired header line. So skip 3 more lines to get there."
   ]
  },
  {
   "cell_type": "code",
   "execution_count": 17,
   "metadata": {
    "collapsed": false
   },
   "outputs": [
    {
     "data": {
      "text/html": [
       "<div>\n",
       "<table border=\"1\" class=\"dataframe\">\n",
       "  <thead>\n",
       "    <tr style=\"text-align: right;\">\n",
       "      <th></th>\n",
       "      <th>Locatie</th>\n",
       "      <th>Filternummer</th>\n",
       "      <th>Peildatum</th>\n",
       "      <th>Stand (cm t.o.v. MP)</th>\n",
       "      <th>Stand (cm t.o.v. MV)</th>\n",
       "      <th>Stand (cm t.o.v. NAP)</th>\n",
       "      <th>Bijzonderheid</th>\n",
       "      <th>Opmerking</th>\n",
       "      <th>Unnamed: 8</th>\n",
       "      <th>Unnamed: 9</th>\n",
       "      <th>Unnamed: 10</th>\n",
       "      <th>Unnamed: 11</th>\n",
       "    </tr>\n",
       "  </thead>\n",
       "  <tbody>\n",
       "    <tr>\n",
       "      <th>0</th>\n",
       "      <td>B50E0133</td>\n",
       "      <td>1</td>\n",
       "      <td>11-03-1955</td>\n",
       "      <td>675.0</td>\n",
       "      <td>634.0</td>\n",
       "      <td>726.0</td>\n",
       "      <td>NaN</td>\n",
       "      <td>NaN</td>\n",
       "      <td>NaN</td>\n",
       "      <td>NaN</td>\n",
       "      <td>NaN</td>\n",
       "      <td>NaN</td>\n",
       "    </tr>\n",
       "    <tr>\n",
       "      <th>1</th>\n",
       "      <td>B50E0133</td>\n",
       "      <td>1</td>\n",
       "      <td>23-03-1955</td>\n",
       "      <td>668.0</td>\n",
       "      <td>627.0</td>\n",
       "      <td>733.0</td>\n",
       "      <td>NaN</td>\n",
       "      <td>NaN</td>\n",
       "      <td>NaN</td>\n",
       "      <td>NaN</td>\n",
       "      <td>NaN</td>\n",
       "      <td>NaN</td>\n",
       "    </tr>\n",
       "    <tr>\n",
       "      <th>2</th>\n",
       "      <td>B50E0133</td>\n",
       "      <td>1</td>\n",
       "      <td>08-04-1955</td>\n",
       "      <td>669.0</td>\n",
       "      <td>628.0</td>\n",
       "      <td>732.0</td>\n",
       "      <td>NaN</td>\n",
       "      <td>NaN</td>\n",
       "      <td>NaN</td>\n",
       "      <td>NaN</td>\n",
       "      <td>NaN</td>\n",
       "      <td>NaN</td>\n",
       "    </tr>\n",
       "    <tr>\n",
       "      <th>3</th>\n",
       "      <td>B50E0133</td>\n",
       "      <td>1</td>\n",
       "      <td>22-04-1955</td>\n",
       "      <td>660.0</td>\n",
       "      <td>619.0</td>\n",
       "      <td>741.0</td>\n",
       "      <td>NaN</td>\n",
       "      <td>NaN</td>\n",
       "      <td>NaN</td>\n",
       "      <td>NaN</td>\n",
       "      <td>NaN</td>\n",
       "      <td>NaN</td>\n",
       "    </tr>\n",
       "    <tr>\n",
       "      <th>4</th>\n",
       "      <td>B50E0133</td>\n",
       "      <td>1</td>\n",
       "      <td>06-05-1955</td>\n",
       "      <td>651.0</td>\n",
       "      <td>610.0</td>\n",
       "      <td>750.0</td>\n",
       "      <td>NaN</td>\n",
       "      <td>NaN</td>\n",
       "      <td>NaN</td>\n",
       "      <td>NaN</td>\n",
       "      <td>NaN</td>\n",
       "      <td>NaN</td>\n",
       "    </tr>\n",
       "  </tbody>\n",
       "</table>\n",
       "</div>"
      ],
      "text/plain": [
       "    Locatie  Filternummer   Peildatum  Stand (cm t.o.v. MP)  \\\n",
       "0  B50E0133             1  11-03-1955                 675.0   \n",
       "1  B50E0133             1  23-03-1955                 668.0   \n",
       "2  B50E0133             1  08-04-1955                 669.0   \n",
       "3  B50E0133             1  22-04-1955                 660.0   \n",
       "4  B50E0133             1  06-05-1955                 651.0   \n",
       "\n",
       "   Stand (cm t.o.v. MV)  Stand (cm t.o.v. NAP) Bijzonderheid Opmerking  \\\n",
       "0                 634.0                  726.0           NaN       NaN   \n",
       "1                 627.0                  733.0           NaN       NaN   \n",
       "2                 628.0                  732.0           NaN       NaN   \n",
       "3                 619.0                  741.0           NaN       NaN   \n",
       "4                 610.0                  750.0           NaN       NaN   \n",
       "\n",
       "   Unnamed: 8  Unnamed: 9  Unnamed: 10  Unnamed: 11  \n",
       "0         NaN         NaN          NaN          NaN  \n",
       "1         NaN         NaN          NaN          NaN  \n",
       "2         NaN         NaN          NaN          NaN  \n",
       "3         NaN         NaN          NaN          NaN  \n",
       "4         NaN         NaN          NaN          NaN  "
      ]
     },
     "execution_count": 17,
     "metadata": {},
     "output_type": "execute_result"
    }
   ],
   "source": [
    "pb = pd.read_csv(\"B50E0133001_1.csv\", skiprows=15)\n",
    "pb.head()"
   ]
  },
  {
   "cell_type": "markdown",
   "metadata": {},
   "source": [
    "This is fine. At least a good start. But we want \"Peildatum\" as our index. So:"
   ]
  },
  {
   "cell_type": "code",
   "execution_count": 18,
   "metadata": {
    "collapsed": false
   },
   "outputs": [
    {
     "data": {
      "text/html": [
       "<div>\n",
       "<table border=\"1\" class=\"dataframe\">\n",
       "  <thead>\n",
       "    <tr style=\"text-align: right;\">\n",
       "      <th></th>\n",
       "      <th>Locatie</th>\n",
       "      <th>Filternummer</th>\n",
       "      <th>Stand (cm t.o.v. MP)</th>\n",
       "      <th>Stand (cm t.o.v. MV)</th>\n",
       "      <th>Stand (cm t.o.v. NAP)</th>\n",
       "      <th>Bijzonderheid</th>\n",
       "      <th>Opmerking</th>\n",
       "      <th>Unnamed: 8</th>\n",
       "      <th>Unnamed: 9</th>\n",
       "      <th>Unnamed: 10</th>\n",
       "      <th>Unnamed: 11</th>\n",
       "    </tr>\n",
       "    <tr>\n",
       "      <th>Peildatum</th>\n",
       "      <th></th>\n",
       "      <th></th>\n",
       "      <th></th>\n",
       "      <th></th>\n",
       "      <th></th>\n",
       "      <th></th>\n",
       "      <th></th>\n",
       "      <th></th>\n",
       "      <th></th>\n",
       "      <th></th>\n",
       "      <th></th>\n",
       "    </tr>\n",
       "  </thead>\n",
       "  <tbody>\n",
       "    <tr>\n",
       "      <th>11-03-1955</th>\n",
       "      <td>B50E0133</td>\n",
       "      <td>1</td>\n",
       "      <td>675.0</td>\n",
       "      <td>634.0</td>\n",
       "      <td>726.0</td>\n",
       "      <td>NaN</td>\n",
       "      <td>NaN</td>\n",
       "      <td>NaN</td>\n",
       "      <td>NaN</td>\n",
       "      <td>NaN</td>\n",
       "      <td>NaN</td>\n",
       "    </tr>\n",
       "    <tr>\n",
       "      <th>23-03-1955</th>\n",
       "      <td>B50E0133</td>\n",
       "      <td>1</td>\n",
       "      <td>668.0</td>\n",
       "      <td>627.0</td>\n",
       "      <td>733.0</td>\n",
       "      <td>NaN</td>\n",
       "      <td>NaN</td>\n",
       "      <td>NaN</td>\n",
       "      <td>NaN</td>\n",
       "      <td>NaN</td>\n",
       "      <td>NaN</td>\n",
       "    </tr>\n",
       "    <tr>\n",
       "      <th>08-04-1955</th>\n",
       "      <td>B50E0133</td>\n",
       "      <td>1</td>\n",
       "      <td>669.0</td>\n",
       "      <td>628.0</td>\n",
       "      <td>732.0</td>\n",
       "      <td>NaN</td>\n",
       "      <td>NaN</td>\n",
       "      <td>NaN</td>\n",
       "      <td>NaN</td>\n",
       "      <td>NaN</td>\n",
       "      <td>NaN</td>\n",
       "    </tr>\n",
       "    <tr>\n",
       "      <th>22-04-1955</th>\n",
       "      <td>B50E0133</td>\n",
       "      <td>1</td>\n",
       "      <td>660.0</td>\n",
       "      <td>619.0</td>\n",
       "      <td>741.0</td>\n",
       "      <td>NaN</td>\n",
       "      <td>NaN</td>\n",
       "      <td>NaN</td>\n",
       "      <td>NaN</td>\n",
       "      <td>NaN</td>\n",
       "      <td>NaN</td>\n",
       "    </tr>\n",
       "    <tr>\n",
       "      <th>06-05-1955</th>\n",
       "      <td>B50E0133</td>\n",
       "      <td>1</td>\n",
       "      <td>651.0</td>\n",
       "      <td>610.0</td>\n",
       "      <td>750.0</td>\n",
       "      <td>NaN</td>\n",
       "      <td>NaN</td>\n",
       "      <td>NaN</td>\n",
       "      <td>NaN</td>\n",
       "      <td>NaN</td>\n",
       "      <td>NaN</td>\n",
       "    </tr>\n",
       "  </tbody>\n",
       "</table>\n",
       "</div>"
      ],
      "text/plain": [
       "             Locatie  Filternummer  Stand (cm t.o.v. MP)  \\\n",
       "Peildatum                                                  \n",
       "11-03-1955  B50E0133             1                 675.0   \n",
       "23-03-1955  B50E0133             1                 668.0   \n",
       "08-04-1955  B50E0133             1                 669.0   \n",
       "22-04-1955  B50E0133             1                 660.0   \n",
       "06-05-1955  B50E0133             1                 651.0   \n",
       "\n",
       "            Stand (cm t.o.v. MV)  Stand (cm t.o.v. NAP) Bijzonderheid  \\\n",
       "Peildatum                                                               \n",
       "11-03-1955                 634.0                  726.0           NaN   \n",
       "23-03-1955                 627.0                  733.0           NaN   \n",
       "08-04-1955                 628.0                  732.0           NaN   \n",
       "22-04-1955                 619.0                  741.0           NaN   \n",
       "06-05-1955                 610.0                  750.0           NaN   \n",
       "\n",
       "           Opmerking  Unnamed: 8  Unnamed: 9  Unnamed: 10  Unnamed: 11  \n",
       "Peildatum                                                               \n",
       "11-03-1955       NaN         NaN         NaN          NaN          NaN  \n",
       "23-03-1955       NaN         NaN         NaN          NaN          NaN  \n",
       "08-04-1955       NaN         NaN         NaN          NaN          NaN  \n",
       "22-04-1955       NaN         NaN         NaN          NaN          NaN  \n",
       "06-05-1955       NaN         NaN         NaN          NaN          NaN  "
      ]
     },
     "execution_count": 18,
     "metadata": {},
     "output_type": "execute_result"
    }
   ],
   "source": [
    "pb = pd.read_csv(\"B50E0133001_1.csv\", skiprows=15, index_col=\"Peildatum\")\n",
    "pb.head()"
   ]
  },
  {
   "cell_type": "markdown",
   "metadata": {},
   "source": [
    "Better, but the idex still consists of strings and not of dates. Therefore, tell read_csv to part the dates:"
   ]
  },
  {
   "cell_type": "code",
   "execution_count": 19,
   "metadata": {
    "collapsed": false
   },
   "outputs": [
    {
     "data": {
      "text/html": [
       "<div>\n",
       "<table border=\"1\" class=\"dataframe\">\n",
       "  <thead>\n",
       "    <tr style=\"text-align: right;\">\n",
       "      <th></th>\n",
       "      <th>Locatie</th>\n",
       "      <th>Filternummer</th>\n",
       "      <th>Stand (cm t.o.v. MP)</th>\n",
       "      <th>Stand (cm t.o.v. MV)</th>\n",
       "      <th>Stand (cm t.o.v. NAP)</th>\n",
       "      <th>Bijzonderheid</th>\n",
       "      <th>Opmerking</th>\n",
       "      <th>Unnamed: 8</th>\n",
       "      <th>Unnamed: 9</th>\n",
       "      <th>Unnamed: 10</th>\n",
       "      <th>Unnamed: 11</th>\n",
       "    </tr>\n",
       "    <tr>\n",
       "      <th>Peildatum</th>\n",
       "      <th></th>\n",
       "      <th></th>\n",
       "      <th></th>\n",
       "      <th></th>\n",
       "      <th></th>\n",
       "      <th></th>\n",
       "      <th></th>\n",
       "      <th></th>\n",
       "      <th></th>\n",
       "      <th></th>\n",
       "      <th></th>\n",
       "    </tr>\n",
       "  </thead>\n",
       "  <tbody>\n",
       "    <tr>\n",
       "      <th>1955-11-03</th>\n",
       "      <td>B50E0133</td>\n",
       "      <td>1</td>\n",
       "      <td>675.0</td>\n",
       "      <td>634.0</td>\n",
       "      <td>726.0</td>\n",
       "      <td>NaN</td>\n",
       "      <td>NaN</td>\n",
       "      <td>NaN</td>\n",
       "      <td>NaN</td>\n",
       "      <td>NaN</td>\n",
       "      <td>NaN</td>\n",
       "    </tr>\n",
       "    <tr>\n",
       "      <th>1955-03-23</th>\n",
       "      <td>B50E0133</td>\n",
       "      <td>1</td>\n",
       "      <td>668.0</td>\n",
       "      <td>627.0</td>\n",
       "      <td>733.0</td>\n",
       "      <td>NaN</td>\n",
       "      <td>NaN</td>\n",
       "      <td>NaN</td>\n",
       "      <td>NaN</td>\n",
       "      <td>NaN</td>\n",
       "      <td>NaN</td>\n",
       "    </tr>\n",
       "    <tr>\n",
       "      <th>1955-08-04</th>\n",
       "      <td>B50E0133</td>\n",
       "      <td>1</td>\n",
       "      <td>669.0</td>\n",
       "      <td>628.0</td>\n",
       "      <td>732.0</td>\n",
       "      <td>NaN</td>\n",
       "      <td>NaN</td>\n",
       "      <td>NaN</td>\n",
       "      <td>NaN</td>\n",
       "      <td>NaN</td>\n",
       "      <td>NaN</td>\n",
       "    </tr>\n",
       "    <tr>\n",
       "      <th>1955-04-22</th>\n",
       "      <td>B50E0133</td>\n",
       "      <td>1</td>\n",
       "      <td>660.0</td>\n",
       "      <td>619.0</td>\n",
       "      <td>741.0</td>\n",
       "      <td>NaN</td>\n",
       "      <td>NaN</td>\n",
       "      <td>NaN</td>\n",
       "      <td>NaN</td>\n",
       "      <td>NaN</td>\n",
       "      <td>NaN</td>\n",
       "    </tr>\n",
       "    <tr>\n",
       "      <th>1955-06-05</th>\n",
       "      <td>B50E0133</td>\n",
       "      <td>1</td>\n",
       "      <td>651.0</td>\n",
       "      <td>610.0</td>\n",
       "      <td>750.0</td>\n",
       "      <td>NaN</td>\n",
       "      <td>NaN</td>\n",
       "      <td>NaN</td>\n",
       "      <td>NaN</td>\n",
       "      <td>NaN</td>\n",
       "      <td>NaN</td>\n",
       "    </tr>\n",
       "  </tbody>\n",
       "</table>\n",
       "</div>"
      ],
      "text/plain": [
       "             Locatie  Filternummer  Stand (cm t.o.v. MP)  \\\n",
       "Peildatum                                                  \n",
       "1955-11-03  B50E0133             1                 675.0   \n",
       "1955-03-23  B50E0133             1                 668.0   \n",
       "1955-08-04  B50E0133             1                 669.0   \n",
       "1955-04-22  B50E0133             1                 660.0   \n",
       "1955-06-05  B50E0133             1                 651.0   \n",
       "\n",
       "            Stand (cm t.o.v. MV)  Stand (cm t.o.v. NAP) Bijzonderheid  \\\n",
       "Peildatum                                                               \n",
       "1955-11-03                 634.0                  726.0           NaN   \n",
       "1955-03-23                 627.0                  733.0           NaN   \n",
       "1955-08-04                 628.0                  732.0           NaN   \n",
       "1955-04-22                 619.0                  741.0           NaN   \n",
       "1955-06-05                 610.0                  750.0           NaN   \n",
       "\n",
       "           Opmerking  Unnamed: 8  Unnamed: 9  Unnamed: 10  Unnamed: 11  \n",
       "Peildatum                                                               \n",
       "1955-11-03       NaN         NaN         NaN          NaN          NaN  \n",
       "1955-03-23       NaN         NaN         NaN          NaN          NaN  \n",
       "1955-08-04       NaN         NaN         NaN          NaN          NaN  \n",
       "1955-04-22       NaN         NaN         NaN          NaN          NaN  \n",
       "1955-06-05       NaN         NaN         NaN          NaN          NaN  "
      ]
     },
     "execution_count": 19,
     "metadata": {},
     "output_type": "execute_result"
    }
   ],
   "source": [
    "pb = pd.read_csv(\"B50E0133001_1.csv\", skiprows=15, index_col=\"Peildatum\", parse_dates=True)\n",
    "pb.head()"
   ]
  },
  {
   "cell_type": "markdown",
   "metadata": {},
   "source": [
    "Problem is that some dates will be messed up as pandas will by default interprete dates as mm-dd-yyyyy, while we have dd-mm-yyyy. For some dates this does not matter but for other dates this is ambiguous unless it is specified that the dates start with the day instead of the month."
   ]
  },
  {
   "cell_type": "code",
   "execution_count": 21,
   "metadata": {
    "collapsed": false
   },
   "outputs": [
    {
     "data": {
      "text/html": [
       "<div>\n",
       "<table border=\"1\" class=\"dataframe\">\n",
       "  <thead>\n",
       "    <tr style=\"text-align: right;\">\n",
       "      <th></th>\n",
       "      <th>Locatie</th>\n",
       "      <th>Filternummer</th>\n",
       "      <th>Stand (cm t.o.v. MP)</th>\n",
       "      <th>Stand (cm t.o.v. MV)</th>\n",
       "      <th>Stand (cm t.o.v. NAP)</th>\n",
       "      <th>Bijzonderheid</th>\n",
       "      <th>Opmerking</th>\n",
       "      <th>Unnamed: 8</th>\n",
       "      <th>Unnamed: 9</th>\n",
       "      <th>Unnamed: 10</th>\n",
       "      <th>Unnamed: 11</th>\n",
       "    </tr>\n",
       "    <tr>\n",
       "      <th>Peildatum</th>\n",
       "      <th></th>\n",
       "      <th></th>\n",
       "      <th></th>\n",
       "      <th></th>\n",
       "      <th></th>\n",
       "      <th></th>\n",
       "      <th></th>\n",
       "      <th></th>\n",
       "      <th></th>\n",
       "      <th></th>\n",
       "      <th></th>\n",
       "    </tr>\n",
       "  </thead>\n",
       "  <tbody>\n",
       "    <tr>\n",
       "      <th>1955-03-11</th>\n",
       "      <td>B50E0133</td>\n",
       "      <td>1</td>\n",
       "      <td>675.0</td>\n",
       "      <td>634.0</td>\n",
       "      <td>726.0</td>\n",
       "      <td>NaN</td>\n",
       "      <td>NaN</td>\n",
       "      <td>NaN</td>\n",
       "      <td>NaN</td>\n",
       "      <td>NaN</td>\n",
       "      <td>NaN</td>\n",
       "    </tr>\n",
       "    <tr>\n",
       "      <th>1955-03-23</th>\n",
       "      <td>B50E0133</td>\n",
       "      <td>1</td>\n",
       "      <td>668.0</td>\n",
       "      <td>627.0</td>\n",
       "      <td>733.0</td>\n",
       "      <td>NaN</td>\n",
       "      <td>NaN</td>\n",
       "      <td>NaN</td>\n",
       "      <td>NaN</td>\n",
       "      <td>NaN</td>\n",
       "      <td>NaN</td>\n",
       "    </tr>\n",
       "    <tr>\n",
       "      <th>1955-04-08</th>\n",
       "      <td>B50E0133</td>\n",
       "      <td>1</td>\n",
       "      <td>669.0</td>\n",
       "      <td>628.0</td>\n",
       "      <td>732.0</td>\n",
       "      <td>NaN</td>\n",
       "      <td>NaN</td>\n",
       "      <td>NaN</td>\n",
       "      <td>NaN</td>\n",
       "      <td>NaN</td>\n",
       "      <td>NaN</td>\n",
       "    </tr>\n",
       "    <tr>\n",
       "      <th>1955-04-22</th>\n",
       "      <td>B50E0133</td>\n",
       "      <td>1</td>\n",
       "      <td>660.0</td>\n",
       "      <td>619.0</td>\n",
       "      <td>741.0</td>\n",
       "      <td>NaN</td>\n",
       "      <td>NaN</td>\n",
       "      <td>NaN</td>\n",
       "      <td>NaN</td>\n",
       "      <td>NaN</td>\n",
       "      <td>NaN</td>\n",
       "    </tr>\n",
       "    <tr>\n",
       "      <th>1955-05-06</th>\n",
       "      <td>B50E0133</td>\n",
       "      <td>1</td>\n",
       "      <td>651.0</td>\n",
       "      <td>610.0</td>\n",
       "      <td>750.0</td>\n",
       "      <td>NaN</td>\n",
       "      <td>NaN</td>\n",
       "      <td>NaN</td>\n",
       "      <td>NaN</td>\n",
       "      <td>NaN</td>\n",
       "      <td>NaN</td>\n",
       "    </tr>\n",
       "  </tbody>\n",
       "</table>\n",
       "</div>"
      ],
      "text/plain": [
       "             Locatie  Filternummer  Stand (cm t.o.v. MP)  \\\n",
       "Peildatum                                                  \n",
       "1955-03-11  B50E0133             1                 675.0   \n",
       "1955-03-23  B50E0133             1                 668.0   \n",
       "1955-04-08  B50E0133             1                 669.0   \n",
       "1955-04-22  B50E0133             1                 660.0   \n",
       "1955-05-06  B50E0133             1                 651.0   \n",
       "\n",
       "            Stand (cm t.o.v. MV)  Stand (cm t.o.v. NAP) Bijzonderheid  \\\n",
       "Peildatum                                                               \n",
       "1955-03-11                 634.0                  726.0           NaN   \n",
       "1955-03-23                 627.0                  733.0           NaN   \n",
       "1955-04-08                 628.0                  732.0           NaN   \n",
       "1955-04-22                 619.0                  741.0           NaN   \n",
       "1955-05-06                 610.0                  750.0           NaN   \n",
       "\n",
       "           Opmerking  Unnamed: 8  Unnamed: 9  Unnamed: 10  Unnamed: 11  \n",
       "Peildatum                                                               \n",
       "1955-03-11       NaN         NaN         NaN          NaN          NaN  \n",
       "1955-03-23       NaN         NaN         NaN          NaN          NaN  \n",
       "1955-04-08       NaN         NaN         NaN          NaN          NaN  \n",
       "1955-04-22       NaN         NaN         NaN          NaN          NaN  \n",
       "1955-05-06       NaN         NaN         NaN          NaN          NaN  "
      ]
     },
     "execution_count": 21,
     "metadata": {},
     "output_type": "execute_result"
    }
   ],
   "source": [
    "pb = pd.read_csv(\"B50E0133001_1.csv\", skiprows=15, index_col=\"Peildatum\", parse_dates=True, dayfirst=True)\n",
    "pb.head()"
   ]
  },
  {
   "cell_type": "code",
   "execution_count": 72,
   "metadata": {
    "collapsed": false
   },
   "outputs": [
    {
     "data": {
      "text/html": [
       "<div>\n",
       "<table border=\"1\" class=\"dataframe\">\n",
       "  <thead>\n",
       "    <tr style=\"text-align: right;\">\n",
       "      <th></th>\n",
       "      <th>Locatie</th>\n",
       "      <th>Filternummer</th>\n",
       "      <th>Stand (cm t.o.v. MP)</th>\n",
       "      <th>Stand (cm t.o.v. MV)</th>\n",
       "      <th>Stand (cm t.o.v. NAP)</th>\n",
       "      <th>Bijzonderheid</th>\n",
       "      <th>Opmerking</th>\n",
       "      <th>Unnamed: 8</th>\n",
       "      <th>Unnamed: 9</th>\n",
       "      <th>Unnamed: 10</th>\n",
       "      <th>Unnamed: 11</th>\n",
       "    </tr>\n",
       "    <tr>\n",
       "      <th>Peildatum</th>\n",
       "      <th></th>\n",
       "      <th></th>\n",
       "      <th></th>\n",
       "      <th></th>\n",
       "      <th></th>\n",
       "      <th></th>\n",
       "      <th></th>\n",
       "      <th></th>\n",
       "      <th></th>\n",
       "      <th></th>\n",
       "      <th></th>\n",
       "    </tr>\n",
       "  </thead>\n",
       "  <tbody>\n",
       "    <tr>\n",
       "      <th>1955-03-11</th>\n",
       "      <td>B50E0133</td>\n",
       "      <td>1</td>\n",
       "      <td>675.0</td>\n",
       "      <td>634.0</td>\n",
       "      <td>726.0</td>\n",
       "      <td>NaN</td>\n",
       "      <td>NaN</td>\n",
       "      <td>NaN</td>\n",
       "      <td>NaN</td>\n",
       "      <td>NaN</td>\n",
       "      <td>NaN</td>\n",
       "    </tr>\n",
       "    <tr>\n",
       "      <th>1955-03-23</th>\n",
       "      <td>B50E0133</td>\n",
       "      <td>1</td>\n",
       "      <td>668.0</td>\n",
       "      <td>627.0</td>\n",
       "      <td>733.0</td>\n",
       "      <td>NaN</td>\n",
       "      <td>NaN</td>\n",
       "      <td>NaN</td>\n",
       "      <td>NaN</td>\n",
       "      <td>NaN</td>\n",
       "      <td>NaN</td>\n",
       "    </tr>\n",
       "    <tr>\n",
       "      <th>1955-04-08</th>\n",
       "      <td>B50E0133</td>\n",
       "      <td>1</td>\n",
       "      <td>669.0</td>\n",
       "      <td>628.0</td>\n",
       "      <td>732.0</td>\n",
       "      <td>NaN</td>\n",
       "      <td>NaN</td>\n",
       "      <td>NaN</td>\n",
       "      <td>NaN</td>\n",
       "      <td>NaN</td>\n",
       "      <td>NaN</td>\n",
       "    </tr>\n",
       "    <tr>\n",
       "      <th>1955-04-22</th>\n",
       "      <td>B50E0133</td>\n",
       "      <td>1</td>\n",
       "      <td>660.0</td>\n",
       "      <td>619.0</td>\n",
       "      <td>741.0</td>\n",
       "      <td>NaN</td>\n",
       "      <td>NaN</td>\n",
       "      <td>NaN</td>\n",
       "      <td>NaN</td>\n",
       "      <td>NaN</td>\n",
       "      <td>NaN</td>\n",
       "    </tr>\n",
       "    <tr>\n",
       "      <th>1955-05-06</th>\n",
       "      <td>B50E0133</td>\n",
       "      <td>1</td>\n",
       "      <td>651.0</td>\n",
       "      <td>610.0</td>\n",
       "      <td>750.0</td>\n",
       "      <td>NaN</td>\n",
       "      <td>NaN</td>\n",
       "      <td>NaN</td>\n",
       "      <td>NaN</td>\n",
       "      <td>NaN</td>\n",
       "      <td>NaN</td>\n",
       "    </tr>\n",
       "  </tbody>\n",
       "</table>\n",
       "</div>"
      ],
      "text/plain": [
       "             Locatie  Filternummer  Stand (cm t.o.v. MP)  \\\n",
       "Peildatum                                                  \n",
       "1955-03-11  B50E0133             1                 675.0   \n",
       "1955-03-23  B50E0133             1                 668.0   \n",
       "1955-04-08  B50E0133             1                 669.0   \n",
       "1955-04-22  B50E0133             1                 660.0   \n",
       "1955-05-06  B50E0133             1                 651.0   \n",
       "\n",
       "            Stand (cm t.o.v. MV)  Stand (cm t.o.v. NAP) Bijzonderheid  \\\n",
       "Peildatum                                                               \n",
       "1955-03-11                 634.0                  726.0           NaN   \n",
       "1955-03-23                 627.0                  733.0           NaN   \n",
       "1955-04-08                 628.0                  732.0           NaN   \n",
       "1955-04-22                 619.0                  741.0           NaN   \n",
       "1955-05-06                 610.0                  750.0           NaN   \n",
       "\n",
       "           Opmerking  Unnamed: 8  Unnamed: 9  Unnamed: 10  Unnamed: 11  \n",
       "Peildatum                                                               \n",
       "1955-03-11       NaN         NaN         NaN          NaN          NaN  \n",
       "1955-03-23       NaN         NaN         NaN          NaN          NaN  \n",
       "1955-04-08       NaN         NaN         NaN          NaN          NaN  \n",
       "1955-04-22       NaN         NaN         NaN          NaN          NaN  \n",
       "1955-05-06       NaN         NaN         NaN          NaN          NaN  "
      ]
     },
     "execution_count": 72,
     "metadata": {},
     "output_type": "execute_result"
    }
   ],
   "source": [
    "pb.head()"
   ]
  },
  {
   "cell_type": "markdown",
   "metadata": {},
   "source": [
    "So far so good. Now do some clean-up as we only need the 6th column with the head above national datum. We can tell read_csv what columns to use by specifying a list of headers. First trial"
   ]
  },
  {
   "cell_type": "code",
   "execution_count": 24,
   "metadata": {
    "collapsed": false
   },
   "outputs": [
    {
     "ename": "ValueError",
     "evalue": "Index Peildatum invalid",
     "output_type": "error",
     "traceback": [
      "\u001b[0;31m---------------------------------------------------------------------------\u001b[0m",
      "\u001b[0;31mValueError\u001b[0m                                Traceback (most recent call last)",
      "\u001b[0;32m<ipython-input-24-0a65cbcf2cb1>\u001b[0m in \u001b[0;36m<module>\u001b[0;34m()\u001b[0m\n\u001b[1;32m      1\u001b[0m pb = pd.read_csv(\"B50E0133001_1.csv\", skiprows=15,\n\u001b[1;32m      2\u001b[0m                  \u001b[0mindex_col\u001b[0m\u001b[0;34m=\u001b[0m\u001b[0;34m\"Peildatum\"\u001b[0m\u001b[0;34m,\u001b[0m \u001b[0mparse_dates\u001b[0m\u001b[0;34m=\u001b[0m\u001b[0;32mTrue\u001b[0m\u001b[0;34m,\u001b[0m \u001b[0mdayfirst\u001b[0m\u001b[0;34m=\u001b[0m\u001b[0;32mTrue\u001b[0m\u001b[0;34m,\u001b[0m\u001b[0;34m\u001b[0m\u001b[0m\n\u001b[0;32m----> 3\u001b[0;31m                 usecols=[\"Stand (cm t.o.v. NAP)\"])\n\u001b[0m\u001b[1;32m      4\u001b[0m \u001b[0mpb\u001b[0m\u001b[0;34m.\u001b[0m\u001b[0mhead\u001b[0m\u001b[0;34m(\u001b[0m\u001b[0;34m)\u001b[0m\u001b[0;34m\u001b[0m\u001b[0m\n",
      "\u001b[0;32m/Users/Theo/anaconda/lib/python3.5/site-packages/pandas/io/parsers.py\u001b[0m in \u001b[0;36mparser_f\u001b[0;34m(filepath_or_buffer, sep, delimiter, header, names, index_col, usecols, squeeze, prefix, mangle_dupe_cols, dtype, engine, converters, true_values, false_values, skipinitialspace, skiprows, skipfooter, nrows, na_values, keep_default_na, na_filter, verbose, skip_blank_lines, parse_dates, infer_datetime_format, keep_date_col, date_parser, dayfirst, iterator, chunksize, compression, thousands, decimal, lineterminator, quotechar, quoting, escapechar, comment, encoding, dialect, tupleize_cols, error_bad_lines, warn_bad_lines, skip_footer, doublequote, delim_whitespace, as_recarray, compact_ints, use_unsigned, low_memory, buffer_lines, memory_map, float_precision)\u001b[0m\n\u001b[1;32m    560\u001b[0m                     skip_blank_lines=skip_blank_lines)\n\u001b[1;32m    561\u001b[0m \u001b[0;34m\u001b[0m\u001b[0m\n\u001b[0;32m--> 562\u001b[0;31m         \u001b[0;32mreturn\u001b[0m \u001b[0m_read\u001b[0m\u001b[0;34m(\u001b[0m\u001b[0mfilepath_or_buffer\u001b[0m\u001b[0;34m,\u001b[0m \u001b[0mkwds\u001b[0m\u001b[0;34m)\u001b[0m\u001b[0;34m\u001b[0m\u001b[0m\n\u001b[0m\u001b[1;32m    563\u001b[0m \u001b[0;34m\u001b[0m\u001b[0m\n\u001b[1;32m    564\u001b[0m     \u001b[0mparser_f\u001b[0m\u001b[0;34m.\u001b[0m\u001b[0m__name__\u001b[0m \u001b[0;34m=\u001b[0m \u001b[0mname\u001b[0m\u001b[0;34m\u001b[0m\u001b[0m\n",
      "\u001b[0;32m/Users/Theo/anaconda/lib/python3.5/site-packages/pandas/io/parsers.py\u001b[0m in \u001b[0;36m_read\u001b[0;34m(filepath_or_buffer, kwds)\u001b[0m\n\u001b[1;32m    323\u001b[0m         \u001b[0;32mreturn\u001b[0m \u001b[0mparser\u001b[0m\u001b[0;34m\u001b[0m\u001b[0m\n\u001b[1;32m    324\u001b[0m \u001b[0;34m\u001b[0m\u001b[0m\n\u001b[0;32m--> 325\u001b[0;31m     \u001b[0;32mreturn\u001b[0m \u001b[0mparser\u001b[0m\u001b[0;34m.\u001b[0m\u001b[0mread\u001b[0m\u001b[0;34m(\u001b[0m\u001b[0;34m)\u001b[0m\u001b[0;34m\u001b[0m\u001b[0m\n\u001b[0m\u001b[1;32m    326\u001b[0m \u001b[0;34m\u001b[0m\u001b[0m\n\u001b[1;32m    327\u001b[0m _parser_defaults = {\n",
      "\u001b[0;32m/Users/Theo/anaconda/lib/python3.5/site-packages/pandas/io/parsers.py\u001b[0m in \u001b[0;36mread\u001b[0;34m(self, nrows)\u001b[0m\n\u001b[1;32m    813\u001b[0m                 \u001b[0;32mraise\u001b[0m \u001b[0mValueError\u001b[0m\u001b[0;34m(\u001b[0m\u001b[0;34m'skip_footer not supported for iteration'\u001b[0m\u001b[0;34m)\u001b[0m\u001b[0;34m\u001b[0m\u001b[0m\n\u001b[1;32m    814\u001b[0m \u001b[0;34m\u001b[0m\u001b[0m\n\u001b[0;32m--> 815\u001b[0;31m         \u001b[0mret\u001b[0m \u001b[0;34m=\u001b[0m \u001b[0mself\u001b[0m\u001b[0;34m.\u001b[0m\u001b[0m_engine\u001b[0m\u001b[0;34m.\u001b[0m\u001b[0mread\u001b[0m\u001b[0;34m(\u001b[0m\u001b[0mnrows\u001b[0m\u001b[0;34m)\u001b[0m\u001b[0;34m\u001b[0m\u001b[0m\n\u001b[0m\u001b[1;32m    816\u001b[0m \u001b[0;34m\u001b[0m\u001b[0m\n\u001b[1;32m    817\u001b[0m         \u001b[0;32mif\u001b[0m \u001b[0mself\u001b[0m\u001b[0;34m.\u001b[0m\u001b[0moptions\u001b[0m\u001b[0;34m.\u001b[0m\u001b[0mget\u001b[0m\u001b[0;34m(\u001b[0m\u001b[0;34m'as_recarray'\u001b[0m\u001b[0;34m)\u001b[0m\u001b[0;34m:\u001b[0m\u001b[0;34m\u001b[0m\u001b[0m\n",
      "\u001b[0;32m/Users/Theo/anaconda/lib/python3.5/site-packages/pandas/io/parsers.py\u001b[0m in \u001b[0;36mread\u001b[0;34m(self, nrows)\u001b[0m\n\u001b[1;32m   1385\u001b[0m \u001b[0;34m\u001b[0m\u001b[0m\n\u001b[1;32m   1386\u001b[0m             \u001b[0mnames\u001b[0m\u001b[0;34m,\u001b[0m \u001b[0mdata\u001b[0m \u001b[0;34m=\u001b[0m \u001b[0mself\u001b[0m\u001b[0;34m.\u001b[0m\u001b[0m_do_date_conversions\u001b[0m\u001b[0;34m(\u001b[0m\u001b[0mnames\u001b[0m\u001b[0;34m,\u001b[0m \u001b[0mdata\u001b[0m\u001b[0;34m)\u001b[0m\u001b[0;34m\u001b[0m\u001b[0m\n\u001b[0;32m-> 1387\u001b[0;31m             \u001b[0mindex\u001b[0m\u001b[0;34m,\u001b[0m \u001b[0mnames\u001b[0m \u001b[0;34m=\u001b[0m \u001b[0mself\u001b[0m\u001b[0;34m.\u001b[0m\u001b[0m_make_index\u001b[0m\u001b[0;34m(\u001b[0m\u001b[0mdata\u001b[0m\u001b[0;34m,\u001b[0m \u001b[0malldata\u001b[0m\u001b[0;34m,\u001b[0m \u001b[0mnames\u001b[0m\u001b[0;34m)\u001b[0m\u001b[0;34m\u001b[0m\u001b[0m\n\u001b[0m\u001b[1;32m   1388\u001b[0m \u001b[0;34m\u001b[0m\u001b[0m\n\u001b[1;32m   1389\u001b[0m         \u001b[0;31m# maybe create a mi on the columns\u001b[0m\u001b[0;34m\u001b[0m\u001b[0;34m\u001b[0m\u001b[0m\n",
      "\u001b[0;32m/Users/Theo/anaconda/lib/python3.5/site-packages/pandas/io/parsers.py\u001b[0m in \u001b[0;36m_make_index\u001b[0;34m(self, data, alldata, columns, indexnamerow)\u001b[0m\n\u001b[1;32m   1027\u001b[0m \u001b[0;34m\u001b[0m\u001b[0m\n\u001b[1;32m   1028\u001b[0m         \u001b[0;32melif\u001b[0m \u001b[0;32mnot\u001b[0m \u001b[0mself\u001b[0m\u001b[0;34m.\u001b[0m\u001b[0m_has_complex_date_col\u001b[0m\u001b[0;34m:\u001b[0m\u001b[0;34m\u001b[0m\u001b[0m\n\u001b[0;32m-> 1029\u001b[0;31m             \u001b[0mindex\u001b[0m \u001b[0;34m=\u001b[0m \u001b[0mself\u001b[0m\u001b[0;34m.\u001b[0m\u001b[0m_get_simple_index\u001b[0m\u001b[0;34m(\u001b[0m\u001b[0malldata\u001b[0m\u001b[0;34m,\u001b[0m \u001b[0mcolumns\u001b[0m\u001b[0;34m)\u001b[0m\u001b[0;34m\u001b[0m\u001b[0m\n\u001b[0m\u001b[1;32m   1030\u001b[0m             \u001b[0mindex\u001b[0m \u001b[0;34m=\u001b[0m \u001b[0mself\u001b[0m\u001b[0;34m.\u001b[0m\u001b[0m_agg_index\u001b[0m\u001b[0;34m(\u001b[0m\u001b[0mindex\u001b[0m\u001b[0;34m)\u001b[0m\u001b[0;34m\u001b[0m\u001b[0m\n\u001b[1;32m   1031\u001b[0m \u001b[0;34m\u001b[0m\u001b[0m\n",
      "\u001b[0;32m/Users/Theo/anaconda/lib/python3.5/site-packages/pandas/io/parsers.py\u001b[0m in \u001b[0;36m_get_simple_index\u001b[0;34m(self, data, columns)\u001b[0m\n\u001b[1;32m   1061\u001b[0m         \u001b[0mindex\u001b[0m \u001b[0;34m=\u001b[0m \u001b[0;34m[\u001b[0m\u001b[0;34m]\u001b[0m\u001b[0;34m\u001b[0m\u001b[0m\n\u001b[1;32m   1062\u001b[0m         \u001b[0;32mfor\u001b[0m \u001b[0midx\u001b[0m \u001b[0;32min\u001b[0m \u001b[0mself\u001b[0m\u001b[0;34m.\u001b[0m\u001b[0mindex_col\u001b[0m\u001b[0;34m:\u001b[0m\u001b[0;34m\u001b[0m\u001b[0m\n\u001b[0;32m-> 1063\u001b[0;31m             \u001b[0mi\u001b[0m \u001b[0;34m=\u001b[0m \u001b[0mix\u001b[0m\u001b[0;34m(\u001b[0m\u001b[0midx\u001b[0m\u001b[0;34m)\u001b[0m\u001b[0;34m\u001b[0m\u001b[0m\n\u001b[0m\u001b[1;32m   1064\u001b[0m             \u001b[0mto_remove\u001b[0m\u001b[0;34m.\u001b[0m\u001b[0mappend\u001b[0m\u001b[0;34m(\u001b[0m\u001b[0mi\u001b[0m\u001b[0;34m)\u001b[0m\u001b[0;34m\u001b[0m\u001b[0m\n\u001b[1;32m   1065\u001b[0m             \u001b[0mindex\u001b[0m\u001b[0;34m.\u001b[0m\u001b[0mappend\u001b[0m\u001b[0;34m(\u001b[0m\u001b[0mdata\u001b[0m\u001b[0;34m[\u001b[0m\u001b[0mi\u001b[0m\u001b[0;34m]\u001b[0m\u001b[0;34m)\u001b[0m\u001b[0;34m\u001b[0m\u001b[0m\n",
      "\u001b[0;32m/Users/Theo/anaconda/lib/python3.5/site-packages/pandas/io/parsers.py\u001b[0m in \u001b[0;36mix\u001b[0;34m(col)\u001b[0m\n\u001b[1;32m   1055\u001b[0m             \u001b[0;32mif\u001b[0m \u001b[0;32mnot\u001b[0m \u001b[0misinstance\u001b[0m\u001b[0;34m(\u001b[0m\u001b[0mcol\u001b[0m\u001b[0;34m,\u001b[0m \u001b[0mcompat\u001b[0m\u001b[0;34m.\u001b[0m\u001b[0mstring_types\u001b[0m\u001b[0;34m)\u001b[0m\u001b[0;34m:\u001b[0m\u001b[0;34m\u001b[0m\u001b[0m\n\u001b[1;32m   1056\u001b[0m                 \u001b[0;32mreturn\u001b[0m \u001b[0mcol\u001b[0m\u001b[0;34m\u001b[0m\u001b[0m\n\u001b[0;32m-> 1057\u001b[0;31m             \u001b[0;32mraise\u001b[0m \u001b[0mValueError\u001b[0m\u001b[0;34m(\u001b[0m\u001b[0;34m'Index %s invalid'\u001b[0m \u001b[0;34m%\u001b[0m \u001b[0mcol\u001b[0m\u001b[0;34m)\u001b[0m\u001b[0;34m\u001b[0m\u001b[0m\n\u001b[0m\u001b[1;32m   1058\u001b[0m         \u001b[0mindex\u001b[0m \u001b[0;34m=\u001b[0m \u001b[0;32mNone\u001b[0m\u001b[0;34m\u001b[0m\u001b[0m\n\u001b[1;32m   1059\u001b[0m \u001b[0;34m\u001b[0m\u001b[0m\n",
      "\u001b[0;31mValueError\u001b[0m: Index Peildatum invalid"
     ]
    }
   ],
   "source": [
    "pb = pd.read_csv(\"B50E0133001_1.csv\", skiprows=15,\n",
    "                 index_col=\"Peildatum\", parse_dates=True, dayfirst=True,\n",
    "                usecols=[\"Stand (cm t.o.v. NAP)\"])\n",
    "pb.head()"
   ]
  },
  {
   "cell_type": "markdown",
   "metadata": {},
   "source": [
    "This failed, because we now have to specify all columns we want to use. This should include the columne \"Peildatum\". So add it to the list."
   ]
  },
  {
   "cell_type": "code",
   "execution_count": 25,
   "metadata": {
    "collapsed": false
   },
   "outputs": [
    {
     "data": {
      "text/html": [
       "<div>\n",
       "<table border=\"1\" class=\"dataframe\">\n",
       "  <thead>\n",
       "    <tr style=\"text-align: right;\">\n",
       "      <th></th>\n",
       "      <th>Stand (cm t.o.v. NAP)</th>\n",
       "    </tr>\n",
       "    <tr>\n",
       "      <th>Peildatum</th>\n",
       "      <th></th>\n",
       "    </tr>\n",
       "  </thead>\n",
       "  <tbody>\n",
       "    <tr>\n",
       "      <th>1955-03-11</th>\n",
       "      <td>726.0</td>\n",
       "    </tr>\n",
       "    <tr>\n",
       "      <th>1955-03-23</th>\n",
       "      <td>733.0</td>\n",
       "    </tr>\n",
       "    <tr>\n",
       "      <th>1955-04-08</th>\n",
       "      <td>732.0</td>\n",
       "    </tr>\n",
       "    <tr>\n",
       "      <th>1955-04-22</th>\n",
       "      <td>741.0</td>\n",
       "    </tr>\n",
       "    <tr>\n",
       "      <th>1955-05-06</th>\n",
       "      <td>750.0</td>\n",
       "    </tr>\n",
       "  </tbody>\n",
       "</table>\n",
       "</div>"
      ],
      "text/plain": [
       "            Stand (cm t.o.v. NAP)\n",
       "Peildatum                        \n",
       "1955-03-11                  726.0\n",
       "1955-03-23                  733.0\n",
       "1955-04-08                  732.0\n",
       "1955-04-22                  741.0\n",
       "1955-05-06                  750.0"
      ]
     },
     "execution_count": 25,
     "metadata": {},
     "output_type": "execute_result"
    }
   ],
   "source": [
    "pb = pd.read_csv(\"B50E0133001_1.csv\", skiprows=15,\n",
    "                 index_col=\"Peildatum\", parse_dates=True, dayfirst=True,\n",
    "                usecols=[\"Peildatum\", \"Stand (cm t.o.v. NAP)\"])\n",
    "pb.head()"
   ]
  },
  {
   "cell_type": "markdown",
   "metadata": {},
   "source": [
    "This is fine. We now have a one-column dataFrame with the proper index.\n",
    "\n",
    "For English speakers, change the column header for better readability."
   ]
  },
  {
   "cell_type": "code",
   "execution_count": 215,
   "metadata": {
    "collapsed": false
   },
   "outputs": [
    {
     "data": {
      "text/html": [
       "<div>\n",
       "<table border=\"1\" class=\"dataframe\">\n",
       "  <thead>\n",
       "    <tr style=\"text-align: right;\">\n",
       "      <th></th>\n",
       "      <th>NAP</th>\n",
       "    </tr>\n",
       "    <tr>\n",
       "      <th>Peildatum</th>\n",
       "      <th></th>\n",
       "    </tr>\n",
       "  </thead>\n",
       "  <tbody>\n",
       "    <tr>\n",
       "      <th>1955-03-11</th>\n",
       "      <td>726.0</td>\n",
       "    </tr>\n",
       "    <tr>\n",
       "      <th>1955-03-23</th>\n",
       "      <td>733.0</td>\n",
       "    </tr>\n",
       "    <tr>\n",
       "      <th>1955-04-08</th>\n",
       "      <td>732.0</td>\n",
       "    </tr>\n",
       "    <tr>\n",
       "      <th>1955-04-22</th>\n",
       "      <td>741.0</td>\n",
       "    </tr>\n",
       "    <tr>\n",
       "      <th>1955-05-06</th>\n",
       "      <td>750.0</td>\n",
       "    </tr>\n",
       "  </tbody>\n",
       "</table>\n",
       "</div>"
      ],
      "text/plain": [
       "              NAP\n",
       "Peildatum        \n",
       "1955-03-11  726.0\n",
       "1955-03-23  733.0\n",
       "1955-04-08  732.0\n",
       "1955-04-22  741.0\n",
       "1955-05-06  750.0"
      ]
     },
     "execution_count": 215,
     "metadata": {},
     "output_type": "execute_result"
    }
   ],
   "source": [
    "pb.columns = [\"NAP\"]\n",
    "pb.head()"
   ]
  },
  {
   "cell_type": "markdown",
   "metadata": {},
   "source": [
    "Check that pb is still a data frame, and only when we select one column from a dataFrame it becomes a series."
   ]
  },
  {
   "cell_type": "code",
   "execution_count": 216,
   "metadata": {
    "collapsed": false
   },
   "outputs": [
    {
     "name": "stdout",
     "output_type": "stream",
     "text": [
      "<class 'pandas.core.frame.DataFrame'>\n",
      "<class 'pandas.core.series.Series'>\n"
     ]
    }
   ],
   "source": [
    "print(type(pb))\n",
    "print(type(pb['NAP']))"
   ]
  },
  {
   "cell_type": "markdown",
   "metadata": {},
   "source": [
    "So select this column to get a time series."
   ]
  },
  {
   "cell_type": "code",
   "execution_count": 111,
   "metadata": {
    "collapsed": false
   },
   "outputs": [
    {
     "name": "stdout",
     "output_type": "stream",
     "text": [
      "<class 'pandas.core.series.Series'>\n"
     ]
    }
   ],
   "source": [
    "pb = pb['NAP']\n",
    "print(type(pb))"
   ]
  },
  {
   "cell_type": "markdown",
   "metadata": {},
   "source": [
    "Dataframes and series can immediately be plotted. Of course, you may also plot titles on the axes and above the plot. But because of lazyness, I leave this out for this exercise."
   ]
  },
  {
   "cell_type": "code",
   "execution_count": 208,
   "metadata": {
    "collapsed": false
   },
   "outputs": [
    {
     "data": {
      "image/png": "[encoded data removed]",
      "text/plain": [
       "<matplotlib.figure.Figure at 0x116a58710>"
      ]
     },
     "metadata": {},
     "output_type": "display_data"
    }
   ],
   "source": [
    "pb.plot()\n",
    "plt.show() # default color is blue, and default plot is line."
   ]
  },
  {
   "cell_type": "markdown",
   "metadata": {},
   "source": [
    "The next problem is to get the mean of the highest three measurements within each hydrological year, which starts on April 1 and ends at March 31.\n",
    "\n",
    "This requires resampling the data per hydrologic year.\n",
    "\n",
    "Which can be done with aliases put in the rule of the resample function of pandas series and dataFrames.\n",
    "\n",
    "Here are options:"
   ]
  },
  {
   "cell_type": "markdown",
   "metadata": {},
   "source": [
    "# Offset aliases (previously alled time rules) that can be used or resampling a time series or a dataFrame\n",
    "\n",
    "http://pandas.pydata.org/pandas-docs/stable/timeseries.html#offset-aliases\n",
    "\n",
    "B       business day frequency\n",
    "C       custom business day frequency (experimental)\n",
    "D       calendar day frequency\n",
    "W       weekly frequency\n",
    "M       month end frequency\n",
    "SM      semi-month end frequency (15th and end of month)\n",
    "BM      business month end frequency\n",
    "CBM     custom business month end frequency\n",
    "MS      month start frequency\n",
    "SMS     semi-month start frequency (1st and 15th)\n",
    "BMS     business month start frequency\n",
    "CBMS    custom business month start frequency\n",
    "Q       quarter end frequency\n",
    "BQ      business quarter endfrequency\n",
    "QS      quarter start frequency\n",
    "BQS     business quarter start frequency\n",
    "A       year end frequency\n",
    "BA      business year end frequency\n",
    "AS      year start frequency\n",
    "BAS     business year start frequency\n",
    "BH      business hour frequency\n",
    "H       hourly frequency\n",
    "T       minutely frequency\n",
    "S       secondly frequency\n",
    "L       milliseonds\n",
    "U       microseconds\n",
    "N       nanoseconds"
   ]
  },
  {
   "cell_type": "markdown",
   "metadata": {},
   "source": [
    "But fo sample at some arbitrary interval we need anchored offsets as the resample rule. Here are the options."
   ]
  },
  {
   "cell_type": "markdown",
   "metadata": {},
   "source": [
    "# Anchored offsets\n",
    "\n",
    "http://pandas.pydata.org/pandas-docs/stable/timeseries.html#offset-aliases\n",
    "\n",
    "For some frequencies you can specify an anchoring suffix:\n",
    "\n",
    "Alias\tDescription\n",
    "W-SUN\tweekly frequency (sundays). Same as ‘W’\n",
    "W-MON\tweekly frequency (mondays)\n",
    "W-TUE\tweekly frequency (tuesdays)\n",
    "W-WED\tweekly frequency (wednesdays)\n",
    "W-THU\tweekly frequency (thursdays)\n",
    "W-FRI\tweekly frequency (fridays)\n",
    "W-SAT\tweekly frequency (saturdays)\n",
    "(B)Q(S)-DEC\tquarterly frequency, year ends in December. Same as ‘Q’\n",
    "(B)Q(S)-JAN\tquarterly frequency, year ends in January\n",
    "(B)Q(S)-FEB\tquarterly frequency, year ends in February\n",
    "(B)Q(S)-MAR\tquarterly frequency, year ends in March\n",
    "(B)Q(S)-APR\tquarterly frequency, year ends in April\n",
    "(B)Q(S)-MAY\tquarterly frequency, year ends in May\n",
    "(B)Q(S)-JUN\tquarterly frequency, year ends in June\n",
    "(B)Q(S)-JUL\tquarterly frequency, year ends in July\n",
    "(B)Q(S)-AUG\tquarterly frequency, year ends in August\n",
    "(B)Q(S)-SEP\tquarterly frequency, year ends in September\n",
    "(B)Q(S)-OCT\tquarterly frequency, year ends in October\n",
    "(B)Q(S)-NOV\tquarterly frequency, year ends in November\n",
    "(B)A(S)-DEC\tannual frequency, anchored end of December. Same as ‘A’\n",
    "(B)A(S)-JAN\tannual frequency, anchored end of January\n",
    "(B)A(S)-FEB\tannual frequency, anchored end of February\n",
    "(B)A(S)-MAR\tannual frequency, anchored end of March\n",
    "(B)A(S)-APR\tannual frequency, anchored end of April\n",
    "(B)A(S)-MAY\tannual frequency, anchored end of May\n",
    "(B)A(S)-JUN\tannual frequency, anchored end of June\n",
    "(B)A(S)-JUL\tannual frequency, anchored end of July\n",
    "(B)A(S)-AUG\tannual frequency, anchored end of August\n",
    "(B)A(S)-SEP\tannual frequency, anchored end of September\n",
    "(B)A(S)-OCT\tannual frequency, anchored end of October\n",
    "(B)A(S)-NOV\tannual frequency, anchored end of November"
   ]
  },
  {
   "cell_type": "markdown",
   "metadata": {},
   "source": [
    "To see this at work. Resample the time series by hydrological year and compute the mean head in every hydrological year. This can be done as follows:"
   ]
  },
  {
   "cell_type": "code",
   "execution_count": 209,
   "metadata": {
    "collapsed": false
   },
   "outputs": [
    {
     "data": {
      "text/html": [
       "<div>\n",
       "<table border=\"1\" class=\"dataframe\">\n",
       "  <thead>\n",
       "    <tr style=\"text-align: right;\">\n",
       "      <th></th>\n",
       "      <th>Stand (cm t.o.v. NAP)</th>\n",
       "    </tr>\n",
       "    <tr>\n",
       "      <th>Peildatum</th>\n",
       "      <th></th>\n",
       "    </tr>\n",
       "  </thead>\n",
       "  <tbody>\n",
       "    <tr>\n",
       "      <th>1955-01-01</th>\n",
       "      <td>684.176471</td>\n",
       "    </tr>\n",
       "    <tr>\n",
       "      <th>1956-01-01</th>\n",
       "      <td>711.090909</td>\n",
       "    </tr>\n",
       "    <tr>\n",
       "      <th>1957-01-01</th>\n",
       "      <td>707.454545</td>\n",
       "    </tr>\n",
       "    <tr>\n",
       "      <th>1958-01-01</th>\n",
       "      <td>767.250000</td>\n",
       "    </tr>\n",
       "    <tr>\n",
       "      <th>1959-01-01</th>\n",
       "      <td>710.500000</td>\n",
       "    </tr>\n",
       "  </tbody>\n",
       "</table>\n",
       "</div>"
      ],
      "text/plain": [
       "            Stand (cm t.o.v. NAP)\n",
       "Peildatum                        \n",
       "1955-01-01             684.176471\n",
       "1956-01-01             711.090909\n",
       "1957-01-01             707.454545\n",
       "1958-01-01             767.250000\n",
       "1959-01-01             710.500000"
      ]
     },
     "execution_count": 209,
     "metadata": {},
     "output_type": "execute_result"
    }
   ],
   "source": [
    "pb.resample(\"AS\").mean().head()"
   ]
  },
  {
   "cell_type": "code",
   "execution_count": 115,
   "metadata": {
    "collapsed": false
   },
   "outputs": [
    {
     "data": {
      "text/html": [
       "<div>\n",
       "<table border=\"1\" class=\"dataframe\">\n",
       "  <thead>\n",
       "    <tr style=\"text-align: right;\">\n",
       "      <th></th>\n",
       "      <th>Stand (cm t.o.v. NAP)</th>\n",
       "    </tr>\n",
       "    <tr>\n",
       "      <th>Peildatum</th>\n",
       "      <th></th>\n",
       "    </tr>\n",
       "  </thead>\n",
       "  <tbody>\n",
       "    <tr>\n",
       "      <th>1954-04-01</th>\n",
       "      <td>729.500000</td>\n",
       "    </tr>\n",
       "    <tr>\n",
       "      <th>1955-04-01</th>\n",
       "      <td>685.411765</td>\n",
       "    </tr>\n",
       "    <tr>\n",
       "      <th>1956-04-01</th>\n",
       "      <td>706.909091</td>\n",
       "    </tr>\n",
       "    <tr>\n",
       "      <th>1957-04-01</th>\n",
       "      <td>722.666667</td>\n",
       "    </tr>\n",
       "    <tr>\n",
       "      <th>1958-04-01</th>\n",
       "      <td>766.750000</td>\n",
       "    </tr>\n",
       "  </tbody>\n",
       "</table>\n",
       "</div>"
      ],
      "text/plain": [
       "            Stand (cm t.o.v. NAP)\n",
       "Peildatum                        \n",
       "1954-04-01             729.500000\n",
       "1955-04-01             685.411765\n",
       "1956-04-01             706.909091\n",
       "1957-04-01             722.666667\n",
       "1958-04-01             766.750000"
      ]
     },
     "execution_count": 115,
     "metadata": {},
     "output_type": "execute_result"
    }
   ],
   "source": [
    "pb.resample(\"AS-APR\").mean().head()"
   ]
  },
  {
   "cell_type": "markdown",
   "metadata": {},
   "source": [
    "This uses Groupby functionality. Which we'll inspect next.\n",
    "\n",
    "In fact, pb.resample(...) yields a DatetimeIndexResampler"
   ]
  },
  {
   "cell_type": "code",
   "execution_count": 81,
   "metadata": {
    "collapsed": false
   },
   "outputs": [
    {
     "data": {
      "text/plain": [
       "pandas.tseries.resample.DatetimeIndexResampler"
      ]
     },
     "execution_count": 81,
     "metadata": {},
     "output_type": "execute_result"
    }
   ],
   "source": [
    "Z = pb.resample(\"AS-APR\")\n",
    "type(Z)"
   ]
  },
  {
   "cell_type": "markdown",
   "metadata": {},
   "source": [
    "This resampler has its own functinality that can be used.  This fucntionality is shown here:"
   ]
  },
  {
   "cell_type": "code",
   "execution_count": 83,
   "metadata": {
    "collapsed": false
   },
   "outputs": [
    {
     "data": {
      "text/plain": [
       "['agg',\n",
       " 'aggregate',\n",
       " 'apply',\n",
       " 'asfreq',\n",
       " 'ax',\n",
       " 'backfill',\n",
       " 'bfill',\n",
       " 'count',\n",
       " 'ffill',\n",
       " 'fillna',\n",
       " 'first',\n",
       " 'get_group',\n",
       " 'groups',\n",
       " 'indices',\n",
       " 'interpolate',\n",
       " 'last',\n",
       " 'max',\n",
       " 'mean',\n",
       " 'median',\n",
       " 'min',\n",
       " 'name',\n",
       " 'ndim',\n",
       " 'ngroups',\n",
       " 'nunique',\n",
       " 'obj',\n",
       " 'ohlc',\n",
       " 'pad',\n",
       " 'plot',\n",
       " 'prod',\n",
       " 'sem',\n",
       " 'size',\n",
       " 'std',\n",
       " 'sum',\n",
       " 'transform',\n",
       " 'var']"
      ]
     },
     "execution_count": 83,
     "metadata": {},
     "output_type": "execute_result"
    }
   ],
   "source": [
    "[z for z in dir(Z) if not z.startswith(\"_\")]"
   ]
  },
  {
   "cell_type": "markdown",
   "metadata": {},
   "source": [
    "Insteresting is the agg function (which is an abbreviation of aggregate function). Here is its documentation:"
   ]
  },
  {
   "cell_type": "code",
   "execution_count": 128,
   "metadata": {
    "collapsed": false
   },
   "outputs": [
    {
     "name": "stdout",
     "output_type": "stream",
     "text": [
      "\n",
      "        Apply aggregation function or functions to resampled groups, yielding\n",
      "        most likely Series but in some cases DataFrame depending on the output\n",
      "        of the aggregation function\n",
      "\n",
      "        Parameters\n",
      "        ----------\n",
      "        func_or_funcs : function or list / dict of functions\n",
      "            List/dict of functions will produce DataFrame with column names\n",
      "            determined by the function names themselves (list) or the keys in\n",
      "            the dict\n",
      "\n",
      "        Notes\n",
      "        -----\n",
      "        agg is an alias for aggregate. Use it.\n",
      "\n",
      "        Examples\n",
      "        --------\n",
      "        >>> s = Series([1,2,3,4,5],\n",
      "                        index=pd.date_range('20130101',\n",
      "                                            periods=5,freq='s'))\n",
      "        2013-01-01 00:00:00    1\n",
      "        2013-01-01 00:00:01    2\n",
      "        2013-01-01 00:00:02    3\n",
      "        2013-01-01 00:00:03    4\n",
      "        2013-01-01 00:00:04    5\n",
      "        Freq: S, dtype: int64\n",
      "\n",
      "        >>> r = s.resample('2s')\n",
      "        DatetimeIndexResampler [freq=<2 * Seconds>, axis=0, closed=left,\n",
      "                                label=left, convention=start, base=0]\n",
      "\n",
      "        >>> r.agg(np.sum)\n",
      "        2013-01-01 00:00:00    3\n",
      "        2013-01-01 00:00:02    7\n",
      "        2013-01-01 00:00:04    5\n",
      "        Freq: 2S, dtype: int64\n",
      "\n",
      "        >>> r.agg(['sum','mean','max'])\n",
      "                             sum  mean  max\n",
      "        2013-01-01 00:00:00    3   1.5    2\n",
      "        2013-01-01 00:00:02    7   3.5    4\n",
      "        2013-01-01 00:00:04    5   5.0    5\n",
      "\n",
      "        >>> r.agg({'result' : lambda x: x.mean() / x.std(),\n",
      "                   'total' : np.sum})\n",
      "                             total    result\n",
      "        2013-01-01 00:00:00      3  2.121320\n",
      "        2013-01-01 00:00:02      7  4.949747\n",
      "        2013-01-01 00:00:04      5       NaN\n",
      "\n",
      "        See also\n",
      "        --------\n",
      "        transform\n",
      "\n",
      "        Returns\n",
      "        -------\n",
      "        Series or DataFrame\n",
      "        \n"
     ]
    }
   ],
   "source": [
    "print(Z.agg.__doc__)"
   ]
  },
  {
   "cell_type": "markdown",
   "metadata": {},
   "source": [
    "So we can use any function and apply it on the data grouped by the resampler. These data are the time series consisting of the data that fall in the interval between the last resample moment and the currrent one. Let's try this out to get the three highest values of any hydrological year. For this we define our own function, called `highest3`.\n",
    "\n",
    "It works by taking z which should be a time series, one consisting of any of the hydrological years in your long-year time series. We use argsort to the indices of the ordered values (we could also directly use the values themselves, but it's good to know argsort exists). The series is sorted from low to high, so we take the last 3 values, i.e. the highest 3. Notice that this also works in Python of the total number of values is less than three, so we don't need to check this. Then we return the mean of these highest three values. That's all."
   ]
  },
  {
   "cell_type": "code",
   "execution_count": 129,
   "metadata": {
    "collapsed": false
   },
   "outputs": [],
   "source": [
    "def highest3(z):\n",
    "    \"\"\"returns mean of highest 3 values using np.argsort\"\"\"\n",
    "    I = np.argsort(z)[-3:]\n",
    "    return z[I].mean()\n",
    "\n",
    "def highest3a(z):\n",
    "    \"\"\"returns mean of highest 3 values using np.sort\"\"\"\n",
    "    z = np.sort(z)\n",
    "    return z[-3:].mean()"
   ]
  },
  {
   "cell_type": "code",
   "execution_count": 130,
   "metadata": {
    "collapsed": false
   },
   "outputs": [
    {
     "name": "stdout",
     "output_type": "stream",
     "text": [
      "Using np.argsort\n",
      "            mean_highest_value\n",
      "Peildatum                     \n",
      "1954-04-01          729.500000\n",
      "1955-04-01          758.333333\n",
      "1956-04-01          724.000000\n",
      "1957-04-01          776.000000\n",
      "1958-04-01          805.000000\n",
      "\n",
      "Using np.sort\n",
      "            mean_highest_value\n",
      "Peildatum                     \n",
      "1954-04-01          729.500000\n",
      "1955-04-01          758.333333\n",
      "1956-04-01          724.000000\n",
      "1957-04-01          776.000000\n",
      "1958-04-01          805.000000\n"
     ]
    }
   ],
   "source": [
    "# Apply\n",
    "print(\"Using np.argsort\")\n",
    "highest = pb.resample(\"AS-APR\").agg(highest3)\n",
    "highest.columns = [\"mean_highest_value\"]\n",
    "print(highest.head())\n",
    "\n",
    "print(\"\\nUsing np.sort\")\n",
    "highesta = pb.resample(\"AS-APR\").agg(highest3a)\n",
    "highesta.columns = [\"mean_highest_value\"]\n",
    "print(highesta.head())\n"
   ]
  },
  {
   "cell_type": "markdown",
   "metadata": {},
   "source": [
    "This, of course, solves the problem. Which means we could just as well also compute the lowest 3 at the same time."
   ]
  },
  {
   "cell_type": "markdown",
   "metadata": {},
   "source": [
    "And why not also remember the highest and lowest 3"
   ]
  },
  {
   "cell_type": "code",
   "execution_count": 131,
   "metadata": {
    "collapsed": false
   },
   "outputs": [
    {
     "data": {
      "text/html": [
       "<div>\n",
       "<table border=\"1\" class=\"dataframe\">\n",
       "  <thead>\n",
       "    <tr style=\"text-align: right;\">\n",
       "      <th></th>\n",
       "      <th>mean_lowest_and_highest_values</th>\n",
       "    </tr>\n",
       "    <tr>\n",
       "      <th>Peildatum</th>\n",
       "      <th></th>\n",
       "    </tr>\n",
       "  </thead>\n",
       "  <tbody>\n",
       "    <tr>\n",
       "      <th>1954-04-01</th>\n",
       "      <td>(730.0, 730.0)</td>\n",
       "    </tr>\n",
       "    <tr>\n",
       "      <th>1955-04-01</th>\n",
       "      <td>(609.0, 758.0)</td>\n",
       "    </tr>\n",
       "    <tr>\n",
       "      <th>1956-04-01</th>\n",
       "      <td>(676.0, 724.0)</td>\n",
       "    </tr>\n",
       "    <tr>\n",
       "      <th>1957-04-01</th>\n",
       "      <td>(681.0, 776.0)</td>\n",
       "    </tr>\n",
       "    <tr>\n",
       "      <th>1958-04-01</th>\n",
       "      <td>(712.0, 805.0)</td>\n",
       "    </tr>\n",
       "  </tbody>\n",
       "</table>\n",
       "</div>"
      ],
      "text/plain": [
       "           mean_lowest_and_highest_values\n",
       "Peildatum                                \n",
       "1954-04-01                 (730.0, 730.0)\n",
       "1955-04-01                 (609.0, 758.0)\n",
       "1956-04-01                 (676.0, 724.0)\n",
       "1957-04-01                 (681.0, 776.0)\n",
       "1958-04-01                 (712.0, 805.0)"
      ]
     },
     "execution_count": 131,
     "metadata": {},
     "output_type": "execute_result"
    }
   ],
   "source": [
    "def h_and_l_3(z):\n",
    "    z = np.sort(z)\n",
    "    # rounding off for a nicer list, but is not necessary\n",
    "    return (np.round(z[ :3].mean()),\n",
    "            np.round(z[-3:].mean()))\n",
    "\n",
    "# Apply\n",
    "h_and_l = pb.resample(\"AS-APR\").agg(h_and_l_3)\n",
    "h_and_l.columns = [\"mean_lowest_and_highest_values\"]\n",
    "h_and_l.head()"
   ]
  },
  {
   "cell_type": "markdown",
   "metadata": {},
   "source": [
    "The above functions all `reduce`, that is, they all aggreate the data held by the resampler for each sampling interval to a single value (or a tuple)"
   ]
  },
  {
   "cell_type": "code",
   "execution_count": 143,
   "metadata": {
    "collapsed": false
   },
   "outputs": [
    {
     "data": {
      "text/html": [
       "<div>\n",
       "<table border=\"1\" class=\"dataframe\">\n",
       "  <thead>\n",
       "    <tr style=\"text-align: right;\">\n",
       "      <th></th>\n",
       "      <th>Stand (cm t.o.v. NAP)</th>\n",
       "    </tr>\n",
       "    <tr>\n",
       "      <th>Peildatum</th>\n",
       "      <th></th>\n",
       "    </tr>\n",
       "  </thead>\n",
       "  <tbody>\n",
       "    <tr>\n",
       "      <th>1954-04-01</th>\n",
       "      <td>([726.0, 733.0],)</td>\n",
       "    </tr>\n",
       "    <tr>\n",
       "      <th>1955-04-01</th>\n",
       "      <td>([750.0, 751.0, 774.0],)</td>\n",
       "    </tr>\n",
       "    <tr>\n",
       "      <th>1956-04-01</th>\n",
       "      <td>([723.0, 723.0, 726.0],)</td>\n",
       "    </tr>\n",
       "    <tr>\n",
       "      <th>1957-04-01</th>\n",
       "      <td>([741.0, 771.0, 816.0],)</td>\n",
       "    </tr>\n",
       "    <tr>\n",
       "      <th>1958-04-01</th>\n",
       "      <td>([797.0, 798.0, 820.0],)</td>\n",
       "    </tr>\n",
       "  </tbody>\n",
       "</table>\n",
       "</div>"
      ],
      "text/plain": [
       "               Stand (cm t.o.v. NAP)\n",
       "Peildatum                           \n",
       "1954-04-01         ([726.0, 733.0],)\n",
       "1955-04-01  ([750.0, 751.0, 774.0],)\n",
       "1956-04-01  ([723.0, 723.0, 726.0],)\n",
       "1957-04-01  ([741.0, 771.0, 816.0],)\n",
       "1958-04-01  ([797.0, 798.0, 820.0],)"
      ]
     },
     "execution_count": 143,
     "metadata": {},
     "output_type": "execute_result"
    }
   ],
   "source": [
    "def h3(z):\n",
    "    \"\"\"Returns a tuple of the three highest value within sampling interval\"\"\"\n",
    "    return (z[np.argsort(z)[-3:]],)\n",
    "\n",
    "Z.agg(h3).head()"
   ]
  },
  {
   "cell_type": "markdown",
   "metadata": {},
   "source": [
    "This does indeed give a tuple of the three highest values within each sampling interval, but we can't plot these values easily on the graph of the time series."
   ]
  },
  {
   "cell_type": "markdown",
   "metadata": {},
   "source": [
    "Other functionality of the sampler are the indices, i.e. Z.indices. This yields a dictionary with the indices into the overall time series that belong to each resampled timestamp. Therefore we can readily find the values that belong to each hydrological year."
   ]
  },
  {
   "cell_type": "code",
   "execution_count": 159,
   "metadata": {
    "collapsed": false
   },
   "outputs": [
    {
     "data": {
      "text/html": [
       "<div>\n",
       "<table border=\"1\" class=\"dataframe\">\n",
       "  <thead>\n",
       "    <tr style=\"text-align: right;\">\n",
       "      <th></th>\n",
       "      <th>Stand (cm t.o.v. NAP)</th>\n",
       "    </tr>\n",
       "    <tr>\n",
       "      <th>Peildatum</th>\n",
       "      <th></th>\n",
       "    </tr>\n",
       "  </thead>\n",
       "  <tbody>\n",
       "    <tr>\n",
       "      <th>1954-04-01</th>\n",
       "      <td>([726.0, 733.0],)</td>\n",
       "    </tr>\n",
       "    <tr>\n",
       "      <th>1955-04-01</th>\n",
       "      <td>([750.0, 751.0, 774.0],)</td>\n",
       "    </tr>\n",
       "    <tr>\n",
       "      <th>1956-04-01</th>\n",
       "      <td>([723.0, 723.0, 726.0],)</td>\n",
       "    </tr>\n",
       "    <tr>\n",
       "      <th>1957-04-01</th>\n",
       "      <td>([741.0, 771.0, 816.0],)</td>\n",
       "    </tr>\n",
       "    <tr>\n",
       "      <th>1958-04-01</th>\n",
       "      <td>([797.0, 798.0, 820.0],)</td>\n",
       "    </tr>\n",
       "  </tbody>\n",
       "</table>\n",
       "</div>"
      ],
      "text/plain": [
       "               Stand (cm t.o.v. NAP)\n",
       "Peildatum                           \n",
       "1954-04-01         ([726.0, 733.0],)\n",
       "1955-04-01  ([750.0, 751.0, 774.0],)\n",
       "1956-04-01  ([723.0, 723.0, 726.0],)\n",
       "1957-04-01  ([741.0, 771.0, 816.0],)\n",
       "1958-04-01  ([797.0, 798.0, 820.0],)"
      ]
     },
     "execution_count": 159,
     "metadata": {},
     "output_type": "execute_result"
    }
   ],
   "source": [
    "Z.apply(h3).head()"
   ]
  },
  {
   "cell_type": "markdown",
   "metadata": {},
   "source": [
    "So appy() works the same as agg() at least here.\n",
    "\n",
    "If we want to plot the three highest points in each hydrlogical year, we could make a list with the sub time series that consist of the three highest points with there timestamp as index. Then, each item in this list is a series consisting of three values, which we may plot one after the other."
   ]
  },
  {
   "cell_type": "code",
   "execution_count": 178,
   "metadata": {
    "collapsed": false
   },
   "outputs": [
    {
     "name": "stdout",
     "output_type": "stream",
     "text": [
      "<class 'pandas.core.series.Series'>\n"
     ]
    },
    {
     "data": {
      "text/plain": [
       "1957-04-14    741.0\n",
       "1958-02-16    771.0\n",
       "1958-03-16    816.0\n",
       "Name: Stand (cm t.o.v. NAP), dtype: float64"
      ]
     },
     "execution_count": 178,
     "metadata": {},
     "output_type": "execute_result"
    }
   ],
   "source": [
    "dd = list()\n",
    "def h33(z):\n",
    "    \"\"\"Returns a tuple of the three highest value within sampling interval\"\"\"\n",
    "    #print(type(z))\n",
    "    dd.append(z[z.argsort()[-3:]])\n",
    "    return\n",
    "\n",
    "# the time series are put in the list dd\n",
    "Z.apply(h33).head()\n",
    "#Z.agg(h33).head()  # alternative works just as well\n",
    "\n",
    "# for instance show dd[3]\n",
    "print(type(dd[3]))\n",
    "dd[3]"
   ]
  },
  {
   "cell_type": "markdown",
   "metadata": {},
   "source": [
    "The next step is to plot them. But we first plot the entire data set as a line. Then we plot each sub time series as small circles. The adjacent hydrological years then have a different color."
   ]
  },
  {
   "cell_type": "code",
   "execution_count": 177,
   "metadata": {
    "collapsed": false
   },
   "outputs": [
    {
     "data": {
      "image/png": "[encoded data removed]",
      "text/plain": [
       "<matplotlib.figure.Figure at 0x116985c88>"
      ]
     },
     "metadata": {},
     "output_type": "display_data"
    }
   ],
   "source": [
    "pb.plot()   # plot all data as a line\n",
    "for d in dd:\n",
    "    #plot sub time series of the three highest points\n",
    "    d.plot(marker='o')\n",
    "plt.show()"
   ]
  },
  {
   "cell_type": "markdown",
   "metadata": {},
   "source": [
    "If we want to color the data in the same hydrological year in the same color, then we also make a list of all data in each sampling interval next to the list of the three highest values. Each item in dd has the complete time series of the interval, each item in dd3 has a tiem series of the three highest values alone."
   ]
  },
  {
   "cell_type": "code",
   "execution_count": 185,
   "metadata": {
    "collapsed": false
   },
   "outputs": [
    {
     "data": {
      "image/png": "[encoded data removed]",
      "text/plain": [
       "<matplotlib.figure.Figure at 0x116a81a20>"
      ]
     },
     "metadata": {},
     "output_type": "display_data"
    }
   ],
   "source": [
    "dd  = list() # the entire time series in each sampling interval.\n",
    "dd3 = list() # only the three highest values in each sampling interval.\n",
    "def h33(z):\n",
    "    \"\"\"Returns a tuple of the three highest value within sampling interval\"\"\"\n",
    "    dd.append(z[:]) # copy entire time series of this sampling interval\n",
    "    dd3.append(z[z.argsort()[-3:]])\n",
    "    return\n",
    "\n",
    "# Here we apply the function, which generates the lists dd and ddr\n",
    "Z.apply(h33).head()\n",
    "\n",
    "# Then plot the lists in dd and dd3. Use the same color for all points in the same\n",
    "# hydrological year.\n",
    "clr = 'brgkmcy'; i=0 # colors to use\n",
    "for d3, d  in zip(dd3, dd):\n",
    "    d.plot(marker='.', color=clr[i]) # all data in hydrological year\n",
    "    d3.plot(marker='o', color=clr[i]) # highest three\n",
    "    i += 1\n",
    "    if i==len(clr): i=0 # set i to 0 when colors are exhausted.\n",
    "plt.show()"
   ]
  },
  {
   "cell_type": "code",
   "execution_count": 157,
   "metadata": {
    "collapsed": false
   },
   "outputs": [],
   "source": [
    "Z = pb.resample(\"AS-APR\")"
   ]
  },
  {
   "cell_type": "markdown",
   "metadata": {},
   "source": [
    "The resampler object Z also has a method indices, which is a dict with the indices in each sampling interval. The indices are absolute indices, i.e. pointing in the large time series. This prevents having to store time series twice."
   ]
  },
  {
   "cell_type": "code",
   "execution_count": 186,
   "metadata": {
    "collapsed": false
   },
   "outputs": [
    {
     "data": {
      "text/plain": [
       "collections.defaultdict"
      ]
     },
     "execution_count": 186,
     "metadata": {},
     "output_type": "execute_result"
    }
   ],
   "source": [
    "Idict = Z.indices\n",
    "type(Idict)"
   ]
  },
  {
   "cell_type": "markdown",
   "metadata": {},
   "source": [
    "A dict has keys. So let's show one item in this dict like so:"
   ]
  },
  {
   "cell_type": "code",
   "execution_count": 194,
   "metadata": {
    "collapsed": false
   },
   "outputs": [
    {
     "data": {
      "text/plain": [
       "Stand (cm t.o.v. NAP)    741.0\n",
       "Name: 1955-04-22 00:00:00, dtype: float64"
      ]
     },
     "execution_count": 194,
     "metadata": {},
     "output_type": "execute_result"
    }
   ],
   "source": [
    "pb.ix[3]"
   ]
  },
  {
   "cell_type": "code",
   "execution_count": 196,
   "metadata": {
    "collapsed": false
   },
   "outputs": [
    {
     "name": "stdout",
     "output_type": "stream",
     "text": [
      "1983-04-01 00:00:00\n",
      "\n",
      "[585, 586, 587, 588, 589, 590, 591, 592, 593, 594, 595, 596, 597, 598, 599, 600, 601, 602, 603, 604, 605, 606, 607, 608, 609, 610, 611]\n",
      "\n",
      "            Stand (cm t.o.v. NAP)\n",
      "Peildatum                        \n",
      "1983-04-06                 1095.0\n",
      "1983-04-20                 1098.0\n",
      "1983-05-04                 1105.0\n",
      "1983-05-18                 1116.0\n",
      "1983-06-01                 1119.0\n",
      "1983-06-15                 1106.0\n",
      "1983-06-29                 1097.0\n",
      "1983-07-13                 1083.0\n",
      "1983-07-27                 1073.0\n",
      "1983-08-02                 1067.0\n",
      "1983-08-10                 1067.0\n",
      "1983-08-24                 1058.0\n",
      "1983-09-07                 1055.0\n",
      "1983-09-21                 1049.0\n",
      "1983-10-05                 1045.0\n",
      "1983-10-19                  941.0\n",
      "1983-11-02                 1039.0\n",
      "1983-11-11                 1038.0\n",
      "1983-11-30                 1146.0\n",
      "1983-12-14                 1039.0\n",
      "1983-12-28                 1041.0\n",
      "1984-01-11                 1048.0\n",
      "1984-01-25                 1058.0\n",
      "1984-02-08                 1081.0\n",
      "1984-02-22                 1097.0\n",
      "1984-03-07                 1089.0\n",
      "1984-03-21                 1081.0\n"
     ]
    }
   ],
   "source": [
    "# Show the indices for one of the keys of the Idict\n",
    "for k in Idict.keys():\n",
    "    print(k)  # the key\n",
    "    print()\n",
    "    print(Idict[k]) # the indices\n",
    "    print()\n",
    "    print(pb.ix[Idict[k]]) # the values beloning to these indices\n",
    "    break"
   ]
  },
  {
   "cell_type": "markdown",
   "metadata": {},
   "source": [
    "This implies that we can now plot each sub time series like so:"
   ]
  },
  {
   "cell_type": "markdown",
   "metadata": {},
   "source": [
    "To plot them together with the boundaries of each hydrological year, we first plot the data as a colored line, within each hydrological year. Then we plot the vertical lines that separate the hydrological years. The lines are colored light grey using color=[R, G, B] where R, G and B are all 0.8. ax=get_ylim() gets the extremes of the vertical axis, which are then used to draw the vertical lines."
   ]
  },
  {
   "cell_type": "code",
   "execution_count": 207,
   "metadata": {
    "collapsed": false
   },
   "outputs": [
    {
     "data": {
      "image/png": "[encoded data removed]",
      "text/plain": [
       "<matplotlib.figure.Figure at 0x11c570b70>"
      ]
     },
     "metadata": {},
     "output_type": "display_data"
    }
   ],
   "source": [
    "# Show the indices for one of the keys of the Idict\n",
    "fig, ax = plt.subplots()\n",
    "for k in Idict.keys():\n",
    "    I = Idict[k]\n",
    "    #pb.ix[I].plot(ax=ax) # the values beloning to these indices (can't omit the legend)\n",
    "    ax.plot(pb.index[I], pb.values[I]) # ordinary plot, doesn't plot a legend on its own\n",
    "\n",
    "ylim = ax.get_ylim()\n",
    "for k in Idict.keys():\n",
    "    i = Idict[k][-1]\n",
    "    ax.plot(pb.index[[i, i]], ylim, color=[0.8, 0.8, 0.8])\n",
    "    \n",
    "plt.show()"
   ]
  },
  {
   "cell_type": "markdown",
   "metadata": {
    "collapsed": true
   },
   "source": [
    "That's it."
   ]
  },
  {
   "cell_type": "code",
   "execution_count": null,
   "metadata": {
    "collapsed": true
   },
   "outputs": [],
   "source": []
  }
 ],
 "metadata": {
  "anaconda-cloud": {},
  "kernelspec": {
   "display_name": "Python [default]",
   "language": "python",
   "name": "python3"
  },
  "language_info": {
   "codemirror_mode": {
    "name": "ipython",
    "version": 3
   },
   "file_extension": ".py",
   "mimetype": "text/x-python",
   "name": "python",
   "nbconvert_exporter": "python",
   "pygments_lexer": "ipython3",
   "version": "3.5.2"
  }
 },
 "nbformat": 4,
 "nbformat_minor": 1
}
