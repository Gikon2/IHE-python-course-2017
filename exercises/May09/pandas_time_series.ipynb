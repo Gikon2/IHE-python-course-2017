{
 "cells": [
  {
   "cell_type": "markdown",
   "metadata": {},
   "source": [
    "<figure>\n",
    "  <IMG SRC=\"https://raw.githubusercontent.com/mbakker7/exploratory_computing_with_python/master/tudelft_logo.png\" WIDTH=250 ALIGN=\"right\">\n",
    "</figure>\n",
    "\n",
    "# Exploratory Computing with Python\n",
    "*Developed by Mark Bakker with additions by Theo Olsthoorn*"
   ]
  },
  {
   "cell_type": "markdown",
   "metadata": {},
   "source": [
    "## Notebook 5: Time series data and Pandas"
   ]
  },
  {
   "cell_type": "code",
   "execution_count": 1,
   "metadata": {
    "collapsed": true
   },
   "outputs": [],
   "source": [
    "# We will probably need these\n",
    "import numpy as np\n",
    "import matplotlib.pyplot as plt\n",
    "import pandas as pd\n",
    "import os"
   ]
  },
  {
   "cell_type": "markdown",
   "metadata": {},
   "source": [
    "### Loading real data with Pandas\n",
    "Real data is often stored in CSV files (Comma Separated Values).\n",
    "So far, we have loaded csv files with the `np.loadtxt` command. \n",
    "The `loadtxt` function has some basic functionality and works just fine, but when we have more elaborate data sets we want more sophisticated functionality. \n",
    "The most powerful and advanced package for data handling and analysis is called `pandas`. We will use only a few functions of the `pandas` package here. Full information on `pandas` can be found on the [pandas website](http://pandas.pydata.org/)."
   ]
  },
  {
   "cell_type": "markdown",
   "metadata": {},
   "source": [
    "### Exercise 1. <a name=\"back1\"></a>Average annual rainfall by country\n",
    "The file `annual_precip.csv` contains the average yearly rainfall and total land area for all the countries in the world (well, there are some missing values);  the data is available on the website of the <a href=\"http://data.worldbank.org/\">world bank</a>. Open the data file to see what it looks like (Notepad, Textedit, even Word if you have to). Load the data with the `read_csv` function of `pandas`, making sure that the names of the countries can be used to select a row, and perform the following tasks:\n",
    "\n",
    "* Print the first 5 lines of the DataFrame to the screen with the `.head()` function.\n",
    "* Print the average annual rainfall for Panama and make sure to include the units.\n",
    "* Report the total land area of the Netherlands and make sure to include the units.\n",
    "* Report all countries with an average annual rainfall less than 200 mm/year\n",
    "* Report all countries with an average annual rainfall more than 2500 mm/year\n",
    "* Report all countries with an average annual rainfall that is within 50 mm/year of the average annual rainfall in the Netherlands"
   ]
  },
  {
   "cell_type": "code",
   "execution_count": 2,
   "metadata": {},
   "outputs": [
    {
     "name": "stdout",
     "output_type": "stream",
     "text": [
      "First five lines of rain dataset:\n",
      "                     precip    area\n",
      "country                            \n",
      "Afghanistan           327.0   652.2\n",
      "Albania              1485.0    27.4\n",
      "Algeria                89.0  2381.7\n",
      "American Samoa          NaN     0.2\n",
      "Andorra                 NaN     0.5\n",
      "Angola               1010.0  1246.7\n",
      "Antigua and Barbuda  1030.0     0.4\n",
      "Argentina             591.0  2736.7\n",
      "Armenia               562.0    28.5\n",
      "Aruba                   NaN     0.2\n"
     ]
    }
   ],
   "source": [
    "rain = pd.read_csv('annual_precip.csv', skiprows=2, index_col=0)\n",
    "\n",
    "# Examine the read file\n",
    "print('First five lines of rain dataset:')\n",
    "print(rain.head(10))"
   ]
  },
  {
   "cell_type": "markdown",
   "metadata": {},
   "source": [
    "Get data for specific countries:"
   ]
  },
  {
   "cell_type": "code",
   "execution_count": 3,
   "metadata": {},
   "outputs": [
    {
     "name": "stdout",
     "output_type": "stream",
     "text": [
      "\n",
      "Average annual rainfall in Panama is 2692.0 mm/year\n"
     ]
    }
   ],
   "source": [
    "print('\\nAverage annual rainfall in Panama is',rain.loc['Panama','precip'],'mm/year')"
   ]
  },
  {
   "cell_type": "code",
   "execution_count": 4,
   "metadata": {},
   "outputs": [
    {
     "name": "stdout",
     "output_type": "stream",
     "text": [
      "\n",
      "Land area of the Netherlands is 33.7 thousand km^2/year\n"
     ]
    }
   ],
   "source": [
    "print('\\nLand area of the Netherlands is', rain.loc['Netherlands','area'], 'thousand km^2/year')"
   ]
  },
  {
   "cell_type": "code",
   "execution_count": 5,
   "metadata": {},
   "outputs": [
    {
     "name": "stdout",
     "output_type": "stream",
     "text": [
      "\n",
      "Countries where average rainfall is below 200 mm/year\n",
      "                      precip    area\n",
      "country                             \n",
      "Algeria                 89.0  2381.7\n",
      "Bahrain                 83.0     0.8\n",
      "Egypt, Arab Rep.        51.0   995.5\n",
      "Jordan                 111.0    88.8\n",
      "Kuwait                 121.0    17.8\n",
      "Libya                   56.0  1759.5\n",
      "Mauritania              92.0  1030.7\n",
      "Niger                  151.0  1266.7\n",
      "Oman                   125.0   309.5\n",
      "Qatar                   74.0    11.6\n",
      "Saudi Arabia            59.0  2149.7\n",
      "Turkmenistan           161.0   469.9\n",
      "United Arab Emirates    78.0    83.6\n",
      "Yemen, Rep.            167.0   528.0\n"
     ]
    }
   ],
   "source": [
    "print('\\nCountries where average rainfall is below 200 mm/year')\n",
    "print(rain[ rain.precip < 200 ])"
   ]
  },
  {
   "cell_type": "code",
   "execution_count": 6,
   "metadata": {},
   "outputs": [
    {
     "name": "stdout",
     "output_type": "stream",
     "text": [
      "\n",
      "Countries where average rainfall is above 2500 mm/year\n",
      "                       precip    area\n",
      "country                              \n",
      "Bangladesh             2666.0   130.2\n",
      "Brunei Darussalam      2722.0     5.3\n",
      "Colombia               2612.0  1109.5\n",
      "Costa Rica             2926.0    51.1\n",
      "Fiji                   2592.0    18.3\n",
      "Indonesia              2702.0  1811.6\n",
      "Malaysia               2875.0   328.6\n",
      "Panama                 2692.0    74.3\n",
      "Papua New Guinea       3142.0   452.9\n",
      "Sao Tome and Principe  3200.0     1.0\n",
      "Sierra Leone           2526.0    71.6\n",
      "Solomon Islands        3028.0    28.0\n"
     ]
    }
   ],
   "source": [
    "print('\\nCountries where average rainfall is above 2500 mm/year')\n",
    "print(rain[ rain.precip > 2500 ])"
   ]
  },
  {
   "cell_type": "code",
   "execution_count": 7,
   "metadata": {},
   "outputs": [
    {
     "name": "stdout",
     "output_type": "stream",
     "text": [
      "Countries with almost the same rainfall as Netherlands\n",
      "                 precip    area\n",
      "country                        \n",
      "Burkina Faso      748.0   273.6\n",
      "Lesotho           788.0    30.4\n",
      "Mexico            752.0  1944.0\n",
      "Netherlands       778.0    33.7\n",
      "Slovak Republic   824.0    48.1\n",
      "Swaziland         788.0    17.2\n"
     ]
    }
   ],
   "source": [
    "print('Countries with almost the same rainfall as Netherlands')\n",
    "\n",
    "print(rain[    abs(rain.loc['Netherlands','precip'] - rain.precip) < 50     ])"
   ]
  },
  {
   "cell_type": "markdown",
   "metadata": {},
   "source": [
    "### Time series data\n",
    "\n",
    "In time series data, one of the columns represents dates, sometimes including times, together referred to as datetimes. `pandas` can be used to read csv files where one of the columns includes datetime data. You need to tell `pandas` which column contains datetime values and `pandas` will try to convert that column to datetime objects. Datetime objects are very convenient as specifics of the datetime object may be assessed with the dot syntax: `.year` returns the year, `.month` returns the month, etc.\n",
    "\n",
    "For example, consider the following data stored in the file `timeseries1.dat`\n",
    "\n",
    "`date, conc`  \n",
    "`2014-04-01, 0.19`   \n",
    "`2014-04-02, 0.23`   \n",
    "`2014-04-03, 0.32`   \n",
    "`2014-04-04, 0.29`   \n",
    "\n",
    "The file may be read with `read_csv` using the keyword `parse_dates=[0]` so that column number 0 is converted to datetimes"
   ]
  },
  {
   "cell_type": "code",
   "execution_count": 8,
   "metadata": {},
   "outputs": [
    {
     "name": "stdout",
     "output_type": "stream",
     "text": [
      "        date   conc\n",
      "0 2014-04-01   0.19\n",
      "1 2014-04-02   0.23\n",
      "2 2014-04-03   0.32\n",
      "3 2014-04-04   0.29\n",
      "4 2014-04-05   0.32\n"
     ]
    }
   ],
   "source": [
    "data = pd.read_csv('timeseries1.dat', parse_dates=[0])\n",
    "print(data)"
   ]
  },
  {
   "cell_type": "markdown",
   "metadata": {},
   "source": [
    "The rows of the DataFrame `data` are numbered, as we have not told `pandas` what column to use as the index of the rows. The first column of the DataFrame `data` has datetime values. We can access, for example, the year, month, or day with the dot syntax"
   ]
  },
  {
   "cell_type": "code",
   "execution_count": 9,
   "metadata": {},
   "outputs": [
    {
     "name": "stdout",
     "output_type": "stream",
     "text": [
      "datetime of row 0: 2014-04-01 00:00:00\n",
      "year  of row 0: 2014\n",
      "month of row 0: 4\n",
      "day   of row 0: 1\n"
     ]
    }
   ],
   "source": [
    "print('datetime of row 0:', data.iloc[0,0])\n",
    "print('year  of row 0:', data.iloc[0,0].year)\n",
    "print('month of row 0:', data.iloc[0,0].month)\n",
    "print('day   of row 0:', data.iloc[0,0].day)"
   ]
  },
  {
   "cell_type": "markdown",
   "metadata": {},
   "source": [
    "Time series data may also contain the time in addition to the date. For example, the data of the file `timeseries2.dat`, shown below, contains the day and time. You can access the `hour` or `minutes`, but also the time of a row of the DataFrame with the `.time()` function.\n",
    "\n",
    "`date, conc`   \n",
    "`2014-04-01 12:00:00, 0.19`   \n",
    "`2014-04-01 13:00:00, 0.20`  \n",
    "`2014-04-01 14:00:00, 0.23`  \n",
    "`2014-04-01 15:00:00, 0.21` "
   ]
  },
  {
   "cell_type": "code",
   "execution_count": 10,
   "metadata": {},
   "outputs": [
    {
     "name": "stdout",
     "output_type": "stream",
     "text": [
      "                 date   conc\n",
      "0 2014-04-01 12:00:00   0.19\n",
      "1 2014-04-01 13:00:00   0.20\n",
      "2 2014-04-01 14:00:00   0.23\n",
      "3 2014-04-01 15:00:00   0.21\n",
      "hour  of row 0: 12\n",
      "minute  of row 0: 0\n",
      "time of row 0: 12:00:00\n"
     ]
    }
   ],
   "source": [
    "data = pd.read_csv('timeseries2.dat', parse_dates=[0])\n",
    "print(data)\n",
    "print('hour  of row 0:', data.iloc[0,0].hour)\n",
    "print('minute  of row 0:', data.iloc[0,0].minute)\n",
    "print('time of row 0:', data.iloc[0,0].time())"
   ]
  },
  {
   "cell_type": "markdown",
   "metadata": {},
   "source": [
    "Here we do the same thing, but additionally tell read_csv to use column  0 as index_col"
   ]
  },
  {
   "cell_type": "code",
   "execution_count": 11,
   "metadata": {},
   "outputs": [
    {
     "name": "stdout",
     "output_type": "stream",
     "text": [
      "                      conc\n",
      "date                      \n",
      "2014-04-01 12:00:00   0.19\n",
      "2014-04-01 13:00:00   0.20\n",
      "2014-04-01 14:00:00   0.23\n",
      "2014-04-01 15:00:00   0.21\n"
     ]
    },
    {
     "data": {
      "image/png": "[encoded data removed]",
      "text/plain": [
       "<matplotlib.figure.Figure at 0x114dca940>"
      ]
     },
     "metadata": {},
     "output_type": "display_data"
    }
   ],
   "source": [
    "data = pd.read_csv('timeseries2.dat', parse_dates=[0], index_col=0)\n",
    "print(data)\n",
    "\n",
    "data.plot(kind='bar')\n",
    "plt.show()"
   ]
  },
  {
   "cell_type": "markdown",
   "metadata": {},
   "source": [
    "### Exercise 3,  <a name=\"back3\"></a>Load and plot daily rainfall\n",
    "Rainfall data for the Netherlands may be obtained from the website of the Royal Dutch Meteorological Society <A href=\"http://www.knmi.nl/climatology/daily_data/selection.cgi\">KNMI</A> . Daily rainfall for the weather station Rotterdam in 2012 is stored in the file `rotterdam_rainfall_2012.txt`. First open the file in a text editor to see what the file looks like. At the top of the file, an explanation is given of the data in the file. Read this. Load the data file with the `read_csv` function of `pandas`. Use the keyword `skiprows` to skip all rows except for the row with the names of the columns. Use the keyword `parse_dates` to give either the name or number of the column that needs to be converted to a datetime. Don't forget the `skipinitialspace` keyword, else the names of the columns may start with a bunch of spaces. Perform the following tasks:\n",
    "* Some rainfall values in the dataset may be -1 (read the header of the file to learn why); set all rainfall values that are less than zero to zero. \n",
    "* Use the `plot` function of `pandas` to create a line plot of the daily rainfall with the number of the day (so not the date) along the horizontal axis. \n",
    "* Use `matplotlib` functions to add labels to the axes and set the limits along the horizontal axis from 0 to 365. \n",
    "* Determine the maximum daily rainfall and the date of the maximum daily rainfall and print them to the screen."
   ]
  },
  {
   "cell_type": "code",
   "execution_count": 12,
   "metadata": {},
   "outputs": [
    {
     "data": {
      "text/html": [
       "<div>\n",
       "<table border=\"1\" class=\"dataframe\">\n",
       "  <thead>\n",
       "    <tr style=\"text-align: right;\">\n",
       "      <th></th>\n",
       "      <th>STN</th>\n",
       "      <th>RH</th>\n",
       "    </tr>\n",
       "    <tr>\n",
       "      <th>YYYYMMDD</th>\n",
       "      <th></th>\n",
       "      <th></th>\n",
       "    </tr>\n",
       "  </thead>\n",
       "  <tbody>\n",
       "    <tr>\n",
       "      <th>2012-01-01</th>\n",
       "      <td>344</td>\n",
       "      <td>207</td>\n",
       "    </tr>\n",
       "    <tr>\n",
       "      <th>2012-01-02</th>\n",
       "      <td>344</td>\n",
       "      <td>-1</td>\n",
       "    </tr>\n",
       "    <tr>\n",
       "      <th>2012-01-03</th>\n",
       "      <td>344</td>\n",
       "      <td>144</td>\n",
       "    </tr>\n",
       "    <tr>\n",
       "      <th>2012-01-04</th>\n",
       "      <td>344</td>\n",
       "      <td>36</td>\n",
       "    </tr>\n",
       "    <tr>\n",
       "      <th>2012-01-05</th>\n",
       "      <td>344</td>\n",
       "      <td>84</td>\n",
       "    </tr>\n",
       "    <tr>\n",
       "      <th>2012-01-06</th>\n",
       "      <td>344</td>\n",
       "      <td>8</td>\n",
       "    </tr>\n",
       "    <tr>\n",
       "      <th>2012-01-07</th>\n",
       "      <td>344</td>\n",
       "      <td>30</td>\n",
       "    </tr>\n",
       "    <tr>\n",
       "      <th>2012-01-08</th>\n",
       "      <td>344</td>\n",
       "      <td>-1</td>\n",
       "    </tr>\n",
       "    <tr>\n",
       "      <th>2012-01-09</th>\n",
       "      <td>344</td>\n",
       "      <td>8</td>\n",
       "    </tr>\n",
       "    <tr>\n",
       "      <th>2012-01-10</th>\n",
       "      <td>344</td>\n",
       "      <td>0</td>\n",
       "    </tr>\n",
       "  </tbody>\n",
       "</table>\n",
       "</div>"
      ],
      "text/plain": [
       "            STN   RH\n",
       "YYYYMMDD            \n",
       "2012-01-01  344  207\n",
       "2012-01-02  344   -1\n",
       "2012-01-03  344  144\n",
       "2012-01-04  344   36\n",
       "2012-01-05  344   84\n",
       "2012-01-06  344    8\n",
       "2012-01-07  344   30\n",
       "2012-01-08  344   -1\n",
       "2012-01-09  344    8\n",
       "2012-01-10  344    0"
      ]
     },
     "execution_count": 12,
     "metadata": {},
     "output_type": "execute_result"
    }
   ],
   "source": [
    "rain = pd.read_csv('rotterdam_rainfall_2012.txt',skiprows=9,\n",
    "                parse_dates=['YYYYMMDD'],skipinitialspace=True, index_col='YYYYMMDD')\n",
    "rain.head(10)"
   ]
  },
  {
   "cell_type": "markdown",
   "metadata": {},
   "source": [
    "These data need some manipulation. The rain values are given in 0.1 mm/d where -1 means 0.0005 mm/d.\n",
    "\n",
    "To convert the RH to mm/d, remove the station number and change the name of the index\n",
    "\n",
    "We can drop the column 'STN' and the result is a DataFrame"
   ]
  },
  {
   "cell_type": "code",
   "execution_count": 13,
   "metadata": {},
   "outputs": [
    {
     "data": {
      "text/html": [
       "<div>\n",
       "<table border=\"1\" class=\"dataframe\">\n",
       "  <thead>\n",
       "    <tr style=\"text-align: right;\">\n",
       "      <th></th>\n",
       "      <th>RH</th>\n",
       "    </tr>\n",
       "    <tr>\n",
       "      <th>YYYYMMDD</th>\n",
       "      <th></th>\n",
       "    </tr>\n",
       "  </thead>\n",
       "  <tbody>\n",
       "    <tr>\n",
       "      <th>2012-01-01</th>\n",
       "      <td>207</td>\n",
       "    </tr>\n",
       "    <tr>\n",
       "      <th>2012-01-02</th>\n",
       "      <td>-1</td>\n",
       "    </tr>\n",
       "    <tr>\n",
       "      <th>2012-01-03</th>\n",
       "      <td>144</td>\n",
       "    </tr>\n",
       "    <tr>\n",
       "      <th>2012-01-04</th>\n",
       "      <td>36</td>\n",
       "    </tr>\n",
       "    <tr>\n",
       "      <th>2012-01-05</th>\n",
       "      <td>84</td>\n",
       "    </tr>\n",
       "    <tr>\n",
       "      <th>2012-01-06</th>\n",
       "      <td>8</td>\n",
       "    </tr>\n",
       "    <tr>\n",
       "      <th>2012-01-07</th>\n",
       "      <td>30</td>\n",
       "    </tr>\n",
       "    <tr>\n",
       "      <th>2012-01-08</th>\n",
       "      <td>-1</td>\n",
       "    </tr>\n",
       "    <tr>\n",
       "      <th>2012-01-09</th>\n",
       "      <td>8</td>\n",
       "    </tr>\n",
       "    <tr>\n",
       "      <th>2012-01-10</th>\n",
       "      <td>0</td>\n",
       "    </tr>\n",
       "    <tr>\n",
       "      <th>2012-01-11</th>\n",
       "      <td>10</td>\n",
       "    </tr>\n",
       "    <tr>\n",
       "      <th>2012-01-12</th>\n",
       "      <td>9</td>\n",
       "    </tr>\n",
       "    <tr>\n",
       "      <th>2012-01-13</th>\n",
       "      <td>4</td>\n",
       "    </tr>\n",
       "    <tr>\n",
       "      <th>2012-01-14</th>\n",
       "      <td>-1</td>\n",
       "    </tr>\n",
       "    <tr>\n",
       "      <th>2012-01-15</th>\n",
       "      <td>0</td>\n",
       "    </tr>\n",
       "    <tr>\n",
       "      <th>2012-01-16</th>\n",
       "      <td>0</td>\n",
       "    </tr>\n",
       "    <tr>\n",
       "      <th>2012-01-17</th>\n",
       "      <td>0</td>\n",
       "    </tr>\n",
       "    <tr>\n",
       "      <th>2012-01-18</th>\n",
       "      <td>32</td>\n",
       "    </tr>\n",
       "    <tr>\n",
       "      <th>2012-01-19</th>\n",
       "      <td>144</td>\n",
       "    </tr>\n",
       "    <tr>\n",
       "      <th>2012-01-20</th>\n",
       "      <td>-1</td>\n",
       "    </tr>\n",
       "    <tr>\n",
       "      <th>2012-01-21</th>\n",
       "      <td>35</td>\n",
       "    </tr>\n",
       "    <tr>\n",
       "      <th>2012-01-22</th>\n",
       "      <td>19</td>\n",
       "    </tr>\n",
       "    <tr>\n",
       "      <th>2012-01-23</th>\n",
       "      <td>16</td>\n",
       "    </tr>\n",
       "    <tr>\n",
       "      <th>2012-01-24</th>\n",
       "      <td>5</td>\n",
       "    </tr>\n",
       "    <tr>\n",
       "      <th>2012-01-25</th>\n",
       "      <td>5</td>\n",
       "    </tr>\n",
       "    <tr>\n",
       "      <th>2012-01-26</th>\n",
       "      <td>33</td>\n",
       "    </tr>\n",
       "    <tr>\n",
       "      <th>2012-01-27</th>\n",
       "      <td>-1</td>\n",
       "    </tr>\n",
       "    <tr>\n",
       "      <th>2012-01-28</th>\n",
       "      <td>-1</td>\n",
       "    </tr>\n",
       "    <tr>\n",
       "      <th>2012-01-29</th>\n",
       "      <td>0</td>\n",
       "    </tr>\n",
       "    <tr>\n",
       "      <th>2012-01-30</th>\n",
       "      <td>1</td>\n",
       "    </tr>\n",
       "    <tr>\n",
       "      <th>...</th>\n",
       "      <td>...</td>\n",
       "    </tr>\n",
       "    <tr>\n",
       "      <th>2012-12-02</th>\n",
       "      <td>93</td>\n",
       "    </tr>\n",
       "    <tr>\n",
       "      <th>2012-12-03</th>\n",
       "      <td>52</td>\n",
       "    </tr>\n",
       "    <tr>\n",
       "      <th>2012-12-04</th>\n",
       "      <td>96</td>\n",
       "    </tr>\n",
       "    <tr>\n",
       "      <th>2012-12-05</th>\n",
       "      <td>29</td>\n",
       "    </tr>\n",
       "    <tr>\n",
       "      <th>2012-12-06</th>\n",
       "      <td>7</td>\n",
       "    </tr>\n",
       "    <tr>\n",
       "      <th>2012-12-07</th>\n",
       "      <td>107</td>\n",
       "    </tr>\n",
       "    <tr>\n",
       "      <th>2012-12-08</th>\n",
       "      <td>1</td>\n",
       "    </tr>\n",
       "    <tr>\n",
       "      <th>2012-12-09</th>\n",
       "      <td>102</td>\n",
       "    </tr>\n",
       "    <tr>\n",
       "      <th>2012-12-10</th>\n",
       "      <td>16</td>\n",
       "    </tr>\n",
       "    <tr>\n",
       "      <th>2012-12-11</th>\n",
       "      <td>2</td>\n",
       "    </tr>\n",
       "    <tr>\n",
       "      <th>2012-12-12</th>\n",
       "      <td>-1</td>\n",
       "    </tr>\n",
       "    <tr>\n",
       "      <th>2012-12-13</th>\n",
       "      <td>-1</td>\n",
       "    </tr>\n",
       "    <tr>\n",
       "      <th>2012-12-14</th>\n",
       "      <td>103</td>\n",
       "    </tr>\n",
       "    <tr>\n",
       "      <th>2012-12-15</th>\n",
       "      <td>8</td>\n",
       "    </tr>\n",
       "    <tr>\n",
       "      <th>2012-12-16</th>\n",
       "      <td>24</td>\n",
       "    </tr>\n",
       "    <tr>\n",
       "      <th>2012-12-17</th>\n",
       "      <td>31</td>\n",
       "    </tr>\n",
       "    <tr>\n",
       "      <th>2012-12-18</th>\n",
       "      <td>16</td>\n",
       "    </tr>\n",
       "    <tr>\n",
       "      <th>2012-12-19</th>\n",
       "      <td>0</td>\n",
       "    </tr>\n",
       "    <tr>\n",
       "      <th>2012-12-20</th>\n",
       "      <td>68</td>\n",
       "    </tr>\n",
       "    <tr>\n",
       "      <th>2012-12-21</th>\n",
       "      <td>9</td>\n",
       "    </tr>\n",
       "    <tr>\n",
       "      <th>2012-12-22</th>\n",
       "      <td>224</td>\n",
       "    </tr>\n",
       "    <tr>\n",
       "      <th>2012-12-23</th>\n",
       "      <td>76</td>\n",
       "    </tr>\n",
       "    <tr>\n",
       "      <th>2012-12-24</th>\n",
       "      <td>32</td>\n",
       "    </tr>\n",
       "    <tr>\n",
       "      <th>2012-12-25</th>\n",
       "      <td>125</td>\n",
       "    </tr>\n",
       "    <tr>\n",
       "      <th>2012-12-26</th>\n",
       "      <td>45</td>\n",
       "    </tr>\n",
       "    <tr>\n",
       "      <th>2012-12-27</th>\n",
       "      <td>27</td>\n",
       "    </tr>\n",
       "    <tr>\n",
       "      <th>2012-12-28</th>\n",
       "      <td>18</td>\n",
       "    </tr>\n",
       "    <tr>\n",
       "      <th>2012-12-29</th>\n",
       "      <td>2</td>\n",
       "    </tr>\n",
       "    <tr>\n",
       "      <th>2012-12-30</th>\n",
       "      <td>23</td>\n",
       "    </tr>\n",
       "    <tr>\n",
       "      <th>2012-12-31</th>\n",
       "      <td>50</td>\n",
       "    </tr>\n",
       "  </tbody>\n",
       "</table>\n",
       "<p>366 rows × 1 columns</p>\n",
       "</div>"
      ],
      "text/plain": [
       "             RH\n",
       "YYYYMMDD       \n",
       "2012-01-01  207\n",
       "2012-01-02   -1\n",
       "2012-01-03  144\n",
       "2012-01-04   36\n",
       "2012-01-05   84\n",
       "2012-01-06    8\n",
       "2012-01-07   30\n",
       "2012-01-08   -1\n",
       "2012-01-09    8\n",
       "2012-01-10    0\n",
       "2012-01-11   10\n",
       "2012-01-12    9\n",
       "2012-01-13    4\n",
       "2012-01-14   -1\n",
       "2012-01-15    0\n",
       "2012-01-16    0\n",
       "2012-01-17    0\n",
       "2012-01-18   32\n",
       "2012-01-19  144\n",
       "2012-01-20   -1\n",
       "2012-01-21   35\n",
       "2012-01-22   19\n",
       "2012-01-23   16\n",
       "2012-01-24    5\n",
       "2012-01-25    5\n",
       "2012-01-26   33\n",
       "2012-01-27   -1\n",
       "2012-01-28   -1\n",
       "2012-01-29    0\n",
       "2012-01-30    1\n",
       "...         ...\n",
       "2012-12-02   93\n",
       "2012-12-03   52\n",
       "2012-12-04   96\n",
       "2012-12-05   29\n",
       "2012-12-06    7\n",
       "2012-12-07  107\n",
       "2012-12-08    1\n",
       "2012-12-09  102\n",
       "2012-12-10   16\n",
       "2012-12-11    2\n",
       "2012-12-12   -1\n",
       "2012-12-13   -1\n",
       "2012-12-14  103\n",
       "2012-12-15    8\n",
       "2012-12-16   24\n",
       "2012-12-17   31\n",
       "2012-12-18   16\n",
       "2012-12-19    0\n",
       "2012-12-20   68\n",
       "2012-12-21    9\n",
       "2012-12-22  224\n",
       "2012-12-23   76\n",
       "2012-12-24   32\n",
       "2012-12-25  125\n",
       "2012-12-26   45\n",
       "2012-12-27   27\n",
       "2012-12-28   18\n",
       "2012-12-29    2\n",
       "2012-12-30   23\n",
       "2012-12-31   50\n",
       "\n",
       "[366 rows x 1 columns]"
      ]
     },
     "execution_count": 13,
     "metadata": {},
     "output_type": "execute_result"
    }
   ],
   "source": [
    "rain.drop('STN', axis=1)"
   ]
  },
  {
   "cell_type": "markdown",
   "metadata": {},
   "source": [
    "We could also just select column 'RH' and then we obtain a time series."
   ]
  },
  {
   "cell_type": "code",
   "execution_count": 14,
   "metadata": {
    "collapsed": true
   },
   "outputs": [],
   "source": [
    "rain = rain['RH']"
   ]
  },
  {
   "cell_type": "code",
   "execution_count": 15,
   "metadata": {},
   "outputs": [
    {
     "data": {
      "text/plain": [
       "YYYYMMDD\n",
       "2012-01-01    207\n",
       "2012-01-02     -1\n",
       "2012-01-03    144\n",
       "2012-01-04     36\n",
       "2012-01-05     84\n",
       "2012-01-06      8\n",
       "2012-01-07     30\n",
       "2012-01-08     -1\n",
       "2012-01-09      8\n",
       "2012-01-10      0\n",
       "2012-01-11     10\n",
       "2012-01-12      9\n",
       "2012-01-13      4\n",
       "2012-01-14     -1\n",
       "2012-01-15      0\n",
       "2012-01-16      0\n",
       "2012-01-17      0\n",
       "2012-01-18     32\n",
       "2012-01-19    144\n",
       "2012-01-20     -1\n",
       "2012-01-21     35\n",
       "2012-01-22     19\n",
       "2012-01-23     16\n",
       "2012-01-24      5\n",
       "2012-01-25      5\n",
       "2012-01-26     33\n",
       "2012-01-27     -1\n",
       "2012-01-28     -1\n",
       "2012-01-29      0\n",
       "2012-01-30      1\n",
       "             ... \n",
       "2012-12-02     93\n",
       "2012-12-03     52\n",
       "2012-12-04     96\n",
       "2012-12-05     29\n",
       "2012-12-06      7\n",
       "2012-12-07    107\n",
       "2012-12-08      1\n",
       "2012-12-09    102\n",
       "2012-12-10     16\n",
       "2012-12-11      2\n",
       "2012-12-12     -1\n",
       "2012-12-13     -1\n",
       "2012-12-14    103\n",
       "2012-12-15      8\n",
       "2012-12-16     24\n",
       "2012-12-17     31\n",
       "2012-12-18     16\n",
       "2012-12-19      0\n",
       "2012-12-20     68\n",
       "2012-12-21      9\n",
       "2012-12-22    224\n",
       "2012-12-23     76\n",
       "2012-12-24     32\n",
       "2012-12-25    125\n",
       "2012-12-26     45\n",
       "2012-12-27     27\n",
       "2012-12-28     18\n",
       "2012-12-29      2\n",
       "2012-12-30     23\n",
       "2012-12-31     50\n",
       "Name: RH, dtype: int64"
      ]
     },
     "execution_count": 15,
     "metadata": {},
     "output_type": "execute_result"
    }
   ],
   "source": [
    "rain"
   ]
  },
  {
   "cell_type": "markdown",
   "metadata": {},
   "source": [
    "rain[rain < 0] = 0.5\n",
    "rain"
   ]
  },
  {
   "cell_type": "markdown",
   "metadata": {},
   "source": [
    "This implies automatic conversion from int to float dtype.\n",
    "\n",
    "Then divide by 10 to obtain mm/d."
   ]
  },
  {
   "cell_type": "code",
   "execution_count": 16,
   "metadata": {},
   "outputs": [
    {
     "data": {
      "text/plain": [
       "YYYYMMDD\n",
       "2012-01-01    20.7\n",
       "2012-01-02    -0.1\n",
       "2012-01-03    14.4\n",
       "2012-01-04     3.6\n",
       "2012-01-05     8.4\n",
       "2012-01-06     0.8\n",
       "2012-01-07     3.0\n",
       "2012-01-08    -0.1\n",
       "2012-01-09     0.8\n",
       "2012-01-10     0.0\n",
       "2012-01-11     1.0\n",
       "2012-01-12     0.9\n",
       "2012-01-13     0.4\n",
       "2012-01-14    -0.1\n",
       "2012-01-15     0.0\n",
       "2012-01-16     0.0\n",
       "2012-01-17     0.0\n",
       "2012-01-18     3.2\n",
       "2012-01-19    14.4\n",
       "2012-01-20    -0.1\n",
       "2012-01-21     3.5\n",
       "2012-01-22     1.9\n",
       "2012-01-23     1.6\n",
       "2012-01-24     0.5\n",
       "2012-01-25     0.5\n",
       "2012-01-26     3.3\n",
       "2012-01-27    -0.1\n",
       "2012-01-28    -0.1\n",
       "2012-01-29     0.0\n",
       "2012-01-30     0.1\n",
       "              ... \n",
       "2012-12-02     9.3\n",
       "2012-12-03     5.2\n",
       "2012-12-04     9.6\n",
       "2012-12-05     2.9\n",
       "2012-12-06     0.7\n",
       "2012-12-07    10.7\n",
       "2012-12-08     0.1\n",
       "2012-12-09    10.2\n",
       "2012-12-10     1.6\n",
       "2012-12-11     0.2\n",
       "2012-12-12    -0.1\n",
       "2012-12-13    -0.1\n",
       "2012-12-14    10.3\n",
       "2012-12-15     0.8\n",
       "2012-12-16     2.4\n",
       "2012-12-17     3.1\n",
       "2012-12-18     1.6\n",
       "2012-12-19     0.0\n",
       "2012-12-20     6.8\n",
       "2012-12-21     0.9\n",
       "2012-12-22    22.4\n",
       "2012-12-23     7.6\n",
       "2012-12-24     3.2\n",
       "2012-12-25    12.5\n",
       "2012-12-26     4.5\n",
       "2012-12-27     2.7\n",
       "2012-12-28     1.8\n",
       "2012-12-29     0.2\n",
       "2012-12-30     2.3\n",
       "2012-12-31     5.0\n",
       "Name: RH, dtype: float64"
      ]
     },
     "execution_count": 16,
     "metadata": {},
     "output_type": "execute_result"
    }
   ],
   "source": [
    "rain = rain/10.\n",
    "rain"
   ]
  },
  {
   "cell_type": "code",
   "execution_count": 20,
   "metadata": {},
   "outputs": [
    {
     "data": {
      "image/png": "[encoded data removed]",
      "text/plain": [
       "<matplotlib.figure.Figure at 0x115780198>"
      ]
     },
     "metadata": {},
     "output_type": "display_data"
    },
    {
     "name": "stdout",
     "output_type": "stream",
     "text": [
      "Maximum daily rainfall 22.4\n",
      "Date of maximum daily rainfall 2012-12-22 00:00:00\n"
     ]
    }
   ],
   "source": [
    "rain.plot()\n",
    "plt.xlabel('day')\n",
    "plt.ylabel('daily rainfall (mm/day)')\n",
    "plt.show()\n",
    "\n",
    "print('Maximum daily rainfall',rain.max())\n",
    "print('Date of maximum daily rainfall',rain.argmax())\n"
   ]
  },
  {
   "cell_type": "markdown",
   "metadata": {},
   "source": [
    "### Exercise 4,  <a name=\"back4\"></a>Compute monthly rainfall from daily rainfall\n",
    "In this exercise we are going to compute the total monthly rainfall for 2012 in the City of Rotterdam using the daily rainfall measurements we loaded in the previous Exercise; later on in this Notebook we learn convenient functions from `pandas` to do this, but here we are going to do this with a loop. Create an array of 12 zeros to store the monthly totals and loop through all the days in 2012 to compute the total rainfall for each month. The month associated with each row of the DataFrame may be obtained with the `.month` syntax, as shown above. Print the monthly totals (in mm/month) to the screen and create a bar graph of the total monthly rainfall (in mm/month) vs. the month using the `plt.bar` function of matplotlib. "
   ]
  },
  {
   "cell_type": "code",
   "execution_count": 22,
   "metadata": {},
   "outputs": [
    {
     "data": {
      "text/plain": [
       "YYYYMMDD\n",
       "2012-01-31     82.3\n",
       "2012-02-29     23.9\n",
       "2012-03-31     21.5\n",
       "2012-04-30     57.1\n",
       "2012-05-31     76.1\n",
       "2012-06-30    118.5\n",
       "2012-07-31    121.4\n",
       "2012-08-31     93.2\n",
       "2012-09-30     51.7\n",
       "2012-10-31    132.2\n",
       "2012-11-30     63.3\n",
       "2012-12-31    149.3\n",
       "Freq: M, Name: RH, dtype: float64"
      ]
     },
     "execution_count": 22,
     "metadata": {},
     "output_type": "execute_result"
    }
   ],
   "source": [
    "rain.resample('M').sum()"
   ]
  },
  {
   "cell_type": "markdown",
   "metadata": {},
   "source": [
    "### Date times as index\n",
    "The datetime of a dataset may also be used as the index of the DataFrame by specifying the column with the dates as the column to use for an index with the `index_col` keyword.  Note that datetimes are given as year-month-day, so `2012-04-01` means April 1, 2012."
   ]
  },
  {
   "cell_type": "code",
   "execution_count": 35,
   "metadata": {},
   "outputs": [
    {
     "data": {
      "image/png": "[encoded data removed]",
      "text/plain": [
       "<matplotlib.figure.Figure at 0x1150e37f0>"
      ]
     },
     "metadata": {},
     "output_type": "display_data"
    }
   ],
   "source": [
    "monthlyRain = rain.resample('M').sum()\n",
    "monthlyRain.plot(kind='bar')\n",
    "plt.xticks(np.arange(12),['J','F','M','A','M','J','J','A','S','O','N','D'])\n",
    "plt.xlabel('month, 2012')\n",
    "plt.ylabel('monthly rainfall (mm/month)')\n",
    "plt.show()"
   ]
  },
  {
   "cell_type": "code",
   "execution_count": 102,
   "metadata": {},
   "outputs": [
    {
     "name": "stdout",
     "output_type": "stream",
     "text": [
      "             conc\n",
      "date             \n",
      "2014-04-01   0.19\n",
      "2014-04-02   0.23\n",
      "2014-04-03   0.32\n",
      "2014-04-04   0.29\n",
      "2014-04-05   0.32\n",
      "data on April 1:  conc    0.19\n",
      "Name: 2014-04-01 00:00:00, dtype: float64\n",
      "data on April 2:  conc    0.23\n",
      "Name: 2014-04-02 00:00:00, dtype: float64\n"
     ]
    }
   ],
   "source": [
    "data = read_csv('timeseries1.dat', parse_dates=[0], index_col=0)\n",
    "print(data)\n",
    "print('data on April 1:',data.loc['2014-04-01'])\n",
    "print('data on April 2:',data.loc['2014-04-02'])"
   ]
  },
  {
   "cell_type": "markdown",
   "metadata": {},
   "source": [
    "### Resampling\n",
    "DataFrames have a very powerful feature called resampling. Downsampling refers to going from high frequency to low frequency. For example, going from daily data to monthly data. Upsampling refers to going from low frequency to high frequency. For example going from monthly data to daily data. For both upsampling and downsampling, you need to tell `pandas` how to perform the resampling. Here we discuss downsampling, where we computed monthly totals from daily values. First we load the daily rainfall in Rotterdam in 2012 from the file `rotterdam_rainfall_2012.txt` and specify the dates as the index (this is the column labeled as `YYYYMMDD`). We resample the rain to monthly totals using the `resample` function. You have to tell the `resample` function to what frequency it needs to resample. Common ones are `'A'` for yearly, `'M'` for monthly, `'W'` for weekly, `'D'` for daily, and `'H'` for hourly, but there are many other ones (see  [here](http://pandas.pydata.org/pandas-docs/version/0.12.0/timeseries.html).  The keyword argument `how` is used to tell `pandas` how to compute the resampled data. This can be many things, like `'mean'` for the mean (that is the default), `'sum'` for the total, `'min'`, `'max'`, etc. The keyword argument `kind` is used to tell `pandas` where to assign the computed value to. You can assign the computed value to the last day of the period, or the first day, or to the entire period (in this case the entire month). The latter is done by specifying `kind='period'`, which is what we will do here. Calculating the montly totals and making a bar graph can now be done with `pandas` as follows. "
   ]
  },
  {
   "cell_type": "code",
   "execution_count": 38,
   "metadata": {},
   "outputs": [
    {
     "name": "stdout",
     "output_type": "stream",
     "text": [
      "YYYYMMDD\n",
      "2012-01     83.35\n",
      "2012-02     24.50\n",
      "2012-03     22.10\n",
      "2012-04     57.85\n",
      "2012-05     76.70\n",
      "2012-06    119.25\n",
      "2012-07    121.70\n",
      "2012-08     93.50\n",
      "2012-09     52.15\n",
      "2012-10    132.80\n",
      "2012-11     63.30\n",
      "2012-12    149.60\n",
      "Freq: M, Name: RH, dtype: float64\n"
     ]
    },
    {
     "data": {
      "image/png": "[encoded data removed]",
      "text/plain": [
       "<matplotlib.figure.Figure at 0x114e360b8>"
      ]
     },
     "metadata": {},
     "output_type": "display_data"
    }
   ],
   "source": [
    "rain = pd.read_csv('rotterdam_rainfall_2012.txt', skiprows=9,\n",
    "                parse_dates=['YYYYMMDD'], index_col='YYYYMMDD',\n",
    "                skipinitialspace=True)\n",
    "rain.RH[rain.RH<0] = 0.5\n",
    "rain.RH = rain.RH * 0.1 # Convert to mm/day\n",
    "monthlyrain = rain.RH.resample('M', kind='period').sum()\n",
    "print(monthlyrain)\n",
    "monthlyrain.plot(kind='bar')\n",
    "plt.ylabel('mm/month')\n",
    "plt.xlabel('month')\n",
    "plt.show()"
   ]
  },
  {
   "cell_type": "markdown",
   "metadata": {},
   "source": [
    "### Exercise 5,<a name=\"back5\"></a> Resample weather data\n",
    "The file `rotterdam_weather_2000_2010.txt` contains daily weather data at the weather station Rotterdam for the period 2000-2010 (again from the KNMI). Open the data file in an editor to see what is in it. Perform the following tasks:\n",
    "* Load the data making sure the dates are used as index. \n",
    "* Convert the rain and evaporation to mm/day, and the temperature to degrees Celcius. \n",
    "* Set any negative rainfall (explained in the file) to zero. \n",
    "* Compute total yearly rainfall, total yearly evaporation, and mean yearly temperature. \n",
    "* Make a line plot of the yearly rainfall, yearly evaporation, and mean temperature using the `plot` function of `pandas`. Make sure to plot the mean temperature on the secondary $y$-axis (use the help function to find out how). "
   ]
  },
  {
   "cell_type": "code",
   "execution_count": 41,
   "metadata": {},
   "outputs": [
    {
     "name": "stderr",
     "output_type": "stream",
     "text": [
      "/Users/Theo/anaconda/lib/python3.5/site-packages/ipykernel/__main__.py:6: SettingWithCopyWarning: \n",
      "A value is trying to be set on a copy of a slice from a DataFrame\n",
      "\n",
      "See the caveats in the documentation: http://pandas.pydata.org/pandas-docs/stable/indexing.html#indexing-view-versus-copy\n"
     ]
    },
    {
     "data": {
      "image/png": "[encoded data removed]",
      "text/plain": [
       "<matplotlib.figure.Figure at 0x1163f7390>"
      ]
     },
     "metadata": {},
     "output_type": "display_data"
    }
   ],
   "source": [
    "weather = pd.read_csv('rotterdam_weather_2000_2010.txt',skiprows=11,\n",
    "                parse_dates=['YYYYMMDD'],index_col='YYYYMMDD',skipinitialspace=True)\n",
    "weather.TG = 0.1 * weather.TG\n",
    "weather.RH = 0.1 * weather.RH\n",
    "weather.EV24 = 0.1 * weather.EV24\n",
    "weather.RH[weather.RH<0] = 0\n",
    "yearly_rain = weather.RH.resample('A', kind='period').sum()\n",
    "yearly_evap = weather.EV24.resample('A', kind='period').sum()\n",
    "yearly_temp = weather.TG.resample('A', kind='period').mean()\n",
    "yearly_rain.plot()\n",
    "yearly_evap.plot()\n",
    "yearly_temp.plot(secondary_y=True)\n",
    "plt.xlabel('Year')\n",
    "plt.ylabel('Rain/evap (mm/year)')\n",
    "plt.show()"
   ]
  },
  {
   "cell_type": "code",
   "execution_count": null,
   "metadata": {
    "collapsed": true
   },
   "outputs": [],
   "source": []
  }
 ],
 "metadata": {
  "anaconda-cloud": {},
  "kernelspec": {
   "display_name": "Python [default]",
   "language": "python",
   "name": "python3"
  },
  "language_info": {
   "codemirror_mode": {
    "name": "ipython",
    "version": 3
   },
   "file_extension": ".py",
   "mimetype": "text/x-python",
   "name": "python",
   "nbconvert_exporter": "python",
   "pygments_lexer": "ipython3",
   "version": "3.5.2"
  }
 },
 "nbformat": 4,
 "nbformat_minor": 1
}
