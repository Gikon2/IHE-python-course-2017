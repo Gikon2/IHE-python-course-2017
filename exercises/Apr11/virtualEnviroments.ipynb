{
 "cells": [
  {
   "cell_type": "markdown",
   "metadata": {},
   "source": [
    "<figure>\n",
    "  <IMG SRC=\"../../logo/logo.png\" WIDTH=250 ALIGN=\"right\">\n",
    "</figure>\n",
    "\n",
    "# IHE Python course, 2017\n",
    "\n",
    "## Virtual enviroments to cleany separate different versions of python on your computer\n",
    "\n",
    "T.N.Olsthoorn\n",
    "2017-03-15\n",
    "\n",
    "# Preface\n",
    "\n",
    "The information in this notebook was taken verbatim from the websites that are mentioned.\n",
    "\n",
    "Just scan it through. In the end it's explained how to install virtual enviroments in Anaconda. I would advice to yous that, it's somewhat smoother than the original python methods, and also because it fits better with the Anaconda installation already on your computer.\n",
    "\n",
    "With virtual environments, there should be no problems with working with different versions of python on the same computer.\n",
    "\n",
    "Theo Olsthoorn\n",
    "April 04 2017"
   ]
  },
  {
   "cell_type": "markdown",
   "metadata": {},
   "source": [
    "# Tekst from the book a \"Hitchikers Guide to Python\"\n",
    "\n",
    "http://python-guide-pt-br.readthedocs.io/en/latest/dev/virtualenvs/\n",
    "\n",
    "A Virtual Environment is a tool to keep the dependencies required by different projects in separate places, by creating virtual Python environments for them. It solves the “Project X depends on version 1.x but, Project Y needs 4.x” dilemma, and keeps your global site-packages directory clean and manageable.\n",
    "\n",
    "For example, you can work on a project which requires Django 1.10 while also maintaining a project which requires Django 1.8 (Django is a package to work with the web).\n",
    "\n",
    "## virtualenv\n",
    "\n",
    "virtualenv is a tool to create isolated Python environments. virtualenv creates a folder which contains all the necessary executables to use the packages that a Python project would need.\n",
    "\n",
    "Install virtualenv via pip:\n",
    "\n",
    "This must be done in the cmd window, not from this notebook."
   ]
  },
  {
   "cell_type": "code",
   "execution_count": 3,
   "metadata": {
    "collapsed": false
   },
   "outputs": [
    {
     "ename": "SyntaxError",
     "evalue": "invalid syntax (<ipython-input-3-56ebca531cd6>, line 1)",
     "output_type": "error",
     "traceback": [
      "\u001b[0;36m  File \u001b[0;32m\"<ipython-input-3-56ebca531cd6>\"\u001b[0;36m, line \u001b[0;32m1\u001b[0m\n\u001b[0;31m    pip install virtualenv\u001b[0m\n\u001b[0m              ^\u001b[0m\n\u001b[0;31mSyntaxError\u001b[0m\u001b[0;31m:\u001b[0m invalid syntax\n"
     ]
    }
   ],
   "source": [
    "# from terminal or command window\n",
    "pip install virtualenv"
   ]
  },
  {
   "cell_type": "markdown",
   "metadata": {},
   "source": [
    "## Basic Usage\n",
    "\n",
    "Create a virtual environment for a project:\n",
    "\n",
    "This must be done from the cmd windows, not from this notebook"
   ]
  },
  {
   "cell_type": "code",
   "execution_count": null,
   "metadata": {
    "collapsed": true
   },
   "outputs": [],
   "source": [
    "# from terminal or command window\n",
    "cd my_project_folder\n",
    "\n",
    "virtualenv my_project"
   ]
  },
  {
   "cell_type": "markdown",
   "metadata": {},
   "source": [
    "`virtualenv my_project` will create a folder in the current directory which will contain the Python executable files, and a copy of the pip library which you can use to install other packages. The name of the virtual environment (in this case, it was `my_project`) can be anything; omitting the name will place the files in the current directory instead.\n",
    "\n",
    "The command creates a copy of Python in whichever directory you ran the command in, placing it in a folder named `my_project`."
   ]
  },
  {
   "cell_type": "markdown",
   "metadata": {},
   "source": [
    "You can also use the Python interpreter of your choice (like python2.7)."
   ]
  },
  {
   "cell_type": "code",
   "execution_count": null,
   "metadata": {
    "collapsed": true
   },
   "outputs": [],
   "source": [
    "# from terminal or command window\n",
    "virtualenv -p /usr/bin/python2.7 my_project"
   ]
  },
  {
   "cell_type": "markdown",
   "metadata": {},
   "source": [
    "or change the interpreter globally with an env variable in ~/.bashrc:"
   ]
  },
  {
   "cell_type": "code",
   "execution_count": null,
   "metadata": {
    "collapsed": true
   },
   "outputs": [],
   "source": [
    "# from terminal or command window\n",
    "export VIRTUALENVWRAPPER_PYTHON=/usr/bin/python2.7"
   ]
  },
  {
   "cell_type": "markdown",
   "metadata": {},
   "source": [
    "To begin using the virtual environment, it needs to be activated:"
   ]
  },
  {
   "cell_type": "code",
   "execution_count": null,
   "metadata": {
    "collapsed": true
   },
   "outputs": [],
   "source": [
    "# from terminal or command window\n",
    "source my_project/bin/activate"
   ]
  },
  {
   "cell_type": "markdown",
   "metadata": {},
   "source": [
    "The name of the current virtual environment will now appear on the left of the prompt (e.g. (my_project)Your-Computer:your_project UserName$) to let you know that it’s active. From now on, any package that you install using pip will be placed in the my_project folder, isolated from the global Python installation."
   ]
  },
  {
   "cell_type": "markdown",
   "metadata": {},
   "source": [
    "Install packages as usual, for example:"
   ]
  },
  {
   "cell_type": "code",
   "execution_count": null,
   "metadata": {
    "collapsed": true
   },
   "outputs": [],
   "source": [
    "# from terminal or command window\n",
    "pip install requests"
   ]
  },
  {
   "cell_type": "markdown",
   "metadata": {},
   "source": [
    "If you are done working in the virtual environment for the moment, you can deactivate it:"
   ]
  },
  {
   "cell_type": "code",
   "execution_count": null,
   "metadata": {
    "collapsed": true
   },
   "outputs": [],
   "source": [
    "# from terminal or command window\n",
    "deactivate"
   ]
  },
  {
   "cell_type": "markdown",
   "metadata": {},
   "source": [
    "This puts you back to the system’s default Python interpreter with all its installed libraries.\n",
    "\n",
    "To delete a virtual environment, just delete its folder. (In this case, it would be"
   ]
  },
  {
   "cell_type": "code",
   "execution_count": null,
   "metadata": {
    "collapsed": true
   },
   "outputs": [],
   "source": [
    "# from terminal or command window\n",
    "rm -rf my_project"
   ]
  },
  {
   "cell_type": "markdown",
   "metadata": {},
   "source": [
    "After a while, though, you might end up with a lot of virtual environments littered across your system, and its possible you’ll forget their names or where they were placed."
   ]
  },
  {
   "cell_type": "markdown",
   "metadata": {},
   "source": [
    "## Other Notes\n",
    "\n",
    "Running virtualenv with the option --no-site-packages will not include the packages that are installed globally. This can be useful for keeping the package list clean in case it needs to be accessed later. [This is the default behavior for virtualenv 1.7 and later.]\n",
    "\n",
    "In order to keep your environment consistent, it’s a good idea to “freeze” the current state of the environment packages. To do this, run"
   ]
  },
  {
   "cell_type": "code",
   "execution_count": null,
   "metadata": {
    "collapsed": true
   },
   "outputs": [],
   "source": [
    "# from terminal or command window\n",
    "pip freeze > requirements.txt"
   ]
  },
  {
   "cell_type": "markdown",
   "metadata": {},
   "source": [
    "This will create a requirements.txt file, which contains a simple list of all the packages in the current environment, and their respective versions. You can see the list of installed packages without the requirements format using “pip list”. Later it will be easier for a different developer (or you, if you need to re-create the environment) to install the same packages using the same versions:"
   ]
  },
  {
   "cell_type": "code",
   "execution_count": null,
   "metadata": {
    "collapsed": true
   },
   "outputs": [],
   "source": [
    "# from terminal or command window\n",
    "pip install -r requirements.txt"
   ]
  },
  {
   "cell_type": "markdown",
   "metadata": {},
   "source": [
    "This can help ensure consistency across installations, across deployments, and across developers.\n",
    "\n",
    "Lastly, remember to exclude the virtual environment folder from source control by adding it to the ignore list.\n",
    "\n",
    "This remark is to prevent that if you have your work in a repository on Github or another site, you don't upload the entire environment to the site, which could be quite large and is useless."
   ]
  },
  {
   "cell_type": "markdown",
   "metadata": {},
   "source": [
    "# Further info, from the original python tutorial\n",
    "\n",
    "https://docs.python.org/3/tutorial/venv.html"
   ]
  },
  {
   "cell_type": "markdown",
   "metadata": {},
   "source": [
    "# Virtual Environments and Packages\n",
    "\n",
    "## Introduction\n",
    "\n",
    "Python applications will often use packages and modules that don’t come as part of the standard library. Applications will sometimes need a specific version of a library, because the application may require that a particular bug has been fixed or the application may be written using an obsolete version of the library’s interface.\n",
    "\n",
    "This means it may not be possible for one Python installation to meet the requirements of every application. If application A needs version 1.0 of a particular module but application B needs version 2.0, then the requirements are in conflict and installing either version 1.0 or 2.0 will leave one application unable to run.\n",
    "\n",
    "The solution for this problem is to create a virtual environment, a self-contained directory tree that contains a Python installation for a particular version of Python, plus a number of additional packages.\n",
    "\n",
    "Different applications can then use different virtual environments. To resolve the earlier example of conflicting requirements, application A can have its own virtual environment with version 1.0 installed while application B has another virtual environment with version 2.0. If application B requires a library be upgraded to version 3.0, this will not affect application A’s environment."
   ]
  },
  {
   "cell_type": "markdown",
   "metadata": {},
   "source": [
    "## Creating Virtual Environments\n",
    "\n",
    "The module used to create and manage virtual environments is called venv. venv will usually install the most recent version of Python that you have available. If you have multiple versions of Python on your system, you can select a specific Python version by running python3 or whichever version you want.\n",
    "\n",
    "To create a virtual environment, decide upon a directory where you want to place it, and run the venv module as a script with the directory path:"
   ]
  },
  {
   "cell_type": "code",
   "execution_count": 5,
   "metadata": {
    "collapsed": false
   },
   "outputs": [
    {
     "ename": "SyntaxError",
     "evalue": "invalid syntax (<ipython-input-5-4cf7a02b14e2>, line 2)",
     "output_type": "error",
     "traceback": [
      "\u001b[0;36m  File \u001b[0;32m\"<ipython-input-5-4cf7a02b14e2>\"\u001b[0;36m, line \u001b[0;32m2\u001b[0m\n\u001b[0;31m    python3 -m venv tutorial-env\u001b[0m\n\u001b[0m                  ^\u001b[0m\n\u001b[0;31mSyntaxError\u001b[0m\u001b[0;31m:\u001b[0m invalid syntax\n"
     ]
    }
   ],
   "source": [
    "# from terminal or command window\n",
    "python3 -m venv tutorial-env"
   ]
  },
  {
   "cell_type": "markdown",
   "metadata": {},
   "source": [
    "This will create the tutorial-env directory if it doesn’t exist, and also create directories inside it containing a copy of the Python interpreter, the standard library, and various supporting files.\n",
    "\n",
    "Once you’ve created a virtual environment, you may activate it.\n",
    "\n",
    "On Windows, run:"
   ]
  },
  {
   "cell_type": "code",
   "execution_count": null,
   "metadata": {
    "collapsed": true
   },
   "outputs": [],
   "source": [
    "# from terminal or command window\n",
    "tutorial-env\\Scripts\\activate.bat"
   ]
  },
  {
   "cell_type": "markdown",
   "metadata": {},
   "source": [
    "On Unix or MacOS, run:"
   ]
  },
  {
   "cell_type": "code",
   "execution_count": null,
   "metadata": {
    "collapsed": true
   },
   "outputs": [],
   "source": [
    "# from terminal or command window\n",
    "source tutorial-env/bin/activate"
   ]
  },
  {
   "cell_type": "markdown",
   "metadata": {},
   "source": [
    "(This script is written for the bash shell. If you use the csh or fish shells, there are alternate activate.csh and activate.fish scripts you should use instead.)\n",
    "\n",
    "Activating the virtual environment will change your shell’s prompt to show what virtual environment you’re using, and modify the environment so that running python will get you that particular version and installation of Python. For example:"
   ]
  },
  {
   "cell_type": "code",
   "execution_count": null,
   "metadata": {
    "collapsed": true
   },
   "outputs": [],
   "source": [
    "# from terminal or command window\n",
    "source ~/envs/tutorial-env/bin/activate\n",
    "(tutorial-env) $ python\n",
    "Python 3.5.1 (default, May  6 2016, 10:59:36)\n",
    "  ...\n",
    ">>> import sys\n",
    ">>> sys.path\n",
    "['', '/usr/local/lib/python35.zip', ...,\n",
    "'~/envs/tutorial-env/lib/python3.5/site-packages']\n",
    ">>>"
   ]
  },
  {
   "cell_type": "markdown",
   "metadata": {},
   "source": [
    "# Virtual environments with Anaconda\n",
    "\n",
    "If you work essentially in Anaconda as we indeed do, you can also install virtual environments directly with conda or anaconda. This may work a little smoother than the basic procedures shown above. But the difference is really small."
   ]
  },
  {
   "cell_type": "code",
   "execution_count": 6,
   "metadata": {
    "collapsed": false
   },
   "outputs": [
    {
     "ename": "SyntaxError",
     "evalue": "invalid syntax (<ipython-input-6-b5d69fa6798b>, line 2)",
     "output_type": "error",
     "traceback": [
      "\u001b[0;36m  File \u001b[0;32m\"<ipython-input-6-b5d69fa6798b>\"\u001b[0;36m, line \u001b[0;32m2\u001b[0m\n\u001b[0;31m    conda update conda\u001b[0m\n\u001b[0m               ^\u001b[0m\n\u001b[0;31mSyntaxError\u001b[0m\u001b[0;31m:\u001b[0m invalid syntax\n"
     ]
    }
   ],
   "source": [
    "# from terminal or command window\n",
    "conda update conda"
   ]
  },
  {
   "cell_type": "markdown",
   "metadata": {},
   "source": [
    "To search your anaconda distribution (or perhaps even you computer) for the availalbe python version (the ones already installed:"
   ]
  },
  {
   "cell_type": "code",
   "execution_count": null,
   "metadata": {
    "collapsed": true
   },
   "outputs": [],
   "source": [
    "# from terminal or command window\n",
    "conda search \"^python$\""
   ]
  },
  {
   "cell_type": "markdown",
   "metadata": {},
   "source": [
    "Create a new vertual environment"
   ]
  },
  {
   "cell_type": "code",
   "execution_count": null,
   "metadata": {
    "collapsed": true
   },
   "outputs": [],
   "source": [
    "# from terminal or command window\n",
    "conda create -n yourenvname python=x.x anaconda"
   ]
  },
  {
   "cell_type": "markdown",
   "metadata": {},
   "source": [
    "Activate the new vertual environment"
   ]
  },
  {
   "cell_type": "code",
   "execution_count": null,
   "metadata": {
    "collapsed": true
   },
   "outputs": [],
   "source": [
    "# from terminal or command window\n",
    "source activate yourenvname"
   ]
  },
  {
   "cell_type": "markdown",
   "metadata": {},
   "source": [
    "Activating a conda environment modifies the PATH and shell variables to point to the specific isolated Python set-up you created. The command prompt will change to indicate which conda environemnt you are currently in by prepending (`yourenvname`). To see a list of all your environments, use the command"
   ]
  },
  {
   "cell_type": "code",
   "execution_count": null,
   "metadata": {
    "collapsed": true
   },
   "outputs": [],
   "source": [
    "# from terminal or command window\n",
    "conda info -e"
   ]
  },
  {
   "cell_type": "markdown",
   "metadata": {},
   "source": [
    "# Install additional Python packages to a virtual environment.\n",
    "\n",
    "To install additional packages only to your virtual environment, enter the following command where `yourenvname` is the name of your environemnt, and `[package]` is the name of the package you wish to install. Failure to specify `“-n yourenvname”` will install the package to the root Python installation."
   ]
  },
  {
   "cell_type": "code",
   "execution_count": null,
   "metadata": {
    "collapsed": true
   },
   "outputs": [],
   "source": [
    "# from terminal or command window\n",
    "conda install -n yourenvname [package]"
   ]
  },
  {
   "cell_type": "markdown",
   "metadata": {},
   "source": [
    "# Deactivate your virtual environment.\n",
    "\n",
    "To end a session in the current environment, enter the following. There is no need to specify the envname - which ever is currently active will be deactivated, and the PATH and shell variables will be returned to normal."
   ]
  },
  {
   "cell_type": "code",
   "execution_count": null,
   "metadata": {
    "collapsed": true
   },
   "outputs": [],
   "source": [
    "# from terminal or command window\n",
    "source deactivate"
   ]
  },
  {
   "cell_type": "markdown",
   "metadata": {},
   "source": [
    "# Delete a no longer needed virtual environment\n",
    "\n",
    "To delete a conda environment, enter the following, where yourenvname is the name of the environment you wish to delete."
   ]
  },
  {
   "cell_type": "code",
   "execution_count": null,
   "metadata": {
    "collapsed": true
   },
   "outputs": [],
   "source": [
    "# from terminal or command window\n",
    "conda remove -n yourenvname -all"
   ]
  },
  {
   "cell_type": "markdown",
   "metadata": {},
   "source": [
    "The official conda documentation can be found here\n",
    "\n",
    "https://conda.io/docs/intro.html"
   ]
  },
  {
   "cell_type": "code",
   "execution_count": null,
   "metadata": {
    "collapsed": true
   },
   "outputs": [],
   "source": []
  }
 ],
 "metadata": {
  "anaconda-cloud": {},
  "kernelspec": {
   "display_name": "Python [default]",
   "language": "python",
   "name": "python3"
  },
  "language_info": {
   "codemirror_mode": {
    "name": "ipython",
    "version": 3
   },
   "file_extension": ".py",
   "mimetype": "text/x-python",
   "name": "python",
   "nbconvert_exporter": "python",
   "pygments_lexer": "ipython3",
   "version": "3.5.2"
  }
 },
 "nbformat": 4,
 "nbformat_minor": 1
}
