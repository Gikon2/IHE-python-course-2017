{
 "cells": [
  {
   "cell_type": "markdown",
   "metadata": {},
   "source": [
    "<figure>\n",
    "  <IMG SRC=\"../../logo/logo.png\" WIDTH=250 ALIGN=\"right\">\n",
    "</figure>\n",
    "\n",
    "# IHE Python course, 2017\n",
    "\n",
    "## List, dict and set comprehensions, list generators and filtering using a key function\n",
    "\n",
    "T.N.Olsthoorn, Feb2017"
   ]
  },
  {
   "cell_type": "markdown",
   "metadata": {},
   "source": [
    "List comprehensions (listcomps) dict comprehensions (dictcomps) and set comprehensions (setcomps) are a shortcut to construct lists, dict and sets in a single line."
   ]
  },
  {
   "cell_type": "code",
   "execution_count": 3,
   "metadata": {
    "collapsed": true
   },
   "outputs": [],
   "source": [
    "from pprint import pprint\n",
    "import numpy as np"
   ]
  },
  {
   "cell_type": "markdown",
   "metadata": {},
   "source": [
    "### List comprehensions\n",
    "\n",
    "Consider myList, a list of coordinate tuples and the coordinates x0, y0. The idea is the compute the distance between the two coordinates and the coordinate pairs in myList."
   ]
  },
  {
   "cell_type": "code",
   "execution_count": 9,
   "metadata": {
    "collapsed": false
   },
   "outputs": [],
   "source": [
    "myList = [(3, 2), (40, 12), (-5, 4), (-6, -21), (-7, 23)]\n",
    "x0 = 44\n",
    "y0 = 13"
   ]
  },
  {
   "cell_type": "markdown",
   "metadata": {},
   "source": [
    "We might compute the distance between the coordinates x0, y0 to each of the points implied by the coordinate tuples in `myList` using a for-loop as follows:"
   ]
  },
  {
   "cell_type": "code",
   "execution_count": 15,
   "metadata": {
    "collapsed": false
   },
   "outputs": [
    {
     "name": "stdout",
     "output_type": "stream",
     "text": [
      "[42.449970553582247, 4.1231056256176606, 49.819674828324601, 60.464865831323898, 51.97114584074513]\n"
     ]
    }
   ],
   "source": [
    "r = []\n",
    "for x, y in myList:\n",
    "    r.append(np.sqrt((x - x0)**2 + (y - y0)**2))\n",
    "print(r)"
   ]
  },
  {
   "cell_type": "markdown",
   "metadata": {},
   "source": [
    "Now the same thing, but with a list comprehension:"
   ]
  },
  {
   "cell_type": "code",
   "execution_count": 19,
   "metadata": {
    "collapsed": false
   },
   "outputs": [
    {
     "name": "stdout",
     "output_type": "stream",
     "text": [
      "<class 'list'>\n",
      "[42.449970553582247, 4.1231056256176606, 49.819674828324601, 60.464865831323898, 51.97114584074513]\n"
     ]
    }
   ],
   "source": [
    "r = [ np.sqrt((x - x0)**2 + (y - y0)**2 )       for x, y in myList]\n",
    "print(type(r))\n",
    "print(r)"
   ]
  },
  {
   "cell_type": "markdown",
   "metadata": {},
   "source": [
    "When parenthesis ( ) are used instead of square brackets, then it's not a tuple that is generated, but we createa generator objects:"
   ]
  },
  {
   "cell_type": "code",
   "execution_count": 18,
   "metadata": {
    "collapsed": false
   },
   "outputs": [
    {
     "name": "stdout",
     "output_type": "stream",
     "text": [
      "<class 'generator'>\n"
     ]
    }
   ],
   "source": [
    "r = (np.sqrt((x - x0)**2 + (y - y0)**2 ) for x, y in myList)\n",
    "print(type(r))"
   ]
  },
  {
   "cell_type": "markdown",
   "metadata": {},
   "source": [
    "r is a generator object that we can now use wherever we need the list that it will generate upon request:"
   ]
  },
  {
   "cell_type": "code",
   "execution_count": 20,
   "metadata": {
    "collapsed": false
   },
   "outputs": [
    {
     "data": {
      "text/plain": [
       "[42.449970553582247,\n",
       " 4.1231056256176606,\n",
       " 49.819674828324601,\n",
       " 60.464865831323898,\n",
       " 51.97114584074513]"
      ]
     },
     "execution_count": 20,
     "metadata": {},
     "output_type": "execute_result"
    }
   ],
   "source": [
    "r"
   ]
  },
  {
   "cell_type": "markdown",
   "metadata": {},
   "source": [
    "The syntax of list (or tuple) comprehensions is:\n",
    "\n",
    "new = [ expression for p in old_list if expression]\n",
    "\n",
    "The if part is use to filer out values for p in the original lists or tuples."
   ]
  },
  {
   "cell_type": "markdown",
   "metadata": {},
   "source": [
    "On the other hand, numerical stuff is mostly better done using numpy functionality such as numpy arrays."
   ]
  },
  {
   "cell_type": "markdown",
   "metadata": {},
   "source": [
    "Let's generate a deck of playing cards and shuffle them.\n",
    "\n",
    "A deck of cards looks like this:\n",
    "\n",
    "![](../../logo/cards.png)"
   ]
  },
  {
   "cell_type": "code",
   "execution_count": 76,
   "metadata": {
    "collapsed": false
   },
   "outputs": [
    {
     "name": "stdout",
     "output_type": "stream",
     "text": [
      "\n",
      "Shuffled playing cards:\n",
      "\n",
      "Diamonds_Queen      Spades_4            Clubs_6             Spades_Jack         \n",
      "Diamonds_8          Clubs_Queen         Diamonds_9          Spades_6            \n",
      "Clubs_5             Hearts_Ace          Spades_2            Clubs_10            \n",
      "Spades_Queen        Diamonds_3          Clubs_7             Diamonds_2          \n",
      "Spades_8            Clubs_4             Hearts_5            Diamonds_Jack       \n",
      "Hearts_6            Spades_1            Diamonds_5          Hearts_1            \n",
      "Spades_9            Spades_10           Hearts_Jack         Hearts_3            \n",
      "Hearts_7            Hearts_Queen        Clubs_King          Hearts_8            \n",
      "Diamonds_4          Spades_5            Diamonds_Ace        Clubs_9             \n",
      "Diamonds_10         Clubs_1             Hearts_2            Diamonds_1          \n",
      "Hearts_9            Diamonds_King       Hearts_4            Spades_King         \n",
      "Spades_3            Hearts_10           Clubs_Ace           Spades_Ace          \n",
      "Clubs_Jack          Hearts_King         Clubs_3             Diamonds_6          \n"
     ]
    }
   ],
   "source": [
    "from random import shuffle\n",
    "\n",
    "cards1 = ['Clubs', 'Diamonds', 'Hearts', 'Spades']\n",
    "cards2 = ['Ace', '1', '2', '3', '4', '5', '6', '7', '8', '9', '10', 'Jack', 'Queen', 'King']\n",
    "\n",
    "# gnerate the deck\n",
    "cards = [c1 + '_' + c2 for c1 in cards1 for c2 in cards2]\n",
    "\n",
    "shuffle(cards) # shuffle the cards\n",
    "\n",
    "#pprint(cards) # show them\n",
    "\n",
    "print(\"\\nShuffled playing cards:\\n\")\n",
    "for i in range(13):\n",
    "    for j in range(4):\n",
    "        print(\"{:20}\".format(cards[4 * i + j]), end=\"\")\n",
    "    print()"
   ]
  },
  {
   "cell_type": "markdown",
   "metadata": {},
   "source": [
    "List comprehensions are especially useful for inspection of objects, to see their public attributes:"
   ]
  },
  {
   "cell_type": "code",
   "execution_count": 23,
   "metadata": {
    "collapsed": false
   },
   "outputs": [
    {
     "data": {
      "text/plain": [
       "['append',\n",
       " 'clear',\n",
       " 'copy',\n",
       " 'count',\n",
       " 'extend',\n",
       " 'index',\n",
       " 'insert',\n",
       " 'pop',\n",
       " 'remove',\n",
       " 'reverse',\n",
       " 'sort']"
      ]
     },
     "execution_count": 23,
     "metadata": {},
     "output_type": "execute_result"
    }
   ],
   "source": [
    "[p for p in dir(r) if not p.startswith('_')]"
   ]
  },
  {
   "cell_type": "markdown",
   "metadata": {},
   "source": [
    "We could also use it to for a better introspection of the methods of an object like so. For this we can use the inspect module with the function `getmembers`. With a small list comprehension we can easily idendity the type of the public attributes of the list:"
   ]
  },
  {
   "cell_type": "code",
   "execution_count": 70,
   "metadata": {
    "collapsed": false
   },
   "outputs": [
    {
     "data": {
      "text/plain": [
       "[('append', <function list.append>),\n",
       " ('clear', <function list.clear>),\n",
       " ('copy', <function list.copy>),\n",
       " ('count', <function list.count>),\n",
       " ('extend', <function list.extend>),\n",
       " ('index', <function list.index>),\n",
       " ('insert', <function list.insert>),\n",
       " ('pop', <function list.pop>),\n",
       " ('remove', <function list.remove>),\n",
       " ('reverse', <function list.reverse>),\n",
       " ('sort', <function list.sort>)]"
      ]
     },
     "execution_count": 70,
     "metadata": {},
     "output_type": "execute_result"
    }
   ],
   "source": [
    "from inspect import getmembers\n",
    "\n",
    "[p for p in getmembers(myList) if not p[0].startswith('_')]"
   ]
  },
  {
   "cell_type": "markdown",
   "metadata": {},
   "source": [
    "### Set comprehensions\n",
    "Set comprehensions work the same as list comprehensions, but curly braces { } are used instead.\n",
    "Here we construct a set for the remainder of integer division by 5. We do this for numbers 0 to 50. The result is a set with the unique values only."
   ]
  },
  {
   "cell_type": "code",
   "execution_count": 81,
   "metadata": {
    "collapsed": false,
    "scrolled": true
   },
   "outputs": [
    {
     "name": "stdout",
     "output_type": "stream",
     "text": [
      "[0, 1, 2, 3, 4, 0, 1, 2, 3, 4, 0, 1, 2, 3, 4, 0, 1, 2, 3, 4, 0, 1, 2, 3, 4, 0, 1, 2, 3, 4, 0, 1, 2, 3, 4, 0, 1, 2, 3, 4, 0, 1, 2, 3, 4, 0, 1, 2, 3, 4, 0]\n",
      "\n",
      "{0, 1, 2, 3, 4}\n"
     ]
    }
   ],
   "source": [
    "myList = [p%5 for p in range(51)]\n",
    "mySet ={p%5 for p in range(51)}\n",
    "\n",
    "print(myList)\n",
    "print()\n",
    "print(mySet)"
   ]
  },
  {
   "cell_type": "markdown",
   "metadata": {},
   "source": [
    "### Dict comprehensions"
   ]
  },
  {
   "cell_type": "markdown",
   "metadata": {},
   "source": [
    "Dict comprehensions are similar to list and tuple comprehensions, but two values [key, value] must be supplied.\n",
    "\n",
    "For example the list of tuples can be regarded as a list of x, y coordinates and now we want to use the first value as de key and the second values at its value."
   ]
  },
  {
   "cell_type": "code",
   "execution_count": 85,
   "metadata": {
    "collapsed": false
   },
   "outputs": [
    {
     "name": "stdout",
     "output_type": "stream",
     "text": [
      "{40: 12, -7: 23, -6: -21, 3: 2, -5: 4}\n",
      "{4: -5, 2: 3, -21: -6, 12: 40, 23: -7}\n",
      "\n",
      "{-7: 23, -6: -21, -5: 4, 3: 2, 40: 12}\n",
      "{-21: -6, 2: 3, 4: -5, 12: 40, 23: -7}\n"
     ]
    }
   ],
   "source": [
    "myList = [(3, 2), (40, 12), (-5, 4), (-6, -21), (-7, 23)]\n",
    "\n",
    "myDict1 = {key : value for key, value in myList}\n",
    "myDict2 = {value : key for key, value in myList}\n",
    "\n",
    "print(myDict1)\n",
    "print(myDict2)\n",
    "print()\n",
    "pprint(myDict1)  # sorts the keys\n",
    "pprint(myDict2)  # sorts the keys"
   ]
  },
  {
   "cell_type": "markdown",
   "metadata": {},
   "source": [
    "More advanced comprehensions will be shown shortly when we deal with world population data in an extended example."
   ]
  },
  {
   "cell_type": "markdown",
   "metadata": {},
   "source": [
    "## Using key for filtering sequences of objects (lambda function)\n",
    "    \n",
    "find the minimum of tuple, in the lis of tuples, when concluding the minimum from the second item in each tuple."
   ]
  },
  {
   "cell_type": "markdown",
   "metadata": {},
   "source": [
    "Let's first generate a tuple of tuples, each with three numbers."
   ]
  },
  {
   "cell_type": "code",
   "execution_count": 1,
   "metadata": {
    "collapsed": true
   },
   "outputs": [],
   "source": [
    "from numpy import random"
   ]
  },
  {
   "cell_type": "code",
   "execution_count": 4,
   "metadata": {
    "collapsed": false
   },
   "outputs": [
    {
     "name": "stdout",
     "output_type": "stream",
     "text": [
      "((-3, -5, -3),\n",
      " (4, 3, -4),\n",
      " (-2, -2, -3),\n",
      " (2, -4, -2),\n",
      " (-3, -5, 4),\n",
      " (4, -4, 3),\n",
      " (-3, 2, -4),\n",
      " (4, 2, 3),\n",
      " (2, -4, -5),\n",
      " (2, 2, 2),\n",
      " (1, 4, 1),\n",
      " (0, -1, -2),\n",
      " (-5, -2, 3),\n",
      " (0, -1, 3),\n",
      " (0, -1, -1),\n",
      " (3, 4, -4),\n",
      " (-3, 1, 3),\n",
      " (2, 3, -5),\n",
      " (-5, -4, -1),\n",
      " (-5, 2, -2))\n"
     ]
    }
   ],
   "source": [
    "myTuples = tuple([tuple(random.randint(-5, 5, 3)) for i in range(20)])\n",
    "pprint(myTuples)"
   ]
  },
  {
   "cell_type": "markdown",
   "metadata": {},
   "source": [
    "Then find the tuple for which the seond field (that with index 1) is lowest."
   ]
  },
  {
   "cell_type": "code",
   "execution_count": 5,
   "metadata": {
    "collapsed": false
   },
   "outputs": [
    {
     "name": "stdout",
     "output_type": "stream",
     "text": [
      "(-3, -5, -3)\n",
      "(-3, -5, -3)\n",
      "(-3, -5, -3)\n",
      "(-3, -5, -3)\n",
      "(-3, -5, -3)\n",
      "(-3, -5, -3)\n",
      "(-3, -5, -3)\n",
      "(-3, -5, -3)\n",
      "(-3, -5, -3)\n",
      "(-3, -5, -3)\n",
      "(-3, -5, -3)\n",
      "(-3, -5, -3)\n",
      "(-3, -5, -3)\n",
      "(-3, -5, -3)\n",
      "(-3, -5, -3)\n",
      "(-3, -5, -3)\n",
      "(-3, -5, -3)\n",
      "(-3, -5, -3)\n",
      "(-3, -5, -3)\n",
      "(-3, -5, -3)\n",
      "\n",
      "minimum in field 2 is:  (-3, -5, -3)\n"
     ]
    }
   ],
   "source": [
    "import sys\n",
    "\n",
    "m = myTuples[0]   # initialize by taking the the first tuple, any other would do as well\n",
    "for tp in myTuples:\n",
    "    if tp[1] < m[1]:  # compare the field with that of the current minimum tuple\n",
    "        m = tp   # if true then replace the current minimum tuple\n",
    "    print(m) # show the update mininum tuple\n",
    "print(\"\\nminimum in field 2 is: \",m)"
   ]
  },
  {
   "cell_type": "markdown",
   "metadata": {},
   "source": [
    "Now a more elegant one using keyword key"
   ]
  },
  {
   "cell_type": "code",
   "execution_count": 6,
   "metadata": {
    "collapsed": false
   },
   "outputs": [
    {
     "data": {
      "text/plain": [
       "(-3, -5, -3)"
      ]
     },
     "execution_count": 6,
     "metadata": {},
     "output_type": "execute_result"
    }
   ],
   "source": [
    "def vcmp(tp):\n",
    "    x, y, z = tp\n",
    "    return y\n",
    "\n",
    "min(myTuples, key=vcmp)"
   ]
  },
  {
   "cell_type": "markdown",
   "metadata": {},
   "source": [
    "Why does this work ?\n",
    "\n",
    "In general with a list of arbitrary objects, comparing them is not defined, like in this case. We can, however, come around this, by defining how two of the objects in questions have to be compared to decide which of them is smallest. This comparison is then done using some value that is computed for each object. In this case it's the second value of the tuple that we compare between objects to decide which of them is smallest.\n",
    "The function computes this value. This function is than passed to the min function as the argment of key.\n",
    "What then happens, is that min runs along the list of tuples and for each of them computes the value for comparison using the passed function. These values are compared to decide which object is smallest. When done the smallest object is returned.\n",
    "\n",
    "And the most concise way, using a lambda function:"
   ]
  },
  {
   "cell_type": "code",
   "execution_count": 9,
   "metadata": {
    "collapsed": false
   },
   "outputs": [
    {
     "data": {
      "text/plain": [
       "(-3, -5, -3)"
      ]
     },
     "execution_count": 9,
     "metadata": {},
     "output_type": "execute_result"
    }
   ],
   "source": [
    "min(myTuples, key = lambda x: x[1])"
   ]
  },
  {
   "cell_type": "markdown",
   "metadata": {},
   "source": [
    "How does it work?\n",
    "\n",
    "A `lambda function` is a so-called `anonumous function`, in some languages also called a `macro`. It takes one or more arguments and its body consists of a single expression, that returns a single value.\n",
    "\n",
    "So the lambda function\n",
    "\n",
    "lambda x: x[1]\n",
    "\n",
    "is equivalent to\n",
    "\n",
    "def vcmp(x):\n",
    "    return x[1]\n",
    "\n",
    "That's why it works.\n",
    "\n",
    "Lambda functions come in handy at many places where simple processing is needed on the fly and there is no standard function to do it."
   ]
  },
  {
   "cell_type": "code",
   "execution_count": null,
   "metadata": {
    "collapsed": true
   },
   "outputs": [],
   "source": []
  }
 ],
 "metadata": {
  "kernelspec": {
   "display_name": "Python [default]",
   "language": "python",
   "name": "python3"
  },
  "language_info": {
   "codemirror_mode": {
    "name": "ipython",
    "version": 3
   },
   "file_extension": ".py",
   "mimetype": "text/x-python",
   "name": "python",
   "nbconvert_exporter": "python",
   "pygments_lexer": "ipython3",
   "version": "3.5.2"
  }
 },
 "nbformat": 4,
 "nbformat_minor": 1
}
