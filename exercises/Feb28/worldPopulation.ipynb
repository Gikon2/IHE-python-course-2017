{
 "cells": [
  {
   "cell_type": "markdown",
   "metadata": {},
   "source": [
    "<figure>\n",
    "  <IMG SRC=\"../../logo/logo.png\" WIDTH=250 ALIGN=\"right\">\n",
    "</figure>\n",
    "\n",
    "# IHE Python course, 2017\n",
    "\n",
    "T.N.Olsthoorn, Feb 26, 2017\n",
    "\n",
    "## Working with lists, dicts and sets and their comprehensions\n",
    "\n",
    "### (Excercises, using 2017 world population data, reading data from Excel)\n",
    "\n",
    "See Excel workbook in this folder\n",
    "\n",
    "For this we list all files in the folder and check each if it has '.xls' in it and doesn't start with '~', because that means that the file is actually active in the Excel program."
   ]
  },
  {
   "cell_type": "code",
   "execution_count": 70,
   "metadata": {
    "collapsed": false
   },
   "outputs": [],
   "source": [
    "from pprint import pprint\n",
    "import matplotlib.pyplot as plt"
   ]
  },
  {
   "cell_type": "markdown",
   "metadata": {},
   "source": [
    "Import the os module (operating system). It has the method `listdir()`, which gives a list of the files within a directory.\n",
    "\n",
    "We apply os.listdir() to get a list of all files and immediately filter it to get only the files that have `.xls` and don't start with '~'"
   ]
  },
  {
   "cell_type": "code",
   "execution_count": 71,
   "metadata": {
    "collapsed": true
   },
   "outputs": [],
   "source": [
    "import os"
   ]
  },
  {
   "cell_type": "code",
   "execution_count": 72,
   "metadata": {
    "collapsed": false
   },
   "outputs": [
    {
     "data": {
      "text/plain": [
       "['.DS_Store',\n",
       " '.ipynb_checkpoints',\n",
       " 'comprehensions.ipynb',\n",
       " 'dicts.ipynb',\n",
       " 'tuplesListsSets.ipynb',\n",
       " 'worldPopulation.ipynb',\n",
       " 'worldPopulation2017.xlsx']"
      ]
     },
     "execution_count": 72,
     "metadata": {},
     "output_type": "execute_result"
    }
   ],
   "source": [
    "os.listdir('.')"
   ]
  },
  {
   "cell_type": "code",
   "execution_count": 73,
   "metadata": {
    "collapsed": false
   },
   "outputs": [
    {
     "name": "stdout",
     "output_type": "stream",
     "text": [
      "['worldPopulation2017.xlsx']\n"
     ]
    }
   ],
   "source": [
    "import os\n",
    "\n",
    "xls_files = [f for f in os.listdir() if \".xls\" in f and not f.startswith('~')]\n",
    "\n",
    "print(xls_files)"
   ]
  },
  {
   "cell_type": "markdown",
   "metadata": {},
   "source": [
    "Next we'll read the data from the Excel workbook"
   ]
  },
  {
   "cell_type": "code",
   "execution_count": 74,
   "metadata": {
    "collapsed": false
   },
   "outputs": [
    {
     "name": "stderr",
     "output_type": "stream",
     "text": [
      "/Users/Theo/anaconda/lib/python3.5/site-packages/openpyxl/reader/worksheet.py:322: UserWarning: Unknown extension is not supported and will be removed\n",
      "  warn(msg)\n"
     ]
    }
   ],
   "source": [
    "import openpyxl # excel file functionality\n",
    "\n",
    "wb = openpyxl.load_workbook(xls_files[0])"
   ]
  },
  {
   "cell_type": "code",
   "execution_count": 75,
   "metadata": {
    "collapsed": false
   },
   "outputs": [
    {
     "data": {
      "text/plain": [
       "openpyxl.workbook.workbook.Workbook"
      ]
     },
     "execution_count": 75,
     "metadata": {},
     "output_type": "execute_result"
    }
   ],
   "source": [
    "type(wb)"
   ]
  },
  {
   "cell_type": "code",
   "execution_count": 76,
   "metadata": {
    "collapsed": false
   },
   "outputs": [
    {
     "data": {
      "text/plain": [
       "['Population', 'CountriesByContinent', 'missing']"
      ]
     },
     "execution_count": 76,
     "metadata": {},
     "output_type": "execute_result"
    }
   ],
   "source": [
    "wb.get_sheet_names()"
   ]
  },
  {
   "cell_type": "code",
   "execution_count": 77,
   "metadata": {
    "collapsed": false
   },
   "outputs": [
    {
     "data": {
      "text/plain": [
       "['Population', 'CountriesByContinent', 'missing']"
      ]
     },
     "execution_count": 77,
     "metadata": {},
     "output_type": "execute_result"
    }
   ],
   "source": [
    "# Show the sheetnames inside the Excel workbook wb\n",
    "wb.get_sheet_names()"
   ]
  },
  {
   "cell_type": "markdown",
   "metadata": {},
   "source": [
    "We can now treat the workbook as a dictionary in which each key is the name of a worksheet"
   ]
  },
  {
   "cell_type": "code",
   "execution_count": 78,
   "metadata": {
    "collapsed": false
   },
   "outputs": [],
   "source": [
    "wsPop = wb['Population']"
   ]
  },
  {
   "cell_type": "code",
   "execution_count": 79,
   "metadata": {
    "collapsed": false
   },
   "outputs": [
    {
     "data": {
      "text/plain": [
       "openpyxl.worksheet.worksheet.Worksheet"
      ]
     },
     "execution_count": 79,
     "metadata": {},
     "output_type": "execute_result"
    }
   ],
   "source": [
    "type(wsPop)"
   ]
  },
  {
   "cell_type": "markdown",
   "metadata": {},
   "source": [
    "wsPop is an object. It has a number of methods and properties, which can be accessed by typing the name followed by a dot followed by a tab. To get more information it can be followed by a question mark.\n",
    "\n",
    "On the mac wsPop.rows is a tuple of tuples. On some other systems it is a generator. It generates the tuples one after the other in a loop like"
   ]
  },
  {
   "cell_type": "code",
   "execution_count": 80,
   "metadata": {
    "collapsed": true
   },
   "outputs": [],
   "source": [
    "for r in wsPop.rows:\n",
    "    pass # do something"
   ]
  },
  {
   "cell_type": "markdown",
   "metadata": {},
   "source": [
    "but with a generator, one cannot say len(wsPop.rows) or index it like wsPop.rows[3].\n",
    "\n",
    "However it's easy to first generate a list of tuples with a comprehension:"
   ]
  },
  {
   "cell_type": "code",
   "execution_count": 81,
   "metadata": {
    "collapsed": true
   },
   "outputs": [],
   "source": [
    "data = [r for r in wsPop.rows]"
   ]
  },
  {
   "cell_type": "markdown",
   "metadata": {},
   "source": [
    "and then continue to work with data instead of wsPop.rows. Therefore, if you have trouble indexing wsPop.rows, first generate a list as shown above and use that wherever you see wsPop.rows below."
   ]
  },
  {
   "cell_type": "code",
   "execution_count": 82,
   "metadata": {
    "collapsed": false
   },
   "outputs": [],
   "source": [
    "cel = wsPop.rows[0][3]  # may not work if wsPop.rows is a generator on your system and not a tuple of tuple.\n",
    "cel = data[0][3]  # this is a list of tuples, generated above."
   ]
  },
  {
   "cell_type": "code",
   "execution_count": 83,
   "metadata": {
    "collapsed": false
   },
   "outputs": [
    {
     "data": {
      "text/plain": [
       "'Yearly'"
      ]
     },
     "execution_count": 83,
     "metadata": {},
     "output_type": "execute_result"
    }
   ],
   "source": [
    "cel.value"
   ]
  },
  {
   "cell_type": "markdown",
   "metadata": {},
   "source": [
    "We gen get the contents of sheet as a series of rows using the attribute `rows`,\n",
    "\n",
    "and then show an arbitrary value"
   ]
  },
  {
   "cell_type": "code",
   "execution_count": 85,
   "metadata": {
    "collapsed": false
   },
   "outputs": [
    {
     "name": "stdout",
     "output_type": "stream",
     "text": [
      "<class 'tuple'>\n",
      "235\n",
      "<Cell Population.B4>\n"
     ]
    },
    {
     "data": {
      "text/plain": [
       "'India'"
      ]
     },
     "execution_count": 85,
     "metadata": {},
     "output_type": "execute_result"
    }
   ],
   "source": [
    "print( type(wsPop.rows) )  # shows that the wsPop generates a tuple of tuples\n",
    "\n",
    "print( len(wsPop.rows) ) # shows the number of rows\n",
    "\n",
    "print( wsPop.rows[3][1] ) # shows some cell\n",
    "\n",
    "wsPop.rows[3][1].value # shows the value of some cell"
   ]
  },
  {
   "cell_type": "code",
   "execution_count": 86,
   "metadata": {
    "collapsed": false
   },
   "outputs": [
    {
     "name": "stdout",
     "output_type": "stream",
     "text": [
      "Country (or dependency)\n",
      "None\n",
      "China\n",
      "India\n",
      "U.S.\n",
      "Indonesia\n",
      "Brazil\n",
      "Pakistan\n",
      "Nigeria\n",
      "Bangladesh\n",
      "Russia\n",
      "Mexico\n",
      "Japan\n",
      "Ethiopia\n",
      "Philippines\n",
      "Viet Nam\n",
      "Egypt\n",
      "DR Congo\n",
      "Iran\n",
      "Germany\n",
      "Turkey\n",
      "Thailand\n",
      "U.K.\n",
      "France\n",
      "Italy\n",
      "Tanzania\n",
      "South Africa\n",
      "Myanmar\n",
      "South Korea\n",
      "Colombia\n",
      "Kenya\n",
      "Spain\n",
      "Ukraine\n",
      "Argentina\n",
      "Sudan\n",
      "Uganda\n",
      "Algeria\n",
      "Iraq\n",
      "Poland\n",
      "Canada\n",
      "Morocco\n",
      "Afghanistan\n",
      "Saudi Arabia\n",
      "Peru\n",
      "Venezuela\n",
      "Malaysia\n",
      "Uzbekistan\n",
      "Mozambique\n",
      "Nepal\n",
      "Ghana\n",
      "Yemen\n",
      "Angola\n",
      "Madagascar\n",
      "North Korea\n",
      "Australia\n",
      "Cameroon\n",
      "Côte d'Ivoire\n",
      "Taiwan\n",
      "Niger\n",
      "Sri Lanka\n",
      "Romania\n",
      "Burkina Faso\n",
      "Syria\n",
      "Mali\n",
      "Chile\n",
      "Malawi\n",
      "Kazakhstan\n",
      "Zambia\n",
      "Netherlands\n",
      "Guatemala\n",
      "Ecuador\n",
      "Zimbabwe\n",
      "Cambodia\n",
      "Senegal\n",
      "Chad\n",
      "Guinea\n",
      "South Sudan\n",
      "Rwanda\n",
      "Burundi\n",
      "Tunisia\n",
      "Benin\n",
      "Belgium\n",
      "Somalia\n",
      "Cuba\n",
      "Bolivia\n",
      "Haiti\n",
      "Greece\n",
      "Dominican Republic\n",
      "Czech Republic\n",
      "Portugal\n",
      "Azerbaijan\n",
      "Sweden\n",
      "Hungary\n",
      "Belarus\n",
      "United Arab Emirates\n",
      "Tajikistan\n",
      "Serbia\n",
      "Austria\n",
      "Switzerland\n",
      "Israel\n",
      "Honduras\n",
      "Papua New Guinea\n",
      "Jordan\n",
      "Togo\n",
      "Hong Kong\n",
      "Bulgaria\n",
      "Laos\n",
      "Paraguay\n",
      "Sierra Leone\n",
      "Libya\n",
      "Nicaragua\n",
      "El Salvador\n",
      "Kyrgyzstan\n",
      "Lebanon\n",
      "Singapore\n",
      "Denmark\n",
      "Finland\n",
      "Turkmenistan\n",
      "Eritrea\n",
      "Slovakia\n",
      "Norway\n",
      "Central African Republic\n",
      "State of Palestine\n",
      "Costa Rica\n",
      "Congo\n",
      "Ireland\n",
      "Oman\n",
      "Liberia\n",
      "New Zealand\n",
      "Mauritania\n",
      "Croatia\n",
      "Kuwait\n",
      "Moldova\n",
      "Panama\n",
      "Georgia\n",
      "Bosnia and Herzegovina\n",
      "Puerto Rico\n",
      "Uruguay\n",
      "Mongolia\n",
      "Armenia\n",
      "Albania\n",
      "Lithuania\n",
      "Jamaica\n",
      "Namibia\n",
      "Botswana\n",
      "Qatar\n",
      "Lesotho\n",
      "Gambia\n",
      "TFYR Macedonia\n",
      "Slovenia\n",
      "Latvia\n",
      "Guinea-Bissau\n",
      "Gabon\n",
      "Bahrain\n",
      "Trinidad and Tobago\n",
      "Swaziland\n",
      "Estonia\n",
      "Mauritius\n",
      "Timor-Leste\n",
      "Cyprus\n",
      "Djibouti\n",
      "Fiji\n",
      "Equatorial Guinea\n",
      "Réunion\n",
      "Comoros\n",
      "Bhutan\n",
      "Guyana\n",
      "Montenegro\n",
      "Macao\n",
      "Solomon Islands\n",
      "Western Sahara\n",
      "Luxembourg\n",
      "Suriname\n",
      "Cabo Verde\n",
      "Guadeloupe\n",
      "Brunei\n",
      "Malta\n",
      "Bahamas\n",
      "Martinique\n",
      "Maldives\n",
      "Belize\n",
      "Iceland\n",
      "French Polynesia\n",
      "Barbados\n",
      "French Guiana\n",
      "Vanuatu\n",
      "New Caledonia\n",
      "Mayotte\n",
      "Sao Tome and Principe\n",
      "Samoa\n",
      "Saint Lucia\n",
      "Guam\n",
      "Channel Islands\n",
      "Curaçao\n",
      "Kiribati\n",
      "St. Vincent & Grenadines\n",
      "Grenada\n",
      "Tonga\n",
      "United States Virgin Islands\n",
      "Micronesia\n",
      "Aruba\n",
      "Seychelles\n",
      "Antigua and Barbuda\n",
      "Isle of Man\n",
      "Dominica\n",
      "Andorra\n",
      "Cayman Islands\n",
      "Bermuda\n",
      "Saint Kitts and Nevis\n",
      "Greenland\n",
      "American Samoa\n",
      "Northern Mariana Islands\n",
      "Marshall Islands\n",
      "Faeroe Islands\n",
      "Sint Maarten\n",
      "Liechtenstein\n",
      "Monaco\n",
      "Turks and Caicos Islands\n",
      "Gibraltar\n",
      "San Marino\n",
      "British Virgin Islands\n",
      "Caribbean Netherlands\n",
      "Palau\n",
      "Cook Islands\n",
      "Anguilla\n",
      "Wallis and Futuna\n",
      "Nauru\n",
      "Tuvalu\n",
      "Saint Pierre and Miquelon\n",
      "Montserrat\n",
      "Saint Helena\n",
      "Falkland Islands\n",
      "Niue\n",
      "Tokelau\n",
      "Holy See\n"
     ]
    }
   ],
   "source": [
    "for r in wsPop.rows:\n",
    "    print(r[1].value)"
   ]
  },
  {
   "cell_type": "markdown",
   "metadata": {},
   "source": [
    "Turn the rows propery into a list of rows, with each row the values of the cells in them.\n",
    "\n",
    "We can do that in a list comprehension, in this case a list comprehension around a list comprehension.\n",
    "\n",
    "For each row we turn it into a list of the values of each cell in that row.\n",
    "We do that for each row.\n",
    "\n",
    "The result is a list of lists. This is done in one line:"
   ]
  },
  {
   "cell_type": "code",
   "execution_count": 87,
   "metadata": {
    "collapsed": false
   },
   "outputs": [],
   "source": [
    "data = [[c.value for c in r ]   for r in wsPop.rows]"
   ]
  },
  {
   "cell_type": "code",
   "execution_count": 88,
   "metadata": {
    "collapsed": false
   },
   "outputs": [
    {
     "data": {
      "text/plain": [
       "'Viet Nam'"
      ]
     },
     "execution_count": 88,
     "metadata": {},
     "output_type": "execute_result"
    }
   ],
   "source": [
    "data[15][1]"
   ]
  },
  {
   "cell_type": "code",
   "execution_count": 89,
   "metadata": {
    "collapsed": false
   },
   "outputs": [
    {
     "name": "stdout",
     "output_type": "stream",
     "text": [
      "['#', 'Country (or dependency)', 'Population', 'Yearly', 'Net', 'Density', 'Land Area', 'Migrants', 'Fert.', 'Med.', 'Urban']\n",
      "[None, None, -2017, 'Change', 'Change', '(P/Km²)', '(Km²)', '(net)', 'Rate', 'Age', 'Pop %']\n",
      "[1, 'China', 1388232693, 0.0043, 5909361, 148, 9386293, -360000, 1.55, 37, 0.576]\n",
      "[2, 'India', 1342512706, 0.0118, 15711130, 452, 2973450, -519644, 2.48, 27, 0.32]\n",
      "[3, 'U.S.', 326474013, 0.0073, 2355226, 36, 9144930, 1001577, 1.89, 38, 0.821]\n"
     ]
    }
   ],
   "source": [
    "# Show the first 5 lines\n",
    "for i in range(5):\n",
    "    print(data[i])"
   ]
  },
  {
   "cell_type": "markdown",
   "metadata": {},
   "source": [
    "To index the data directly, we don't want a list of lists but a dictionary with the country name as key, such that for country the data is kept in a dictionary with keys obtained form the headers in the first two rows of the excel file as is shown above.\n"
   ]
  },
  {
   "cell_type": "code",
   "execution_count": 90,
   "metadata": {
    "collapsed": false
   },
   "outputs": [
    {
     "name": "stdout",
     "output_type": "stream",
     "text": [
      "\n",
      "['#', 'Country (or dependency)', 'Population', 'Yearly', 'Net', 'Density', 'Land Area', 'Migrants', 'Fert.', 'Med.', 'Urban']\n",
      "\n",
      "[None, None, -2017, 'Change', 'Change', '(P/Km²)', '(Km²)', '(net)', 'Rate', 'Age', 'Pop %']\n",
      "\n"
     ]
    }
   ],
   "source": [
    "hdrs = data[0]\n",
    "dims = data[1]\n",
    "\n",
    "print()\n",
    "print(hdrs)\n",
    "print()\n",
    "print(dims)\n",
    "print()"
   ]
  },
  {
   "cell_type": "markdown",
   "metadata": {},
   "source": [
    "Now glue together the hdrs and the dimes, and filter out the None texts:\n",
    "\n",
    "All `hdrs` are strings, but that is not the case of the `dims`, where -2017 was turned in a value.\n",
    "\n",
    "So when guening h and d together to a new string below, we have to use h + str(d).\n",
    "\n",
    "The combined headers are obtained using a list comprehension, that also removes the text 'None' from the `dims` wherever it turns up:"
   ]
  },
  {
   "cell_type": "code",
   "execution_count": 91,
   "metadata": {
    "collapsed": false
   },
   "outputs": [
    {
     "name": "stdout",
     "output_type": "stream",
     "text": [
      "['#',\n",
      " 'Country (or dependency)',\n",
      " 'Population-2017',\n",
      " 'YearlyChange',\n",
      " 'NetChange',\n",
      " 'Density(P/Km²)',\n",
      " 'Land Area(Km²)',\n",
      " 'Migrants(net)',\n",
      " 'Fert.Rate',\n",
      " 'Med.Age',\n",
      " 'UrbanPop %']\n"
     ]
    }
   ],
   "source": [
    "hdrs = [(h + str(d)).replace('None','')  for h, d in zip(hdrs, dims)]\n",
    "\n",
    "\n",
    "pprint(hdrs)"
   ]
  },
  {
   "cell_type": "code",
   "execution_count": 92,
   "metadata": {
    "collapsed": true
   },
   "outputs": [],
   "source": [
    "h = data[13][:]\n"
   ]
  },
  {
   "cell_type": "code",
   "execution_count": 93,
   "metadata": {
    "collapsed": false
   },
   "outputs": [
    {
     "name": "stdout",
     "output_type": "stream",
     "text": [
      "[12, 'Ethiopia', 104344901, 0.0245, 2491633, 104, 1000430, -12000, 4.59, 19, 0.194]\n",
      "Ethiopia\n",
      "[12, 104344901, 0.0245, 2491633, 104, 1000430, -12000, 4.59, 19, 0.194]\n"
     ]
    }
   ],
   "source": [
    "print(h)\n",
    "name = h.pop(1)\n",
    "print(name)\n",
    "print(h)"
   ]
  },
  {
   "cell_type": "markdown",
   "metadata": {},
   "source": [
    "We could generate a dict with the country names as keys where each cntry[key] as a list of itmes. We cannot use a dict comprehension here because we need to pop the country value from each row in to get the key for that rows. Hence a for loop is used:"
   ]
  },
  {
   "cell_type": "code",
   "execution_count": 94,
   "metadata": {
    "collapsed": false
   },
   "outputs": [],
   "source": [
    "cntry = dict() # empty dict\n",
    "\n",
    "for i in range(2, len(wsPop.rows)):\n",
    "    row = [c.value for c in wsPop.rows[i]]\n",
    "    cname = row.pop(1)\n",
    "    cntry[cname] = row # entter the key  cname and the value row into the dict cntry"
   ]
  },
  {
   "cell_type": "markdown",
   "metadata": {},
   "source": [
    "Now we can get the data of any cntry like so:"
   ]
  },
  {
   "cell_type": "code",
   "execution_count": 95,
   "metadata": {
    "collapsed": false
   },
   "outputs": [
    {
     "data": {
      "text/plain": [
       "[23, 59797978, -0.0001, -3026, 203, 294137, 105654, 1.43, 46, 0.707]"
      ]
     },
     "execution_count": 95,
     "metadata": {},
     "output_type": "execute_result"
    }
   ],
   "source": [
    "cntry['Italy']"
   ]
  },
  {
   "cell_type": "markdown",
   "metadata": {},
   "source": [
    "However, this is not smart enough. We can't see what the figure in the list mean. Therefore, we should use a dictionary for the contents of each cntry with the fields as keys.\n",
    "\n",
    "These fields are now simply obtained by popping the second item from the hdrs list:"
   ]
  },
  {
   "cell_type": "code",
   "execution_count": 96,
   "metadata": {
    "collapsed": false
   },
   "outputs": [
    {
     "name": "stdout",
     "output_type": "stream",
     "text": [
      "['#', 'Country (or dependency)', 'Population-2017', 'YearlyChange', 'NetChange', 'Density(P/Km²)', 'Land Area(Km²)', 'Migrants(net)', 'Fert.Rate', 'Med.Age', 'UrbanPop %']\n",
      "\n",
      "['#', 'Population-2017', 'YearlyChange', 'NetChange', 'Density(P/Km²)', 'Land Area(Km²)', 'Migrants(net)', 'Fert.Rate', 'Med.Age', 'UrbanPop %']\n"
     ]
    }
   ],
   "source": [
    "print(hdrs)\n",
    "hdrs.pop(1)\n",
    "print()\n",
    "print(hdrs)"
   ]
  },
  {
   "cell_type": "markdown",
   "metadata": {},
   "source": [
    "Now generate the dict again, with the contens of each cntry itself a dict of its fields:"
   ]
  },
  {
   "cell_type": "code",
   "execution_count": 97,
   "metadata": {
    "collapsed": false
   },
   "outputs": [],
   "source": [
    "cntry = dict()\n",
    "for i in range(2, len(wsPop.rows)):  # skip the first two lines, which are headers\n",
    "    \n",
    "    row = [c.value for c in wsPop.rows[i]] # turn the Excel row in a list\n",
    "  \n",
    "    cname = row.pop(1)      # pop of the country name, which becomes the key\n",
    "    \n",
    "    cntry[cname] = {fld: v for fld, v in zip(hdrs, row)}  # use dict comprehension"
   ]
  },
  {
   "cell_type": "markdown",
   "metadata": {},
   "source": [
    "Now the contents of an arbitrary country looks like this, it's a dict with fields and values."
   ]
  },
  {
   "cell_type": "code",
   "execution_count": 98,
   "metadata": {
    "collapsed": false
   },
   "outputs": [
    {
     "data": {
      "text/plain": [
       "17032845"
      ]
     },
     "execution_count": 98,
     "metadata": {},
     "output_type": "execute_result"
    }
   ],
   "source": [
    "cntry['Netherlands']['Population-2017']"
   ]
  },
  {
   "cell_type": "markdown",
   "metadata": {},
   "source": [
    "Let's now compute the total population of the world.\n",
    "We do this by summing for each country."
   ]
  },
  {
   "cell_type": "code",
   "execution_count": 99,
   "metadata": {
    "collapsed": false
   },
   "outputs": [
    {
     "name": "stdout",
     "output_type": "stream",
     "text": [
      "Total population in the world is 7.52 billion\n"
     ]
    }
   ],
   "source": [
    "totPop2017 = 0.  # start out with zero\n",
    "\n",
    "for c in cntry.keys():\n",
    "    totPop2017 += cntry[c]['Population-2017'] # get the value directly from indexing the field\n",
    "\n",
    "print('Total population in the world is {:.2f} billion'.format(totPop2017/1e9))"
   ]
  },
  {
   "cell_type": "code",
   "execution_count": 100,
   "metadata": {
    "collapsed": false
   },
   "outputs": [
    {
     "name": "stdout",
     "output_type": "stream",
     "text": [
      "popWorld [2018] =  7.71 billion\n",
      "popWorld [2019] =  7.91 billion\n",
      "popWorld [2020] =  8.11 billion\n",
      "popWorld [2021] =  8.32 billion\n",
      "popWorld [2022] =  8.54 billion\n",
      "popWorld [2023] =  8.77 billion\n",
      "popWorld [2024] =  9.00 billion\n",
      "popWorld [2025] =  9.24 billion\n",
      "popWorld [2026] =  9.49 billion\n",
      "popWorld [2027] =  9.74 billion\n",
      "popWorld [2028] = 10.01 billion\n",
      "popWorld [2029] = 10.29 billion\n",
      "popWorld [2030] = 10.57 billion\n",
      "popWorld [2031] = 10.87 billion\n",
      "popWorld [2032] = 11.17 billion\n",
      "popWorld [2033] = 11.49 billion\n",
      "popWorld [2034] = 11.81 billion\n",
      "popWorld [2035] = 12.15 billion\n",
      "popWorld [2036] = 12.50 billion\n",
      "popWorld [2037] = 12.87 billion\n",
      "popWorld [2038] = 13.25 billion\n",
      "popWorld [2039] = 13.64 billion\n",
      "popWorld [2040] = 14.04 billion\n",
      "popWorld [2041] = 14.47 billion\n",
      "popWorld [2042] = 14.90 billion\n",
      "popWorld [2043] = 15.36 billion\n",
      "popWorld [2044] = 15.83 billion\n",
      "popWorld [2045] = 16.32 billion\n",
      "popWorld [2046] = 16.83 billion\n",
      "popWorld [2047] = 17.36 billion\n"
     ]
    }
   ],
   "source": [
    "# Now compute the toal populatin in 30 years, using the current growth rates\n",
    "\n",
    "popWorld = [0 for i in range(1, 31)]\n",
    "for k in cntry.keys():\n",
    "    pc  = cntry[k]['Population-2017']   # country population 2017\n",
    "    try:\n",
    "        frc = cntry[k]['Fert.Rate'] / 100.  # growth rate fraction\n",
    "    except:\n",
    "        # needed in case frc contains `None`\n",
    "        frc = 0 # simply use 0 in those cases\n",
    "\n",
    "    # for the country\n",
    "    popCntry = [pc * (1 + frc)**i for i in range(1, 31) ]\n",
    "    \n",
    "    # for the entire world\n",
    "    popWorld = [pc + pw for pc, pw in zip(popCntry, popWorld)]\n",
    "\n",
    "for i, pw in enumerate(popWorld):\n",
    "    yr = 2017 + i + 1\n",
    "    print('popWorld [{}] = {:5.2f} billion'.format(yr, pw/1e9))"
   ]
  },
  {
   "cell_type": "markdown",
   "metadata": {},
   "source": [
    "## Population per continent.\n",
    "\n",
    "We don't have the `Continent` field associated with the countries. But we do have a list of countries and their continents in a second worksheet:"
   ]
  },
  {
   "cell_type": "code",
   "execution_count": 101,
   "metadata": {
    "collapsed": false
   },
   "outputs": [
    {
     "name": "stdout",
     "output_type": "stream",
     "text": [
      "<Worksheet \"CountriesByContinent\">\n",
      "(<Cell CountriesByContinent.A1>, <Cell CountriesByContinent.B1>)\n"
     ]
    },
    {
     "data": {
      "text/plain": [
       "('Africa', 'Algeria')"
      ]
     },
     "execution_count": 101,
     "metadata": {},
     "output_type": "execute_result"
    }
   ],
   "source": [
    "wscont = wb['CountriesByContinent'] # read it\n",
    "\n",
    "print(wscont)  # shows it's a worksheet object\n",
    "\n",
    "print(wscont.rows[0])  # shows it's a tuple of two cell objects\n",
    "\n",
    "wscont.rows[0][0].value, wscont.rows[0][1].value  # turned into a tuple of tow strings"
   ]
  },
  {
   "cell_type": "markdown",
   "metadata": {},
   "source": [
    "We can immediately, in a single line, turn this worksheet into a dictionary with name `cont` that has the country as key and the continent as field (a string)."
   ]
  },
  {
   "cell_type": "code",
   "execution_count": 102,
   "metadata": {
    "collapsed": false
   },
   "outputs": [
    {
     "name": "stdout",
     "output_type": "stream",
     "text": [
      "{'Afghanistan': 'Asia',\n",
      " 'Albania': 'Europe',\n",
      " 'Algeria': 'Africa',\n",
      " 'Andorra': 'Europe',\n",
      " 'Angola': 'Africa',\n",
      " 'Antigua and Barbuda': 'N. America',\n",
      " 'Argentina': 'S. America',\n",
      " 'Armenia': 'Europe',\n",
      " 'Australia': 'Oceania',\n",
      " 'Austria': 'Europe',\n",
      " 'Azerbaijan': 'Europe',\n",
      " 'Bahamas': 'N. America',\n",
      " 'Bahrain': 'Asia',\n",
      " 'Bangladesh': 'Asia',\n",
      " 'Barbados': 'N. America',\n",
      " 'Belarus': 'Europe',\n",
      " 'Belgium': 'Europe',\n",
      " 'Belize': 'N. America',\n",
      " 'Benin': 'Africa',\n",
      " 'Bhutan': 'Asia',\n",
      " 'Bolivia': 'S. America',\n",
      " 'Bosnia and Herzegovina': 'Europe',\n",
      " 'Botswana': 'Africa',\n",
      " 'Brazil': 'S. America',\n",
      " 'Brunei': 'Asia',\n",
      " 'Bulgaria': 'Europe',\n",
      " 'Burkina': 'Africa',\n",
      " 'Burma (Myanmar)': 'Asia',\n",
      " 'Burundi': 'Africa',\n",
      " 'Cambodia': 'Asia',\n",
      " 'Cameroon': 'Africa',\n",
      " 'Canada': 'N. America',\n",
      " 'Cape Verde': 'Africa',\n",
      " 'Central African Republic': 'Africa',\n",
      " 'Chad': 'Africa',\n",
      " 'Chile': 'S. America',\n",
      " 'China': 'Asia',\n",
      " 'Colombia': 'S. America',\n",
      " 'Comoros': 'Africa',\n",
      " 'Congo': 'Africa',\n",
      " 'Congo, Democratic Republic of': 'Africa',\n",
      " 'Costa Rica': 'N. America',\n",
      " 'Croatia': 'Europe',\n",
      " 'Cuba': 'N. America',\n",
      " 'Cyprus': 'Europe',\n",
      " 'Czech Republic': 'Europe',\n",
      " 'Denmark': 'Europe',\n",
      " 'Djibouti': 'Africa',\n",
      " 'Dominica': 'N. America',\n",
      " 'Dominican Republic': 'N. America',\n",
      " 'East Timor': 'Asia',\n",
      " 'Ecuador': 'S. America',\n",
      " 'Egypt': 'Africa',\n",
      " 'El Salvador': 'N. America',\n",
      " 'Equatorial Guinea': 'Africa',\n",
      " 'Eritrea': 'Africa',\n",
      " 'Estonia': 'Europe',\n",
      " 'Ethiopia': 'Africa',\n",
      " 'Fiji': 'Oceania',\n",
      " 'Finland': 'Europe',\n",
      " 'France': 'Europe',\n",
      " 'Gabon': 'Africa',\n",
      " 'Gambia': 'Africa',\n",
      " 'Georgia': 'Europe',\n",
      " 'Germany': 'Europe',\n",
      " 'Ghana': 'Africa',\n",
      " 'Greece': 'Europe',\n",
      " 'Grenada': 'N. America',\n",
      " 'Guatemala': 'N. America',\n",
      " 'Guinea': 'Africa',\n",
      " 'Guinea-Bissau': 'Africa',\n",
      " 'Guyana': 'S. America',\n",
      " 'Haiti': 'N. America',\n",
      " 'Honduras': 'N. America',\n",
      " 'Hungary': 'Europe',\n",
      " 'Iceland': 'Europe',\n",
      " 'India': 'Asia',\n",
      " 'Indonesia': 'Asia',\n",
      " 'Iran': 'Asia',\n",
      " 'Iraq': 'Asia',\n",
      " 'Ireland': 'Europe',\n",
      " 'Israel': 'Asia',\n",
      " 'Italy': 'Europe',\n",
      " 'Ivory Coast': 'Africa',\n",
      " 'Jamaica': 'N. America',\n",
      " 'Japan': 'Asia',\n",
      " 'Jordan': 'Asia',\n",
      " 'Kazakhstan': 'Asia',\n",
      " 'Kenya': 'Africa',\n",
      " 'Kiribati': 'Oceania',\n",
      " 'Korea, North': 'Asia',\n",
      " 'Korea, South': 'Asia',\n",
      " 'Kuwait': 'Asia',\n",
      " 'Kyrgyzstan': 'Asia',\n",
      " 'Laos': 'Asia',\n",
      " 'Latvia': 'Europe',\n",
      " 'Lebanon': 'Asia',\n",
      " 'Lesotho': 'Africa',\n",
      " 'Liberia': 'Africa',\n",
      " 'Libya': 'Africa',\n",
      " 'Liechtenstein': 'Europe',\n",
      " 'Lithuania': 'Europe',\n",
      " 'Luxembourg': 'Europe',\n",
      " 'Macedonia': 'Europe',\n",
      " 'Madagascar': 'Africa',\n",
      " 'Malawi': 'Africa',\n",
      " 'Malaysia': 'Asia',\n",
      " 'Maldives': 'Asia',\n",
      " 'Mali': 'Africa',\n",
      " 'Malta': 'Europe',\n",
      " 'Marshall Islands': 'Oceania',\n",
      " 'Mauritania': 'Africa',\n",
      " 'Mauritius': 'Africa',\n",
      " 'Mexico': 'N. America',\n",
      " 'Micronesia': 'Oceania',\n",
      " 'Moldova': 'Europe',\n",
      " 'Monaco': 'Europe',\n",
      " 'Mongolia': 'Asia',\n",
      " 'Montenegro': 'Europe',\n",
      " 'Morocco': 'Africa',\n",
      " 'Mozambique': 'Africa',\n",
      " 'Namibia': 'Africa',\n",
      " 'Nauru': 'Oceania',\n",
      " 'Nepal': 'Asia',\n",
      " 'Netherlands': 'Europe',\n",
      " 'New Zealand': 'Oceania',\n",
      " 'Nicaragua': 'N. America',\n",
      " 'Niger': 'Africa',\n",
      " 'Nigeria': 'Africa',\n",
      " 'Norway': 'Europe',\n",
      " 'Oman': 'Asia',\n",
      " 'Pakistan': 'Asia',\n",
      " 'Palau': 'Oceania',\n",
      " 'Panama': 'N. America',\n",
      " 'Papua New Guinea': 'Oceania',\n",
      " 'Paraguay': 'S. America',\n",
      " 'Peru': 'S. America',\n",
      " 'Philippines': 'Asia',\n",
      " 'Poland': 'Europe',\n",
      " 'Portugal': 'Europe',\n",
      " 'Qatar': 'Asia',\n",
      " 'Romania': 'Europe',\n",
      " 'Russian Federation': 'Asia',\n",
      " 'Rwanda': 'Africa',\n",
      " 'Saint Kitts and Nevis': 'N. America',\n",
      " 'Saint Lucia': 'N. America',\n",
      " 'Saint Vincent and the Grenadines': 'N. America',\n",
      " 'Samoa': 'Oceania',\n",
      " 'San Marino': 'Europe',\n",
      " 'Sao Tome and Principe': 'Africa',\n",
      " 'Saudi Arabia': 'Asia',\n",
      " 'Senegal': 'Africa',\n",
      " 'Serbia': 'Europe',\n",
      " 'Seychelles': 'Africa',\n",
      " 'Sierra Leone': 'Africa',\n",
      " 'Singapore': 'Asia',\n",
      " 'Slovakia': 'Europe',\n",
      " 'Slovenia': 'Europe',\n",
      " 'Solomon Islands': 'Oceania',\n",
      " 'Somalia': 'Africa',\n",
      " 'South Africa': 'Africa',\n",
      " 'South Sudan': 'Africa',\n",
      " 'Spain': 'Europe',\n",
      " 'Sri Lanka': 'Asia',\n",
      " 'Sudan': 'Africa',\n",
      " 'Suriname': 'S. America',\n",
      " 'Swaziland': 'Africa',\n",
      " 'Sweden': 'Europe',\n",
      " 'Switzerland': 'Europe',\n",
      " 'Syria': 'Asia',\n",
      " 'Tajikistan': 'Asia',\n",
      " 'Tanzania': 'Africa',\n",
      " 'Thailand': 'Asia',\n",
      " 'Togo': 'Africa',\n",
      " 'Tonga': 'Oceania',\n",
      " 'Trinidad and Tobago': 'N. America',\n",
      " 'Tunisia': 'Africa',\n",
      " 'Turkey': 'Asia',\n",
      " 'Turkmenistan': 'Asia',\n",
      " 'Tuvalu': 'Oceania',\n",
      " 'Uganda': 'Africa',\n",
      " 'Ukraine': 'Europe',\n",
      " 'United Arab Emirates': 'Asia',\n",
      " 'United Kingdom': 'Europe',\n",
      " 'United States': 'N. America',\n",
      " 'Uruguay': 'S. America',\n",
      " 'Uzbekistan': 'Asia',\n",
      " 'Vanuatu': 'Oceania',\n",
      " 'Vatican City': 'Europe',\n",
      " 'Venezuela': 'S. America',\n",
      " 'Vietnam': 'Asia',\n",
      " 'Yemen': 'Asia',\n",
      " 'Zambia': 'Africa',\n",
      " 'Zimbabwe': 'Africa'}\n"
     ]
    }
   ],
   "source": [
    "cont = { v.value : k.value for k, v in wb['CountriesByContinent'] }\n",
    "\n",
    "pprint(cont)  # notic the key : value pairs separated by commas"
   ]
  },
  {
   "cell_type": "markdown",
   "metadata": {},
   "source": [
    "Show for a few countries in which continent they are:"
   ]
  },
  {
   "cell_type": "code",
   "execution_count": 103,
   "metadata": {
    "collapsed": false,
    "scrolled": true
   },
   "outputs": [
    {
     "name": "stdout",
     "output_type": "stream",
     "text": [
      "Bahamas              lies in N. America\n",
      "Spain                lies in Europe\n",
      "Morocco              lies in Africa\n",
      "Honduras             lies in N. America\n",
      "Cambodia             lies in Asia\n"
     ]
    }
   ],
   "source": [
    "for c in ['Bahamas', 'Spain', 'Morocco', 'Honduras', 'Cambodia']:\n",
    "    print('{:20} lies in {}'.format(c, cont[c]))"
   ]
  },
  {
   "cell_type": "markdown",
   "metadata": {},
   "source": [
    "### Adding the field `continent` to the `cntry` dict\n",
    "\n",
    "We like to add the field `Continent` to our `cntry` dict using the `cont` dict.\n",
    "\n",
    "This would be easy if the country names in both dicts would be exactly the same.\n",
    "\n",
    "Let's see if this is the case.\n",
    "\n",
    "We can check this using set logic.\n",
    "\n",
    "Convert the keys of he `cntry` dict to a set and do the same with those of the `cont` dict\n",
    "\n",
    "First step: What countries are in th `cont` dict that are not in the `cntry` dict?"
   ]
  },
  {
   "cell_type": "code",
   "execution_count": 104,
   "metadata": {
    "collapsed": false
   },
   "outputs": [
    {
     "name": "stdout",
     "output_type": "stream",
     "text": [
      "{'Burkina',\n",
      " 'Burma (Myanmar)',\n",
      " 'Cape Verde',\n",
      " 'Congo, Democratic Republic of',\n",
      " 'East Timor',\n",
      " 'Ivory Coast',\n",
      " 'Korea, North',\n",
      " 'Korea, South',\n",
      " 'Macedonia',\n",
      " 'Russian Federation',\n",
      " 'Saint Vincent and the Grenadines',\n",
      " 'United Kingdom',\n",
      " 'United States',\n",
      " 'Vatican City',\n",
      " 'Vietnam'}\n",
      "\n",
      "15 countries are in dict `cont` that are not in dict `cntry`\n"
     ]
    }
   ],
   "source": [
    "df_cont_cntry = set(cont.keys()) - set(cntry.keys())\n",
    "pprint(df_cont_cntry)\n",
    "\n",
    "print(\"\\n{} countries are in dict `cont` that are not in dict `cntry`\".format(len(df_cont_cntry)))"
   ]
  },
  {
   "cell_type": "markdown",
   "metadata": {},
   "source": [
    "And likewise: which are in the `cntry` dict that are not in the `cont` dict?"
   ]
  },
  {
   "cell_type": "code",
   "execution_count": 105,
   "metadata": {
    "collapsed": false
   },
   "outputs": [
    {
     "name": "stdout",
     "output_type": "stream",
     "text": [
      "{'American Samoa',\n",
      " 'Anguilla',\n",
      " 'Aruba',\n",
      " 'Bermuda',\n",
      " 'British Virgin Islands',\n",
      " 'Burkina Faso',\n",
      " 'Cabo Verde',\n",
      " 'Caribbean Netherlands',\n",
      " 'Cayman Islands',\n",
      " 'Channel Islands',\n",
      " 'Cook Islands',\n",
      " 'Curaçao',\n",
      " \"Côte d'Ivoire\",\n",
      " 'DR Congo',\n",
      " 'Faeroe Islands',\n",
      " 'Falkland Islands',\n",
      " 'French Guiana',\n",
      " 'French Polynesia',\n",
      " 'Gibraltar',\n",
      " 'Greenland',\n",
      " 'Guadeloupe',\n",
      " 'Guam',\n",
      " 'Holy See',\n",
      " 'Hong Kong',\n",
      " 'Isle of Man',\n",
      " 'Macao',\n",
      " 'Martinique',\n",
      " 'Mayotte',\n",
      " 'Montserrat',\n",
      " 'Myanmar',\n",
      " 'New Caledonia',\n",
      " 'Niue',\n",
      " 'North Korea',\n",
      " 'Northern Mariana Islands',\n",
      " 'Puerto Rico',\n",
      " 'Russia',\n",
      " 'Réunion',\n",
      " 'Saint Helena',\n",
      " 'Saint Pierre and Miquelon',\n",
      " 'Sint Maarten',\n",
      " 'South Korea',\n",
      " 'St. Vincent & Grenadines',\n",
      " 'State of Palestine',\n",
      " 'TFYR Macedonia',\n",
      " 'Taiwan',\n",
      " 'Timor-Leste',\n",
      " 'Tokelau',\n",
      " 'Turks and Caicos Islands',\n",
      " 'U.K.',\n",
      " 'U.S.',\n",
      " 'United States Virgin Islands',\n",
      " 'Viet Nam',\n",
      " 'Wallis and Futuna',\n",
      " 'Western Sahara'}\n",
      "\n",
      "54 countries are in dict `cntry` that are not in dict `cont`\n"
     ]
    }
   ],
   "source": [
    "df_cntry_cont = set(cntry.keys()) - set(cont.keys())\n",
    "pprint(df_cntry_cont)\n",
    "\n",
    "print(\"\\n{} countries are in dict `cntry` that are not in dict `cont`\".format(len(df_cntry_cont)))"
   ]
  },
  {
   "cell_type": "markdown",
   "metadata": {},
   "source": [
    "The set of contries that are in `cont` but not in `cntry` obviously have differently spelled names.\n",
    "Probably the easiest way is to take the names from `cntry` that are not in `cont` and look up the continent in which each of these contries lies, and use that to supplement the missing countries. We don't then have to worry about the misspelled names."
   ]
  },
  {
   "cell_type": "markdown",
   "metadata": {},
   "source": [
    "### Using a list of missing names with their continent to complete the `cntry` dict\n",
    "\n",
    "This list of missing contries with their continent is in sheet `missed` of our workbook."
   ]
  },
  {
   "cell_type": "code",
   "execution_count": 106,
   "metadata": {
    "collapsed": false
   },
   "outputs": [
    {
     "name": "stdout",
     "output_type": "stream",
     "text": [
      "{None: None,\n",
      " 'American Samoa': 'N. America',\n",
      " 'Anguilla': 'N. America',\n",
      " 'Aruba': 'S. America',\n",
      " 'Bermuda': 'S. America',\n",
      " 'British Virgin Islands': 'N. America',\n",
      " 'Burkina Faso': 'Africa',\n",
      " 'Cabo Verde': 'Africa',\n",
      " 'Caribbean Netherlands': 'N. America',\n",
      " 'Cayman Islands': 'N. America',\n",
      " 'Channel Islands': 'Europe',\n",
      " 'Cook Islands': 'Oceania',\n",
      " 'Curaçao': 'S. America',\n",
      " \"Côte d'Ivoire\": 'Africa',\n",
      " 'DR Congo': 'Africa',\n",
      " 'Faeroe Islands': 'Europe',\n",
      " 'Falkland Islands': 'S. America',\n",
      " 'French Guiana': 'S. America',\n",
      " 'French Polynesia': 'Oceania',\n",
      " 'Gibraltar': 'Europe',\n",
      " 'Greenland': 'N. America',\n",
      " 'Guadeloupe': 'N. America',\n",
      " 'Guam': 'Oceania',\n",
      " 'Holy See': 'Africa',\n",
      " 'Hong Kong': 'Africa',\n",
      " 'Isle of Man': 'Europe',\n",
      " 'Macao': 'Asia',\n",
      " 'Martinique': 'S. America',\n",
      " 'Mayotte': 'Africa',\n",
      " 'Montserrat': 'N. America',\n",
      " 'Myanmar': 'Asia',\n",
      " 'New Caledonia': 'Oceania',\n",
      " 'Niue': 'Oceania',\n",
      " 'North Korea': 'Asia',\n",
      " 'Northern Mariana Islands': 'Oceania',\n",
      " 'Puerto Rico': 'N. America',\n",
      " 'Russia': 'Europe',\n",
      " 'Réunion': 'Oceania',\n",
      " 'Saint Helena': 'Africa',\n",
      " 'Saint Pierre and Miquelon': 'N. America',\n",
      " 'Sint Maarten': 'S. America',\n",
      " 'South Korea': 'Africa',\n",
      " 'St. Vincent & Grenadines': 'S. America',\n",
      " 'State of Palestine': 'Asia',\n",
      " 'TFYR Macedonia': 'Europe',\n",
      " 'Taiwan': 'Asia',\n",
      " 'Timor-Leste': 'Asia',\n",
      " 'Tokelau': 'Oceania',\n",
      " 'Turks and Caicos Islands': 'N. America',\n",
      " 'U.K.': 'Europe',\n",
      " 'U.S.': 'N. America',\n",
      " 'United States Virgin Islands': 'N. America',\n",
      " 'Viet Nam': 'Asia',\n",
      " 'Wallis and Futuna': 'Oceania',\n",
      " 'Western Sahara': 'Africa'}\n"
     ]
    }
   ],
   "source": [
    "# notice that the columsns in this excel sheet are in columns 2 and 3 and not in 1 and 2 !!\n",
    "# We construct the dict in one line, using a single dict comprehension\n",
    "\n",
    "missing = {rw[2].value : rw[1].value for rw in wb['missing']}  # don't need .rows\n",
    "\n",
    "pprint(missing)"
   ]
  },
  {
   "cell_type": "markdown",
   "metadata": {},
   "source": [
    "Now we can complete our cntry dict with a `Continent` attribute for every country in it by using the dict `cont` and the dict `missing`.\n",
    "\n",
    "Let's just join them, like so:"
   ]
  },
  {
   "cell_type": "code",
   "execution_count": 107,
   "metadata": {
    "collapsed": false
   },
   "outputs": [],
   "source": [
    "for k in missing.keys():\n",
    "    cont[k] = missing[k]"
   ]
  },
  {
   "cell_type": "markdown",
   "metadata": {},
   "source": [
    "And then add the continent to the `cntry` dict"
   ]
  },
  {
   "cell_type": "code",
   "execution_count": 108,
   "metadata": {
    "collapsed": true
   },
   "outputs": [],
   "source": [
    "for k in cntry.keys():\n",
    "    cntry[k]['Continent'] = cont[k]"
   ]
  },
  {
   "cell_type": "markdown",
   "metadata": {},
   "source": [
    "Now we can print the country name with its continent next to it:"
   ]
  },
  {
   "cell_type": "code",
   "execution_count": 109,
   "metadata": {
    "collapsed": false
   },
   "outputs": [
    {
     "name": "stdout",
     "output_type": "stream",
     "text": [
      "Timor-Leste                    lies in Asia\n",
      "Solomon Islands                lies in Oceania\n",
      "Liechtenstein                  lies in Europe\n",
      "Swaziland                      lies in Africa\n",
      "Macao                          lies in Asia\n",
      "Angola                         lies in Africa\n",
      "Turks and Caicos Islands       lies in N. America\n",
      "Sudan                          lies in Africa\n",
      "Falkland Islands               lies in S. America\n",
      "Saint Kitts and Nevis          lies in N. America\n",
      "Uganda                         lies in Africa\n",
      "Laos                           lies in Asia\n",
      "Cambodia                       lies in Asia\n",
      "Mauritania                     lies in Africa\n",
      "Belgium                        lies in Europe\n",
      "Canada                         lies in N. America\n",
      "Wallis and Futuna              lies in Oceania\n",
      "Guam                           lies in Oceania\n",
      "Curaçao                        lies in S. America\n",
      "Azerbaijan                     lies in Europe\n",
      "Singapore                      lies in Asia\n",
      "Niger                          lies in Africa\n",
      "Somalia                        lies in Africa\n",
      "Philippines                    lies in Asia\n",
      "Guyana                         lies in S. America\n",
      "Ukraine                        lies in Europe\n",
      "Northern Mariana Islands       lies in Oceania\n",
      "Anguilla                       lies in N. America\n",
      "Bhutan                         lies in Asia\n",
      "Maldives                       lies in Asia\n",
      "Panama                         lies in N. America\n",
      "St. Vincent & Grenadines       lies in S. America\n",
      "Equatorial Guinea              lies in Africa\n",
      "Haiti                          lies in N. America\n",
      "Andorra                        lies in Europe\n",
      "Togo                           lies in Africa\n",
      "U.K.                           lies in Europe\n",
      "Qatar                          lies in Asia\n",
      "Bangladesh                     lies in Asia\n",
      "Costa Rica                     lies in N. America\n",
      "Isle of Man                    lies in Europe\n",
      "Sierra Leone                   lies in Africa\n",
      "Ethiopia                       lies in Africa\n",
      "Viet Nam                       lies in Asia\n",
      "Seychelles                     lies in Africa\n",
      "Croatia                        lies in Europe\n",
      "Comoros                        lies in Africa\n",
      "Puerto Rico                    lies in N. America\n",
      "Uruguay                        lies in S. America\n",
      "North Korea                    lies in Asia\n",
      "American Samoa                 lies in N. America\n",
      "Antigua and Barbuda            lies in N. America\n",
      "Belize                         lies in N. America\n",
      "Vanuatu                        lies in Oceania\n",
      "Aruba                          lies in S. America\n",
      "Chile                          lies in S. America\n",
      "Saint Pierre and Miquelon      lies in N. America\n",
      "Tonga                          lies in Oceania\n",
      "Japan                          lies in Asia\n",
      "Lithuania                      lies in Europe\n",
      "Barbados                       lies in N. America\n",
      "Kazakhstan                     lies in Asia\n",
      "Guadeloupe                     lies in N. America\n",
      "El Salvador                    lies in N. America\n",
      "Ireland                        lies in Europe\n",
      "Kenya                          lies in Africa\n",
      "Afghanistan                    lies in Asia\n",
      "Argentina                      lies in S. America\n",
      "Brazil                         lies in S. America\n",
      "Paraguay                       lies in S. America\n",
      "Russia                         lies in Europe\n",
      "Iran                           lies in Asia\n",
      "Yemen                          lies in Asia\n",
      "Congo                          lies in Africa\n",
      "Malaysia                       lies in Asia\n",
      "Eritrea                        lies in Africa\n",
      "Denmark                        lies in Europe\n",
      "Channel Islands                lies in Europe\n",
      "Trinidad and Tobago            lies in N. America\n",
      "Georgia                        lies in Europe\n",
      "India                          lies in Asia\n",
      "Liberia                        lies in Africa\n",
      "Mozambique                     lies in Africa\n",
      "Saudi Arabia                   lies in Asia\n",
      "Ghana                          lies in Africa\n",
      "Ecuador                        lies in S. America\n",
      "Egypt                          lies in Africa\n",
      "Hong Kong                      lies in Africa\n",
      "Gambia                         lies in Africa\n",
      "San Marino                     lies in Europe\n",
      "Micronesia                     lies in Oceania\n",
      "Chad                           lies in Africa\n",
      "Dominica                       lies in N. America\n",
      "Tokelau                        lies in Oceania\n",
      "Monaco                         lies in Europe\n",
      "Algeria                        lies in Africa\n",
      "Central African Republic       lies in Africa\n",
      "Slovakia                       lies in Europe\n",
      "Thailand                       lies in Asia\n",
      "Hungary                        lies in Europe\n",
      "Zambia                         lies in Africa\n",
      "Armenia                        lies in Europe\n",
      "Guatemala                      lies in N. America\n",
      "Nigeria                        lies in Africa\n",
      "Cook Islands                   lies in Oceania\n",
      "Caribbean Netherlands          lies in N. America\n",
      "Iraq                           lies in Asia\n",
      "Suriname                       lies in S. America\n",
      "Sri Lanka                      lies in Asia\n",
      "Peru                           lies in S. America\n",
      "Libya                          lies in Africa\n",
      "Tanzania                       lies in Africa\n",
      "Switzerland                    lies in Europe\n",
      "Mongolia                       lies in Asia\n",
      "Bulgaria                       lies in Europe\n",
      "Bahamas                        lies in N. America\n",
      "Benin                          lies in Africa\n",
      "Spain                          lies in Europe\n",
      "Albania                        lies in Europe\n",
      "Montenegro                     lies in Europe\n",
      "Djibouti                       lies in Africa\n",
      "Samoa                          lies in Oceania\n",
      "Lesotho                        lies in Africa\n",
      "DR Congo                       lies in Africa\n",
      "Finland                        lies in Europe\n",
      "Sweden                         lies in Europe\n",
      "Uzbekistan                     lies in Asia\n",
      "Mayotte                        lies in Africa\n",
      "Guinea                         lies in Africa\n",
      "Netherlands                    lies in Europe\n",
      "Bermuda                        lies in S. America\n",
      "Bahrain                        lies in Asia\n",
      "Moldova                        lies in Europe\n",
      "Cameroon                       lies in Africa\n",
      "Lebanon                        lies in Asia\n",
      "Romania                        lies in Europe\n",
      "Venezuela                      lies in S. America\n",
      "South Sudan                    lies in Africa\n",
      "TFYR Macedonia                 lies in Europe\n",
      "Côte d'Ivoire                  lies in Africa\n",
      "Israel                         lies in Asia\n",
      "Namibia                        lies in Africa\n",
      "China                          lies in Asia\n",
      "Cyprus                         lies in Europe\n",
      "South Africa                   lies in Africa\n",
      "Nepal                          lies in Asia\n",
      "Mali                           lies in Africa\n",
      "State of Palestine             lies in Asia\n",
      "Norway                         lies in Europe\n",
      "Kiribati                       lies in Oceania\n",
      "Botswana                       lies in Africa\n",
      "Saint Lucia                    lies in N. America\n",
      "Tunisia                        lies in Africa\n",
      "Nauru                          lies in Oceania\n",
      "Australia                      lies in Oceania\n",
      "Burkina Faso                   lies in Africa\n",
      "Cabo Verde                     lies in Africa\n",
      "Portugal                       lies in Europe\n",
      "Fiji                           lies in Oceania\n",
      "Serbia                         lies in Europe\n",
      "Western Sahara                 lies in Africa\n",
      "Latvia                         lies in Europe\n",
      "Burundi                        lies in Africa\n",
      "Saint Helena                   lies in Africa\n",
      "Slovenia                       lies in Europe\n",
      "Cayman Islands                 lies in N. America\n",
      "Sint Maarten                   lies in S. America\n",
      "Colombia                       lies in S. America\n",
      "Kuwait                         lies in Asia\n",
      "Jordan                         lies in Asia\n",
      "French Guiana                  lies in S. America\n",
      "Madagascar                     lies in Africa\n",
      "Niue                           lies in Oceania\n",
      "Grenada                        lies in N. America\n",
      "Marshall Islands               lies in Oceania\n",
      "Italy                          lies in Europe\n",
      "Faeroe Islands                 lies in Europe\n",
      "Taiwan                         lies in Asia\n",
      "Martinique                     lies in S. America\n",
      "New Zealand                    lies in Oceania\n",
      "Austria                        lies in Europe\n",
      "Senegal                        lies in Africa\n",
      "Gibraltar                      lies in Europe\n",
      "Guinea-Bissau                  lies in Africa\n",
      "Tuvalu                         lies in Oceania\n",
      "New Caledonia                  lies in Oceania\n",
      "French Polynesia               lies in Oceania\n",
      "Poland                         lies in Europe\n",
      "Pakistan                       lies in Asia\n",
      "U.S.                           lies in N. America\n",
      "Kyrgyzstan                     lies in Asia\n",
      "Gabon                          lies in Africa\n",
      "British Virgin Islands         lies in N. America\n",
      "Bosnia and Herzegovina         lies in Europe\n",
      "Malta                          lies in Europe\n",
      "Papua New Guinea               lies in Oceania\n",
      "Jamaica                        lies in N. America\n",
      "Estonia                        lies in Europe\n",
      "Mauritius                      lies in Africa\n",
      "Rwanda                         lies in Africa\n",
      "Oman                           lies in Asia\n",
      "Greece                         lies in Europe\n",
      "United States Virgin Islands   lies in N. America\n",
      "Bolivia                        lies in S. America\n",
      "Sao Tome and Principe          lies in Africa\n",
      "South Korea                    lies in Africa\n",
      "France                         lies in Europe\n",
      "Holy See                       lies in Africa\n",
      "United Arab Emirates           lies in Asia\n",
      "Brunei                         lies in Asia\n",
      "Turkmenistan                   lies in Asia\n",
      "Indonesia                      lies in Asia\n",
      "Myanmar                        lies in Asia\n",
      "Réunion                        lies in Oceania\n",
      "Iceland                        lies in Europe\n",
      "Mexico                         lies in N. America\n",
      "Syria                          lies in Asia\n",
      "Zimbabwe                       lies in Africa\n",
      "Palau                          lies in Oceania\n",
      "Montserrat                     lies in N. America\n",
      "Tajikistan                     lies in Asia\n",
      "Dominican Republic             lies in N. America\n",
      "Luxembourg                     lies in Europe\n",
      "Honduras                       lies in N. America\n",
      "Greenland                      lies in N. America\n",
      "Germany                        lies in Europe\n",
      "Morocco                        lies in Africa\n",
      "Cuba                           lies in N. America\n",
      "Malawi                         lies in Africa\n",
      "Czech Republic                 lies in Europe\n",
      "Belarus                        lies in Europe\n",
      "Turkey                         lies in Asia\n",
      "Nicaragua                      lies in N. America\n"
     ]
    }
   ],
   "source": [
    "for k in cntry.keys():\n",
    "    print(\"{:30} lies in {}\".format(k, cntry[k]['Continent']))"
   ]
  },
  {
   "cell_type": "markdown",
   "metadata": {},
   "source": [
    "## Population growth per continent\n",
    "\n",
    "It is now possible to compute and show the population and its growth per continent"
   ]
  },
  {
   "cell_type": "markdown",
   "metadata": {},
   "source": [
    "The first step is extract the continents from the dict using set logic, i.e. by set comprehension. The result is a set with the unique values from the `Continent` field."
   ]
  },
  {
   "cell_type": "code",
   "execution_count": 110,
   "metadata": {
    "collapsed": false
   },
   "outputs": [
    {
     "name": "stdout",
     "output_type": "stream",
     "text": [
      "{'Asia', 'Africa', 'Oceania', 'Europe', 'S. America', 'N. America'}\n"
     ]
    }
   ],
   "source": [
    "continents = { cntry[k]['Continent'] for k in cntry.keys()} # set comprehension\n",
    "\n",
    "print(continents)"
   ]
  },
  {
   "cell_type": "markdown",
   "metadata": {},
   "source": [
    "It's then possible to compute the future population be selecting the countries for this continent to do the computation on:"
   ]
  },
  {
   "cell_type": "code",
   "execution_count": 111,
   "metadata": {
    "collapsed": false
   },
   "outputs": [
    {
     "name": "stdout",
     "output_type": "stream",
     "text": [
      "The number of countries in Europe is 51\n"
     ]
    }
   ],
   "source": [
    "continent='Europe'\n",
    "\n",
    "# population and fertility rate for the countries of this continent:\n",
    "popCont =  [(cntry[k]['Population-2017'], cntry[k]['Fert.Rate']) for k in cntry.keys() if cntry[k]['Continent']==continent]\n",
    "\n",
    "print(\"The number of countries in {} is {}\".format(continent, len(popCont)))"
   ]
  },
  {
   "cell_type": "markdown",
   "metadata": {},
   "source": [
    "The last but one step is to compute the population for the coming years in each continent. We make a dictionary `pTot` with the continent as key and which has the list of future population values as a list:"
   ]
  },
  {
   "cell_type": "code",
   "execution_count": 112,
   "metadata": {
    "collapsed": false
   },
   "outputs": [
    {
     "name": "stdout",
     "output_type": "stream",
     "text": [
      "The predicted population inover the next 50 years is:\n",
      "Asia        4.50  4.60  4.70  4.81  4.91  5.02  5.14  5.25  5.37  5.49  5.62  5.74  5.87  6.01  6.15  6.29  6.43  6.58  6.73  6.89  7.05  7.21  7.38  7.55  7.73  7.91  8.10  8.29  8.48  8.69  8.89  9.10  9.32  9.55  9.78 10.01 10.26 10.50 10.76 11.02 11.29 11.57 11.86 12.15 12.45 12.76 13.08 13.41 13.74 14.09\n",
      "Africa      1.36  1.43  1.50  1.57  1.64  1.72  1.80  1.89  1.98  2.07  2.17  2.28  2.39  2.51  2.63  2.76  2.90  3.04  3.19  3.35  3.52  3.70  3.88  4.08  4.28  4.50  4.73  4.97  5.23  5.50  5.78  6.08  6.39  6.72  7.07  7.44  7.83  8.24  8.68  9.13  9.62 10.12 10.66 11.23 11.83 12.46 13.13 13.83 14.57 15.36\n",
      "Oceania     0.04  0.04  0.04  0.05  0.05  0.05  0.05  0.05  0.05  0.05  0.05  0.05  0.06  0.06  0.06  0.06  0.06  0.06  0.07  0.07  0.07  0.07  0.07  0.07  0.08  0.08  0.08  0.08  0.08  0.09  0.09  0.09  0.09  0.10  0.10  0.10  0.10  0.11  0.11  0.11  0.11  0.12  0.12  0.12  0.13  0.13  0.13  0.14  0.14  0.15\n",
      "Europe      0.77  0.78  0.79  0.81  0.82  0.83  0.85  0.86  0.87  0.89  0.90  0.92  0.93  0.95  0.96  0.98  0.99  1.01  1.03  1.04  1.06  1.08  1.09  1.11  1.13  1.15  1.17  1.18  1.20  1.22  1.24  1.26  1.28  1.30  1.33  1.35  1.37  1.39  1.41  1.44  1.46  1.48  1.51  1.53  1.56  1.58  1.61  1.63  1.66  1.69\n",
      "S. America  0.44  0.45  0.45  0.46  0.47  0.48  0.49  0.50  0.51  0.52  0.54  0.55  0.56  0.57  0.58  0.59  0.61  0.62  0.63  0.64  0.66  0.67  0.68  0.70  0.71  0.73  0.74  0.76  0.78  0.79  0.81  0.82  0.84  0.86  0.88  0.90  0.92  0.93  0.95  0.97  0.99  1.02  1.04  1.06  1.08  1.10  1.13  1.15  1.18  1.20\n",
      "N. America  0.59  0.61  0.62  0.63  0.65  0.66  0.67  0.69  0.70  0.71  0.73  0.74  0.76  0.78  0.79  0.81  0.82  0.84  0.86  0.88  0.90  0.91  0.93  0.95  0.97  0.99  1.01  1.03  1.06  1.08  1.10  1.12  1.15  1.17  1.20  1.22  1.25  1.27  1.30  1.33  1.35  1.38  1.41  1.44  1.47  1.50  1.53  1.57  1.60  1.63\n"
     ]
    }
   ],
   "source": [
    "pTot = dict()  # empty dict\n",
    "Nyr = 50  # year to predict\n",
    "print(\"The predicted population inover the next {} years is:\".format(Nyr))\n",
    "\n",
    "for c in continents:\n",
    "    pTot[c] = [0 for i in range(Nyr)] # start with empty total for each continent\n",
    "    \n",
    "    # generate a list of [Pop, fertility rate] for each country in this continent\n",
    "    popCont =  [(cntry[k]['Population-2017'], cntry[k]['Fert.Rate'])\n",
    "                            for k in cntry.keys() if cntry[k]['Continent'] == c]\n",
    "\n",
    "    # compute the country's future population and add to continentn total\n",
    "    for p, fr in popCont:\n",
    "        try:\n",
    "            p  = float(p)\n",
    "            fr = float(fr)\n",
    "            # population of country in coming years\n",
    "            pcntry = [p * (1 + fr/100.)**i for i in range(1, Nyr + 1)]\n",
    "            \n",
    "            # add to continent total\n",
    "            pTot[c]= [pt + p for pt, p in zip(pTot[c], pcntry)]        \n",
    "        except:\n",
    "            # it crashes when fertility rate is 'None', we ignore these frew contries\n",
    "            pass\n",
    "        \n",
    "    print(\"{:10s}\".format(c), end=\"\")  # print continent\n",
    "    for p in pTot[c]:\n",
    "           print(\"{:6.2f}\".format(p / 1.0e9), end=\"\") # print Pop values\n",
    "    print()"
   ]
  },
  {
   "cell_type": "markdown",
   "metadata": {},
   "source": [
    "A better overview of the results would be to have columns, one per continent, and the numbers vertical, with the year as first column. Although the numbers are now not naturally ordered to do this, it can be realized with little effort as follows:"
   ]
  },
  {
   "cell_type": "code",
   "execution_count": 113,
   "metadata": {
    "collapsed": false
   },
   "outputs": [
    {
     "name": "stdout",
     "output_type": "stream",
     "text": [
      "The predicted population in billions:\n",
      "Year      Europe  S. America        Asia  N. America      Africa     Oceania\n",
      "2018        0.77        0.44        4.50        0.59        1.36        0.04\n",
      "2019        0.78        0.45        4.60        0.61        1.43        0.04\n",
      "2020        0.79        0.45        4.70        0.62        1.50        0.04\n",
      "2021        0.81        0.46        4.81        0.63        1.57        0.05\n",
      "2022        0.82        0.47        4.91        0.65        1.64        0.05\n",
      "2023        0.83        0.48        5.02        0.66        1.72        0.05\n",
      "2024        0.85        0.49        5.14        0.67        1.80        0.05\n",
      "2025        0.86        0.50        5.25        0.69        1.89        0.05\n",
      "2026        0.87        0.51        5.37        0.70        1.98        0.05\n",
      "2027        0.89        0.52        5.49        0.71        2.07        0.05\n",
      "2028        0.90        0.54        5.62        0.73        2.17        0.05\n",
      "2029        0.92        0.55        5.74        0.74        2.28        0.05\n",
      "2030        0.93        0.56        5.87        0.76        2.39        0.06\n",
      "2031        0.95        0.57        6.01        0.78        2.51        0.06\n",
      "2032        0.96        0.58        6.15        0.79        2.63        0.06\n",
      "2033        0.98        0.59        6.29        0.81        2.76        0.06\n",
      "2034        0.99        0.61        6.43        0.82        2.90        0.06\n",
      "2035        1.01        0.62        6.58        0.84        3.04        0.06\n",
      "2036        1.03        0.63        6.73        0.86        3.19        0.07\n",
      "2037        1.04        0.64        6.89        0.88        3.35        0.07\n",
      "2038        1.06        0.66        7.05        0.90        3.52        0.07\n",
      "2039        1.08        0.67        7.21        0.91        3.70        0.07\n",
      "2040        1.09        0.68        7.38        0.93        3.88        0.07\n",
      "2041        1.11        0.70        7.55        0.95        4.08        0.07\n",
      "2042        1.13        0.71        7.73        0.97        4.28        0.08\n",
      "2043        1.15        0.73        7.91        0.99        4.50        0.08\n",
      "2044        1.17        0.74        8.10        1.01        4.73        0.08\n",
      "2045        1.18        0.76        8.29        1.03        4.97        0.08\n",
      "2046        1.20        0.78        8.48        1.06        5.23        0.08\n",
      "2047        1.22        0.79        8.69        1.08        5.50        0.09\n",
      "2048        1.24        0.81        8.89        1.10        5.78        0.09\n",
      "2049        1.26        0.82        9.10        1.12        6.08        0.09\n",
      "2050        1.28        0.84        9.32        1.15        6.39        0.09\n",
      "2051        1.30        0.86        9.55        1.17        6.72        0.10\n",
      "2052        1.33        0.88        9.78        1.20        7.07        0.10\n",
      "2053        1.35        0.90       10.01        1.22        7.44        0.10\n",
      "2054        1.37        0.92       10.26        1.25        7.83        0.10\n",
      "2055        1.39        0.93       10.50        1.27        8.24        0.11\n",
      "2056        1.41        0.95       10.76        1.30        8.68        0.11\n",
      "2057        1.44        0.97       11.02        1.33        9.13        0.11\n",
      "2058        1.46        0.99       11.29        1.35        9.62        0.11\n",
      "2059        1.48        1.02       11.57        1.38       10.12        0.12\n",
      "2060        1.51        1.04       11.86        1.41       10.66        0.12\n",
      "2061        1.53        1.06       12.15        1.44       11.23        0.12\n",
      "2062        1.56        1.08       12.45        1.47       11.83        0.13\n",
      "2063        1.58        1.10       12.76        1.50       12.46        0.13\n",
      "2064        1.61        1.13       13.08        1.53       13.13        0.13\n",
      "2065        1.63        1.15       13.41        1.57       13.83        0.14\n",
      "2066        1.66        1.18       13.74        1.60       14.57        0.14\n",
      "2067        1.69        1.20       14.09        1.63       15.36        0.15\n"
     ]
    }
   ],
   "source": [
    "print(\"The predicted population in billions:\")\n",
    "\n",
    "continents = pTot.keys()\n",
    "\n",
    "styear = 2018 # starting year\n",
    "print(\"{:4s}\".format(\"Year\"), end=\"\")\n",
    "for c in continents:\n",
    "    print(\"{:>12}\".format(c), end=\"\")\n",
    "\n",
    "print()\n",
    "for i in range(Nyr):\n",
    "    print(\"{:4d}\".format(styear + i), end=\"\")\n",
    "    for c in continents:\n",
    "        print(\"{:12.2f}\".format(pTot[c][i]/1e9), end=\"\")\n",
    "    print()\n",
    "        "
   ]
  },
  {
   "cell_type": "markdown",
   "metadata": {},
   "source": [
    "Finally, make a plot of the growth curves:"
   ]
  },
  {
   "cell_type": "code",
   "execution_count": 114,
   "metadata": {
    "collapsed": false
   },
   "outputs": [
    {
     "data": {
      "image/png": "[encoded data removed]",
      "text/plain": [
       "<matplotlib.figure.Figure at 0x1091aac88>"
      ]
     },
     "metadata": {},
     "output_type": "display_data"
    }
   ],
   "source": [
    "years = [2018 + i for i in range(Nyr)]\n",
    "for c in continents:\n",
    "    plt.plot(years, pTot[c], label=c)\n",
    "plt.xlabel('year')\n",
    "plt.ylabel('Population [billions]')\n",
    "plt.title('Population development')\n",
    "plt.legend(loc='best', fontsize='x-small')\n",
    "plt.show()"
   ]
  },
  {
   "cell_type": "code",
   "execution_count": 116,
   "metadata": {
    "collapsed": true
   },
   "outputs": [],
   "source": [
    "#plt.pie?"
   ]
  },
  {
   "cell_type": "markdown",
   "metadata": {},
   "source": [
    "We can also put the year results in a dict that has as key the year and as values a dict with the continents.\n"
   ]
  },
  {
   "cell_type": "code",
   "execution_count": 117,
   "metadata": {
    "collapsed": false
   },
   "outputs": [
    {
     "name": "stdout",
     "output_type": "stream",
     "text": [
      "{'Africa': 1887126768.7242863,\n",
      " 'Asia': 5251901043.984403,\n",
      " 'Europe': 859888151.1738987,\n",
      " 'N. America': 686011271.3401413,\n",
      " 'Oceania': 49759904.37036097,\n",
      " 'S. America': 503160315.91965014}\n"
     ]
    }
   ],
   "source": [
    "contPop = dict()\n",
    "for yr in range(Nyr):\n",
    "    contPop[2018 + yr] = { c : v for c, v in zip(continents, [pTot[c][yr] for c in continents])}\n",
    "\n",
    "# show it\n",
    "pprint(contPop[2025])"
   ]
  },
  {
   "cell_type": "markdown",
   "metadata": {},
   "source": [
    "Then finally we could make pie charts for the population at say 4 points in time."
   ]
  },
  {
   "cell_type": "code",
   "execution_count": 118,
   "metadata": {
    "collapsed": false
   },
   "outputs": [
    {
     "data": {
      "image/png": "[encoded data removed]",
      "text/plain": [
       "<matplotlib.figure.Figure at 0x109481a90>"
      ]
     },
     "metadata": {},
     "output_type": "display_data"
    }
   ],
   "source": [
    "import numpy as np\n",
    "\n",
    "fig, axs = plt.subplots(2,2, sharex=True, sharey=True)\n",
    "axs = axs.ravel()\n",
    "\n",
    "for ax, yr in zip(axs.ravel(), [2020, 2030, 2040,2050]):\n",
    "    ax.set_title(str(yr))  \n",
    "    x = np.array(list(contPop[yr].values()))/1.0e9\n",
    "    y = list(contPop[yr].keys())\n",
    "    #print(x)\n",
    "    #print(y)\n",
    "    r = np.sqrt(np.sum(x))/4\n",
    "    ax.xlim = []\n",
    "    ax.pie(x, labels=y, radius=r)\n",
    "plt.show()"
   ]
  },
  {
   "cell_type": "code",
   "execution_count": null,
   "metadata": {
    "collapsed": true
   },
   "outputs": [],
   "source": []
  }
 ],
 "metadata": {
  "anaconda-cloud": {},
  "kernelspec": {
   "display_name": "Python [default]",
   "language": "python",
   "name": "python3"
  },
  "language_info": {
   "codemirror_mode": {
    "name": "ipython",
    "version": 3
   },
   "file_extension": ".py",
   "mimetype": "text/x-python",
   "name": "python",
   "nbconvert_exporter": "python",
   "pygments_lexer": "ipython3",
   "version": "3.5.2"
  }
 },
 "nbformat": 4,
 "nbformat_minor": 1
}
