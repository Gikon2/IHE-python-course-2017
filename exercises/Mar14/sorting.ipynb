{
 "cells": [
  {
   "cell_type": "markdown",
   "metadata": {},
   "source": [
    "<figure>\n",
    "  <IMG SRC=\"../../logo/logo.png\" WIDTH=250 ALIGN=\"right\">\n",
    "</figure>\n",
    "\n",
    "# IHE Python course, 2017\n",
    "\n",
    "## Sorting\n",
    "\n",
    "T.N.Olsthoorn, Feb2017\n",
    "\n",
    "\n",
    "\n",
    "Sorting (and) filtering are important operations when working with data and databases. This tutorial demonstrates some of the concepts.\n",
    "\n",
    "The first concept is about `in place` soring versus sorting whereby a new object is generated.\n",
    "\n",
    "In place sorting does not genrate a new object, hence, no new object is obtained. This is what happens when sorting a list with its methods .sort()"
   ]
  },
  {
   "cell_type": "code",
   "execution_count": 12,
   "metadata": {
    "collapsed": true
   },
   "outputs": [],
   "source": [
    "import numpy as np\n",
    "from numpy import random"
   ]
  },
  {
   "cell_type": "code",
   "execution_count": 16,
   "metadata": {
    "collapsed": false
   },
   "outputs": [
    {
     "name": "stdout",
     "output_type": "stream",
     "text": [
      "<class 'numpy.ndarray'>\n",
      "[7 6 4 2 6 3 8 0 2 4 1 4 9 7 0]\n"
     ]
    }
   ],
   "source": [
    "myArray = np.random.randint(10, size=15)\n",
    "print(type(myArray))\n",
    "print(myArray)"
   ]
  },
  {
   "cell_type": "markdown",
   "metadata": {},
   "source": [
    "By the way, one recognizes an array by the lack of commas between the elements. In a list, these elements are separated by commas. To show this cast the myArray into a list using the `list()` function:"
   ]
  },
  {
   "cell_type": "code",
   "execution_count": 18,
   "metadata": {
    "collapsed": false
   },
   "outputs": [
    {
     "name": "stdout",
     "output_type": "stream",
     "text": [
      "<class 'list'>\n",
      "[7, 6, 4, 2, 6, 3, 8, 0, 2, 4, 1, 4, 9, 7, 0]    <---- elements separated by commas !\n"
     ]
    }
   ],
   "source": [
    "myList = list(myArray)\n",
    "print(type(myList))\n",
    "print(myList, \"   <---- elements separated by commas !\")"
   ]
  },
  {
   "cell_type": "markdown",
   "metadata": {},
   "source": [
    "Ok, let's sort the array using its metod `sort()` (hence `.sort()`):"
   ]
  },
  {
   "cell_type": "code",
   "execution_count": 15,
   "metadata": {
    "collapsed": false
   },
   "outputs": [
    {
     "name": "stdout",
     "output_type": "stream",
     "text": [
      "None\n",
      "[0 1 1 3 3 4 5 6 6 6 6 8 8 8 9]\n"
     ]
    }
   ],
   "source": [
    "newArray =  myArray.sort()\n",
    "print(newArray)\n",
    "print(myArray)"
   ]
  },
  {
   "cell_type": "markdown",
   "metadata": {},
   "source": [
    "As can be seen newList is None, hence myList.sort() does not generate a list byt the None object.\n",
    "\n",
    "On the other hand, myList has been sorted, as is shown by print(myList). Obviously, newList is sorted in place."
   ]
  },
  {
   "cell_type": "markdown",
   "metadata": {},
   "source": [
    "In place sorting works the same for lists."
   ]
  },
  {
   "cell_type": "code",
   "execution_count": 20,
   "metadata": {
    "collapsed": false
   },
   "outputs": [
    {
     "name": "stdout",
     "output_type": "stream",
     "text": [
      "[7, 6, 4, 2, 6, 3, 8, 0, 2, 4, 1, 4, 9, 7, 0]\n",
      "None\n",
      "[0, 0, 1, 2, 2, 3, 4, 4, 4, 6, 6, 7, 7, 8, 9]\n"
     ]
    }
   ],
   "source": [
    "print(myList)\n",
    "newList = myList.sort()\n",
    "print(newList)\n",
    "print(myList)"
   ]
  },
  {
   "cell_type": "markdown",
   "metadata": {},
   "source": [
    "This shows, that the sort method does not generate a new list, but, on the contrary, the list is sorted `in place`.\n",
    "Therefore, `assigning myList.sort()` to something else like newList is pointless and, and when done accidentily in code it is confusing, because the result is the object `None` (meaning nothing)."
   ]
  },
  {
   "cell_type": "markdown",
   "metadata": {},
   "source": [
    "Both numpy arrays and lists have a method sort() that sorts in place. This is possible because both numpy arrays and lists are mutable. If they were not, in place sorting would be impossible. This is the case with tuples, which are immutable"
   ]
  },
  {
   "cell_type": "code",
   "execution_count": 22,
   "metadata": {
    "collapsed": false
   },
   "outputs": [
    {
     "name": "stdout",
     "output_type": "stream",
     "text": [
      "<class 'tuple'>\n",
      "(4, 2, 8, 8, 4, 8, 3, 2, 4, 3, 1, 8, 9, 1, 4)\n"
     ]
    }
   ],
   "source": [
    "myTuple = tuple(np.random.randint(10, size=15))\n",
    "print(type(myTuple))\n",
    "print(myTuple)"
   ]
  },
  {
   "cell_type": "markdown",
   "metadata": {},
   "source": [
    "Sorting the tuple is impossible because an immutable object can't be changed, it can only be replaced."
   ]
  },
  {
   "cell_type": "code",
   "execution_count": 23,
   "metadata": {
    "collapsed": false
   },
   "outputs": [
    {
     "ename": "AttributeError",
     "evalue": "'tuple' object has no attribute 'sort'",
     "output_type": "error",
     "traceback": [
      "\u001b[0;31m---------------------------------------------------------------------------\u001b[0m",
      "\u001b[0;31mAttributeError\u001b[0m                            Traceback (most recent call last)",
      "\u001b[0;32m<ipython-input-23-3b347f82b56b>\u001b[0m in \u001b[0;36m<module>\u001b[0;34m()\u001b[0m\n\u001b[0;32m----> 1\u001b[0;31m \u001b[0mnewTuple\u001b[0m \u001b[0;34m=\u001b[0m \u001b[0mmyTuple\u001b[0m\u001b[0;34m.\u001b[0m\u001b[0msort\u001b[0m\u001b[0;34m(\u001b[0m\u001b[0;34m)\u001b[0m\u001b[0;34m\u001b[0m\u001b[0m\n\u001b[0m",
      "\u001b[0;31mAttributeError\u001b[0m: 'tuple' object has no attribute 'sort'"
     ]
    }
   ],
   "source": [
    "newTuple = myTuple.sort()"
   ]
  },
  {
   "cell_type": "markdown",
   "metadata": {},
   "source": [
    "This doesn't work for the reasons given above."
   ]
  },
  {
   "cell_type": "code",
   "execution_count": 24,
   "metadata": {
    "collapsed": false
   },
   "outputs": [
    {
     "ename": "NameError",
     "evalue": "name 'newTuple' is not defined",
     "output_type": "error",
     "traceback": [
      "\u001b[0;31m---------------------------------------------------------------------------\u001b[0m",
      "\u001b[0;31mNameError\u001b[0m                                 Traceback (most recent call last)",
      "\u001b[0;32m<ipython-input-24-3e4221a3b8ed>\u001b[0m in \u001b[0;36m<module>\u001b[0;34m()\u001b[0m\n\u001b[0;32m----> 1\u001b[0;31m \u001b[0mprint\u001b[0m\u001b[0;34m(\u001b[0m\u001b[0mtype\u001b[0m\u001b[0;34m(\u001b[0m\u001b[0mnewTuple\u001b[0m\u001b[0;34m)\u001b[0m\u001b[0;34m)\u001b[0m\u001b[0;34m\u001b[0m\u001b[0m\n\u001b[0m",
      "\u001b[0;31mNameError\u001b[0m: name 'newTuple' is not defined"
     ]
    }
   ],
   "source": [
    "print(type(newTuple))"
   ]
  },
  {
   "cell_type": "markdown",
   "metadata": {},
   "source": [
    "And, of course, if the method .sort() does not exist for tuples, newTuple has not been assigned anything."
   ]
  },
  {
   "cell_type": "markdown",
   "metadata": {},
   "source": [
    "There is another function, a builtin function, called `sorted()`. It takes an object like an array, a list, a tuple, a string and generated a new object, which is a sorted copy of the old object. Some examples follow:"
   ]
  },
  {
   "cell_type": "code",
   "execution_count": 39,
   "metadata": {
    "collapsed": false
   },
   "outputs": [
    {
     "name": "stdout",
     "output_type": "stream",
     "text": [
      "[1 1 7 6 8 6 5 7 2 6 8 4 0 8 4]                 <--- square brackets, no commas (a numpy array)\n",
      "[1, 1, 7, 6, 8, 6, 5, 7, 2, 6, 8, 4, 0, 8, 4]   <--- commas, square brackets (a list)\n",
      "(1, 1, 7, 6, 8, 6, 5, 7, 2, 6, 8, 4, 0, 8, 4)   <--- commas, parentheses, (a tuple)\n",
      "))/.0.-/*.0,(0,                                 <--- a (somewhat strange) string\n"
     ]
    }
   ],
   "source": [
    "myArray = np.random.randint(10, size=15)\n",
    "myList = list(myArray)\n",
    "myTuple = tuple(myArray)\n",
    "myStr = \"\".join([chr(40 + c) for c in myList])\n",
    "print(myArray, \"                <--- square brackets, no commas (a numpy array)\")\n",
    "print(myList,  \"  <--- commas, square brackets (a list)\")\n",
    "print(myTuple, \"  <--- commas, parentheses, (a tuple)\")\n",
    "print(myStr, \"                                <--- a (somewhat strange) string\")"
   ]
  },
  {
   "cell_type": "code",
   "execution_count": 41,
   "metadata": {
    "collapsed": false
   },
   "outputs": [
    {
     "name": "stdout",
     "output_type": "stream",
     "text": [
      "[0, 1, 1, 2, 4, 4, 5, 6, 6, 6, 7, 7, 8, 8, 8]\n",
      "[0, 1, 1, 2, 4, 4, 5, 6, 6, 6, 7, 7, 8, 8, 8]\n",
      "[0, 1, 1, 2, 4, 4, 5, 6, 6, 6, 7, 7, 8, 8, 8]\n",
      "['(', ')', ')', '*', ',', ',', '-', '.', '.', '.', '/', '/', '0', '0', '0']\n"
     ]
    }
   ],
   "source": [
    "mA = sorted(myArray)\n",
    "mL = sorted(myList)\n",
    "mT = sorted(myTuple)\n",
    "mS = sorted(myStr)\n",
    "\n",
    "print(mA)\n",
    "print(mL)\n",
    "print(mT)\n",
    "print(mS)"
   ]
  },
  {
   "cell_type": "markdown",
   "metadata": {},
   "source": [
    "First of all, sorted produces a new object in all cases.\n",
    "\n",
    "Also, whatever the sorted object was, the outcome is a list (square brackets and commas). This is true for the numpy array `myArray`, the list `myList` and the tuple `myTuple` and even for the string `myStr`.\n",
    "\n",
    "So if you and the original object types back you should cast them (that is explicitly do it yourself) like so:"
   ]
  },
  {
   "cell_type": "code",
   "execution_count": 44,
   "metadata": {
    "collapsed": false
   },
   "outputs": [
    {
     "name": "stdout",
     "output_type": "stream",
     "text": [
      "[0 1 1 2 4 4 5 6 6 6 7 7 8 8 8]\n",
      "[0, 1, 1, 2, 4, 4, 5, 6, 6, 6, 7, 7, 8, 8, 8]\n",
      "(0, 1, 1, 2, 4, 4, 5, 6, 6, 6, 7, 7, 8, 8, 8)\n",
      "())*,,-...//000\n"
     ]
    }
   ],
   "source": [
    "type( np.array(mA))\n",
    "type( list(mL))\n",
    "type( tuple(mT))\n",
    "type( \"\".join(mS))\n",
    "\n",
    "print( np.array(mA))\n",
    "print( list(mL))\n",
    "print( tuple(mT))\n",
    "print( \"\".join(mS))"
   ]
  },
  {
   "cell_type": "markdown",
   "metadata": {},
   "source": [
    "You can't sort a dict and you can't sort a set. This is because both have not order."
   ]
  },
  {
   "cell_type": "code",
   "execution_count": 46,
   "metadata": {
    "collapsed": false
   },
   "outputs": [
    {
     "ename": "AttributeError",
     "evalue": "'dict' object has no attribute 'sort'",
     "output_type": "error",
     "traceback": [
      "\u001b[0;31m---------------------------------------------------------------------------\u001b[0m",
      "\u001b[0;31mAttributeError\u001b[0m                            Traceback (most recent call last)",
      "\u001b[0;32m<ipython-input-46-94c3e85254f9>\u001b[0m in \u001b[0;36m<module>\u001b[0;34m()\u001b[0m\n\u001b[0;32m----> 1\u001b[0;31m \u001b[0;34m{\u001b[0m\u001b[0;36m1\u001b[0m\u001b[0;34m:\u001b[0m \u001b[0;34m'a'\u001b[0m\u001b[0;34m,\u001b[0m \u001b[0;36m2\u001b[0m\u001b[0;34m:\u001b[0m\u001b[0;34m'b'\u001b[0m\u001b[0;34m,\u001b[0m \u001b[0;36m3\u001b[0m\u001b[0;34m:\u001b[0m\u001b[0;34m'c'\u001b[0m\u001b[0;34m}\u001b[0m\u001b[0;34m.\u001b[0m\u001b[0msort\u001b[0m\u001b[0;34m(\u001b[0m\u001b[0;34m)\u001b[0m\u001b[0;34m\u001b[0m\u001b[0m\n\u001b[0m",
      "\u001b[0;31mAttributeError\u001b[0m: 'dict' object has no attribute 'sort'"
     ]
    }
   ],
   "source": [
    "{1: 'a', 2:'b', 3:'c'}.sort()   # trying to sort a dict : impossible, no method .sort()"
   ]
  },
  {
   "cell_type": "code",
   "execution_count": 49,
   "metadata": {
    "collapsed": false
   },
   "outputs": [
    {
     "data": {
      "text/plain": [
       "[1, 2, 3]"
      ]
     },
     "execution_count": 49,
     "metadata": {},
     "output_type": "execute_result"
    }
   ],
   "source": [
    "sorted({3: 'a', 1:'b', 2:'c'})   # trying to sort a dict using sorted"
   ]
  },
  {
   "cell_type": "markdown",
   "metadata": {},
   "source": [
    "In this case the keys of the dict are put in a list and sorted. The values are not touched or involved at all."
   ]
  },
  {
   "cell_type": "markdown",
   "metadata": {},
   "source": [
    "Now let's create a dict with arbitrary keys, of different types (tuples, string, numbers). These keys are all immutable, for otherwise they cannot function as keys in a dict:"
   ]
  },
  {
   "cell_type": "code",
   "execution_count": 58,
   "metadata": {
    "collapsed": false
   },
   "outputs": [
    {
     "name": "stdout",
     "output_type": "stream",
     "text": [
      "{(3, 2): 'a', (4, 'abc'): ['dog', 5], 'abcd': 'dog'}\n",
      "dict_keys([(3, 2), (4, 'abc'), 'abcd'])\n",
      "dict_values(['a', ['dog', 5], 'dog'])\n"
     ]
    }
   ],
   "source": [
    "myDict = {(3, 2) : 'a', 'abcd' : 'dog', (4, 'abc') : ['dog', 5]}\n",
    "print(myDict)\n",
    "print(myDict.keys())\n",
    "print(myDict.values())"
   ]
  },
  {
   "cell_type": "markdown",
   "metadata": {},
   "source": [
    "Next try to sort this dict, like with did before with the previous dict:"
   ]
  },
  {
   "cell_type": "code",
   "execution_count": 57,
   "metadata": {
    "collapsed": false
   },
   "outputs": [
    {
     "ename": "TypeError",
     "evalue": "unorderable types: str() < tuple()",
     "output_type": "error",
     "traceback": [
      "\u001b[0;31m---------------------------------------------------------------------------\u001b[0m",
      "\u001b[0;31mTypeError\u001b[0m                                 Traceback (most recent call last)",
      "\u001b[0;32m<ipython-input-57-5623d1d63027>\u001b[0m in \u001b[0;36m<module>\u001b[0;34m()\u001b[0m\n\u001b[0;32m----> 1\u001b[0;31m \u001b[0msorted\u001b[0m\u001b[0;34m(\u001b[0m\u001b[0mmyDict\u001b[0m\u001b[0;34m)\u001b[0m\u001b[0;34m\u001b[0m\u001b[0m\n\u001b[0m",
      "\u001b[0;31mTypeError\u001b[0m: unorderable types: str() < tuple()"
     ]
    }
   ],
   "source": [
    "sorted(myDict)  # doesn't work, because, python doen't know how to sort such diverse keys"
   ]
  },
  {
   "cell_type": "markdown",
   "metadata": {},
   "source": [
    "It didn't work because the keys are not sortable. There is not obvious way to sort combinations of numbers, strings and tuples.\n",
    "\n",
    "Next see what happens when we try to sort a set. A set is created by a list of objects between braces."
   ]
  },
  {
   "cell_type": "code",
   "execution_count": 47,
   "metadata": {
    "collapsed": false
   },
   "outputs": [
    {
     "data": {
      "text/plain": [
       "{'a', 'b', 3, 'c'}"
      ]
     },
     "execution_count": 47,
     "metadata": {},
     "output_type": "execute_result"
    }
   ],
   "source": [
    "{'a', 'a', 'b', 3, 'c', 'b'}"
   ]
  },
  {
   "cell_type": "markdown",
   "metadata": {},
   "source": [
    "A set only holds the unique elements."
   ]
  },
  {
   "cell_type": "code",
   "execution_count": 60,
   "metadata": {
    "collapsed": false
   },
   "outputs": [
    {
     "ename": "AttributeError",
     "evalue": "'set' object has no attribute 'sort'",
     "output_type": "error",
     "traceback": [
      "\u001b[0;31m---------------------------------------------------------------------------\u001b[0m",
      "\u001b[0;31mAttributeError\u001b[0m                            Traceback (most recent call last)",
      "\u001b[0;32m<ipython-input-60-2b09c37e7930>\u001b[0m in \u001b[0;36m<module>\u001b[0;34m()\u001b[0m\n\u001b[0;32m----> 1\u001b[0;31m \u001b[0;34m{\u001b[0m\u001b[0;34m'a'\u001b[0m\u001b[0;34m,\u001b[0m \u001b[0;34m'a'\u001b[0m\u001b[0;34m,\u001b[0m \u001b[0;34m'b'\u001b[0m\u001b[0;34m,\u001b[0m \u001b[0;36m3\u001b[0m\u001b[0;34m,\u001b[0m \u001b[0;34m'c'\u001b[0m\u001b[0;34m,\u001b[0m \u001b[0;34m'b'\u001b[0m\u001b[0;34m}\u001b[0m\u001b[0;34m.\u001b[0m\u001b[0msort\u001b[0m\u001b[0;34m(\u001b[0m\u001b[0;34m)\u001b[0m  \u001b[0;31m# does not work, see the error message\u001b[0m\u001b[0;34m\u001b[0m\u001b[0m\n\u001b[0m",
      "\u001b[0;31mAttributeError\u001b[0m: 'set' object has no attribute 'sort'"
     ]
    }
   ],
   "source": [
    "{'a', 'a', 'b', 3, 'c', 'b'}.sort()  # does not work, see the error message"
   ]
  },
  {
   "cell_type": "markdown",
   "metadata": {},
   "source": [
    "A set obviously does not have a method sort() because there is not order in the elements of a set. Therefore, in place sorting does not make sense.\n",
    "\n",
    "Take attention in the error message, which shows that the object has not attribute 'sort'. Learn to intepret Python's error messages."
   ]
  },
  {
   "cell_type": "code",
   "execution_count": 51,
   "metadata": {
    "collapsed": false
   },
   "outputs": [
    {
     "ename": "TypeError",
     "evalue": "unorderable types: int() < str()",
     "output_type": "error",
     "traceback": [
      "\u001b[0;31m---------------------------------------------------------------------------\u001b[0m",
      "\u001b[0;31mTypeError\u001b[0m                                 Traceback (most recent call last)",
      "\u001b[0;32m<ipython-input-51-544d492d4923>\u001b[0m in \u001b[0;36m<module>\u001b[0;34m()\u001b[0m\n\u001b[0;32m----> 1\u001b[0;31m \u001b[0msorted\u001b[0m\u001b[0;34m(\u001b[0m\u001b[0;34m{\u001b[0m\u001b[0;34m'a'\u001b[0m\u001b[0;34m,\u001b[0m \u001b[0;34m'a'\u001b[0m\u001b[0;34m,\u001b[0m \u001b[0;34m'b'\u001b[0m\u001b[0;34m,\u001b[0m \u001b[0;36m3\u001b[0m\u001b[0;34m,\u001b[0m \u001b[0;34m'c'\u001b[0m\u001b[0;34m,\u001b[0m \u001b[0;34m'b'\u001b[0m\u001b[0;34m}\u001b[0m\u001b[0;34m)\u001b[0m\u001b[0;34m\u001b[0m\u001b[0m\n\u001b[0m",
      "\u001b[0;31mTypeError\u001b[0m: unorderable types: int() < str()"
     ]
    }
   ],
   "source": [
    "sorted({'a', 'a', 'b', 3, 'c', 'b'})  # doesn't work."
   ]
  },
  {
   "cell_type": "markdown",
   "metadata": {},
   "source": [
    "Look at the eror message, it's a Type error, the keys that are a combination of whole numbers (ints) and strings can not be sorted together because there's no order defined. This is what the error message conveys."
   ]
  },
  {
   "cell_type": "code",
   "execution_count": 59,
   "metadata": {
    "collapsed": false
   },
   "outputs": [
    {
     "data": {
      "text/plain": [
       "[1, 2, 3, 4]"
      ]
     },
     "execution_count": 59,
     "metadata": {},
     "output_type": "execute_result"
    }
   ],
   "source": [
    "sorted({3, 1, 4, 2, 3, 1})  # This works, becaus the elements (not the set) are sortable."
   ]
  },
  {
   "cell_type": "markdown",
   "metadata": {},
   "source": [
    "As we saw, `sorted()` generates a list. In this case it puts the elements of the set in a list and sorts it. Sorted() always generates a new list object."
   ]
  },
  {
   "cell_type": "markdown",
   "metadata": {},
   "source": [
    "Sorted has more potential inputs, which we can see by typing\n",
    "\n",
    "```sorted?```\n",
    "\n",
    "in a new cell and execute it.\n",
    "\n",
    "This is then shown in a new window at the bottom of the screen:\n",
    "\n",
    ">Signature: `sorted(iterable, key=None, reverse=False)`\n",
    ">Docstring:\n",
    ">Return a new list containing all items from the iterable in ascending order.\n",
    ">\n",
    ">A custom key function can be supplied to customise the sort order, and the\n",
    ">reverse flag can be set to request the result in descending order.\n",
    ">Type:      builtin_function_or_method\n",
    "\n",
    "Obviously, `revere=True` sorts in descending manner\n",
    "\n",
    "But `key` is special and our next subject."
   ]
  },
  {
   "cell_type": "markdown",
   "metadata": {},
   "source": [
    "`key` expects a function as value. `key` is needed when sorting complex items for which where is no obvious way to sort them. Let's assume that we have a list of tuples such as 3D coordinates:"
   ]
  },
  {
   "cell_type": "code",
   "execution_count": 67,
   "metadata": {
    "collapsed": false
   },
   "outputs": [
    {
     "data": {
      "text/plain": [
       "[(-2, 3, -4), (3, 5, 0), (4, 1, 2), (4, 3, 5), (6, -1, 7)]"
      ]
     },
     "execution_count": 67,
     "metadata": {},
     "output_type": "execute_result"
    }
   ],
   "source": [
    "myList = [(4, 3, 5), (6, -1, 7), (4, 1, 2), (-2, 3, -4), (3, 5, 0)]\n",
    "sorted(myList)"
   ]
  },
  {
   "cell_type": "markdown",
   "metadata": {},
   "source": [
    "As is seen, these tuples are sorted based on their first value [-2, 3, 4, 6] and on their second value for itmes for which the first are the same and so on. But what if we want to sort them base on their third value instead?\n",
    "\n",
    "In that case, we need a function that decides which of two itmes (here tuples) is smallest. In this case the function, given a tuple should just return the third element of it for  coparison. This looks like so:"
   ]
  },
  {
   "cell_type": "code",
   "execution_count": 71,
   "metadata": {
    "collapsed": false
   },
   "outputs": [
    {
     "data": {
      "text/plain": [
       "[(-2, 3, -4), (3, 5, 0), (4, 1, 2), (4, 3, 5), (6, -1, 7)]"
      ]
     },
     "execution_count": 71,
     "metadata": {},
     "output_type": "execute_result"
    }
   ],
   "source": [
    "def comp(tpl):\n",
    "    return tpl[2]\n",
    "\n",
    "sorted(myList, key=comp)"
   ]
  },
  {
   "cell_type": "markdown",
   "metadata": {},
   "source": [
    "The tuples are now sorted according to their third element. Notice that `comp` is a function as can be seen by printing its type"
   ]
  },
  {
   "cell_type": "code",
   "execution_count": 72,
   "metadata": {
    "collapsed": false
   },
   "outputs": [
    {
     "name": "stdout",
     "output_type": "stream",
     "text": [
      "<class 'function'>\n"
     ]
    }
   ],
   "source": [
    "print( type(comp) )"
   ]
  },
  {
   "cell_type": "markdown",
   "metadata": {},
   "source": [
    "Now let's take a dict of animals each with a dict of their properties"
   ]
  },
  {
   "cell_type": "code",
   "execution_count": 75,
   "metadata": {
    "collapsed": false
   },
   "outputs": [],
   "source": [
    "myCircus =   {'duke': {'what': 'horse', 'color': 'brown', 'age':7, 'weight': 250},\n",
    "              'spooky': {'what': 'cat', 'color': 'orange', 'age':9, 'weight': 2.3},\n",
    "              'mooh': {'what': 'cow', 'color': 'black-white}', 'age':4, 'weight': 290},\n",
    "              'john': {'what': 'elephant', 'color': 'grey', 'age': 22, 'weight': 1840}}"
   ]
  },
  {
   "cell_type": "code",
   "execution_count": 76,
   "metadata": {
    "collapsed": false
   },
   "outputs": [
    {
     "data": {
      "text/plain": [
       "{'age': 22, 'color': 'grey', 'weight': 1840, 'what': 'elephant'}"
      ]
     },
     "execution_count": 76,
     "metadata": {},
     "output_type": "execute_result"
    }
   ],
   "source": [
    "myCircus['john']"
   ]
  },
  {
   "cell_type": "code",
   "execution_count": 78,
   "metadata": {
    "collapsed": false
   },
   "outputs": [
    {
     "data": {
      "text/plain": [
       "['elephant', 22]"
      ]
     },
     "execution_count": 78,
     "metadata": {},
     "output_type": "execute_result"
    }
   ],
   "source": [
    "[myCircus['john']['what'], myCircus['john']['age']]"
   ]
  },
  {
   "cell_type": "markdown",
   "metadata": {},
   "source": [
    "Lets sort these animals, but how. We can sort them based on their age or on their weight. Let's do one after the other"
   ]
  },
  {
   "cell_type": "code",
   "execution_count": 84,
   "metadata": {
    "collapsed": false
   },
   "outputs": [
    {
     "data": {
      "text/plain": [
       "[('mooh', {'age': 4, 'color': 'black-white}', 'weight': 290, 'what': 'cow'}),\n",
       " ('duke', {'age': 7, 'color': 'brown', 'weight': 250, 'what': 'horse'}),\n",
       " ('spooky', {'age': 9, 'color': 'orange', 'weight': 2.3, 'what': 'cat'}),\n",
       " ('john', {'age': 22, 'color': 'grey', 'weight': 1840, 'what': 'elephant'})]"
      ]
     },
     "execution_count": 84,
     "metadata": {},
     "output_type": "execute_result"
    }
   ],
   "source": [
    "def compAge(animal):\n",
    "    return animal[1]['age']\n",
    "\n",
    "sorted([(k, myCircus[k]) for k in myCircus], key=compAge)"
   ]
  },
  {
   "cell_type": "markdown",
   "metadata": {},
   "source": [
    "This is somewhat complex. The comprehension produces a list with one item per key k. Each item of the list is itself a list of two items, namely the key and the dict [k, myCircus[k]] with the properties of the animal under key k.\n",
    "The compAge function takes each item, i.e. the list [k, myCircus[k]] (called animal inside the function), it returns animal[1]]['age']. Note that animal[1] is the second item of the incoming list, which is the dict. Therefore, animal[1]['age'] returns the value under key 'age' of the dict belonging to that animal. This value, the age of the animal, is then used to compare the different animals in the list for sorting. That it works is seen on the hand of the increasing ages of the animals in this list.\n",
    "\n",
    "It's left up to you to sort the animals based on their weight. And yes, sort them in reversed (decreasing order)."
   ]
  },
  {
   "cell_type": "markdown",
   "metadata": {},
   "source": [
    "if you type\n",
    "```\n",
    "myList.sort?\n",
    "```\n",
    "you'll see that the sort() method associated to list and to numpy arrays has the same optional arguments as has sorted. So the same rules apply. The only difference is that with the method `myList.sort()`, `myArray.sort()`, the sorting will be done `in place` and no new object is generated.\n",
    "\n",
    "The other difference is that `sorted()` always creates a list no matter wheather the input is a `numpy array` or a `list`."
   ]
  },
  {
   "cell_type": "markdown",
   "metadata": {},
   "source": [
    "Last point, macros, or lambda functions, also called in-line functions or anonymous functions.\n",
    "\n",
    "You often see them. They are used when defining an extra function is overdone. They can only be use if the function can be defined as a single expression returning a single answer (may be a tuple, list of whatever).\n",
    "\n",
    "Example:"
   ]
  },
  {
   "cell_type": "code",
   "execution_count": 91,
   "metadata": {
    "collapsed": true
   },
   "outputs": [],
   "source": [
    "myfun0 = lambda x: np.sin(x) * np.cos(x)\n",
    "myfun1 = lambda x, y: np.sin(x) * np.cos(y)\n",
    "myfun2 = lambda x: x[2]"
   ]
  },
  {
   "cell_type": "code",
   "execution_count": 96,
   "metadata": {
    "collapsed": false
   },
   "outputs": [
    {
     "name": "stdout",
     "output_type": "stream",
     "text": [
      "-0.496845501817 <--- $sin(x)$\n",
      "0.0527490999784 <--- sin(x) * cos(y)\n",
      "-2              <--- x[2]\n"
     ]
    }
   ],
   "source": [
    "print( myfun0(2.3),          '<--- sin(x)')\n",
    "print( myfun1(2.3, 1.5),     '<--- sin(x) * cos(y)')\n",
    "print( myfun2( (3, 2, -2) ), '             <--- x[2]')"
   ]
  },
  {
   "cell_type": "markdown",
   "metadata": {},
   "source": [
    "We can use these functions anonymously (without giving them a name) for instance for the `key` in the `sorted()` function to get the same result as before, but without having to define an extra function:"
   ]
  },
  {
   "cell_type": "code",
   "execution_count": 101,
   "metadata": {
    "collapsed": false
   },
   "outputs": [
    {
     "data": {
      "text/plain": [
       "[('mooh', {'age': 4, 'color': 'black-white}', 'weight': 290, 'what': 'cow'}),\n",
       " ('duke', {'age': 7, 'color': 'brown', 'weight': 250, 'what': 'horse'}),\n",
       " ('spooky', {'age': 9, 'color': 'orange', 'weight': 2.3, 'what': 'cat'}),\n",
       " ('john', {'age': 22, 'color': 'grey', 'weight': 1840, 'what': 'elephant'})]"
      ]
     },
     "execution_count": 101,
     "metadata": {},
     "output_type": "execute_result"
    }
   ],
   "source": [
    "sorted([(k, myCircus[k]) for k in myCircus], key=(lambda x: x[1]['age']))"
   ]
  },
  {
   "cell_type": "markdown",
   "metadata": {},
   "source": [
    "The name `x` in the lambda function is tirvial, it could be anything, like in any function:"
   ]
  },
  {
   "cell_type": "code",
   "execution_count": 105,
   "metadata": {
    "collapsed": false
   },
   "outputs": [
    {
     "data": {
      "text/plain": [
       "[('mooh', {'age': 4, 'color': 'black-white}', 'weight': 290, 'what': 'cow'}),\n",
       " ('duke', {'age': 7, 'color': 'brown', 'weight': 250, 'what': 'horse'}),\n",
       " ('spooky', {'age': 9, 'color': 'orange', 'weight': 2.3, 'what': 'cat'}),\n",
       " ('john', {'age': 22, 'color': 'grey', 'weight': 1840, 'what': 'elephant'})]"
      ]
     },
     "execution_count": 105,
     "metadata": {},
     "output_type": "execute_result"
    }
   ],
   "source": [
    "sorted([(k, myCircus[k]) for k in myCircus], key=(lambda animal: animal[1]['age']))"
   ]
  },
  {
   "cell_type": "markdown",
   "metadata": {},
   "source": [
    "If you are a purist, you will have noticed that lambde is in fact not a function, it's a keyword that triggers the generation of a function. Therefor it's\n",
    "\n",
    "```\n",
    "lambda x:x[1]['age]\n",
    "```\n",
    "or with parentheses:\n",
    "```\n",
    "(lamba x:x[1]['age'])\n",
    "```\n",
    "and not\n",
    "```\n",
    "lambda(x: x[1]['age'])\n",
    "```"
   ]
  },
  {
   "cell_type": "markdown",
   "metadata": {},
   "source": [
    "## Using argsort()\n",
    "\n",
    "`argsort()` is a function in `numpy` and a method of `numpy arrays`. It does not exist as a builtin function like sorted() and it does not exist as a method of `list` like `list.sort()`. What it does, it creates a numpy array with the indices that would sort the original numpy array."
   ]
  },
  {
   "cell_type": "code",
   "execution_count": 125,
   "metadata": {
    "collapsed": false
   },
   "outputs": [
    {
     "name": "stdout",
     "output_type": "stream",
     "text": [
      "[1 1 7 6 8 6 5 7 2 6 8 4 0 8 4]\n",
      "[12  0  1  8 11 14  6  3  5  9  2  7  4 10 13]\n",
      "[12  0  1  8 11 14  6  3  5  9  2  7  4 10 13]\n",
      "the index array is created\n",
      "[12  0  1  8 11 14  6  3  5  9  2  7  4 10 13]\n",
      "\n",
      "Then the array is sorted by picking the values using the generated indices:\n",
      "Indices     -->   0  1  2  3  4  5  6  7  8  9 10 11 12 13 14\n",
      "myArray     -->   1  1  7  6  8  6  5  7  2  6  8  4  0  8  4\n",
      "I           -->  12  0  1  8 11 14  6  3  5  9  2  7  4 10 13\n",
      "myArray[I]  -->   0  1  1  2  4  4  5  6  6  6  7  7  8  8  8\n"
     ]
    }
   ],
   "source": [
    "print(myArray)           # prints the original numpy array\n",
    "print(myArray.argsort()) # print an array of indices that sorts the original array, using the method of myArray\n",
    "print(np.argsort(myArray)) # same thign, but not we use the function numpy instead of the method of myArray\n",
    "\n",
    "print(\"the index array is created\")\n",
    "I = np.argsort(myArray)\n",
    "print(I)\n",
    "print(\"\\nThen the array is sorted by picking the values using the generated indices:\")\n",
    "print(\"Indices     --> \" + (\"{:3d}\" * len(myArray)).format(*[i for i in range(len(myArray))]))\n",
    "print(\"myArray     --> \" + (\"{:3d}\" * len(myArray)).format(*myArray))\n",
    "print(\"I           --> \" + (\"{:3d}\" * len(I)).format(*I))\n",
    "print(\"myArray[I]  --> \" + (\"{:3d}\" * len(myArray)).format(*myArray[I]))"
   ]
  },
  {
   "cell_type": "code",
   "execution_count": null,
   "metadata": {
    "collapsed": true
   },
   "outputs": [],
   "source": []
  }
 ],
 "metadata": {
  "anaconda-cloud": {},
  "kernelspec": {
   "display_name": "Python [default]",
   "language": "python",
   "name": "python3"
  },
  "language_info": {
   "codemirror_mode": {
    "name": "ipython",
    "version": 3
   },
   "file_extension": ".py",
   "mimetype": "text/x-python",
   "name": "python",
   "nbconvert_exporter": "python",
   "pygments_lexer": "ipython3",
   "version": "3.5.2"
  }
 },
 "nbformat": 4,
 "nbformat_minor": 1
}
